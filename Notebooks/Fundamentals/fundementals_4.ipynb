{
 "cells": [
  {
   "cell_type": "markdown",
   "id": "84927c89510602b5",
   "metadata": {},
   "source": [
    "Functions\n",
    "- user defined functions\n",
    "- Modules\n",
    "- Packages"
   ]
  },
  {
   "cell_type": "markdown",
   "id": "11ea71d6ea335784",
   "metadata": {},
   "source": [
    "Functions: a set of statements that take inputs, do some specific computation, and produce output\n",
    "- built-in functions\n",
    "- most function are highlighted in purple"
   ]
  },
  {
   "cell_type": "code",
   "execution_count": 9,
   "id": "faf44b19163b70f5",
   "metadata": {
    "ExecuteTime": {
     "end_time": "2024-07-19T15:12:05.977339Z",
     "start_time": "2024-07-19T15:12:05.943972Z"
    }
   },
   "outputs": [],
   "source": [
    "# list of fruits\n",
    "fruits = [\"banana\", \"kiwi\", \"apple\", \"orange\"]"
   ]
  },
  {
   "cell_type": "code",
   "execution_count": 10,
   "id": "f34aa0f68563a317",
   "metadata": {
    "ExecuteTime": {
     "end_time": "2024-07-19T15:12:06.596489Z",
     "start_time": "2024-07-19T15:12:06.532552Z"
    }
   },
   "outputs": [
    {
     "name": "stdout",
     "output_type": "stream",
     "text": [
      "['banana', 'kiwi', 'apple', 'orange']\n"
     ]
    }
   ],
   "source": [
    "# print\n",
    "print(fruits)"
   ]
  },
  {
   "cell_type": "code",
   "execution_count": 11,
   "id": "b389ae9467989299",
   "metadata": {
    "ExecuteTime": {
     "end_time": "2024-07-19T15:12:07.249898Z",
     "start_time": "2024-07-19T15:12:07.148307Z"
    }
   },
   "outputs": [
    {
     "data": {
      "text/plain": [
       "list"
      ]
     },
     "execution_count": 11,
     "metadata": {},
     "output_type": "execute_result"
    }
   ],
   "source": [
    "# type\n",
    "# displays what kind of datatype your working with\n",
    "type(fruits)"
   ]
  },
  {
   "cell_type": "code",
   "execution_count": 12,
   "id": "58655e3ac8c3ab7c",
   "metadata": {
    "ExecuteTime": {
     "end_time": "2024-07-19T15:12:07.936429Z",
     "start_time": "2024-07-19T15:12:07.866612Z"
    }
   },
   "outputs": [
    {
     "data": {
      "text/plain": [
       "4"
      ]
     },
     "execution_count": 12,
     "metadata": {},
     "output_type": "execute_result"
    }
   ],
   "source": [
    "# len\n",
    "# displays the length of the list\n",
    "len(fruits)"
   ]
  },
  {
   "cell_type": "code",
   "execution_count": 13,
   "id": "7c5f1f1270f4fd0f",
   "metadata": {
    "ExecuteTime": {
     "end_time": "2024-07-19T15:12:08.817259Z",
     "start_time": "2024-07-19T15:12:08.653072Z"
    }
   },
   "outputs": [
    {
     "data": {
      "text/plain": [
       "['apple', 'banana', 'kiwi', 'orange']"
      ]
     },
     "execution_count": 13,
     "metadata": {},
     "output_type": "execute_result"
    }
   ],
   "source": [
    "# sorted\n",
    "# sorts the objects in the list in alphabetical order\n",
    "# difference between 'sort' and 'sorted' is 'sorted' creates a new list\n",
    "# changes the order of the objects in the list\n",
    "sorted(fruits)"
   ]
  },
  {
   "cell_type": "code",
   "execution_count": 14,
   "id": "2f35fed173a1b066",
   "metadata": {
    "ExecuteTime": {
     "end_time": "2024-07-19T15:12:09.401747Z",
     "start_time": "2024-07-19T15:12:09.339913Z"
    }
   },
   "outputs": [
    {
     "name": "stdout",
     "output_type": "stream",
     "text": [
      "['banana', 'kiwi', 'apple', 'orange']\n"
     ]
    }
   ],
   "source": [
    "# list before using the method sort\n",
    "print(fruits)"
   ]
  },
  {
   "cell_type": "code",
   "execution_count": 16,
   "id": "281d5eec9ac76258",
   "metadata": {
    "ExecuteTime": {
     "end_time": "2024-07-19T15:16:35.869118Z",
     "start_time": "2024-07-19T15:16:35.863504Z"
    }
   },
   "outputs": [
    {
     "name": "stdout",
     "output_type": "stream",
     "text": [
      "['apple', 'banana', 'kiwi', 'orange']\n",
      "['orange', 'kiwi', 'banana', 'apple']\n"
     ]
    }
   ],
   "source": [
    "# original list of fruits\n",
    "# changes the order of the objects in the list, you can use 'fruits.sort(reverse=true)' to sort the list the other way around\n",
    "fruits.sort()\n",
    "print(fruits)\n",
    "\n",
    "fruits.sort(reverse=True)\n",
    "print(fruits)"
   ]
  },
  {
   "cell_type": "code",
   "execution_count": 17,
   "id": "26014262baf9f877",
   "metadata": {
    "ExecuteTime": {
     "end_time": "2024-07-19T15:17:12.265532Z",
     "start_time": "2024-07-19T15:17:12.259176Z"
    }
   },
   "outputs": [
    {
     "name": "stdout",
     "output_type": "stream",
     "text": [
      "['orange', 'kiwi', 'banana', 'apple']\n"
     ]
    }
   ],
   "source": [
    "# list after using the method 'sort()'\n",
    "print(fruits)"
   ]
  },
  {
   "cell_type": "code",
   "execution_count": 19,
   "id": "ec7d48f906376948",
   "metadata": {
    "ExecuteTime": {
     "end_time": "2024-07-19T15:19:40.904583Z",
     "start_time": "2024-07-19T15:19:35.485001Z"
    }
   },
   "outputs": [
    {
     "name": "stdout",
     "output_type": "stream",
     "text": [
      "Blueberries\n"
     ]
    }
   ],
   "source": [
    "# input\n",
    "favorite = input(\"What is your favorite fruit? \")\n",
    "print(favorite)"
   ]
  },
  {
   "cell_type": "code",
   "execution_count": 20,
   "id": "8cc7e9cf34c19470",
   "metadata": {
    "ExecuteTime": {
     "end_time": "2024-07-19T15:20:07.144976Z",
     "start_time": "2024-07-19T15:20:07.136339Z"
    }
   },
   "outputs": [
    {
     "data": {
      "text/plain": [
       "'Blueberries'"
      ]
     },
     "execution_count": 20,
     "metadata": {},
     "output_type": "execute_result"
    }
   ],
   "source": [
    "favorite"
   ]
  },
  {
   "cell_type": "markdown",
   "id": "ff078ef62f6a709c",
   "metadata": {},
   "source": [
    "User defined functions"
   ]
  },
  {
   "cell_type": "code",
   "execution_count": 21,
   "id": "b7924f0ff87489ff",
   "metadata": {
    "ExecuteTime": {
     "end_time": "2024-08-05T16:44:00.720155Z",
     "start_time": "2024-08-05T16:44:00.715660Z"
    }
   },
   "outputs": [],
   "source": [
    "# Create custom function to calculate\n",
    "# def: used to define a function format: def function_name(parameter)\n",
    "def calculate_sales_tax(amount):\n",
    "    tax = amount * 0.075\n",
    "    return tax"
   ]
  },
  {
   "cell_type": "code",
   "execution_count": 22,
   "id": "9a7a818412cc0ae4",
   "metadata": {
    "ExecuteTime": {
     "end_time": "2024-08-05T16:44:00.977064Z",
     "start_time": "2024-08-05T16:44:00.970478Z"
    }
   },
   "outputs": [
    {
     "data": {
      "text/plain": [
       "<function __main__.calculate_sales_tax(amount)>"
      ]
     },
     "execution_count": 22,
     "metadata": {},
     "output_type": "execute_result"
    }
   ],
   "source": [
    "# Show function(without calling)\n",
    "calculate_sales_tax"
   ]
  },
  {
   "cell_type": "code",
   "execution_count": 25,
   "id": "b280ad66f7bc80d0",
   "metadata": {
    "ExecuteTime": {
     "end_time": "2024-08-05T16:44:39.182713Z",
     "start_time": "2024-08-05T16:44:39.177963Z"
    }
   },
   "outputs": [
    {
     "name": "stdout",
     "output_type": "stream",
     "text": [
      "107.5\n"
     ]
    }
   ],
   "source": [
    "# Use the function\n",
    "amount = 100\n",
    "tax = calculate_sales_tax(amount)\n",
    "total = amount + tax\n",
    "print(total)"
   ]
  },
  {
   "cell_type": "code",
   "execution_count": 11,
   "id": "ca5b0212498fafef",
   "metadata": {
    "ExecuteTime": {
     "end_time": "2024-07-19T17:12:50.658360Z",
     "start_time": "2024-07-19T17:12:50.653385Z"
    }
   },
   "outputs": [],
   "source": [
    "# Greet function\n",
    "def greeting(name):\n",
    "    sentence = f\"Hello {name}, how are you?\"\n",
    "    return sentence"
   ]
  },
  {
   "cell_type": "code",
   "execution_count": 12,
   "id": "59e294a7ac223b68",
   "metadata": {
    "ExecuteTime": {
     "end_time": "2024-07-19T17:12:52.693856Z",
     "start_time": "2024-07-19T17:12:52.688537Z"
    }
   },
   "outputs": [
    {
     "name": "stdout",
     "output_type": "stream",
     "text": [
      "Hello Bob, how are you?\n"
     ]
    }
   ],
   "source": [
    "# Call greet\n",
    "print(greeting(\"Bob\"))"
   ]
  },
  {
   "cell_type": "code",
   "execution_count": 2,
   "id": "b7dacada87045b8c",
   "metadata": {
    "ExecuteTime": {
     "end_time": "2024-08-05T14:37:45.349713Z",
     "start_time": "2024-08-05T14:37:45.344486Z"
    }
   },
   "outputs": [],
   "source": [
    "# Greet with multiple arguments(name & city)\n",
    "def greet(name, city):\n",
    "    sentence = f\"Hello {name}, how is life in {city}\"\n",
    "    return sentence"
   ]
  },
  {
   "cell_type": "code",
   "execution_count": 3,
   "id": "cace9294dc8d2968",
   "metadata": {
    "ExecuteTime": {
     "end_time": "2024-08-05T14:37:45.533751Z",
     "start_time": "2024-08-05T14:37:45.528444Z"
    }
   },
   "outputs": [
    {
     "name": "stdout",
     "output_type": "stream",
     "text": [
      "Hello Bob, how is life in New York\n"
     ]
    }
   ],
   "source": [
    "# call greet\n",
    "print(greet(\"Bob\", \"New York\"))"
   ]
  },
  {
   "cell_type": "code",
   "execution_count": 4,
   "id": "e21f21808896d39f",
   "metadata": {
    "ExecuteTime": {
     "end_time": "2024-08-05T14:37:45.844479Z",
     "start_time": "2024-08-05T14:37:45.806703Z"
    }
   },
   "outputs": [
    {
     "ename": "TypeError",
     "evalue": "greet() missing 1 required positional argument: 'city'",
     "output_type": "error",
     "traceback": [
      "\u001b[0;31m---------------------------------------------------------------------------\u001b[0m",
      "\u001b[0;31mTypeError\u001b[0m                                 Traceback (most recent call last)",
      "Cell \u001b[0;32mIn[4], line 2\u001b[0m\n\u001b[1;32m      1\u001b[0m \u001b[38;5;66;03m# call greet without city\u001b[39;00m\n\u001b[0;32m----> 2\u001b[0m \u001b[38;5;28mprint\u001b[39m(\u001b[43mgreet\u001b[49m\u001b[43m(\u001b[49m\u001b[38;5;124;43m\"\u001b[39;49m\u001b[38;5;124;43mBob\u001b[39;49m\u001b[38;5;124;43m\"\u001b[39;49m\u001b[43m)\u001b[49m)\n",
      "\u001b[0;31mTypeError\u001b[0m: greet() missing 1 required positional argument: 'city'"
     ]
    }
   ],
   "source": [
    "# call greet without city\n",
    "# throws an error because it's missing a required input\n",
    "print(greet(\"Bob\"))"
   ]
  },
  {
   "cell_type": "code",
   "execution_count": 13,
   "id": "aeee63d7efa4eddb",
   "metadata": {
    "ExecuteTime": {
     "end_time": "2024-08-05T16:39:17.358784Z",
     "start_time": "2024-08-05T16:39:17.354500Z"
    }
   },
   "outputs": [],
   "source": [
    "# Greet default values\n",
    "# fixes the error you get when you call an function but miss a required input\n",
    "def greet(name, city=None):\n",
    "    if city:\n",
    "        sentence = f\"Hello {name}, how is life in {city}\"\n",
    "        return sentence\n",
    "    else:\n",
    "        sentence = f\"Hello {name}, how are you?\"\n",
    "        return sentence"
   ]
  },
  {
   "cell_type": "code",
   "execution_count": 14,
   "id": "30bf76d2087d44b0",
   "metadata": {
    "ExecuteTime": {
     "end_time": "2024-08-05T16:39:17.519174Z",
     "start_time": "2024-08-05T16:39:17.514297Z"
    }
   },
   "outputs": [
    {
     "name": "stdout",
     "output_type": "stream",
     "text": [
      "Hello Bob, how are you?\n",
      "Hello Bob, how is life in New York\n"
     ]
    }
   ],
   "source": [
    "# Call the function without and with city\n",
    "print(greet(\"Bob\"))\n",
    "\n",
    "print(greet(\"Bob\", \"New York\"))"
   ]
  },
  {
   "cell_type": "markdown",
   "id": "569beee9f31186d7",
   "metadata": {},
   "source": [
    "### Modules:  a file that contains built-in functions, classes,its and variables\n",
    "\n",
    "Importing modules and packages"
   ]
  },
  {
   "cell_type": "code",
   "execution_count": 1,
   "id": "f672ceaa1730eefc",
   "metadata": {
    "ExecuteTime": {
     "end_time": "2024-08-06T14:39:54.430930Z",
     "start_time": "2024-08-06T14:39:54.419361Z"
    }
   },
   "outputs": [
    {
     "name": "stdout",
     "output_type": "stream",
     "text": [
      "The Zen of Python, by Tim Peters\n",
      "\n",
      "Beautiful is better than ugly.\n",
      "Explicit is better than implicit.\n",
      "Simple is better than complex.\n",
      "Complex is better than complicated.\n",
      "Flat is better than nested.\n",
      "Sparse is better than dense.\n",
      "Readability counts.\n",
      "Special cases aren't special enough to break the rules.\n",
      "Although practicality beats purity.\n",
      "Errors should never pass silently.\n",
      "Unless explicitly silenced.\n",
      "In the face of ambiguity, refuse the temptation to guess.\n",
      "There should be one-- and preferably only one --obvious way to do it.\n",
      "Although that way may not be obvious at first unless you're Dutch.\n",
      "Now is better than never.\n",
      "Although never is often better than *right* now.\n",
      "If the implementation is hard to explain, it's a bad idea.\n",
      "If the implementation is easy to explain, it may be a good idea.\n",
      "Namespaces are one honking great idea -- let's do more of those!\n"
     ]
    }
   ],
   "source": [
    "# Import this\n",
    "# an Easter egg that renders a list of good thing to know when writing code\n",
    "import this"
   ]
  },
  {
   "cell_type": "code",
   "execution_count": null,
   "id": "515df3ca2c0022ea",
   "metadata": {},
   "outputs": [],
   "source": [
    "# https://docs.python.org/3/py-modindex.html(csv, email, ipaddress)\n",
    "# This site contains contains built in modules"
   ]
  },
  {
   "cell_type": "code",
   "execution_count": 2,
   "id": "20b62edeb85b76a7",
   "metadata": {
    "ExecuteTime": {
     "end_time": "2024-08-06T14:52:28.135419Z",
     "start_time": "2024-08-06T14:52:28.097731Z"
    }
   },
   "outputs": [],
   "source": [
    "# Math\n",
    "# Allows you to perform math\n",
    "import math"
   ]
  },
  {
   "cell_type": "code",
   "execution_count": 3,
   "id": "b85adcad78de6def",
   "metadata": {
    "ExecuteTime": {
     "end_time": "2024-08-06T14:52:30.121031Z",
     "start_time": "2024-08-06T14:52:29.804515Z"
    }
   },
   "outputs": [
    {
     "data": {
      "text/plain": [
       "32.0"
      ]
     },
     "execution_count": 3,
     "metadata": {},
     "output_type": "execute_result"
    }
   ],
   "source": [
    "# Power\n",
    "# pow : returns the answer of x by the power of y\n",
    "math.pow(2, 5)"
   ]
  },
  {
   "cell_type": "code",
   "execution_count": 8,
   "id": "d666a46e18c345eb",
   "metadata": {
    "ExecuteTime": {
     "end_time": "2024-08-06T15:47:27.320595Z",
     "start_time": "2024-08-06T15:47:27.315398Z"
    }
   },
   "outputs": [
    {
     "data": {
      "text/plain": [
       "'4'"
      ]
     },
     "execution_count": 8,
     "metadata": {},
     "output_type": "execute_result"
    }
   ],
   "source": [
    "# Floor (manual)\n",
    "# cannot slice int or float so we convert the float into a str\n",
    "number = 14.6\n",
    "number = str(number)\n",
    "number[1]"
   ]
  },
  {
   "cell_type": "code",
   "execution_count": 5,
   "id": "394c67c980873b79",
   "metadata": {
    "ExecuteTime": {
     "end_time": "2024-08-06T15:47:00.986623Z",
     "start_time": "2024-08-06T15:47:00.981264Z"
    }
   },
   "outputs": [
    {
     "data": {
      "text/plain": [
       "4"
      ]
     },
     "execution_count": 5,
     "metadata": {},
     "output_type": "execute_result"
    }
   ],
   "source": [
    "# Floor (Function)\n",
    "# returns the largest integer not greater than x\n",
    "math.floor(4.6)"
   ]
  },
  {
   "cell_type": "code",
   "execution_count": 9,
   "id": "8c02579de9cc8cf0",
   "metadata": {
    "ExecuteTime": {
     "end_time": "2024-08-06T15:48:57.282619Z",
     "start_time": "2024-08-06T15:48:57.275508Z"
    }
   },
   "outputs": [
    {
     "data": {
      "text/plain": [
       "5"
      ]
     },
     "execution_count": 9,
     "metadata": {},
     "output_type": "execute_result"
    }
   ],
   "source": [
    "# Ceiling\n",
    "# method return the smallest integer greater than or equal to x\n",
    "math.ceil(4.6)"
   ]
  },
  {
   "cell_type": "code",
   "execution_count": 8,
   "id": "554e58db9169abec",
   "metadata": {
    "ExecuteTime": {
     "end_time": "2024-08-06T19:31:14.884606Z",
     "start_time": "2024-08-06T19:31:14.880394Z"
    }
   },
   "outputs": [],
   "source": [
    "# Import statistics\n",
    "import statistics"
   ]
  },
  {
   "cell_type": "code",
   "execution_count": 9,
   "id": "a15bc9d7cd552ff9",
   "metadata": {
    "ExecuteTime": {
     "end_time": "2024-08-06T19:31:15.041920Z",
     "start_time": "2024-08-06T19:31:15.037853Z"
    }
   },
   "outputs": [],
   "source": [
    "# sales (list of integers)\n",
    "sales = [100, 99, 123, 145, 66]"
   ]
  },
  {
   "cell_type": "code",
   "execution_count": 10,
   "id": "532d69a9fbbecc02",
   "metadata": {
    "ExecuteTime": {
     "end_time": "2024-08-06T19:31:15.215300Z",
     "start_time": "2024-08-06T19:31:15.210539Z"
    }
   },
   "outputs": [
    {
     "name": "stdout",
     "output_type": "stream",
     "text": [
      "106.6\n"
     ]
    }
   ],
   "source": [
    "# Mean: sum/len(Manual)\n",
    "# returns the solution sum/len\n",
    "total = sum(sales)\n",
    "nr = len(sales)\n",
    "\n",
    "print(total / nr)"
   ]
  },
  {
   "cell_type": "code",
   "execution_count": 11,
   "id": "e23f96567e86ae6e",
   "metadata": {
    "ExecuteTime": {
     "end_time": "2024-08-06T19:31:15.432745Z",
     "start_time": "2024-08-06T19:31:15.425953Z"
    }
   },
   "outputs": [
    {
     "data": {
      "text/plain": [
       "106.6"
      ]
     },
     "execution_count": 11,
     "metadata": {},
     "output_type": "execute_result"
    }
   ],
   "source": [
    "# Mean(function)\n",
    "# returns the solution sum/len\n",
    "sales = [100, 99, 123, 145, 66]\n",
    "statistics.mean(sales)"
   ]
  },
  {
   "cell_type": "code",
   "execution_count": 12,
   "id": "a6294db9fc2766d4",
   "metadata": {
    "ExecuteTime": {
     "end_time": "2024-08-06T19:31:15.645113Z",
     "start_time": "2024-08-06T19:31:15.640015Z"
    }
   },
   "outputs": [
    {
     "data": {
      "text/plain": [
       "100"
      ]
     },
     "execution_count": 12,
     "metadata": {},
     "output_type": "execute_result"
    }
   ],
   "source": [
    "# median\n",
    "# returns the middle value\n",
    "statistics.median(sales)"
   ]
  },
  {
   "cell_type": "code",
   "execution_count": 13,
   "id": "9e7bca44b387026d",
   "metadata": {
    "ExecuteTime": {
     "end_time": "2024-08-06T19:31:16.813375Z",
     "start_time": "2024-08-06T19:31:16.808922Z"
    }
   },
   "outputs": [
    {
     "data": {
      "text/plain": [
       "29.551649700143646"
      ]
     },
     "execution_count": 13,
     "metadata": {},
     "output_type": "execute_result"
    }
   ],
   "source": [
    "# standard deviation\n",
    "statistics.stdev(sales)"
   ]
  },
  {
   "cell_type": "code",
   "execution_count": 15,
   "id": "54d928da66c7c6e1",
   "metadata": {
    "ExecuteTime": {
     "end_time": "2024-08-06T19:32:04.273906Z",
     "start_time": "2024-08-06T19:32:04.268105Z"
    }
   },
   "outputs": [
    {
     "data": {
      "text/plain": [
       "29.55"
      ]
     },
     "execution_count": 15,
     "metadata": {},
     "output_type": "execute_result"
    }
   ],
   "source": [
    "# Std dev rounded"
   ]
  },
  {
   "cell_type": "code",
   "execution_count": 17,
   "id": "ad83d12b7ed0356d",
   "metadata": {
    "ExecuteTime": {
     "end_time": "2024-08-06T19:39:27.612843Z",
     "start_time": "2024-08-06T19:39:27.608003Z"
    }
   },
   "outputs": [],
   "source": [
    "# import custom function \"my_functions.py\"\n",
    "import my_functions"
   ]
  },
  {
   "cell_type": "code",
   "execution_count": 18,
   "id": "64da8d121a553772",
   "metadata": {
    "ExecuteTime": {
     "end_time": "2024-08-06T19:39:27.795153Z",
     "start_time": "2024-08-06T19:39:27.788670Z"
    }
   },
   "outputs": [
    {
     "data": {
      "text/plain": [
       "'Hello bob'"
      ]
     },
     "execution_count": 18,
     "metadata": {},
     "output_type": "execute_result"
    }
   ],
   "source": [
    "# Greet function from my_function\n",
    "my_functions.greet(\"bob\")"
   ]
  },
  {
   "cell_type": "markdown",
   "id": "31459aa842f123c9",
   "metadata": {},
   "source": [
    "\n",
    "API(Application programming interface): Interface where you write code and communicate with other software applications"
   ]
  },
  {
   "cell_type": "code",
   "execution_count": null,
   "id": "315c22baf1f50022",
   "metadata": {},
   "outputs": [],
   "source": [
    "# Pypi.org"
   ]
  },
  {
   "cell_type": "markdown",
   "id": "47a5c9777983fd6a",
   "metadata": {},
   "source": [
    "# Explain APIs\n",
    "\n",
    "## What is an API?\n",
    "\n",
    "APIs are mechanisms that enable two software components to communicate with each other using a set of definitions and protocols. For example, the weather bureau’s software system contains daily weather data. The weather app on your phone “talks” to this system via APIs and shows you daily weather updates on your phone.\n"
   ]
  },
  {
   "cell_type": "markdown",
   "id": "9ff5ccd32369a0a7",
   "metadata": {},
   "source": [
    "# What is a URL?\n",
    "\n",
    "A URL stands for `Uniform Resource Locator` or in layman terms a website address such as,\n",
    "`https://api.spacexdata.com/v4/launches/search?upcomming`.\n",
    "\n",
    "### Schema/Protocol: `HTTP & HTTPS`\n",
    "\n",
    "`HTTP (Hypertext Transfer Protocol) and HTTPS (Hypertext Transfer Protocol Secure)` are protocols \n",
    "for network communication between web servers and browsers. They transmit messages, retrieve \n",
    "information through the domain name system (DNS), and return it to the browser.\n",
    "\n",
    "The difference between HTTP and HTTPS is that the latter encrypts the data transmission process. \n",
    "This security protocol protects a website better and is an essential factor in improving ranking \n",
    "on search results.\n",
    "\n",
    "Another difference is that HTTPS uses the Transmission Control Protocol/Internet Protocol (TCP/IP) \n",
    "port number 443 encrypted by Transport Layer Security (TLS). Meanwhile, an HTTP URL uses TCP/IP port number 80.\n",
    "\n",
    "\n",
    "### Subdomain: `api`\n",
    "\n",
    "A `subdomain` consists of any words or phrases that come before a URL’s first dot. Referring to \n",
    "the world wide web, www is the most common type. It indicates that a website is accessible \n",
    "through the internet and uses HTTP to communicate.\n",
    "\n",
    "### Domain name: `spacexdata.com`\n",
    "\n",
    "A `domain name` is what users type into their browser’s address bar to reach a website. \n",
    "It consists of a site name and an extension, for example, `spacexdata.com`.\n",
    "\n",
    "Every name is unique, and they represent their corresponding IP addresses. This unique IP \n",
    "address points to the website’s server. In other words, it helps users access websites easily.\n",
    "\n",
    "\n",
    "### Domain Extension: `.com`\n",
    "\n",
    "Also called a `top-level domain (TLD)`, is the bit following a website name. Used for \n",
    "around `53%` of all websites, .com is the most popular extension.\n",
    "\n",
    "Here are types of TLD extensions to consider using:\n",
    "\n",
    "- Generic TLD (gTLD). This category includes most of the popular extensions, \n",
    "including .com, .org, .net.\n",
    "\n",
    "- Country Code TLD (ccTLD). As the name suggests, this TLD indicates a country, a territory, \n",
    "or a geographical area. ccTLD consists of two letters based on the international country \n",
    "codes, such as .mx, .in, or .at.\n",
    "\n",
    "- Sponsored TLD (sTLD). This type of extension is sponsored and used for specific organizations. \n",
    "For example, Tralliance Registry Management Company, LLC sponsors .travel, and DotAsia \n",
    "Organization Ltd. sponsors .asia domain extension.\n",
    "\n",
    "- New gTLD (nTLD). It’s a new generation of domain extensions. Basically, any TLD launched \n",
    "after 12 January 2012 are new gTLD, including .online, .store, and .tech.\n",
    "\n",
    "### Subdirectory/Path to Resource: `/v4/launches`\n",
    "\n",
    "A `path to the resource` is the part to the right of the TLD. It’s often referred to as the \n",
    "`folder or directory structure` of the website.\n",
    "\n",
    "A path to the resource gives extra information to a web server, enabling it to lead users \n",
    "to a specific location. A series of paths to resources may point to a specific page, post, or file.\n",
    "\n",
    "A URL can have more than one path to resources. When that happens, the forward-slash sign (/) \n",
    "will separate each of them. The more paths to resources a URL contains, the more specific the location is.\n",
    "\n",
    "\n",
    "### Parameters: `.../search?upcomming`\n",
    "\n",
    "`Parameters` are query strings or URL variables. They’re the portion of a URL following a question mark.\n",
    "Parameters contain keys and values separated by the equal sign (=). Furthermore, a URL can have multiple \n",
    "variables. In that case, the ampersand symbol (&) will separate each.\n",
    "\n",
    "In terms of parameter use cases, here are some of the most common ones:\n",
    "\n",
    "- `Translating`: Having a country code in the query string translates a web page to the associated country’s language.\n",
    "- `Searching`: The searching parameter provides search results from a website’s internal search engine. For example,\n",
    "`search?upcomming` in the above URL is the search parameter.\n",
    "- `Filtering`: To separate distinct fields, such as topic, color, price range, and region, site owners can use the filtering parameter.\n",
    "- `Paginating`: This parameter is especially useful for eCommerce websites, enabling site owners to sort content.\n",
    "- `Tracking`: Usually contains the Urchin Tracking Module codes to track traffic from ads and marketing campaigns.\n",
    "\n",
    "### What Is a URL Syntax\n",
    "\n",
    "Syntax refers to a set of rules. In the case of a URL syntax, it sets \n",
    "which component and symbol are allowed in a URL. \\\n",
    "Here’s what a URL’s general syntax looks like:\n",
    "http://subdomain.domain-name.domain-extension/path-to-resource?parameters\n",
    "\n",
    "Furthermore, uniform resource locators can only contain numbers, letters, and the following characters `()!$-‘_*+`.\n",
    "\n",
    "---\n",
    "\n",
    "|  Protocol  |  Subdomain  |  Domain name  |  Domain Extension  |  Subdirectory / Path to Resource  |     Parameters     |\n",
    "|:----------:|:-----------:|:-------------:|:------------------:|:---------------------------------:|:------------------:|\n",
    "|  http://   |     api     |  spacexdata   |        .com        |           /v4/launches/           |  /search?upcoming  |\n",
    "\n",
    "---\n",
    "\n",
    "\n",
    "**Note**: *For more details consult Mozilla documentation on [HTTP Protocol](https://developer.mozilla.org/en-US/docs/Web/HTTP/Overview)*\n"
   ]
  },
  {
   "cell_type": "code",
   "execution_count": 21,
   "id": "9aeacb95a841d53d",
   "metadata": {},
   "outputs": [],
   "source": [
    "# Go to pypi.org, install package, then use import to transfer it\n",
    "# TODO: They mean to open the terminal and enter the command \"pip install requests==2.32.3\" to install package \"requests\".\n",
    "import requests"
   ]
  },
  {
   "cell_type": "code",
   "execution_count": 22,
   "id": "24eee8975a52130a",
   "metadata": {},
   "outputs": [
    {
     "data": {
      "text/plain": [
       "'/Users/aalexander/SynologyDrive/Repos/MyFirstPythonProject/.venv/lib/python3.9/site-packages/requests/__init__.py'"
      ]
     },
     "execution_count": 22,
     "metadata": {},
     "output_type": "execute_result"
    }
   ],
   "source": [
    "# Check file path with .__file__\n",
    "requests.__file__"
   ]
  },
  {
   "cell_type": "code",
   "execution_count": 23,
   "id": "446af4498e78a812",
   "metadata": {
    "ExecuteTime": {
     "end_time": "2024-09-12T17:44:21.653228Z",
     "start_time": "2024-09-12T17:44:21.649323Z"
    }
   },
   "outputs": [],
   "source": [
    "# SpaceX Launches\n",
    "# Define a url variable\n",
    "url = \"https://api.spacexdata.com/v4/launches/upcoming\""
   ]
  },
  {
   "cell_type": "code",
   "execution_count": 1,
   "id": "e772424ec51e5054",
   "metadata": {
    "ExecuteTime": {
     "end_time": "2024-09-16T20:02:40.258193Z",
     "start_time": "2024-09-16T20:02:39.896558Z"
    }
   },
   "outputs": [
    {
     "ename": "NameError",
     "evalue": "name 'requests' is not defined",
     "output_type": "error",
     "traceback": [
      "\u001b[0;31m---------------------------------------------------------------------------\u001b[0m",
      "\u001b[0;31mNameError\u001b[0m                                 Traceback (most recent call last)",
      "Cell \u001b[0;32mIn[1], line 3\u001b[0m\n\u001b[1;32m      1\u001b[0m \u001b[38;5;66;03m# Request\u001b[39;00m\n\u001b[1;32m      2\u001b[0m \u001b[38;5;66;03m# prints raw data from github page\u001b[39;00m\n\u001b[0;32m----> 3\u001b[0m r \u001b[38;5;241m=\u001b[39m \u001b[38;5;28mdict\u001b[39m(\u001b[43mrequests\u001b[49m\u001b[38;5;241m.\u001b[39mget(url)\u001b[38;5;241m.\u001b[39mjson())\n\u001b[1;32m      4\u001b[0m \u001b[38;5;28mprint\u001b[39m(r)\n",
      "\u001b[0;31mNameError\u001b[0m: name 'requests' is not defined"
     ]
    }
   ],
   "source": [
    "# Request\n",
    "# prints raw data from github page\n",
    "r = dict(requests.get(url).json())\n",
    "print(r)"
   ]
  },
  {
   "cell_type": "code",
   "execution_count": 25,
   "id": "7e272cdfeba55c0f",
   "metadata": {
    "ExecuteTime": {
     "end_time": "2024-09-12T17:44:23.319846Z",
     "start_time": "2024-09-12T17:44:23.316111Z"
    }
   },
   "outputs": [],
   "source": [
    "# assign data to launches\n",
    "launches = r"
   ]
  },
  {
   "cell_type": "code",
   "execution_count": 26,
   "id": "bb49e01df67858ff",
   "metadata": {
    "ExecuteTime": {
     "end_time": "2024-09-12T17:44:24.327804Z",
     "start_time": "2024-09-12T17:44:24.322341Z"
    }
   },
   "outputs": [
    {
     "data": {
      "text/plain": [
       "18"
      ]
     },
     "execution_count": 26,
     "metadata": {},
     "output_type": "execute_result"
    }
   ],
   "source": [
    "# len\n",
    "len(launches)"
   ]
  },
  {
   "cell_type": "code",
   "execution_count": 28,
   "id": "fc837b311b3ee0a5",
   "metadata": {
    "ExecuteTime": {
     "end_time": "2024-09-12T17:44:34.651783Z",
     "start_time": "2024-09-12T17:44:34.642761Z"
    }
   },
   "outputs": [
    {
     "data": {
      "text/plain": [
       "{'fairings': {'reused': None,\n",
       "  'recovery_attempt': None,\n",
       "  'recovered': None,\n",
       "  'ships': []},\n",
       " 'links': {'patch': {'small': None, 'large': None},\n",
       "  'reddit': {'campaign': None,\n",
       "   'launch': None,\n",
       "   'media': None,\n",
       "   'recovery': None},\n",
       "  'flickr': {'small': [], 'original': []},\n",
       "  'presskit': None,\n",
       "  'webcast': 'https://youtu.be/pY628jRd6gM',\n",
       "  'youtube_id': 'pY628jRd6gM',\n",
       "  'article': None,\n",
       "  'wikipedia': None},\n",
       " 'static_fire_date_utc': None,\n",
       " 'static_fire_date_unix': None,\n",
       " 'net': False,\n",
       " 'window': None,\n",
       " 'rocket': '5e9d0d95eda69974db09d1ed',\n",
       " 'success': None,\n",
       " 'failures': [],\n",
       " 'details': None,\n",
       " 'crew': [],\n",
       " 'ships': [],\n",
       " 'capsules': [],\n",
       " 'payloads': ['5fe3b86eb3467846b324217c'],\n",
       " 'launchpad': '5e9e4502f509094188566f88',\n",
       " 'flight_number': 188,\n",
       " 'name': 'USSF-44',\n",
       " 'date_utc': '2022-11-01T13:41:00.000Z',\n",
       " 'date_unix': 1667310060,\n",
       " 'date_local': '2022-11-01T09:41:00-04:00',\n",
       " 'date_precision': 'hour',\n",
       " 'upcoming': True,\n",
       " 'cores': [{'core': '5fe3b8f2b3467846b3242181',\n",
       "   'flight': 1,\n",
       "   'gridfins': True,\n",
       "   'legs': True,\n",
       "   'reused': False,\n",
       "   'landing_attempt': None,\n",
       "   'landing_success': None,\n",
       "   'landing_type': None,\n",
       "   'landpad': None},\n",
       "  {'core': '5fe3b8fbb3467846b3242182',\n",
       "   'flight': 1,\n",
       "   'gridfins': True,\n",
       "   'legs': True,\n",
       "   'reused': False,\n",
       "   'landing_attempt': None,\n",
       "   'landing_success': None,\n",
       "   'landing_type': None,\n",
       "   'landpad': None},\n",
       "  {'core': '5fe3b906b3467846b3242183',\n",
       "   'flight': 1,\n",
       "   'gridfins': True,\n",
       "   'legs': True,\n",
       "   'reused': False,\n",
       "   'landing_attempt': None,\n",
       "   'landing_success': None,\n",
       "   'landing_type': None,\n",
       "   'landpad': None}],\n",
       " 'auto_update': True,\n",
       " 'tbd': False,\n",
       " 'launch_library_id': '2306e0bc-e1a3-4a4a-9285-e1a94073655e',\n",
       " 'id': '6243aec2af52800c6e91925d'}"
      ]
     },
     "execution_count": 28,
     "metadata": {},
     "output_type": "execute_result"
    }
   ],
   "source": [
    "# inspect first launch\n",
    "# renders out in the form of a dictionary\n",
    "launches[0]"
   ]
  },
  {
   "cell_type": "code",
   "execution_count": 29,
   "id": "bd765cae566041f1",
   "metadata": {
    "ExecuteTime": {
     "end_time": "2024-09-12T17:52:14.231298Z",
     "start_time": "2024-09-12T17:52:14.224708Z"
    }
   },
   "outputs": [
    {
     "data": {
      "text/plain": [
       "dict_keys(['fairings', 'links', 'static_fire_date_utc', 'static_fire_date_unix', 'net', 'window', 'rocket', 'success', 'failures', 'details', 'crew', 'ships', 'capsules', 'payloads', 'launchpad', 'flight_number', 'name', 'date_utc', 'date_unix', 'date_local', 'date_precision', 'upcoming', 'cores', 'auto_update', 'tbd', 'launch_library_id', 'id'])"
      ]
     },
     "execution_count": 29,
     "metadata": {},
     "output_type": "execute_result"
    }
   ],
   "source": [
    "# Keys\n",
    "# to render the keys that we have\n",
    "launches[0].keys()"
   ]
  },
  {
   "cell_type": "code",
   "execution_count": 31,
   "id": "210c1ee83dbf1c08",
   "metadata": {
    "ExecuteTime": {
     "end_time": "2024-09-12T18:26:29.902753Z",
     "start_time": "2024-09-12T18:26:29.897295Z"
    }
   },
   "outputs": [
    {
     "name": "stdout",
     "output_type": "stream",
     "text": [
      "2022-11-01T13:41:00.000Z\n",
      "USSF-44\n",
      "None\n"
     ]
    }
   ],
   "source": [
    "# Fields of  internet \"data utc\", \"name\", \"details\"\n",
    "# prints the date of the launch[0]\n",
    "# prints the name of the launch[0]\n",
    "# prints the details of the launch[0]\n",
    "print(launches[0][\"date_utc\"])\n",
    "print(launches[0][\"name\"])\n",
    "print(launches[0][\"details\"])"
   ]
  },
  {
   "cell_type": "code",
   "execution_count": 33,
   "id": "27d71e94dab8f3e9",
   "metadata": {
    "ExecuteTime": {
     "end_time": "2024-09-12T18:58:18.507906Z",
     "start_time": "2024-09-12T18:58:18.502730Z"
    }
   },
   "outputs": [
    {
     "name": "stdout",
     "output_type": "stream",
     "text": [
      "2022-11-01T13:41:00.000Z\n",
      "USSF-44\n",
      "None\n",
      "\n",
      "2022-10-20T14:50:00.000Z\n",
      "Starlink 4-36 (v1.5)\n",
      "None\n",
      "\n",
      "2022-10-08T23:05:00.000Z\n",
      "Galaxy 33 (15R) & 34 (12R)\n",
      "None\n",
      "\n",
      "2022-10-15T05:22:00.000Z\n",
      "Hotbird 13F\n",
      "None\n",
      "\n",
      "2022-11-03T03:24:00.000Z\n",
      "Hotbird 13G\n",
      "None\n",
      "\n",
      "2022-11-08T00:00:00.000Z\n",
      "Galaxy 31 (23R) & 32 (17R)\n",
      "None\n",
      "\n",
      "2022-11-15T00:00:00.000Z\n",
      "Eutelsat 10B\n",
      "None\n",
      "\n",
      "2022-11-22T00:00:00.000Z\n",
      "ispace Mission 1 & Rashid\n",
      "None\n",
      "\n",
      "2022-11-18T22:00:00.000Z\n",
      "CRS-26\n",
      "None\n",
      "\n",
      "2022-11-01T00:00:00.000Z\n",
      "Starlink 4-37 (v1.5)\n",
      "None\n",
      "\n",
      "2022-11-01T00:00:00.000Z\n",
      "O3b mPower 1,2\n",
      "None\n",
      "\n",
      "2022-12-05T00:00:00.000Z\n",
      "SWOT\n",
      "None\n",
      "\n",
      "2022-11-01T00:00:00.000Z\n",
      "SES-18 & SES-19\n",
      "None\n",
      "\n",
      "2022-12-01T00:00:00.000Z\n",
      "Transporter-6\n",
      "None\n",
      "\n",
      "2022-12-01T00:00:00.000Z\n",
      "TTL-1\n",
      "None\n",
      "\n",
      "2022-12-01T00:00:00.000Z\n",
      "WorldView Legion 1 & 2\n",
      "None\n",
      "\n",
      "2022-12-01T00:00:00.000Z\n",
      "Viasat-3 & Arcturus\n",
      "None\n",
      "\n",
      "2022-12-01T00:00:00.000Z\n",
      "O3b mPower 3.4\n",
      "None\n",
      "\n"
     ]
    }
   ],
   "source": [
    "# loops\n",
    "# loops and prints the date, name, and details of each launch\n",
    "for launch in launches:\n",
    "    print(launch[\"date_utc\"])\n",
    "    print(launch[\"name\"])\n",
    "    print(launch[\"details\"])\n",
    "    print()"
   ]
  },
  {
   "cell_type": "code",
   "execution_count": null,
   "id": "ede48b765f37ca89",
   "metadata": {},
   "outputs": [],
   "source": []
  }
 ],
 "metadata": {
  "kernelspec": {
   "display_name": "Python 3 (ipykernel)",
   "language": "python",
   "name": "python3"
  },
  "language_info": {
   "codemirror_mode": {
    "name": "ipython",
    "version": 3
   },
   "file_extension": ".py",
   "mimetype": "text/x-python",
   "name": "python",
   "nbconvert_exporter": "python",
   "pygments_lexer": "ipython3",
   "version": "3.9.6"
  }
 },
 "nbformat": 4,
 "nbformat_minor": 5
}
