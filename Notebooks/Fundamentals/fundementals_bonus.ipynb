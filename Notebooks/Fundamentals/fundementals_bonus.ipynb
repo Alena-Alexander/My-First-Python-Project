{
 "cells": [
  {
   "metadata": {},
   "cell_type": "markdown",
   "source": [
    "Try/Except: Enables you the ability to prevent error.\n",
    "Errors detected during execution are called exceptions."
   ],
   "id": "915e3b1d4224a8aa"
  },
  {
   "metadata": {
    "ExecuteTime": {
     "end_time": "2024-07-12T14:42:44.387470Z",
     "start_time": "2024-07-12T14:42:44.380893Z"
    }
   },
   "cell_type": "code",
   "source": [
    "# SyntaxError with while True print\n",
    "# The try block is used to check some code for errors and will execute when there is no error in the program\n",
    "try:\n",
    "    while True:\n",
    "        print(\"odd\" * \"test\")\n",
    "# the except block will execute whenever the program encounters some error in the preceding try block\n",
    "except Exception as e:  # Exception => e\n",
    "    print(e)\n",
    "    print(\"This is a graceful way to handle the exception.\")"
   ],
   "id": "f459ca0f35c1a8e8",
   "outputs": [
    {
     "name": "stdout",
     "output_type": "stream",
     "text": [
      "can't multiply sequence by non-int of type 'str'\n",
      "This is a graceful way to handle the exception.\n"
     ]
    }
   ],
   "execution_count": 24
  },
  {
   "metadata": {
    "ExecuteTime": {
     "end_time": "2024-07-12T14:14:02.514485Z",
     "start_time": "2024-07-12T14:14:01.145078Z"
    }
   },
   "cell_type": "code",
   "source": [
    "# Get an integer(age) from user input\n",
    "# throws an error because a string was input when only integers can be accepted\n",
    "age = int(input(\"What is your age please\"))\n",
    "\n",
    "print(\"Outside the exception block code execution continues.\")"
   ],
   "id": "3af5c61281f7b55d",
   "outputs": [
    {
     "ename": "ValueError",
     "evalue": "invalid literal for int() with base 10: ''",
     "output_type": "error",
     "traceback": [
      "\u001b[0;31m---------------------------------------------------------------------------\u001b[0m",
      "\u001b[0;31mValueError\u001b[0m                                Traceback (most recent call last)",
      "Cell \u001b[0;32mIn[22], line 3\u001b[0m\n\u001b[1;32m      1\u001b[0m \u001b[38;5;66;03m# Get an integer(age) from user input\u001b[39;00m\n\u001b[1;32m      2\u001b[0m \u001b[38;5;66;03m# throws an error because a string was input when only integers can be accepted\u001b[39;00m\n\u001b[0;32m----> 3\u001b[0m age \u001b[38;5;241m=\u001b[39m \u001b[38;5;28;43mint\u001b[39;49m\u001b[43m(\u001b[49m\u001b[38;5;28;43minput\u001b[39;49m\u001b[43m(\u001b[49m\u001b[38;5;124;43m\"\u001b[39;49m\u001b[38;5;124;43mWhat is your age please\u001b[39;49m\u001b[38;5;124;43m\"\u001b[39;49m\u001b[43m)\u001b[49m\u001b[43m)\u001b[49m\n\u001b[1;32m      5\u001b[0m \u001b[38;5;28mprint\u001b[39m(\u001b[38;5;124m\"\u001b[39m\u001b[38;5;124mOutside the exception block code execution continues.\u001b[39m\u001b[38;5;124m\"\u001b[39m)\n",
      "\u001b[0;31mValueError\u001b[0m: invalid literal for int() with base 10: ''"
     ]
    }
   ],
   "execution_count": 22
  },
  {
   "metadata": {
    "ExecuteTime": {
     "end_time": "2024-07-12T14:13:36.204299Z",
     "start_time": "2024-07-12T14:13:34.334034Z"
    }
   },
   "cell_type": "code",
   "source": [
    "# With try/except\n",
    "# to change the message the system gives into something making the code more robust\n",
    "try:\n",
    "    age = int(input(\"What is your age please\"))\n",
    "    print(\"Your age is: \", age)\n",
    "except ValueError:\n",
    "    print(\"please enter a number\")\n",
    "\n",
    "print(\"Outside the exception block code execution continues.\")"
   ],
   "id": "1134325b3b5267c3",
   "outputs": [
    {
     "name": "stdout",
     "output_type": "stream",
     "text": [
      "please enter a number\n",
      "Outside the exception block code execution continues.\n"
     ]
    }
   ],
   "execution_count": 21
  },
  {
   "metadata": {
    "ExecuteTime": {
     "end_time": "2024-07-12T13:53:00.321483Z",
     "start_time": "2024-07-12T13:52:50.992421Z"
    }
   },
   "cell_type": "code",
   "source": [
    "try:\n",
    "    x = int(input(\"Please enter a (non-zero) number: )\"))\n",
    "    print(\"The outcome is\", 100 / x)\n",
    "\n",
    "except ZeroDivisionError:\n",
    "    print(\"Enter a zero. Try again\")"
   ],
   "id": "ff392aedd84578e0",
   "outputs": [
    {
     "name": "stdout",
     "output_type": "stream",
     "text": [
      "Enter a zero. Try again\n"
     ]
    }
   ],
   "execution_count": 7
  },
  {
   "metadata": {
    "ExecuteTime": {
     "end_time": "2024-07-12T14:23:13.252830Z",
     "start_time": "2024-07-12T14:22:22.772304Z"
    }
   },
   "cell_type": "code",
   "source": [
    "# Loops through the try/except statement\n",
    "while True:\n",
    "    try:\n",
    "        age = int(input(\"What is your age please\"))\n",
    "        print(\"Your age is: \", age)\n",
    "        if age >= 1:\n",
    "            break\n",
    "    except Exception as e:\n",
    "        print(\"Please enter a number\")\n",
    "        print(e)"
   ],
   "id": "b9abaa9a0243115e",
   "outputs": [
    {
     "name": "stdout",
     "output_type": "stream",
     "text": [
      "Please enter a number\n",
      "invalid literal for int() with base 10: ''\n",
      "Please enter a number\n",
      "invalid literal for int() with base 10: ''\n",
      "Please enter a number\n",
      "invalid literal for int() with base 10: ''\n",
      "Please enter a number\n",
      "invalid literal for int() with base 10: ''\n",
      "Please enter a number\n",
      "invalid literal for int() with base 10: ''\n",
      "Please enter a number\n",
      "invalid literal for int() with base 10: ''\n",
      "Your age is:  25\n"
     ]
    }
   ],
   "execution_count": 23
  },
  {
   "metadata": {},
   "cell_type": "code",
   "outputs": [],
   "execution_count": null,
   "source": "",
   "id": "4b4d6abc71c4d4d2"
  }
 ],
 "metadata": {
  "kernelspec": {
   "display_name": "Python 3",
   "language": "python",
   "name": "python3"
  },
  "language_info": {
   "codemirror_mode": {
    "name": "ipython",
    "version": 2
   },
   "file_extension": ".py",
   "mimetype": "text/x-python",
   "name": "python",
   "nbconvert_exporter": "python",
   "pygments_lexer": "ipython2",
   "version": "2.7.6"
  }
 },
 "nbformat": 4,
 "nbformat_minor": 5
}
