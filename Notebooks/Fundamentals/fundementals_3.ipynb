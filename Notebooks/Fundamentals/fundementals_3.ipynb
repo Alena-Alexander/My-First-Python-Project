{
 "cells": [
  {
   "metadata": {},
   "cell_type": "markdown",
   "source": [
    "Comparisons &\n",
    "Flow Control\n",
    "- if/else statements\n",
    "- For loops\n",
    "- While loops"
   ],
   "id": "692807d66c0bda47"
  },
  {
   "metadata": {},
   "cell_type": "markdown",
   "source": [
    "Comparison Operators: used to compare two operands\n",
    "\n",
    "Operators: used to perform operations on variables and values"
   ],
   "id": "a875eb10024098be"
  },
  {
   "metadata": {
    "ExecuteTime": {
     "end_time": "2024-07-16T15:37:46.816040Z",
     "start_time": "2024-07-16T15:37:46.765748Z"
    }
   },
   "cell_type": "code",
   "source": [
    "# x & y\n",
    "x = 100\n",
    "y = 200"
   ],
   "id": "543032520c9c4f0f",
   "outputs": [],
   "execution_count": 171
  },
  {
   "metadata": {
    "ExecuteTime": {
     "end_time": "2024-07-16T15:37:49.201835Z",
     "start_time": "2024-07-16T15:37:49.136114Z"
    }
   },
   "cell_type": "code",
   "source": [
    "# Equal\n",
    "# tells us if variables x and y are equal or not\n",
    "x == y"
   ],
   "id": "91aa198c33197e21",
   "outputs": [
    {
     "data": {
      "text/plain": [
       "False"
      ]
     },
     "execution_count": 172,
     "metadata": {},
     "output_type": "execute_result"
    }
   ],
   "execution_count": 172
  },
  {
   "metadata": {
    "ExecuteTime": {
     "end_time": "2024-07-16T15:37:50.688484Z",
     "start_time": "2024-07-16T15:37:50.590688Z"
    }
   },
   "cell_type": "code",
   "source": [
    "# Not equal\n",
    "# tells us if variable x & y are not equal\n",
    "x != y"
   ],
   "id": "2651f5ce1305386f",
   "outputs": [
    {
     "data": {
      "text/plain": [
       "True"
      ]
     },
     "execution_count": 173,
     "metadata": {},
     "output_type": "execute_result"
    }
   ],
   "execution_count": 173
  },
  {
   "metadata": {
    "ExecuteTime": {
     "end_time": "2024-07-16T15:37:51.275491Z",
     "start_time": "2024-07-16T15:37:51.210139Z"
    }
   },
   "cell_type": "code",
   "source": [
    "# Less than\n",
    "x > y"
   ],
   "id": "923d0740135f74d",
   "outputs": [
    {
     "data": {
      "text/plain": [
       "False"
      ]
     },
     "execution_count": 174,
     "metadata": {},
     "output_type": "execute_result"
    }
   ],
   "execution_count": 174
  },
  {
   "metadata": {
    "ExecuteTime": {
     "end_time": "2024-07-16T15:37:52.127132Z",
     "start_time": "2024-07-16T15:37:52.045541Z"
    }
   },
   "cell_type": "code",
   "source": [
    "# Less than or equal to\n",
    "x <= y"
   ],
   "id": "9855c4fc157cd3ac",
   "outputs": [
    {
     "data": {
      "text/plain": [
       "True"
      ]
     },
     "execution_count": 175,
     "metadata": {},
     "output_type": "execute_result"
    }
   ],
   "execution_count": 175
  },
  {
   "metadata": {},
   "cell_type": "markdown",
   "source": [
    "Conditional Statements:\n",
    "    - If/Else statements: are used to execute both the true part and the false part of a given condition"
   ],
   "id": "6949617175227ae9"
  },
  {
   "metadata": {
    "ExecuteTime": {
     "end_time": "2024-07-16T15:37:53.743740Z",
     "start_time": "2024-07-16T15:37:53.662051Z"
    }
   },
   "cell_type": "code",
   "source": [
    "# Example if temp\n",
    "# executes because it's true\n",
    "temperature = 89\n",
    "# if statement: used to decide whether a certain statement or block of statements will be executed or not\n",
    "if temperature > 85:\n",
    "# indentation determines what is a part of the code and what isn't\n",
    "    print(\"It is hot!\")\n",
    "print(temperature)\n"
   ],
   "id": "e919cc5e351a5d23",
   "outputs": [
    {
     "name": "stdout",
     "output_type": "stream",
     "text": [
      "It is hot!\n",
      "89\n"
     ]
    }
   ],
   "execution_count": 176
  },
  {
   "metadata": {
    "ExecuteTime": {
     "end_time": "2024-07-16T15:37:54.462104Z",
     "start_time": "2024-07-16T15:37:54.411796Z"
    }
   },
   "cell_type": "code",
   "source": [
    "# Example if/else temp\n",
    "temperature = 80\n",
    "# if/else statement: does the same as an if statement but executes a block of code when the if condition is false\n",
    "if temperature > 85:\n",
    "    print(\"It is hot!\")\n",
    "else:\n",
    "    print(\"It just is\")"
   ],
   "id": "68eb77cf59fe0f93",
   "outputs": [
    {
     "name": "stdout",
     "output_type": "stream",
     "text": [
      "It just is\n"
     ]
    }
   ],
   "execution_count": 177
  },
  {
   "metadata": {
    "ExecuteTime": {
     "end_time": "2024-07-16T15:37:55.417525Z",
     "start_time": "2024-07-16T15:37:55.333528Z"
    }
   },
   "cell_type": "code",
   "source": [
    "# Example if/elif/else\n",
    "if temperature > 85:\n",
    "    print(\"It is hot!\")\n",
    "# elif is short for else if\n",
    "elif temperature > 65:\n",
    "    print(\"It is nice\")\n",
    "else:\n",
    "    print(\"It just is\")"
   ],
   "id": "a6f98208fe2f085d",
   "outputs": [
    {
     "name": "stdout",
     "output_type": "stream",
     "text": [
      "It is nice\n"
     ]
    }
   ],
   "execution_count": 178
  },
  {
   "metadata": {},
   "cell_type": "markdown",
   "source": "Logical operators: used to combine multiple conditions together and evaluate them as a single boolean expression",
   "id": "ed79abf00b730756"
  },
  {
   "metadata": {
    "ExecuteTime": {
     "end_time": "2024-07-16T15:37:56.616357Z",
     "start_time": "2024-07-16T15:37:56.565990Z"
    }
   },
   "cell_type": "code",
   "source": [
    "# And(nice weather: temp & sun)\n",
    "temperature = 87\n",
    "sunny = True\n",
    "\n",
    "# if it's sunny and temp is above 65 print \"It is nice\"\n",
    "# else if the conditions of the if statement aren't met print \"it is not so nice outside\"\n",
    "if temperature > 65 and sunny == True:\n",
    "    print(\"It is nice\")\n",
    "else:\n",
    "    print(\"it is not so nice outside\")"
   ],
   "id": "a41803030f255e7e",
   "outputs": [
    {
     "name": "stdout",
     "output_type": "stream",
     "text": [
      "It is nice\n"
     ]
    }
   ],
   "execution_count": 179
  },
  {
   "metadata": {
    "ExecuteTime": {
     "end_time": "2024-07-16T15:37:57.252304Z",
     "start_time": "2024-07-16T15:37:57.189679Z"
    }
   },
   "cell_type": "code",
   "source": [
    "# Or\n",
    "# executes if either the 1st or 2nd condition is met\n",
    "# if not then it print \"It is not so nice\"\n",
    "if temperature > 65 or sunny == True:\n",
    "    print(\"It is nice\")\n",
    "else:\n",
    "    print (\"It is not so nice\")"
   ],
   "id": "554adb567dc5c02a",
   "outputs": [
    {
     "name": "stdout",
     "output_type": "stream",
     "text": [
      "It is nice\n"
     ]
    }
   ],
   "execution_count": 180
  },
  {
   "metadata": {
    "ExecuteTime": {
     "end_time": "2024-07-16T15:37:57.974009Z",
     "start_time": "2024-07-16T15:37:57.936807Z"
    }
   },
   "cell_type": "code",
   "source": [
    "# Not(raining)\n",
    "rainy = False\n",
    "# if it's not rainy print \"It is nice\"\n",
    "if not rainy:\n",
    "    print(\"It is nice\")"
   ],
   "id": "f28fd1ac367b175",
   "outputs": [
    {
     "name": "stdout",
     "output_type": "stream",
     "text": [
      "It is nice\n"
     ]
    }
   ],
   "execution_count": 181
  },
  {
   "metadata": {},
   "cell_type": "markdown",
   "source": "Membership operator: checks whether a given value is a member of a sequence such as strings, lists, and tuples",
   "id": "9eb7349ff59ddf1a"
  },
  {
   "metadata": {
    "ExecuteTime": {
     "end_time": "2024-07-16T15:37:59.573762Z",
     "start_time": "2024-07-16T15:37:59.444479Z"
    }
   },
   "cell_type": "code",
   "source": [
    "# In \"pangram:\"\"The five boxing wizards jump quickly\"\n",
    "# Checks if the string is included in the variable\n",
    "# prints False or True based on the result\n",
    "pangram = \"The five boxing wizards jump quickly\"\n",
    "\"wizards\" in pangram"
   ],
   "id": "60011c90acf581",
   "outputs": [
    {
     "data": {
      "text/plain": [
       "True"
      ]
     },
     "execution_count": 182,
     "metadata": {},
     "output_type": "execute_result"
    }
   ],
   "execution_count": 182
  },
  {
   "metadata": {
    "jupyter": {
     "is_executing": true
    }
   },
   "cell_type": "code",
   "source": [
    "# Not in\n",
    "# Checks if the string is included in the variable\n",
    "# prints False or True based on the result\n",
    "\"wizards\" not in pangram    "
   ],
   "id": "26be5760365f94fd",
   "outputs": [],
   "execution_count": null
  },
  {
   "metadata": {},
   "cell_type": "markdown",
   "source": "",
   "id": "6d5d033d8be7fe"
  },
  {
   "metadata": {},
   "cell_type": "markdown",
   "source": "For loops: a control flow statement that is used to repeatedly executes a block of code preferably(list, tuple, set, or a string)",
   "id": "18677d4190ce3718"
  },
  {
   "metadata": {
    "ExecuteTime": {
     "end_time": "2024-08-08T21:25:20.376210Z",
     "start_time": "2024-08-08T21:25:20.372219Z"
    }
   },
   "cell_type": "code",
   "source": [
    "# Ingredients\n",
    "Ingredients = [\"spam\", \"bacon\", \"ham\", \"eggs\"]"
   ],
   "id": "35a20f939d09d62f",
   "outputs": [],
   "execution_count": 7
  },
  {
   "metadata": {
    "ExecuteTime": {
     "end_time": "2024-08-08T21:25:20.965227Z",
     "start_time": "2024-08-08T21:25:20.958285Z"
    }
   },
   "cell_type": "code",
   "source": [
    "# D.R.Y. principle, print items\n",
    "# D.R.Y. : Dont Repeat Yourself\n",
    "print(Ingredients[0])\n",
    "print(Ingredients[1])\n",
    "print(Ingredients[2])\n",
    "print(Ingredients[3])"
   ],
   "id": "b35ad9414b4bec35",
   "outputs": [
    {
     "name": "stdout",
     "output_type": "stream",
     "text": [
      "spam\n",
      "bacon\n",
      "ham\n",
      "eggs\n"
     ]
    }
   ],
   "execution_count": 8
  },
  {
   "metadata": {
    "ExecuteTime": {
     "end_time": "2024-08-08T21:25:21.940394Z",
     "start_time": "2024-08-08T21:25:21.934886Z"
    }
   },
   "cell_type": "code",
   "source": [
    "# For loop\n",
    "# lessens the amount of time it would've taken you to print every element in the list separately\n",
    "# prints all the values in the list ingredients\n",
    "for Ingredient in Ingredients: # loops through the ingredients in the list ingredients\n",
    "    print(Ingredient)"
   ],
   "id": "3e08bb4818f51ede",
   "outputs": [
    {
     "name": "stdout",
     "output_type": "stream",
     "text": [
      "spam\n",
      "bacon\n",
      "ham\n",
      "eggs\n"
     ]
    }
   ],
   "execution_count": 9
  },
  {
   "metadata": {
    "ExecuteTime": {
     "end_time": "2024-08-08T21:25:23.082786Z",
     "start_time": "2024-08-08T21:25:23.074188Z"
    }
   },
   "cell_type": "code",
   "source": [
    "# For loop, print after\n",
    "for Ingredient in Ingredients:\n",
    "    print(Ingredient)\n",
    "    print(\"--> Next item\")\n",
    "# anything outside of this block of code will not be apart the loop\n",
    "print(\"--> The end\")"
   ],
   "id": "f2f01306c1907cf5",
   "outputs": [
    {
     "name": "stdout",
     "output_type": "stream",
     "text": [
      "spam\n",
      "--> Next item\n",
      "bacon\n",
      "--> Next item\n",
      "ham\n",
      "--> Next item\n",
      "eggs\n",
      "--> Next item\n",
      "--> The end\n"
     ]
    }
   ],
   "execution_count": 10
  },
  {
   "metadata": {
    "ExecuteTime": {
     "end_time": "2024-07-16T16:18:56.045221Z",
     "start_time": "2024-07-16T16:18:56.039737Z"
    }
   },
   "cell_type": "code",
   "source": [
    "# Break\n",
    "# stops the loop after making a comparison\n",
    "Ingredients = [\"spam\", \"bacon\", \"ham\", \"eggs\"]\n",
    "\n",
    "for item in Ingredients:   \n",
    "    print(item)\n",
    "    if item == \"bacon\":\n",
    "        break "
   ],
   "id": "53db21347c8466d0",
   "outputs": [
    {
     "name": "stdout",
     "output_type": "stream",
     "text": [
      "spam\n",
      "bacon\n"
     ]
    }
   ],
   "execution_count": 3
  },
  {
   "metadata": {
    "ExecuteTime": {
     "end_time": "2024-07-16T16:20:21.563077Z",
     "start_time": "2024-07-16T16:20:21.558118Z"
    }
   },
   "cell_type": "code",
   "source": [
    "# Continue\n",
    "# moves onto to the next iteration of the loop the\n",
    "# prints the element after bacon in the list\n",
    "# doesn't print bacon\n",
    "for item in Ingredients:\n",
    "    if item == \"bacon\":\n",
    "        continue\n",
    "    print(item)"
   ],
   "id": "b4a9e38a739709f5",
   "outputs": [
    {
     "name": "stdout",
     "output_type": "stream",
     "text": [
      "spam\n",
      "ham\n",
      "eggs\n"
     ]
    }
   ],
   "execution_count": 7
  },
  {
   "metadata": {},
   "cell_type": "markdown",
   "source": "While loops:  A flow statement used to repeatedly execute a block of statements while a condition is true",
   "id": "d266286b7d735b18"
  },
  {
   "metadata": {
    "ExecuteTime": {
     "end_time": "2024-07-17T13:49:18.846555Z",
     "start_time": "2024-07-17T13:49:18.841342Z"
    }
   },
   "cell_type": "code",
   "source": [
    "# Example n < 5\n",
    "# repeatedly prints n with +1 added to it until the condition is false\n",
    "n = 1\n",
    "while n < 5:\n",
    "    print(n)\n",
    "    n = n + 1"
   ],
   "id": "4cbc028af2c69a3",
   "outputs": [
    {
     "name": "stdout",
     "output_type": "stream",
     "text": [
      "1\n",
      "2\n",
      "3\n",
      "4\n"
     ]
    }
   ],
   "execution_count": 6
  },
  {
   "metadata": {
    "jupyter": {
     "is_executing": true
    }
   },
   "cell_type": "code",
   "source": [
    "# Break\n",
    "n = 1\n",
    "while n < 6:\n",
    "    if n == 3:\n",
    "        break\n",
    "    print(n)\n",
    "    n = n + 1\n",
    "        "
   ],
   "id": "640cdbf4b753ccf2",
   "outputs": [],
   "execution_count": null
  },
  {
   "metadata": {
    "jupyter": {
     "is_executing": true
    },
    "ExecuteTime": {
     "start_time": "2024-07-17T13:59:52.772207Z"
    }
   },
   "cell_type": "code",
   "source": [
    "# Continue - not working\n",
    "n = 1\n",
    "while n < 6:\n",
    "    if n == 4:\n",
    "        continue\n",
    "    print(n)\n",
    "    n = n + 1"
   ],
   "id": "22a9eae4189d0e8d",
   "outputs": [
    {
     "name": "stdout",
     "output_type": "stream",
     "text": [
      "1\n",
      "2\n",
      "3\n"
     ]
    }
   ],
   "execution_count": null
  },
  {
   "metadata": {
    "ExecuteTime": {
     "end_time": "2024-07-17T14:07:24.481873Z",
     "start_time": "2024-07-17T14:07:24.473239Z"
    }
   },
   "cell_type": "code",
   "source": [
    "# Continue - solution\n",
    "# pay close attention to continue and break placement or there will be an error\n",
    "n = 0\n",
    "while n < 6:\n",
    "    n = n + 1\n",
    "    if n == 4:\n",
    "        continue\n",
    "    print(n)"
   ],
   "id": "1cc17a7195489d0f",
   "outputs": [
    {
     "name": "stdout",
     "output_type": "stream",
     "text": [
      "1\n",
      "2\n",
      "3\n",
      "5\n",
      "6\n"
     ]
    }
   ],
   "execution_count": 1
  },
  {
   "metadata": {},
   "cell_type": "markdown",
   "source": "Range: a sequence of numbers, in a given range",
   "id": "398e0599bf474e27"
  },
  {
   "metadata": {
    "ExecuteTime": {
     "end_time": "2024-07-17T15:22:56.483322Z",
     "start_time": "2024-07-17T15:22:56.476588Z"
    }
   },
   "cell_type": "code",
   "source": [
    "# through list of numbers\n",
    "# Loops and prints number from 0 to 6\n",
    "for x in range(6):\n",
    "    print(x)"
   ],
   "id": "ff70ffd04119f458",
   "outputs": [
    {
     "name": "stdout",
     "output_type": "stream",
     "text": [
      "0\n",
      "1\n",
      "2\n",
      "3\n",
      "4\n",
      "5\n"
     ]
    }
   ],
   "execution_count": 2
  },
  {
   "metadata": {
    "ExecuteTime": {
     "end_time": "2024-07-17T15:58:08.172687Z",
     "start_time": "2024-07-17T15:58:08.167740Z"
    }
   },
   "cell_type": "code",
   "source": [
    "# Range start\n",
    "# loops and prints numbers up from 2 to 6\n",
    "for x in range(2, 6):\n",
    "    print(x)"
   ],
   "id": "1351523966f3fc35",
   "outputs": [
    {
     "name": "stdout",
     "output_type": "stream",
     "text": [
      "2\n",
      "3\n",
      "4\n",
      "5\n"
     ]
    }
   ],
   "execution_count": 3
  },
  {
   "metadata": {
    "ExecuteTime": {
     "end_time": "2024-07-17T16:39:12.974693Z",
     "start_time": "2024-07-17T16:39:12.969725Z"
    }
   },
   "cell_type": "code",
   "source": [
    "# Range step\n",
    "# Step: how big the space between every number will be\n",
    "for x in range(0,11,2):\n",
    "    print(x)"
   ],
   "id": "109d57f35daed83c",
   "outputs": [
    {
     "name": "stdout",
     "output_type": "stream",
     "text": [
      "0\n",
      "2\n",
      "4\n",
      "6\n",
      "8\n",
      "10\n"
     ]
    }
   ],
   "execution_count": 6
  },
  {
   "metadata": {},
   "cell_type": "markdown",
   "source": "Enumerate: takes a collection as its parameter, add an index to each object in the collection and returns a set of sets ``(int, object), . . ., (int_n, object_n)``",
   "id": "5f19fc02d5df160d"
  },
  {
   "metadata": {
    "ExecuteTime": {
     "end_time": "2024-07-17T21:45:16.058794Z",
     "start_time": "2024-07-17T21:45:16.053033Z"
    }
   },
   "cell_type": "code",
   "source": [
    "# Manual: ingredients with index number\n",
    "planets = [\"Mercury\", \"Venus\", \"Earth\", \"Mars\", \"Jupiter\", \"Saturn\", \"Uranus\", \"Neptune\"]\n",
    "n = 1\n",
    "\n",
    "for planet in planets:\n",
    "    print(n, planet)\n",
    "    n += 1"
   ],
   "id": "bef93b2b5349aceb",
   "outputs": [
    {
     "name": "stdout",
     "output_type": "stream",
     "text": [
      "1 Mercury\n",
      "2 Venus\n",
      "3 Earth\n",
      "4 Mars\n",
      "5 Jupiter\n",
      "6 Saturn\n",
      "7 Uranus\n",
      "8 Neptune\n"
     ]
    }
   ],
   "execution_count": 26
  },
  {
   "metadata": {
    "ExecuteTime": {
     "end_time": "2024-07-17T21:52:53.708610Z",
     "start_time": "2024-07-17T21:52:53.702247Z"
    }
   },
   "cell_type": "code",
   "source": [
    "\n",
    "# The new enumerated list object contains a list of tuples, and the tuples contain a set of (integer and string)\n",
    "# objects can contain an object within an object within an object\n",
    "print(planets)\n",
    "new_enum = enumerate(planets)\n",
    "# print(new_object)\n",
    "for obj in new_enum:\n",
    "    print(obj)\n",
    "new_list = list(enumerate(planets))\n",
    "for obj in new_list:\n",
    "    print(obj)\n",
    "print(new_list)"
   ],
   "id": "f00af6d0dc81827f",
   "outputs": [
    {
     "name": "stdout",
     "output_type": "stream",
     "text": [
      "['Mercury', 'Venus', 'Earth', 'Mars', 'Jupiter', 'Saturn', 'Uranus', 'Neptune']\n",
      "(0, 'Mercury')\n",
      "(1, 'Venus')\n",
      "(2, 'Earth')\n",
      "(3, 'Mars')\n",
      "(4, 'Jupiter')\n",
      "(5, 'Saturn')\n",
      "(6, 'Uranus')\n",
      "(7, 'Neptune')\n",
      "(0, 'Mercury')\n",
      "(1, 'Venus')\n",
      "(2, 'Earth')\n",
      "(3, 'Mars')\n",
      "(4, 'Jupiter')\n",
      "(5, 'Saturn')\n",
      "(6, 'Uranus')\n",
      "(7, 'Neptune')\n",
      "[(0, 'Mercury'), (1, 'Venus'), (2, 'Earth'), (3, 'Mars'), (4, 'Jupiter'), (5, 'Saturn'), (6, 'Uranus'), (7, 'Neptune')]\n"
     ]
    }
   ],
   "execution_count": 37
  },
  {
   "metadata": {
    "ExecuteTime": {
     "end_time": "2024-07-18T13:43:10.125187Z",
     "start_time": "2024-07-18T13:43:10.115146Z"
    }
   },
   "cell_type": "code",
   "source": [
    "# list\n",
    "planets = [\"Mercury\", \"Venus\", \"Earth\", \"Mars\", \"Jupiter\", \"Saturn\", \"Uranus\", \"Neptune\"]\n",
    "list(enumerate(planets))"
   ],
   "id": "83039df8770aafc0",
   "outputs": [
    {
     "data": {
      "text/plain": [
       "[(0, 'Mercury'),\n",
       " (1, 'Venus'),\n",
       " (2, 'Earth'),\n",
       " (3, 'Mars'),\n",
       " (4, 'Jupiter'),\n",
       " (5, 'Saturn'),\n",
       " (6, 'Uranus'),\n",
       " (7, 'Neptune')]"
      ]
     },
     "execution_count": 2,
     "metadata": {},
     "output_type": "execute_result"
    }
   ],
   "execution_count": 2
  },
  {
   "metadata": {
    "ExecuteTime": {
     "end_time": "2024-08-13T20:04:05.989862Z",
     "start_time": "2024-08-13T20:04:05.984918Z"
    }
   },
   "cell_type": "code",
   "source": [
    "# Enumerate\n",
    "planets = [\"Mercury\", \"Venus\", \"Earth\", \"Mars\", \"Jupiter\", \"Saturn\", \"Uranus\", \"Neptune\"]\n",
    "for index, planet in enumerate(planets):\n",
    "    # planets.remove(0)\n",
    "    print(index, planet)\n",
    "    "
   ],
   "id": "4b267fc6800b7a54",
   "outputs": [
    {
     "name": "stdout",
     "output_type": "stream",
     "text": [
      "['Venus', 'Earth', 'Mars', 'Jupiter', 'Saturn', 'Uranus', 'Neptune']\n"
     ]
    }
   ],
   "execution_count": 5
  },
  {
   "metadata": {
    "ExecuteTime": {
     "end_time": "2024-07-18T13:55:15.511192Z",
     "start_time": "2024-07-18T13:55:15.505795Z"
    }
   },
   "cell_type": "code",
   "source": [
    "# Enumerate start\n",
    "# changes the index number at the start\n",
    "for index, planet in enumerate(planets, start=1):\n",
    "    print(index, planet)"
   ],
   "id": "5d0b8a106afd87f0",
   "outputs": [
    {
     "name": "stdout",
     "output_type": "stream",
     "text": [
      "1 Mercury\n",
      "2 Venus\n",
      "3 Earth\n",
      "4 Mars\n",
      "5 Jupiter\n",
      "6 Saturn\n",
      "7 Uranus\n",
      "8 Neptune\n"
     ]
    }
   ],
   "execution_count": 4
  },
  {
   "metadata": {},
   "cell_type": "markdown",
   "source": "Loop over other iterables",
   "id": "39eda05d804326ad"
  },
  {
   "metadata": {
    "ExecuteTime": {
     "end_time": "2024-08-12T18:03:49.837410Z",
     "start_time": "2024-08-12T18:03:49.833050Z"
    }
   },
   "cell_type": "code",
   "source": [
    "# Loop over string \"'Guido'\"\n",
    "name = (\"Guide\")\n",
    "\n",
    "for char in name:\n",
    "    print(f'{char}', sep=',', end='')"
   ],
   "id": "f1b8b84d0d20db76",
   "outputs": [
    {
     "name": "stdout",
     "output_type": "stream",
     "text": [
      "Guide"
     ]
    }
   ],
   "execution_count": 7
  },
  {
   "metadata": {
    "ExecuteTime": {
     "end_time": "2024-07-18T22:16:38.512929Z",
     "start_time": "2024-07-18T22:16:38.503066Z"
    }
   },
   "cell_type": "code",
   "source": [
    "# Loop over dictionary grades\n",
    "# TODO: A dictionary is an object that contains one or more KEY-VALUE pair. Such as: {\"KEY\": \"VALUE\", ...}. The VALUE can be of any type but the KEY must be string or integer. In more complex cases the KEY can be a specific type of class.\n",
    "grades = {\"Biology\": 80, \"English\": 90, \"Math\": 90}"
   ],
   "id": "77bf461c50618d51",
   "outputs": [],
   "execution_count": 1
  },
  {
   "metadata": {
    "ExecuteTime": {
     "end_time": "2024-07-18T22:16:38.532437Z",
     "start_time": "2024-07-18T22:16:38.527463Z"
    }
   },
   "cell_type": "code",
   "source": [
    "# Dictionary values\n",
    "for key in grades:\n",
    "    print(key)"
   ],
   "id": "41a29419873680bc",
   "outputs": [
    {
     "name": "stdout",
     "output_type": "stream",
     "text": [
      "Biology\n",
      "English\n",
      "Math\n"
     ]
    }
   ],
   "execution_count": 2
  },
  {
   "metadata": {
    "ExecuteTime": {
     "end_time": "2024-07-18T16:12:06.877495Z",
     "start_time": "2024-07-18T16:12:06.872681Z"
    }
   },
   "cell_type": "code",
   "source": [
    "# Loop through values\n",
    "for value in grades.values():\n",
    "    print(value)"
   ],
   "id": "16152f56f97a9ecd",
   "outputs": [
    {
     "name": "stdout",
     "output_type": "stream",
     "text": [
      "80\n",
      "90\n",
      "90\n"
     ]
    }
   ],
   "execution_count": 25
  },
  {
   "metadata": {
    "ExecuteTime": {
     "end_time": "2024-07-18T16:02:15.896734Z",
     "start_time": "2024-07-18T16:02:15.891832Z"
    }
   },
   "cell_type": "code",
   "source": [
    "# Loop through items\n",
    "# TODO: The dictionary function ``grades.items()`` method returns an iterable list of tuples containing each KEY-VALUE pair.\n",
    "for value in grades.items():\n",
    "    print(value)"
   ],
   "id": "756846f745f373ed",
   "outputs": [
    {
     "name": "stdout",
     "output_type": "stream",
     "text": [
      "('Biology', 80)\n",
      "('English', 90)\n",
      "('Math', 90)\n"
     ]
    }
   ],
   "execution_count": 20
  },
  {
   "metadata": {
    "ExecuteTime": {
     "end_time": "2024-07-18T16:12:34.875763Z",
     "start_time": "2024-07-18T16:12:34.871206Z"
    }
   },
   "cell_type": "code",
   "source": [
    "# Loop through item with key/value\n",
    "# TODO: Python ``for-loop`` can also deconstruct the tuple into KEY-VALUE variables extracting the KEY-VALUE pairs into their individual parts, now you can perform some tasks on the objects.\n",
    "for key, value in grades.items():\n",
    "    print(key, value)"
   ],
   "id": "fed580d7facf766e",
   "outputs": [
    {
     "name": "stdout",
     "output_type": "stream",
     "text": [
      "Biology 80\n",
      "English 90\n",
      "Math 90\n"
     ]
    }
   ],
   "execution_count": 26
  },
  {
   "metadata": {
    "ExecuteTime": {
     "end_time": "2024-07-18T22:48:25.020138Z",
     "start_time": "2024-07-18T22:48:25.010707Z"
    }
   },
   "cell_type": "code",
   "source": [
    "# custom iterator class \n",
    "\n",
    "from typing import Union\n",
    "\n",
    "\n",
    "# TODO: Here is a custom Iterator class to demonstrate how you can create your own Iterator class.\n",
    "class MyMessageIterator:\n",
    "    \"\"\"\n",
    "    Custom Iterator class that handles ``lists or dictionary`` objects.\n",
    "    \n",
    "    Args:\n",
    "        - data (dict|list): the collection of data objects\n",
    "    \"\"\"\n",
    "    _messages = []\n",
    "    _index = None\n",
    "    \n",
    "    def __init__(self, data: Union[dict, list]):\n",
    "        if isinstance(data, dict):\n",
    "            self._messages.extend(obj for obj in data.items())\n",
    "        else:\n",
    "            self._messages.extend(obj for obj in data.__iter__())\n",
    "        self._index = 0\n",
    "        \n",
    "    def __next__(self):\n",
    "        if self._index < len(self._messages):\n",
    "            result = self._messages[self._index]\n",
    "            self._index += 1\n",
    "            return result\n",
    "        else:\n",
    "            raise StopIteration\n",
    "        \n",
    "    def __iter__(self):\n",
    "        return self\n",
    "        \n",
    "        \n",
    "grades = {\"Biology\": 80, \"English\": 90, \"Math\": 90}\n",
    "# grades = [(\"Biology\", 80), (\"English\", 90), (\"Math\", 90)]\n",
    "messages = MyMessageIterator(grades)\n",
    "\n",
    "for value in messages:\n",
    "    print(value)"
   ],
   "id": "c645596b67d6469b",
   "outputs": [
    {
     "name": "stdout",
     "output_type": "stream",
     "text": [
      "('Biology', 80)\n",
      "('English', 90)\n",
      "('Math', 90)\n"
     ]
    }
   ],
   "execution_count": 18
  },
  {
   "metadata": {},
   "cell_type": "code",
   "outputs": [],
   "execution_count": null,
   "source": "",
   "id": "3a924e5a89dc6886"
  }
 ],
 "metadata": {
  "kernelspec": {
   "display_name": "Python 3",
   "language": "python",
   "name": "python3"
  },
  "language_info": {
   "codemirror_mode": {
    "name": "ipython",
    "version": 2
   },
   "file_extension": ".py",
   "mimetype": "text/x-python",
   "name": "python",
   "nbconvert_exporter": "python",
   "pygments_lexer": "ipython2",
   "version": "2.7.6"
  }
 },
 "nbformat": 4,
 "nbformat_minor": 5
}
