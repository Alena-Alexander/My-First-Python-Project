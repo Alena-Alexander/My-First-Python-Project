{
 "cells": [
  {
   "metadata": {},
   "cell_type": "markdown",
   "source": [
    "Data Structures-\n",
    "Part 1\n",
    "Best practice: Variable Naming Conventions"
   ],
   "id": "401029ce7023a5f8"
  },
  {
   "metadata": {},
   "cell_type": "code",
   "outputs": [],
   "execution_count": null,
   "source": [
    "# Bad example\n",
    "# Variable with a name that doesn't it's meaning well\n",
    "Result = 420"
   ],
   "id": "f9d336b4e50278d0"
  },
  {
   "metadata": {},
   "cell_type": "code",
   "outputs": [],
   "execution_count": null,
   "source": [
    "# Good example\n",
    "# specifies its meaning telling us that 420 is supposed to be the age_in_months\n",
    "age_in_months = 420"
   ],
   "id": "4973a230f2fb14ce"
  },
  {
   "metadata": {},
   "cell_type": "code",
   "outputs": [],
   "execution_count": null,
   "source": [
    "# Temperature in celcius(bad)\n",
    "# making the name of a variable short by using abbreviations doesn't make render faster than it already does so there's no point in doing so\n",
    "tempcelc = 25"
   ],
   "id": "19d120e436cf08b4"
  },
  {
   "metadata": {},
   "cell_type": "code",
   "outputs": [],
   "execution_count": null,
   "source": [
    "# snake_case\n",
    "# making the name of a variable longer by writing the full name temperature_celcius is to prevent you yourself from being confused and including other people\n",
    "temperature_celcius = 25"
   ],
   "id": "8584bf779427c3dd"
  },
  {
   "metadata": {},
   "cell_type": "code",
   "outputs": [],
   "execution_count": null,
   "source": [
    "# camelCase\n",
    "# Often used in Javascript but can also be use in python\n",
    "tempertureCelcius = 25"
   ],
   "id": "4c20fdd4932be313"
  },
  {
   "metadata": {},
   "cell_type": "code",
   "outputs": [],
   "execution_count": null,
   "source": [
    "# PascalCase\n",
    "# Use a capital letter for every word\n",
    "TemperatureCelcius = 25"
   ],
   "id": "58a91b03686d321e"
  },
  {
   "metadata": {},
   "cell_type": "code",
   "outputs": [],
   "execution_count": null,
   "source": [
    "# kebab-case\n",
    "# Doesn't work because of the '-' sign\n",
    "temperature-Celcius = 25"
   ],
   "id": "426fed8054eebc49"
  },
  {
   "metadata": {},
   "cell_type": "markdown",
   "source": "Keywords",
   "id": "dfd436277e30d485"
  },
  {
   "metadata": {},
   "cell_type": "code",
   "outputs": [],
   "execution_count": null,
   "source": [
    "# Jupyter colors\n",
    "# Code words that turn green when typed are words that are reserved for the bites the language itself\n",
    "# When certain words turns green it means it's one of the words that the language already uses itself and should never override it"
   ],
   "id": "fdddfa386d339ea6"
  },
  {
   "metadata": {},
   "cell_type": "code",
   "outputs": [],
   "execution_count": null,
   "source": [
    "# Conclusion of naming conventions\n",
    "temperature_celcius = 25"
   ],
   "id": "5ef34b28f27f05e1"
  },
  {
   "metadata": {},
   "cell_type": "markdown",
   "source": "Lists: a list is a collection of things, enclosed in [ ] and separated by commas. ",
   "id": "f71e06118a5591dc"
  },
  {
   "metadata": {
    "ExecuteTime": {
     "end_time": "2024-07-04T15:10:19.271677Z",
     "start_time": "2024-07-04T15:10:19.267964Z"
    }
   },
   "cell_type": "code",
   "source": [
    "# ingredients list\n",
    "ingredients = [\"ham\", \"eggs\", \"spam\", \"bacon\"]"
   ],
   "id": "ed6fe5632d2bf3e9",
   "outputs": [],
   "execution_count": 22
  },
  {
   "metadata": {
    "ExecuteTime": {
     "end_time": "2024-07-04T15:10:24.784318Z",
     "start_time": "2024-07-04T15:10:24.777950Z"
    }
   },
   "cell_type": "code",
   "source": [
    "# Type\n",
    "type(ingredients)"
   ],
   "id": "183b69f71b634c58",
   "outputs": [
    {
     "data": {
      "text/plain": [
       "list"
      ]
     },
     "execution_count": 23,
     "metadata": {},
     "output_type": "execute_result"
    }
   ],
   "execution_count": 23
  },
  {
   "metadata": {
    "ExecuteTime": {
     "end_time": "2024-07-04T15:10:25.168347Z",
     "start_time": "2024-07-04T15:10:25.161339Z"
    }
   },
   "cell_type": "code",
   "source": [
    "# index\n",
    "# disiplay elements in the list individually instead of one letter at a time\n",
    "ingredients[0:3]"
   ],
   "id": "792b080e36be72ae",
   "outputs": [
    {
     "data": {
      "text/plain": [
       "['ham', 'eggs', 'spam']"
      ]
     },
     "execution_count": 24,
     "metadata": {},
     "output_type": "execute_result"
    }
   ],
   "execution_count": 24
  },
  {
   "metadata": {
    "ExecuteTime": {
     "end_time": "2024-07-04T15:10:25.576149Z",
     "start_time": "2024-07-04T15:10:25.571267Z"
    }
   },
   "cell_type": "code",
   "source": [
    "# Methods: append\n",
    "# adds a string to the end of the list\n",
    "ingredients.append(\"cheese\")\n",
    "print(ingredients)"
   ],
   "id": "37fc0265de8cd618",
   "outputs": [
    {
     "name": "stdout",
     "output_type": "stream",
     "text": [
      "['ham', 'eggs', 'spam', 'bacon', 'cheese']\n"
     ]
    }
   ],
   "execution_count": 25
  },
  {
   "metadata": {
    "ExecuteTime": {
     "end_time": "2024-07-04T15:10:25.987698Z",
     "start_time": "2024-07-04T15:10:25.981649Z"
    }
   },
   "cell_type": "code",
   "source": [
    "# Methods: remove\n",
    "# removes a string from the list\n",
    "ingredients.remove(\"spam\")\n",
    "print(ingredients)"
   ],
   "id": "66282b3361033007",
   "outputs": [
    {
     "name": "stdout",
     "output_type": "stream",
     "text": [
      "['ham', 'eggs', 'bacon', 'cheese']\n"
     ]
    }
   ],
   "execution_count": 26
  },
  {
   "metadata": {
    "ExecuteTime": {
     "end_time": "2024-07-04T15:13:22.220713Z",
     "start_time": "2024-07-04T15:13:22.215753Z"
    }
   },
   "cell_type": "code",
   "source": [
    "# Methods: extend\n",
    "# adds more elements to the string\n",
    "extra = [\"toast\", \"sprite\"]\n",
    "ingredients.extend(extra)\n",
    "print(ingredients)"
   ],
   "id": "89a523f9feed4785",
   "outputs": [
    {
     "name": "stdout",
     "output_type": "stream",
     "text": [
      "['ham', 'eggs', 'bacon', 'cheese', 'toast', 'sprite']\n"
     ]
    }
   ],
   "execution_count": 29
  },
  {
   "metadata": {
    "ExecuteTime": {
     "end_time": "2024-07-04T15:22:36.034165Z",
     "start_time": "2024-07-04T15:22:36.029393Z"
    }
   },
   "cell_type": "code",
   "source": [
    "# Methods: sort\n",
    "# sorts the list in alphabetical order\n",
    "ingredients.sort()\n",
    "print(ingredients)"
   ],
   "id": "77a7851600bf49b3",
   "outputs": [
    {
     "name": "stdout",
     "output_type": "stream",
     "text": [
      "['bacon', 'cheese', 'eggs', 'ham', 'sprite', 'toast']\n"
     ]
    }
   ],
   "execution_count": 30
  },
  {
   "metadata": {
    "ExecuteTime": {
     "end_time": "2024-07-04T15:44:17.487024Z",
     "start_time": "2024-07-04T15:44:17.482592Z"
    }
   },
   "cell_type": "code",
   "source": [
    "# Methods: sort reverse(docstring)\n",
    "# sorts the lists but from words that starts from Z to A\n",
    "ingredients.sort(reverse=True)\n",
    "print(ingredients)"
   ],
   "id": "316220ac7d3683bd",
   "outputs": [
    {
     "name": "stdout",
     "output_type": "stream",
     "text": [
      "['toast', 'sprite', 'ham', 'eggs', 'cheese', 'bacon']\n"
     ]
    }
   ],
   "execution_count": 31
  },
  {
   "metadata": {
    "ExecuteTime": {
     "end_time": "2024-07-04T15:49:01.040603Z",
     "start_time": "2024-07-04T15:49:01.036224Z"
    }
   },
   "cell_type": "code",
   "source": [
    "# del\n",
    "# Removes objects from the list just like the Method 'remove'\n",
    "del ingredients[0]\n",
    "print(ingredients)"
   ],
   "id": "5026e345bacc6fff",
   "outputs": [
    {
     "name": "stdout",
     "output_type": "stream",
     "text": [
      "['sprite', 'ham', 'eggs', 'cheese', 'bacon']\n"
     ]
    }
   ],
   "execution_count": 32
  },
  {
   "metadata": {
    "ExecuteTime": {
     "end_time": "2024-07-04T15:51:21.566214Z",
     "start_time": "2024-07-04T15:51:21.560979Z"
    }
   },
   "cell_type": "code",
   "source": [
    "# reassign\n",
    "ingredients = [\"ham\", \"eggs\", \"spam\", \"bacon\"]\n",
    "print(ingredients)"
   ],
   "id": "5c72346b22e0cf3f",
   "outputs": [
    {
     "name": "stdout",
     "output_type": "stream",
     "text": [
      "['ham', 'eggs', 'spam', 'bacon']\n"
     ]
    }
   ],
   "execution_count": 35
  },
  {
   "metadata": {
    "ExecuteTime": {
     "end_time": "2024-07-05T15:27:34.178772Z",
     "start_time": "2024-07-05T15:27:34.171619Z"
    }
   },
   "cell_type": "code",
   "source": [
    "# TODO: Indentation\n",
    "# Shouldn't be used in python or else will result in there being an error\n",
    "cars = [\"Ford\", \"Mercedes\", \"Nissan\"]\n",
    "    cars[0] = \"Tesla\"\n",
    "print(cars)"
   ],
   "id": "d7f196cb1e57e912",
   "outputs": [
    {
     "ename": "IndentationError",
     "evalue": "unexpected indent (974973316.py, line 4)",
     "output_type": "error",
     "traceback": [
      "\u001B[0;36m  Cell \u001B[0;32mIn[37], line 4\u001B[0;36m\u001B[0m\n\u001B[0;31m    cars[0] = \"Tesla\"\u001B[0m\n\u001B[0m    ^\u001B[0m\n\u001B[0;31mIndentationError\u001B[0m\u001B[0;31m:\u001B[0m unexpected indent\n"
     ]
    }
   ],
   "execution_count": 37
  },
  {
   "metadata": {
    "ExecuteTime": {
     "end_time": "2024-07-05T15:33:21.194353Z",
     "start_time": "2024-07-05T15:33:21.189312Z"
    }
   },
   "cell_type": "code",
   "source": [
    "# Pop\n",
    "# removes and returns objects at the index(default last)\n",
    "cars = [\"Ford\", \"Mercedes\", \"Nissan\"]\n",
    "print(cars.pop())"
   ],
   "id": "b38c4cfccb3c8f9e",
   "outputs": [
    {
     "name": "stdout",
     "output_type": "stream",
     "text": [
      "Nissan\n"
     ]
    }
   ],
   "execution_count": 38
  },
  {
   "metadata": {
    "ExecuteTime": {
     "end_time": "2024-07-05T16:19:05.040712Z",
     "start_time": "2024-07-05T16:19:05.035423Z"
    }
   },
   "cell_type": "code",
   "source": [
    "# Spaces\n",
    "# The number or lack of spaces in a list doesn't truly matter\n",
    "# adding spaces does prevent confusion\n",
    "ingredients = [\"ham\",\"bacon\",\"spam\",\"eggs\"]\n",
    "print(ingredients)"
   ],
   "id": "a468d51fae864e61",
   "outputs": [
    {
     "name": "stdout",
     "output_type": "stream",
     "text": [
      "['ham', 'bacon', 'spam', 'eggs']\n"
     ]
    }
   ],
   "execution_count": 40
  },
  {
   "metadata": {
    "ExecuteTime": {
     "end_time": "2024-07-05T16:34:03.116207Z",
     "start_time": "2024-07-05T16:34:03.110072Z"
    }
   },
   "cell_type": "code",
   "source": [
    "# Useful: toppings & order with .join()\n",
    "# joins the elements of a sequence separated by a string separator(,)\n",
    "# prevents the the string from being printed as it is including the brackets\n",
    "toppings = \", \".join(ingredients)\n",
    "print(toppings)\n",
    "\n",
    "sentence = f\"Hi, can I please have the breakfast with {toppings}\"\n",
    "print(sentence)"
   ],
   "id": "8bbc8c8d14808150",
   "outputs": [
    {
     "name": "stdout",
     "output_type": "stream",
     "text": [
      "ham, bacon, spam, eggs\n",
      "Hi, can I please have the breakfast with ham, bacon, spam, eggs\n"
     ]
    }
   ],
   "execution_count": 42
  },
  {
   "metadata": {},
   "cell_type": "markdown",
   "source": "Tuples: objects separated by commas",
   "id": "1d9f45ee9f1e5c9d"
  },
  {
   "metadata": {
    "ExecuteTime": {
     "end_time": "2024-08-13T18:34:11.354516Z",
     "start_time": "2024-08-13T18:34:11.294552Z"
    }
   },
   "cell_type": "code",
   "source": [
    "# The Dutch flag \n",
    "# Tuples are very similar to lists except for we just use parenthesis instead of brackets\n",
    "flag = (\"red\", \"white\", \"green\")\n",
    "flag[0] = \"yes\"\n",
    "print(flag[0])\n",
    "print(type(flag))"
   ],
   "id": "9773b085564b60d",
   "outputs": [
    {
     "ename": "TypeError",
     "evalue": "'tuple' object does not support item assignment",
     "output_type": "error",
     "traceback": [
      "\u001B[0;31m---------------------------------------------------------------------------\u001B[0m",
      "\u001B[0;31mTypeError\u001B[0m                                 Traceback (most recent call last)",
      "Cell \u001B[0;32mIn[4], line 4\u001B[0m\n\u001B[1;32m      1\u001B[0m \u001B[38;5;66;03m# The Dutch flag \u001B[39;00m\n\u001B[1;32m      2\u001B[0m \u001B[38;5;66;03m# Tuples are very similar to lists except for we just use parenthesis instead of brackets\u001B[39;00m\n\u001B[1;32m      3\u001B[0m flag \u001B[38;5;241m=\u001B[39m (\u001B[38;5;124m\"\u001B[39m\u001B[38;5;124mred\u001B[39m\u001B[38;5;124m\"\u001B[39m, \u001B[38;5;124m\"\u001B[39m\u001B[38;5;124mwhite\u001B[39m\u001B[38;5;124m\"\u001B[39m, \u001B[38;5;124m\"\u001B[39m\u001B[38;5;124mgreen\u001B[39m\u001B[38;5;124m\"\u001B[39m)\n\u001B[0;32m----> 4\u001B[0m \u001B[43mflag\u001B[49m\u001B[43m[\u001B[49m\u001B[38;5;241;43m0\u001B[39;49m\u001B[43m]\u001B[49m \u001B[38;5;241m=\u001B[39m \u001B[38;5;124m\"\u001B[39m\u001B[38;5;124myes\u001B[39m\u001B[38;5;124m\"\u001B[39m\n\u001B[1;32m      5\u001B[0m \u001B[38;5;28mprint\u001B[39m(flag[\u001B[38;5;241m0\u001B[39m])\n\u001B[1;32m      6\u001B[0m \u001B[38;5;28mprint\u001B[39m(\u001B[38;5;28mtype\u001B[39m(flag))\n",
      "\u001B[0;31mTypeError\u001B[0m: 'tuple' object does not support item assignment"
     ]
    }
   ],
   "execution_count": 4
  },
  {
   "metadata": {
    "ExecuteTime": {
     "end_time": "2024-08-13T18:34:11.648433Z",
     "start_time": "2024-08-13T18:34:11.642855Z"
    }
   },
   "cell_type": "code",
   "source": [
    "\"\"# Tuple unpacking\n",
    "# Assigns the values on the right-hand side to the variables 'flag' on the left-hand side\n",
    "first_color, second_color, third_color = flag\n",
    "print(first_color)\n",
    "print(second_color)\n",
    "print(third_color)"
   ],
   "id": "3d6800fca4be94f5",
   "outputs": [
    {
     "name": "stdout",
     "output_type": "stream",
     "text": [
      "red\n",
      "white\n",
      "green\n"
     ]
    }
   ],
   "execution_count": 5
  },
  {
   "metadata": {
    "ExecuteTime": {
     "end_time": "2024-08-13T18:34:12.052424Z",
     "start_time": "2024-08-13T18:34:12.048621Z"
    }
   },
   "cell_type": "code",
   "source": [
    "# Tuple packing\n",
    "# assigns the variable flag to the values\n",
    "flag = (first_color, second_color, third_color)\n",
    "print(flag)"
   ],
   "id": "b413d8526487b6e9",
   "outputs": [
    {
     "name": "stdout",
     "output_type": "stream",
     "text": [
      "('red', 'white', 'green')\n"
     ]
    }
   ],
   "execution_count": 6
  },
  {
   "metadata": {
    "ExecuteTime": {
     "end_time": "2024-08-13T18:34:12.912997Z",
     "start_time": "2024-08-13T18:34:12.904022Z"
    }
   },
   "cell_type": "code",
   "source": [
    "# Index\n",
    "flag[0]"
   ],
   "id": "9ae88d885b4ff777",
   "outputs": [
    {
     "data": {
      "text/plain": [
       "'red'"
      ]
     },
     "execution_count": 7,
     "metadata": {},
     "output_type": "execute_result"
    }
   ],
   "execution_count": 7
  },
  {
   "metadata": {
    "ExecuteTime": {
     "end_time": "2024-08-13T18:34:13.550472Z",
     "start_time": "2024-08-13T18:34:13.545325Z"
    }
   },
   "cell_type": "code",
   "source": [
    "# Slice\n",
    "flag[0:2]"
   ],
   "id": "ef871b0b7bb83fea",
   "outputs": [
    {
     "data": {
      "text/plain": [
       "('red', 'white')"
      ]
     },
     "execution_count": 8,
     "metadata": {},
     "output_type": "execute_result"
    }
   ],
   "execution_count": 8
  },
  {
   "metadata": {
    "ExecuteTime": {
     "end_time": "2024-08-13T18:34:14.413202Z",
     "start_time": "2024-08-13T18:34:14.407564Z"
    }
   },
   "cell_type": "code",
   "source": [
    "# Method count\n",
    "print(flag.count(\"red\"))"
   ],
   "id": "fbe203028505caaa",
   "outputs": [
    {
     "name": "stdout",
     "output_type": "stream",
     "text": [
      "1\n"
     ]
    }
   ],
   "execution_count": 9
  },
  {
   "metadata": {
    "ExecuteTime": {
     "end_time": "2024-08-13T18:34:15.846370Z",
     "start_time": "2024-08-13T18:34:15.841927Z"
    }
   },
   "cell_type": "code",
   "source": [
    "# Method index\n",
    "print(flag.index(\"red\"))"
   ],
   "id": "fb5745602b6d48fb",
   "outputs": [
    {
     "name": "stdout",
     "output_type": "stream",
     "text": [
      "0\n"
     ]
    }
   ],
   "execution_count": 10
  },
  {
   "metadata": {},
   "cell_type": "markdown",
   "source": "Mutability(Can be changed after creation) vs Immutability(cannot be changed)",
   "id": "d17ba67629e39ee2"
  },
  {
   "metadata": {
    "ExecuteTime": {
     "end_time": "2024-07-08T16:24:37.845685Z",
     "start_time": "2024-07-08T16:24:37.840804Z"
    }
   },
   "cell_type": "code",
   "source": [
    "# Change a color\n",
    "# TODO: Mutability: can be changed or altered\n",
    "colors = [\"yellow\", \"orange\", \"red\"]\n",
    "colors[0] = \"blue\"\n",
    "print(colors)"
   ],
   "id": "806a272c1cbe08c",
   "outputs": [
    {
     "name": "stdout",
     "output_type": "stream",
     "text": [
      "['blue', 'orange', 'red']\n"
     ]
    }
   ],
   "execution_count": 7
  },
  {
   "metadata": {
    "ExecuteTime": {
     "end_time": "2024-07-08T16:22:31.639968Z",
     "start_time": "2024-07-08T16:22:31.634854Z"
    }
   },
   "cell_type": "code",
   "source": [
    "# list colors add color\n",
    "# Mutability\n",
    "colors.append(\"green\")\n",
    "print(colors)"
   ],
   "id": "309b3b59856ca40d",
   "outputs": [
    {
     "name": "stdout",
     "output_type": "stream",
     "text": [
      "['blue', 'orange', 'red', 'green']\n"
     ]
    }
   ],
   "execution_count": 5
  },
  {
   "metadata": {
    "ExecuteTime": {
     "end_time": "2024-08-13T18:39:49.426783Z",
     "start_time": "2024-08-13T18:39:49.402673Z"
    }
   },
   "cell_type": "code",
   "source": [
    "# tuple colors, change first/add one\n",
    "# you will us lists when writing code for yourself but when you start writing code for people use tuples in order to something in ``stone`` that cannot be changed\n",
    "# tuple also renders faster\n",
    "# TODO: Immutability: cannot be changed, altered or appended after creation; should throw an error if you try.\n",
    "colors = (\"yellow\", \"orange\", \"red\")\n",
    "colors = colors.__add__(\"blue\")\n",
    "\n",
    "print(colors)"
   ],
   "id": "c6d1b67a55341219",
   "outputs": [
    {
     "ename": "TypeError",
     "evalue": "can only concatenate tuple (not \"str\") to tuple",
     "output_type": "error",
     "traceback": [
      "\u001B[0;31m---------------------------------------------------------------------------\u001B[0m",
      "\u001B[0;31mTypeError\u001B[0m                                 Traceback (most recent call last)",
      "Cell \u001B[0;32mIn[19], line 6\u001B[0m\n\u001B[1;32m      1\u001B[0m \u001B[38;5;66;03m# tuple colors, change first/add one\u001B[39;00m\n\u001B[1;32m      2\u001B[0m \u001B[38;5;66;03m# you will us lists when writing code for yourself but when you start writing code for people use tuples in order to something in ``stone`` that cannot be changed\u001B[39;00m\n\u001B[1;32m      3\u001B[0m \u001B[38;5;66;03m# tuple also renders faster\u001B[39;00m\n\u001B[1;32m      4\u001B[0m \u001B[38;5;66;03m# TODO: Immutability: cannot be changed or altered\u001B[39;00m\n\u001B[1;32m      5\u001B[0m colors \u001B[38;5;241m=\u001B[39m (\u001B[38;5;124m\"\u001B[39m\u001B[38;5;124myellow\u001B[39m\u001B[38;5;124m\"\u001B[39m, \u001B[38;5;124m\"\u001B[39m\u001B[38;5;124morange\u001B[39m\u001B[38;5;124m\"\u001B[39m, \u001B[38;5;124m\"\u001B[39m\u001B[38;5;124mred\u001B[39m\u001B[38;5;124m\"\u001B[39m)\n\u001B[0;32m----> 6\u001B[0m colors \u001B[38;5;241m=\u001B[39m \u001B[43mcolors\u001B[49m\u001B[38;5;241;43m.\u001B[39;49m\u001B[38;5;21;43m__add__\u001B[39;49m\u001B[43m(\u001B[49m\u001B[38;5;124;43m\"\u001B[39;49m\u001B[38;5;124;43mblue\u001B[39;49m\u001B[38;5;124;43m\"\u001B[39;49m\u001B[43m)\u001B[49m\n\u001B[1;32m      8\u001B[0m \u001B[38;5;28mprint\u001B[39m(colors)\n",
      "\u001B[0;31mTypeError\u001B[0m: can only concatenate tuple (not \"str\") to tuple"
     ]
    }
   ],
   "execution_count": 19
  },
  {
   "metadata": {},
   "cell_type": "code",
   "outputs": [],
   "execution_count": null,
   "source": "# tuple colors, methods",
   "id": "9681396f4566007d"
  },
  {
   "metadata": {
    "ExecuteTime": {
     "end_time": "2024-07-08T16:36:05.848432Z",
     "start_time": "2024-07-08T16:36:05.839197Z"
    }
   },
   "cell_type": "code",
   "source": [
    "# strings: alphabet index\n",
    "# Mutability\n",
    "alphabet = \"abcde\"\n",
    "alphabet[0]"
   ],
   "id": "9dc8eee0d5eb3c53",
   "outputs": [
    {
     "data": {
      "text/plain": [
       "'a'"
      ]
     },
     "execution_count": 11,
     "metadata": {},
     "output_type": "execute_result"
    }
   ],
   "execution_count": 11
  },
  {
   "metadata": {
    "ExecuteTime": {
     "end_time": "2024-07-08T16:37:21.879505Z",
     "start_time": "2024-07-08T16:37:21.856331Z"
    }
   },
   "cell_type": "code",
   "source": [
    "# strings alphabet Immutability\n",
    "alphabet[-1] = \"z\""
   ],
   "id": "84a6ef93eae8d953",
   "outputs": [
    {
     "ename": "TypeError",
     "evalue": "'str' object does not support item assignment",
     "output_type": "error",
     "traceback": [
      "\u001B[0;31m---------------------------------------------------------------------------\u001B[0m",
      "\u001B[0;31mTypeError\u001B[0m                                 Traceback (most recent call last)",
      "Cell \u001B[0;32mIn[13], line 2\u001B[0m\n\u001B[1;32m      1\u001B[0m \u001B[38;5;66;03m# strings alphabet Immutability\u001B[39;00m\n\u001B[0;32m----> 2\u001B[0m \u001B[43malphabet\u001B[49m\u001B[43m[\u001B[49m\u001B[38;5;241;43m-\u001B[39;49m\u001B[38;5;241;43m1\u001B[39;49m\u001B[43m]\u001B[49m \u001B[38;5;241m=\u001B[39m \u001B[38;5;124m\"\u001B[39m\u001B[38;5;124mz\u001B[39m\u001B[38;5;124m\"\u001B[39m\n",
      "\u001B[0;31mTypeError\u001B[0m: 'str' object does not support item assignment"
     ]
    }
   ],
   "execution_count": 13
  },
  {
   "metadata": {},
   "cell_type": "markdown",
   "source": "Dictionaries: a data structure, used to store values in {key:value} pair format.             Immutable: bool, int, float, str, tuple  Mutable: list, dict, set",
   "id": "4adb19e3378f6213"
  },
  {
   "metadata": {
    "ExecuteTime": {
     "end_time": "2024-07-09T13:52:55.909885Z",
     "start_time": "2024-07-09T13:52:55.905673Z"
    }
   },
   "cell_type": "code",
   "source": [
    "# Dictionary person Alice\n",
    "# variable = \"key\": \"value\" .....\n",
    "person = {\"name\": \"Alice\", \"age\": 42, \"country\": \"Wonderland\", \"email\": \"alice@wonderland.com\"}\n",
    "print(person)"
   ],
   "id": "a6312d336a0a8a5c",
   "outputs": [
    {
     "name": "stdout",
     "output_type": "stream",
     "text": [
      "{'name': 'Alice', 'age': 42, 'country': 'Wonderland', 'email': 'alice@wonderland.com'}\n"
     ]
    }
   ],
   "execution_count": 2
  },
  {
   "metadata": {
    "ExecuteTime": {
     "end_time": "2024-07-09T13:52:58.601824Z",
     "start_time": "2024-07-09T13:52:58.593446Z"
    }
   },
   "cell_type": "code",
   "source": [
    "# Keys\n",
    "# gives you an overview of how many keys there are and which ones you can use\n",
    "person.keys()"
   ],
   "id": "f94bf1c303a7d47b",
   "outputs": [
    {
     "data": {
      "text/plain": [
       "dict_keys(['name', 'age', 'country', 'email'])"
      ]
     },
     "execution_count": 3,
     "metadata": {},
     "output_type": "execute_result"
    }
   ],
   "execution_count": 3
  },
  {
   "metadata": {
    "ExecuteTime": {
     "end_time": "2024-07-09T14:05:59.724751Z",
     "start_time": "2024-07-09T14:05:59.719304Z"
    }
   },
   "cell_type": "code",
   "source": [
    "# Values\n",
    "# gives you an overview of\n",
    "person.values()"
   ],
   "id": "823c436f8b1cf77b",
   "outputs": [
    {
     "data": {
      "text/plain": [
       "dict_values(['Alice', 42, 'Wonderland', 'alice@wonderland.com'])"
      ]
     },
     "execution_count": 4,
     "metadata": {},
     "output_type": "execute_result"
    }
   ],
   "execution_count": 4
  },
  {
   "metadata": {
    "ExecuteTime": {
     "end_time": "2024-07-09T14:25:04.850724Z",
     "start_time": "2024-07-09T14:25:04.845117Z"
    }
   },
   "cell_type": "code",
   "source": [
    "# Items\n",
    "# displays the keys and values in a list\n",
    "list(person.items())"
   ],
   "id": "f65d9e08a55c9ec",
   "outputs": [
    {
     "data": {
      "text/plain": [
       "[('name', 'Alice'),\n",
       " ('age', 42),\n",
       " ('country', 'Wonderland'),\n",
       " ('email', 'alice@wonderland.com')]"
      ]
     },
     "execution_count": 5,
     "metadata": {},
     "output_type": "execute_result"
    }
   ],
   "execution_count": 5
  },
  {
   "metadata": {
    "ExecuteTime": {
     "end_time": "2024-07-09T14:31:12.348168Z",
     "start_time": "2024-07-09T14:31:12.343114Z"
    }
   },
   "cell_type": "code",
   "source": [
    "# Get\n",
    "# displays(gets) something specific out of the Dictionary\n",
    "person.get(\"name\")"
   ],
   "id": "61fcdcb1f44f068f",
   "outputs": [
    {
     "data": {
      "text/plain": [
       "'Alice'"
      ]
     },
     "execution_count": 6,
     "metadata": {},
     "output_type": "execute_result"
    }
   ],
   "execution_count": 6
  },
  {
   "metadata": {
    "ExecuteTime": {
     "end_time": "2024-07-09T14:33:23.798414Z",
     "start_time": "2024-07-09T14:33:23.792385Z"
    }
   },
   "cell_type": "code",
   "source": [
    "# Shortcut\n",
    "# shorter way to get something out of the Dict\n",
    "# also if you were to use get to print something that doesn't exist you would get 'none' but for the shortcut you'd get an error\n",
    "person[\"email\"]"
   ],
   "id": "1f262379b8b13afd",
   "outputs": [
    {
     "data": {
      "text/plain": [
       "'alice@wonderland.com'"
      ]
     },
     "execution_count": 7,
     "metadata": {},
     "output_type": "execute_result"
    }
   ],
   "execution_count": 7
  },
  {
   "metadata": {
    "ExecuteTime": {
     "end_time": "2024-07-09T15:52:25.674414Z",
     "start_time": "2024-07-09T15:52:25.668670Z"
    }
   },
   "cell_type": "code",
   "source": [
    "# Difference with lists\n",
    "colors=[\"yellow\", \"orange\", \"red\"]\n",
    "colors[0]"
   ],
   "id": "ea16447a1dc76304",
   "outputs": [
    {
     "data": {
      "text/plain": [
       "'yellow'"
      ]
     },
     "execution_count": 8,
     "metadata": {},
     "output_type": "execute_result"
    }
   ],
   "execution_count": 8
  },
  {
   "metadata": {
    "ExecuteTime": {
     "end_time": "2024-07-09T15:52:38.236415Z",
     "start_time": "2024-07-09T15:52:38.206834Z"
    }
   },
   "cell_type": "code",
   "source": [
    "# In dictionary it's not possible to use indexing or slicing you can only use the name of the keys\n",
    "person[0]"
   ],
   "id": "4cffe3604f66ed6e",
   "outputs": [
    {
     "ename": "KeyError",
     "evalue": "0",
     "output_type": "error",
     "traceback": [
      "\u001B[0;31m---------------------------------------------------------------------------\u001B[0m",
      "\u001B[0;31mKeyError\u001B[0m                                  Traceback (most recent call last)",
      "Cell \u001B[0;32mIn[9], line 1\u001B[0m\n\u001B[0;32m----> 1\u001B[0m \u001B[43mperson\u001B[49m\u001B[43m[\u001B[49m\u001B[38;5;241;43m0\u001B[39;49m\u001B[43m]\u001B[49m\n",
      "\u001B[0;31mKeyError\u001B[0m: 0"
     ]
    }
   ],
   "execution_count": 9
  },
  {
   "metadata": {},
   "cell_type": "markdown",
   "source": "Sets: an unordered collection data type that is iterable, mutable and has no duplicate elements. (good for comparisons)",
   "id": "8ac5c625a31745bd"
  },
  {
   "metadata": {
    "ExecuteTime": {
     "end_time": "2024-07-10T16:09:20.837419Z",
     "start_time": "2024-07-10T16:09:20.833246Z"
    }
   },
   "cell_type": "code",
   "source": [
    "# Unique chars from list of chars\n",
    "# Is similar to lists except for it can't have duplicates\n",
    "chars = [\"a\", \"b\", \"b\", \"b\", \"c\"]\n",
    "\n",
    "# turns the list chars into a set using the set function\n",
    "unique_chars = set(chars)\n",
    "print(unique_chars)"
   ],
   "id": "88615274b07012f",
   "outputs": [
    {
     "name": "stdout",
     "output_type": "stream",
     "text": [
      "{'a', 'c', 'b'}\n"
     ]
    }
   ],
   "execution_count": 5
  },
  {
   "metadata": {},
   "cell_type": "markdown",
   "source": "",
   "id": "f7a5402167c6ba44"
  },
  {
   "metadata": {
    "ExecuteTime": {
     "end_time": "2024-07-10T16:10:26.993033Z",
     "start_time": "2024-07-10T16:10:26.971998Z"
    }
   },
   "cell_type": "code",
   "source": [
    "# Unordered(indexes) (index not possible)\n",
    "unique_chars[0]"
   ],
   "id": "d3d792c3d010ab55",
   "outputs": [
    {
     "ename": "TypeError",
     "evalue": "'set' object is not subscriptable",
     "output_type": "error",
     "traceback": [
      "\u001B[0;31m---------------------------------------------------------------------------\u001B[0m",
      "\u001B[0;31mTypeError\u001B[0m                                 Traceback (most recent call last)",
      "Cell \u001B[0;32mIn[10], line 2\u001B[0m\n\u001B[1;32m      1\u001B[0m \u001B[38;5;66;03m# Unordered(indexes) (index not possible)\u001B[39;00m\n\u001B[0;32m----> 2\u001B[0m \u001B[43munique_chars\u001B[49m\u001B[43m[\u001B[49m\u001B[38;5;241;43m0\u001B[39;49m\u001B[43m]\u001B[49m\n",
      "\u001B[0;31mTypeError\u001B[0m: 'set' object is not subscriptable"
     ]
    }
   ],
   "execution_count": 10
  },
  {
   "metadata": {
    "ExecuteTime": {
     "end_time": "2024-07-10T16:09:47.380819Z",
     "start_time": "2024-07-10T16:09:47.375407Z"
    }
   },
   "cell_type": "code",
   "source": [
    "# In\n",
    "# checks if a value is included in a set, depending on the result it will generate true or false\n",
    "# in can also be used with list, tuples, and dict\n",
    "\"d\" in unique_chars\n"
   ],
   "id": "c96bb8c2020c3429",
   "outputs": [
    {
     "data": {
      "text/plain": [
       "True"
      ]
     },
     "execution_count": 7,
     "metadata": {},
     "output_type": "execute_result"
    }
   ],
   "execution_count": 7
  },
  {
   "metadata": {
    "ExecuteTime": {
     "end_time": "2024-07-10T16:55:14.950142Z",
     "start_time": "2024-07-10T16:55:14.945638Z"
    }
   },
   "cell_type": "code",
   "source": [
    "# Methods: Add\n",
    "# adds a string to the set\n",
    "# it's not sorted  in order because set are unordered\n",
    "unique_chars.add(\"d\")\n",
    "print(unique_chars)"
   ],
   "id": "7318441b41e5a063",
   "outputs": [
    {
     "name": "stdout",
     "output_type": "stream",
     "text": [
      "{'a', 'd', 'c', 'b'}\n"
     ]
    }
   ],
   "execution_count": 11
  },
  {
   "metadata": {
    "ExecuteTime": {
     "end_time": "2024-07-10T17:23:47.694185Z",
     "start_time": "2024-07-10T17:23:47.690140Z"
    }
   },
   "cell_type": "code",
   "source": [
    "# Method: Remove\n",
    "unique_chars.remove(\"d\")\n",
    "print(unique_chars)"
   ],
   "id": "3f1de4acb8b574c8",
   "outputs": [
    {
     "name": "stdout",
     "output_type": "stream",
     "text": [
      "{'a', 'c', 'b'}\n"
     ]
    }
   ],
   "execution_count": 12
  },
  {
   "metadata": {
    "ExecuteTime": {
     "end_time": "2024-07-11T15:37:05.052390Z",
     "start_time": "2024-07-11T15:37:05.044113Z"
    }
   },
   "cell_type": "code",
   "source": [
    "# Len chars vs unique\n",
    "# prints the number of elements in the original list and set using the len function\n",
    "print(len(chars))\n",
    "\n",
    "print(len(unique_chars))\n",
    "print(\"Duplicates:\", len(chars) - len(unique_chars))"
   ],
   "id": "a5aed1468e7c4abf",
   "outputs": [
    {
     "name": "stdout",
     "output_type": "stream",
     "text": [
      "5\n",
      "3\n",
      "Duplicates: 2\n"
     ]
    }
   ],
   "execution_count": 15
  },
  {
   "metadata": {
    "ExecuteTime": {
     "end_time": "2024-08-29T20:07:24.987328Z",
     "start_time": "2024-08-29T20:07:24.627909Z"
    }
   },
   "cell_type": "code",
   "source": [
    "# Fun with sets: abcd & bdde\n",
    "# turns the 2 lists(set1, set2) into to sets and prints them\n",
    "set1 = set([\"a\", \"b\", \"c\", \"d\"])\n",
    "set2 = set([\"b\", \"d\", \"d\", \"e\"])\n",
    "\n",
    "print(set1)\n",
    "print(set2)"
   ],
   "id": "ebaa2d8ed7d11ce6",
   "outputs": [
    {
     "ename": "TypeError",
     "evalue": "set expected at most 1 argument, got 2",
     "output_type": "error",
     "traceback": [
      "\u001B[0;31m---------------------------------------------------------------------------\u001B[0m",
      "\u001B[0;31mTypeError\u001B[0m                                 Traceback (most recent call last)",
      "Cell \u001B[0;32mIn[1], line 3\u001B[0m\n\u001B[1;32m      1\u001B[0m \u001B[38;5;66;03m# Fun with sets: abcd & bdde\u001B[39;00m\n\u001B[1;32m      2\u001B[0m \u001B[38;5;66;03m# turns the 2 lists(set1, set2) into to sets and prints them\u001B[39;00m\n\u001B[0;32m----> 3\u001B[0m set1 \u001B[38;5;241m=\u001B[39m \u001B[38;5;28;43mset\u001B[39;49m\u001B[43m(\u001B[49m\u001B[43m[\u001B[49m\u001B[38;5;124;43m\"\u001B[39;49m\u001B[38;5;124;43ma\u001B[39;49m\u001B[38;5;124;43m\"\u001B[39;49m\u001B[43m,\u001B[49m\u001B[43m \u001B[49m\u001B[38;5;124;43m\"\u001B[39;49m\u001B[38;5;124;43mb\u001B[39;49m\u001B[38;5;124;43m\"\u001B[39;49m\u001B[43m,\u001B[49m\u001B[43m \u001B[49m\u001B[38;5;124;43m\"\u001B[39;49m\u001B[38;5;124;43mc\u001B[39;49m\u001B[38;5;124;43m\"\u001B[39;49m\u001B[43m,\u001B[49m\u001B[43m \u001B[49m\u001B[38;5;124;43m\"\u001B[39;49m\u001B[38;5;124;43md\u001B[39;49m\u001B[38;5;124;43m\"\u001B[39;49m\u001B[43m]\u001B[49m\u001B[43m,\u001B[49m\u001B[43m \u001B[49m\u001B[43m[\u001B[49m\u001B[38;5;124;43m\"\u001B[39;49m\u001B[38;5;124;43mb\u001B[39;49m\u001B[38;5;124;43m\"\u001B[39;49m\u001B[43m,\u001B[49m\u001B[43m \u001B[49m\u001B[38;5;124;43m\"\u001B[39;49m\u001B[38;5;124;43md\u001B[39;49m\u001B[38;5;124;43m\"\u001B[39;49m\u001B[43m,\u001B[49m\u001B[43m \u001B[49m\u001B[38;5;124;43m\"\u001B[39;49m\u001B[38;5;124;43md\u001B[39;49m\u001B[38;5;124;43m\"\u001B[39;49m\u001B[43m,\u001B[49m\u001B[43m \u001B[49m\u001B[38;5;124;43m\"\u001B[39;49m\u001B[38;5;124;43me\u001B[39;49m\u001B[38;5;124;43m\"\u001B[39;49m\u001B[43m]\u001B[49m\u001B[43m)\u001B[49m\n\u001B[1;32m      5\u001B[0m \u001B[38;5;28mprint\u001B[39m(set1)\n",
      "\u001B[0;31mTypeError\u001B[0m: set expected at most 1 argument, got 2"
     ]
    }
   ],
   "execution_count": 1
  },
  {
   "metadata": {
    "ExecuteTime": {
     "end_time": "2024-07-11T15:59:01.737766Z",
     "start_time": "2024-07-11T15:59:01.731828Z"
    }
   },
   "cell_type": "code",
   "source": [
    "# Intersection: set of identical items presented in both sets\n",
    "# Displays the items that are presented in both sets\n",
    "set1.intersection(set2)"
   ],
   "id": "4de1557862a2fc9a",
   "outputs": [
    {
     "data": {
      "text/plain": [
       "{'b', 'd'}"
      ]
     },
     "execution_count": 17,
     "metadata": {},
     "output_type": "execute_result"
    }
   ],
   "execution_count": 17
  },
  {
   "metadata": {
    "ExecuteTime": {
     "end_time": "2024-07-11T16:00:18.759336Z",
     "start_time": "2024-07-11T16:00:18.754268Z"
    }
   },
   "cell_type": "code",
   "source": [
    "# Difference:items that are in set1, but not in set2\n",
    "# Displays the items that are in one set but not the other\n",
    "set1.difference(set2)"
   ],
   "id": "24f197e9a5431f4d",
   "outputs": [
    {
     "data": {
      "text/plain": [
       "{'a', 'c'}"
      ]
     },
     "execution_count": 18,
     "metadata": {},
     "output_type": "execute_result"
    }
   ],
   "execution_count": 18
  },
  {
   "metadata": {
    "ExecuteTime": {
     "end_time": "2024-07-11T16:01:47.592613Z",
     "start_time": "2024-07-11T16:01:47.587456Z"
    }
   },
   "cell_type": "code",
   "source": [
    "# Union: all items from both sets\n",
    "# Displays all items in set1 and set2(without duplicates)\n",
    "set1.union(set2)"
   ],
   "id": "a0cc911abcb8910c",
   "outputs": [
    {
     "data": {
      "text/plain": [
       "{'a', 'b', 'c', 'd', 'e'}"
      ]
     },
     "execution_count": 19,
     "metadata": {},
     "output_type": "execute_result"
    }
   ],
   "execution_count": 19
  },
  {
   "metadata": {},
   "cell_type": "code",
   "outputs": [
    {
     "data": {
      "text/plain": [
       "{'a', 'c', 'e'}"
      ]
     },
     "execution_count": 20,
     "metadata": {},
     "output_type": "execute_result"
    }
   ],
   "execution_count": 20,
   "source": [
    "# Symmetric  difference: all items in either set1 or set2, but not both\n",
    "# Displays items that are in set1 and set2 but not both\n",
    "set1.symmetric_difference(set2)"
   ],
   "id": "2913a25c5c6ec9c8"
  },
  {
   "metadata": {},
   "cell_type": "code",
   "outputs": [
    {
     "data": {
      "text/plain": [
       "[('b', 3), ('a', 1)]"
      ]
     },
     "execution_count": 22,
     "metadata": {},
     "output_type": "execute_result"
    }
   ],
   "execution_count": 22,
   "source": [
    "# counts how many elements there are in the lists and displays them in the form of a table\n",
    "# displays the 2 most commonm names in the list\n",
    "from collections import Counter\n",
    "Counter(chars).most_common(2)"
   ],
   "id": "225d48f014c2b9b5"
  },
  {
   "metadata": {
    "ExecuteTime": {
     "end_time": "2024-09-18T20:52:04.616466Z",
     "start_time": "2024-09-18T20:52:04.610409Z"
    }
   },
   "cell_type": "code",
   "source": [
    "import numpy as np\n",
    "# Lists of list: 2D array\n",
    "records = [ # <== Dimension X: Classification\n",
    "        [\"chi\", 20.0], [\"beta\", 50.0], [\"alpha\",50.0], [\"gamma\",50.0]   # <== dimension Y: Record\n",
    "    ]\n",
    "\n",
    "\"\"\"Accessing elements of a nested list\"\"\"\n",
    "# Print the name in the nested list, the first index `0` [0][n] retrieves the first nested list,\n",
    "#    the second index '0' [n][0] retrieves the first element in the nested list.\n",
    "#    Shape: (X, Y)\n",
    "print(f\"Shape: {np.shape(records)}, contents: \\n{records}\")  "
   ],
   "id": "d8854233c45722",
   "outputs": [
    {
     "name": "stdout",
     "output_type": "stream",
     "text": [
      "Shape: (4, 2), contents: \n",
      "[['chi', 20.0], ['beta', 50.0], ['alpha', 50.0], ['gamma', 50.0]]\n"
     ]
    }
   ],
   "execution_count": 26
  },
  {
   "metadata": {
    "ExecuteTime": {
     "end_time": "2024-09-18T20:53:30.387924Z",
     "start_time": "2024-09-18T20:53:30.382135Z"
    }
   },
   "cell_type": "code",
   "source": [
    "\"\"\"Iterating over the elements of a nested list of size N\"\"\"\n",
    "print(\"-\" * 60)\n",
    "for record in records:  # Dimension Y: Type\n",
    "    print(f\"Record: {record}\")\n",
    "    for field in record:  # Dimension Z: Record\n",
    "        print(f\"Field: {field}\")\n",
    "    print(\"-\" * 60)"
   ],
   "id": "916c162321b576c3",
   "outputs": [
    {
     "name": "stdout",
     "output_type": "stream",
     "text": [
      "------------------------------------------------------------\n",
      "Record: ['chi', 20.0]\n",
      "Field: chi\n",
      "Field: 20.0\n",
      "------------------------------------------------------------\n",
      "Record: ['beta', 50.0]\n",
      "Field: beta\n",
      "Field: 50.0\n",
      "------------------------------------------------------------\n",
      "Record: ['alpha', 50.0]\n",
      "Field: alpha\n",
      "Field: 50.0\n",
      "------------------------------------------------------------\n",
      "Record: ['gamma', 50.0]\n",
      "Field: gamma\n",
      "Field: 50.0\n",
      "------------------------------------------------------------\n"
     ]
    }
   ],
   "execution_count": 27
  },
  {
   "metadata": {
    "ExecuteTime": {
     "end_time": "2024-09-18T20:53:59.082745Z",
     "start_time": "2024-09-18T20:53:59.078250Z"
    }
   },
   "cell_type": "code",
   "source": [
    "import numpy as np\n",
    "records = np.reshape(records, -1)  # The `-1` reduces the list back to a 1D array\n",
    "print(records)"
   ],
   "id": "39a5cbe24b121e2a",
   "outputs": [
    {
     "name": "stdout",
     "output_type": "stream",
     "text": [
      "['chi' '20.0' 'beta' '50.0' 'alpha' '50.0' 'gamma' '50.0']\n"
     ]
    }
   ],
   "execution_count": 28
  },
  {
   "metadata": {},
   "cell_type": "code",
   "outputs": [
    {
     "name": "stdout",
     "output_type": "stream",
     "text": [
      "Shape: (3, 4, 2), contents: \n",
      "[[['chi', 20.0], ['beta', 50.0], ['alpha', 50.0], ['gamma', 50.0]], [['chi', '123 address'], ['beta', '123 address'], ['alpha', '123 address'], ['gamma', '123 address']], [['chi', 5367], ['beta', 5367], ['alpha', 5367], ['gamma', 5367]]]\n"
     ]
    }
   ],
   "execution_count": 19,
   "source": [
    "import numpy as np\n",
    "# Lists of list: 3D array\n",
    "records = [ # <== Dimension X: Classification\n",
    "    [ # <== dimension Y: Grades\n",
    "        [\"chi\", 20.0], [\"beta\", 50.0], [\"alpha\",50.0], [\"gamma\",50.0]   # <== dimension Z: Record\n",
    "    ],\n",
    "    [ # <== dimension Y: personal info\n",
    "        [\"chi\", \"123 address\"], [\"beta\", \"123 address\"], [\"alpha\", \"123 address\"], [\"gamma\", \"123 address\"]  # <== dimension Z: Record\n",
    "    ],\n",
    "    [ # <== dimension Y: classes taken\n",
    "        [\"chi\", 5367], [\"beta\", 5367], [\"alpha\", 5367], [\"gamma\", 5367] # <== dimension Z: Record\n",
    "    ]\n",
    "]\n",
    "\n",
    "\"\"\"Accessing elements of a nested list\"\"\"\n",
    "# Print the name in the nested list, the first index `0` [0][n] retrieves the first nested list,\n",
    "#    the second index '0' [n][0] retrieves the first element in the nested list.\n",
    "#    Shape: (X, Y, Z)\n",
    "print(f\"Shape: {np.shape(records)}, contents: \\n{records}\")  "
   ],
   "id": "48f1a209a2820cf4"
  },
  {
   "metadata": {},
   "cell_type": "code",
   "outputs": [
    {
     "name": "stdout",
     "output_type": "stream",
     "text": [
      "------------------------------------------------------------\n",
      "Category: [['chi', 20.0], ['beta', 50.0], ['alpha', 50.0], ['gamma', 50.0]]\n",
      "Record: ['chi', 20.0]\n",
      "Field: chi\n",
      "Field: 20.0\n",
      "Record: ['beta', 50.0]\n",
      "Field: beta\n",
      "Field: 50.0\n",
      "Record: ['alpha', 50.0]\n",
      "Field: alpha\n",
      "Field: 50.0\n",
      "Record: ['gamma', 50.0]\n",
      "Field: gamma\n",
      "Field: 50.0\n",
      "------------------------------------------------------------\n",
      "Category: [['chi', '123 address'], ['beta', '123 address'], ['alpha', '123 address'], ['gamma', '123 address']]\n",
      "Record: ['chi', '123 address']\n",
      "Field: chi\n",
      "Field: 123 address\n",
      "Record: ['beta', '123 address']\n",
      "Field: beta\n",
      "Field: 123 address\n",
      "Record: ['alpha', '123 address']\n",
      "Field: alpha\n",
      "Field: 123 address\n",
      "Record: ['gamma', '123 address']\n",
      "Field: gamma\n",
      "Field: 123 address\n",
      "------------------------------------------------------------\n",
      "Category: [['chi', 5367], ['beta', 5367], ['alpha', 5367], ['gamma', 5367]]\n",
      "Record: ['chi', 5367]\n",
      "Field: chi\n",
      "Field: 5367\n",
      "Record: ['beta', 5367]\n",
      "Field: beta\n",
      "Field: 5367\n",
      "Record: ['alpha', 5367]\n",
      "Field: alpha\n",
      "Field: 5367\n",
      "Record: ['gamma', 5367]\n",
      "Field: gamma\n",
      "Field: 5367\n",
      "------------------------------------------------------------\n"
     ]
    }
   ],
   "execution_count": 24,
   "source": [
    "\"\"\"Iterating over the elements of a nested list of size N\"\"\"\n",
    "print(\"-\" * 60)\n",
    "for category in records:  # Dimension X: Category/Classification\n",
    "    print(f\"Category: {category}\")\n",
    "    for record in category:  # Dimension Y: Type\n",
    "        print(f\"Record: {record}\")\n",
    "        for field in record:  # Dimension Z: Record\n",
    "            print(f\"Field: {field}\")\n",
    "    print(\"-\" * 60)\n"
   ],
   "id": "adea05050348be2c"
  },
  {
   "metadata": {},
   "cell_type": "code",
   "outputs": [
    {
     "name": "stdout",
     "output_type": "stream",
     "text": [
      "['chi' '20.0' 'beta' '50.0' 'alpha' '50.0' 'gamma' '50.0' 'chi'\n",
      " '123 address' 'beta' '123 address' 'alpha' '123 address' 'gamma'\n",
      " '123 address' 'chi' '5367' 'beta' '5367' 'alpha' '5367' 'gamma' '5367']\n"
     ]
    }
   ],
   "execution_count": 25,
   "source": [
    "import numpy as np\n",
    "records = np.reshape(records, -1)  # The `-1` reduces the list back to a 1D array\n",
    "print(records)"
   ],
   "id": "5ace518c997f7d52"
  }
 ],
 "metadata": {
  "kernelspec": {
   "display_name": "Python 3",
   "language": "python",
   "name": "python3"
  },
  "language_info": {
   "codemirror_mode": {
    "name": "ipython",
    "version": 2
   },
   "file_extension": ".py",
   "mimetype": "text/x-python",
   "name": "python",
   "nbconvert_exporter": "python",
   "pygments_lexer": "ipython2",
   "version": "2.7.6"
  }
 },
 "nbformat": 4,
 "nbformat_minor": 5
}
