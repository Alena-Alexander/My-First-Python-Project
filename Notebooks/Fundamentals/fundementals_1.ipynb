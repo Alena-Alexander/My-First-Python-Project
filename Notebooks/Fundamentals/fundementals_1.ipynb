{
 "cells": [
  {
   "metadata": {},
   "cell_type": "markdown",
   "source": "Variables & Datatypes",
   "id": "8849fe527e9aa874"
  },
  {
   "metadata": {},
   "cell_type": "markdown",
   "source": [
    "### Input\n",
    " `Input` is data that the program receives.\\\n",
    " When a program receives data it usually processes it by preforming some operations\\\n",
    " with it. The result is sent out of a program as `output`.\n",
    "\n",
    " Computer program typically perform the following three-step process.\n",
    " 1. `Input` is received .\n",
    " 2. Some process is performed on the `input`. \n",
    " 3. `Output` is produced."
   ],
   "id": "fab1bf9ab97aa703"
  },
  {
   "metadata": {
    "ExecuteTime": {
     "end_time": "2024-09-23T16:09:54.699675Z",
     "start_time": "2024-09-23T16:09:51.145369Z"
    }
   },
   "cell_type": "code",
   "source": [
    "# receives input\n",
    "score = input(\"Enter a animal\")\n",
    "# print the output\n",
    "print(f\"Output: {score}\")"
   ],
   "id": "403cd6324ada3edb",
   "outputs": [
    {
     "name": "stdout",
     "output_type": "stream",
     "text": [
      "Output: dog\n"
     ]
    }
   ],
   "execution_count": 1
  },
  {
   "metadata": {},
   "cell_type": "markdown",
   "source": [
    "### Type\n",
    "#### datatypes\n",
    "Because different types of numbers are stored and manipulated in different ways,\\\n",
    "`Python` uses `datatypes` to categorize values in memory. When an integer is stored in memory, \\\n",
    "it is classified as an `int`, and when a real number is in memory, it is classified as a `float`\n",
    "\n",
    "\n",
    "`Stored in Memory:`\n",
    "```python\n",
    "# The value is being stored in memory. And makes the room variable reference it.\n",
    "room = 503\n",
    "```\n",
    "When the program interpreter read's a `numeric literal` in a programs code, \\\n",
    "it determines its `datatype` according to the following rules:\\\\\n",
    "\n",
    "- A `numerical literal` that is written as a `whole number` with no `decimal point`\\\n",
    "is considered an `int`. Example: \n",
    "7, 124, & -9\n",
    "\n",
    "- A `numerical literal` that is written with a `decimal point` is considered a `float`. \n",
    "Example: \n",
    "1.5, 3.14159, and 5.0\n",
    "\n",
    "Some operations behave differently depending on the type of data involved,  and some operations cans only be performed on value of a specific `datatype`.\n",
    "\n",
    "You can use the `built-in` type function in interactive mode to determine the `datatype` of a value\n",
    "\n",
    "```\n",
    "\n",
    "type(1)\n",
    "\n",
    "# output\n",
    "<class 'float'>\n",
    "```"
   ],
   "id": "3e414a2b5f72bd8a"
  },
  {
   "metadata": {
    "ExecuteTime": {
     "end_time": "2024-09-23T16:10:03.435215Z",
     "start_time": "2024-09-23T16:10:03.417316Z"
    }
   },
   "cell_type": "code",
   "source": [
    "# check what type of object is 'score'\n",
    "# it's of type 'str'\n",
    "type(score)"
   ],
   "id": "8819cc84458ec45e",
   "outputs": [
    {
     "data": {
      "text/plain": [
       "str"
      ]
     },
     "execution_count": 2,
     "metadata": {},
     "output_type": "execute_result"
    }
   ],
   "execution_count": 2
  },
  {
   "metadata": {
    "ExecuteTime": {
     "end_time": "2024-09-23T16:10:18.333927Z",
     "start_time": "2024-09-23T16:10:18.324233Z"
    }
   },
   "cell_type": "code",
   "source": [
    "# print the product of 2 times 'score'\n",
    "# cannot perform arithmatic operations (*, /, +, -) on a string\n",
    "# all this does is make copies of the string\n",
    "print(2 * score)"
   ],
   "id": "f14190510262c58d",
   "outputs": [
    {
     "name": "stdout",
     "output_type": "stream",
     "text": [
      "dogdog\n"
     ]
    }
   ],
   "execution_count": 3
  },
  {
   "metadata": {},
   "cell_type": "markdown",
   "source": [
    "## Data conversion functions\n",
    "### int(item)\n",
    "You pass an argument to the `int()` function, and it returns the arguments value converted into an `int`.\n",
    "\n",
    "### float(item)\n",
    "You pass an argument to the `float()` function, and it returns the arguments value converted into a `float`.\n",
    "\n",
    "### str(item)\n",
    "You pass an argument to the `str()` function, and it returns the arguments value converted into a `string`."
   ],
   "id": "a4c392c4956695a9"
  },
  {
   "metadata": {
    "ExecuteTime": {
     "end_time": "2024-09-23T16:10:28.881590Z",
     "start_time": "2024-09-23T16:10:28.202358Z"
    }
   },
   "cell_type": "code",
   "source": [
    "# we convert the string to integer so, we can perform arithmatic operations\n",
    "score = int(score)\n",
    "type(score)"
   ],
   "id": "9d6e1ec2b411f663",
   "outputs": [
    {
     "ename": "ValueError",
     "evalue": "invalid literal for int() with base 10: 'dog'",
     "output_type": "error",
     "traceback": [
      "\u001b[0;31m---------------------------------------------------------------------------\u001b[0m",
      "\u001b[0;31mValueError\u001b[0m                                Traceback (most recent call last)",
      "Cell \u001b[0;32mIn[4], line 2\u001b[0m\n\u001b[1;32m      1\u001b[0m \u001b[38;5;66;03m# we convert the string to integer so, we can perform arithmatic operations\u001b[39;00m\n\u001b[0;32m----> 2\u001b[0m score \u001b[38;5;241m=\u001b[39m \u001b[38;5;28;43mint\u001b[39;49m\u001b[43m(\u001b[49m\u001b[43mscore\u001b[49m\u001b[43m)\u001b[49m\n\u001b[1;32m      3\u001b[0m \u001b[38;5;28mtype\u001b[39m(score)\n",
      "\u001b[0;31mValueError\u001b[0m: invalid literal for int() with base 10: 'dog'"
     ]
    }
   ],
   "execution_count": 4
  },
  {
   "metadata": {},
   "cell_type": "code",
   "outputs": [],
   "execution_count": null,
   "source": [
    "# an object with the value of 1\n",
    "# the object 'score_1' is type integer\n",
    "score_1 = 1\n",
    "# the object sentence is given an additional object 'score_1'\n",
    "# score_1 is converted from an integer to a string\n",
    "sentence = \"My score is \" + str(score_1)\n",
    "print(sentence)"
   ],
   "id": "79eab63a2238761b"
  },
  {
   "metadata": {},
   "cell_type": "code",
   "outputs": [],
   "execution_count": null,
   "source": [
    "number_of_moons = 79\n",
    "sentence = \"the total number of moons is \" + str(number_of_moons)\n",
    "print(sentence)"
   ],
   "id": "cea8c10c9f410d2d"
  },
  {
   "metadata": {},
   "cell_type": "code",
   "outputs": [
    {
     "name": "stdout",
     "output_type": "stream",
     "text": [
      "my age in months is: 60\n"
     ]
    }
   ],
   "execution_count": 6,
   "source": [
    "age_in_years = input(\"what is your age in years? \")\n",
    "age_in_moths = int(age_in_years) * 12\n",
    "print(\"my age in months is:\", age_in_moths)"
   ],
   "id": "fd63e3765dda6698"
  },
  {
   "metadata": {},
   "cell_type": "markdown",
   "source": "",
   "id": "ac8dcb8e6884f85e"
  }
 ],
 "metadata": {
  "kernelspec": {
   "display_name": "Python 3",
   "language": "python",
   "name": "python3"
  },
  "language_info": {
   "codemirror_mode": {
    "name": "ipython",
    "version": 2
   },
   "file_extension": ".py",
   "mimetype": "text/x-python",
   "name": "python",
   "nbconvert_exporter": "python",
   "pygments_lexer": "ipython2",
   "version": "2.7.6"
  }
 },
 "nbformat": 4,
 "nbformat_minor": 5
}
