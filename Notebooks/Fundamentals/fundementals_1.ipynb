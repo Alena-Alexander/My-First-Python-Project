{
 "cells": [
  {
   "metadata": {},
   "cell_type": "markdown",
   "source": "Variables & Datatypes",
   "id": "8849fe527e9aa874"
  },
  {
   "metadata": {
    "ExecuteTime": {
     "end_time": "2024-07-12T16:04:08.382276Z",
     "start_time": "2024-07-12T16:04:05.847940Z"
    }
   },
   "cell_type": "code",
   "source": [
    "\n",
    "# Read a string from standard input. The trailing newline is stripped.\n",
    "# The prompt string, if given, is printed to standard output without \n",
    "# a trailing newline before reading input.\n",
    "score = input(\"Enter a animal\")\n",
    "# print the score\n",
    "print(score)"
   ],
   "id": "632e01c98cad510f",
   "outputs": [
    {
     "name": "stdout",
     "output_type": "stream",
     "text": [
      "\n"
     ]
    }
   ],
   "execution_count": 7
  },
  {
   "metadata": {
    "ExecuteTime": {
     "end_time": "2024-07-11T18:30:09.882535Z",
     "start_time": "2024-07-11T18:30:09.869890Z"
    }
   },
   "cell_type": "code",
   "source": [
    "# check what type of object is 'score'\n",
    "# it's of type 'str'\n",
    "type(score)"
   ],
   "id": "8819cc84458ec45e",
   "outputs": [
    {
     "data": {
      "text/plain": [
       "str"
      ]
     },
     "execution_count": 3,
     "metadata": {},
     "output_type": "execute_result"
    }
   ],
   "execution_count": 3
  },
  {
   "metadata": {
    "ExecuteTime": {
     "end_time": "2024-07-11T18:30:09.890202Z",
     "start_time": "2024-07-11T18:30:09.885616Z"
    }
   },
   "cell_type": "code",
   "source": [
    "# print the product of 2 times 'score'\n",
    "# cannot perform arithmatic operations (*, /, +, -) on a string \n",
    "# all this does is make copies of the string\n",
    "print(4 * score)"
   ],
   "id": "f14190510262c58d",
   "outputs": [
    {
     "name": "stdout",
     "output_type": "stream",
     "text": [
      "pigpigpigpig\n"
     ]
    }
   ],
   "execution_count": 4
  },
  {
   "metadata": {
    "ExecuteTime": {
     "end_time": "2024-07-11T18:30:09.948339Z",
     "start_time": "2024-07-11T18:30:09.910389Z"
    }
   },
   "cell_type": "code",
   "source": [
    "# we convert the string to integer so, we can perform arithmatic operations\n",
    "score = int(score)\n",
    "type(score)"
   ],
   "id": "9d6e1ec2b411f663",
   "outputs": [
    {
     "ename": "ValueError",
     "evalue": "invalid literal for int() with base 10: 'pig'",
     "output_type": "error",
     "traceback": [
      "\u001B[0;31m---------------------------------------------------------------------------\u001B[0m",
      "\u001B[0;31mValueError\u001B[0m                                Traceback (most recent call last)",
      "Cell \u001B[0;32mIn[5], line 2\u001B[0m\n\u001B[1;32m      1\u001B[0m \u001B[38;5;66;03m# we convert the string to integer so, we can perform arithmatic operations\u001B[39;00m\n\u001B[0;32m----> 2\u001B[0m score \u001B[38;5;241m=\u001B[39m \u001B[38;5;28;43mint\u001B[39;49m\u001B[43m(\u001B[49m\u001B[43mscore\u001B[49m\u001B[43m)\u001B[49m\n\u001B[1;32m      3\u001B[0m \u001B[38;5;28mtype\u001B[39m(score)\n",
      "\u001B[0;31mValueError\u001B[0m: invalid literal for int() with base 10: 'pig'"
     ]
    }
   ],
   "execution_count": 5
  },
  {
   "metadata": {},
   "cell_type": "code",
   "source": [
    "# Now we can perform arithmatic operations on the integer value we converted from the string\n",
    "print(2 * score)"
   ],
   "id": "ee70ea1e150e7927",
   "outputs": [],
   "execution_count": null
  },
  {
   "metadata": {},
   "cell_type": "code",
   "source": [
    "# an object with the value of 1\n",
    "# the object 'score_1' is type integer\n",
    "score_1 = 1\n",
    "# the object sentence is given an additional object 'score_1'\n",
    "# score_1 is converted from an integer to a string\n",
    "sentence = \"My score is \" + str(score_1)\n",
    "print(sentence)"
   ],
   "id": "79eab63a2238761b",
   "outputs": [],
   "execution_count": null
  },
  {
   "metadata": {},
   "cell_type": "code",
   "source": [
    "number_of_moons = 79 \n",
    "sentence = \"the total number of moons is \" + str(number_of_moons)\n",
    "print(sentence)"
   ],
   "id": "cea8c10c9f410d2d",
   "outputs": [],
   "execution_count": null
  },
  {
   "metadata": {
    "ExecuteTime": {
     "end_time": "2024-07-11T18:30:12.406855Z",
     "start_time": "2024-07-11T18:30:09.966658Z"
    }
   },
   "cell_type": "code",
   "source": [
    "age_in_years = input(\"what is your age in years? \")\n",
    "age_in_moths = int(age_in_years) * 12\n",
    "print(\"my age in months is:\", age_in_moths)"
   ],
   "id": "fd63e3765dda6698",
   "outputs": [
    {
     "name": "stdout",
     "output_type": "stream",
     "text": [
      "my age in months is: 60\n"
     ]
    }
   ],
   "execution_count": 6
  },
  {
   "metadata": {
    "ExecuteTime": {
     "end_time": "2024-07-11T18:30:12.413051Z",
     "start_time": "2024-07-11T18:30:12.409918Z"
    }
   },
   "cell_type": "code",
   "source": "",
   "id": "16033157454f9add",
   "outputs": [],
   "execution_count": 6
  }
 ],
 "metadata": {
  "kernelspec": {
   "display_name": "Python 3",
   "language": "python",
   "name": "python3"
  },
  "language_info": {
   "codemirror_mode": {
    "name": "ipython",
    "version": 2
   },
   "file_extension": ".py",
   "mimetype": "text/x-python",
   "name": "python",
   "nbconvert_exporter": "python",
   "pygments_lexer": "ipython2",
   "version": "2.7.6"
  }
 },
 "nbformat": 4,
 "nbformat_minor": 5
}
