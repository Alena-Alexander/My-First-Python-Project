{
 "cells": [
  {
   "metadata": {
    "ExecuteTime": {
     "end_time": "2024-07-09T15:59:31.626528Z",
     "start_time": "2024-07-09T15:59:31.618011Z"
    }
   },
   "cell_type": "code",
   "source": [
    "# Exercise 1\n",
    "fruits = [\"apple\", \"pear\", \"banana\", \"mango\", \"peach\"]"
   ],
   "id": "1bd128967337f49d",
   "outputs": [],
   "execution_count": 1
  },
  {
   "metadata": {
    "ExecuteTime": {
     "end_time": "2024-07-08T13:49:11.974833Z",
     "start_time": "2024-07-08T13:49:11.966513Z"
    }
   },
   "cell_type": "code",
   "source": [
    "# Exercise 2\n",
    "fruits[2]"
   ],
   "id": "6aeeb910b6531af6",
   "outputs": [
    {
     "data": {
      "text/plain": [
       "'banana'"
      ]
     },
     "execution_count": 2,
     "metadata": {},
     "output_type": "execute_result"
    }
   ],
   "execution_count": 2
  },
  {
   "metadata": {
    "ExecuteTime": {
     "end_time": "2024-07-08T13:49:11.984469Z",
     "start_time": "2024-07-08T13:49:11.978401Z"
    }
   },
   "cell_type": "code",
   "source": [
    "# Exercise 3\n",
    "fruits[3:5]"
   ],
   "id": "8ff8aae8c690679d",
   "outputs": [
    {
     "data": {
      "text/plain": [
       "['mango', 'peach']"
      ]
     },
     "execution_count": 3,
     "metadata": {},
     "output_type": "execute_result"
    }
   ],
   "execution_count": 3
  },
  {
   "metadata": {
    "ExecuteTime": {
     "end_time": "2024-07-08T13:49:11.992327Z",
     "start_time": "2024-07-08T13:49:11.988013Z"
    }
   },
   "cell_type": "code",
   "source": [
    "# Exercise 4\n",
    "fruits[0] = \"orange\"\n",
    "print(fruits)"
   ],
   "id": "e16467a3408a6903",
   "outputs": [
    {
     "name": "stdout",
     "output_type": "stream",
     "text": [
      "['orange', 'pear', 'banana', 'mango', 'peach']\n"
     ]
    }
   ],
   "execution_count": 4
  },
  {
   "metadata": {
    "ExecuteTime": {
     "end_time": "2024-07-08T13:49:12.001624Z",
     "start_time": "2024-07-08T13:49:11.996345Z"
    }
   },
   "cell_type": "code",
   "source": [
    "# Exercise 5\n",
    "extra = \"kiwi\"\n",
    "fruits.append(extra)\n",
    "print(fruits)"
   ],
   "id": "495073a2c5bfa0b5",
   "outputs": [
    {
     "name": "stdout",
     "output_type": "stream",
     "text": [
      "['orange', 'pear', 'banana', 'mango', 'peach', 'kiwi']\n"
     ]
    }
   ],
   "execution_count": 5
  },
  {
   "metadata": {
    "ExecuteTime": {
     "end_time": "2024-07-08T13:49:12.008750Z",
     "start_time": "2024-07-08T13:49:12.003955Z"
    }
   },
   "cell_type": "code",
   "source": [
    "# Exercise 6\n",
    "fruits.remove(\"pear\")\n",
    "print(fruits)"
   ],
   "id": "902feb3a9673ccaa",
   "outputs": [
    {
     "name": "stdout",
     "output_type": "stream",
     "text": [
      "['orange', 'banana', 'mango', 'peach', 'kiwi']\n"
     ]
    }
   ],
   "execution_count": 6
  },
  {
   "metadata": {},
   "cell_type": "markdown",
   "source": "Tuples",
   "id": "cba5e25e88d2e221"
  },
  {
   "metadata": {
    "ExecuteTime": {
     "end_time": "2024-07-08T13:49:12.016738Z",
     "start_time": "2024-07-08T13:49:12.011808Z"
    }
   },
   "cell_type": "code",
   "source": [
    "# Exercise 1\n",
    "workweek = (\"Monday\", \"Tuesday\", \"Wednesday\", \"Thursday\", \"Friday\")\n",
    "print(workweek)"
   ],
   "id": "c2c2d8a7106be873",
   "outputs": [
    {
     "name": "stdout",
     "output_type": "stream",
     "text": [
      "('Monday', 'Tuesday', 'Wednesday', 'Thursday', 'Friday')\n"
     ]
    }
   ],
   "execution_count": 7
  },
  {
   "metadata": {
    "ExecuteTime": {
     "end_time": "2024-07-08T13:49:12.047464Z",
     "start_time": "2024-07-08T13:49:12.042719Z"
    }
   },
   "cell_type": "code",
   "source": [
    "# Exercise 2\n",
    "workweek[4]"
   ],
   "id": "f39c0942d2398e87",
   "outputs": [
    {
     "data": {
      "text/plain": [
       "'Friday'"
      ]
     },
     "execution_count": 8,
     "metadata": {},
     "output_type": "execute_result"
    }
   ],
   "execution_count": 8
  },
  {
   "metadata": {
    "ExecuteTime": {
     "end_time": "2024-07-08T13:50:23.055595Z",
     "start_time": "2024-07-08T13:50:23.048663Z"
    }
   },
   "cell_type": "code",
   "source": [
    "# Exercise 3\n",
    "workweek[3:5]"
   ],
   "id": "6b922985467e0d3a",
   "outputs": [
    {
     "data": {
      "text/plain": [
       "('Thursday', 'Friday')"
      ]
     },
     "execution_count": 14,
     "metadata": {},
     "output_type": "execute_result"
    }
   ],
   "execution_count": 14
  },
  {
   "metadata": {
    "ExecuteTime": {
     "end_time": "2024-07-08T13:56:57.906565Z",
     "start_time": "2024-07-08T13:56:57.901498Z"
    }
   },
   "cell_type": "code",
   "source": [
    "# Exercise 4\n",
    "letters = (\"a\", \"b\", \"b\", \"a\", \"b\", \"a\", \"b\", \"b\").count(\"b\")"
   ],
   "id": "6a7ccb2db2e00602",
   "outputs": [],
   "execution_count": 18
  },
  {
   "metadata": {
    "ExecuteTime": {
     "end_time": "2024-07-08T13:58:43.540716Z",
     "start_time": "2024-07-08T13:58:43.516894Z"
    }
   },
   "cell_type": "code",
   "source": [
    "# Exercise 5\n",
    "# tuples do not support deletion\n",
    "# you can't override this either\n",
    "workweek.remove(\"Monday\")\n",
    "print(workweek)"
   ],
   "id": "a8a6860728b0e2ea",
   "outputs": [
    {
     "ename": "AttributeError",
     "evalue": "'tuple' object has no attribute 'remove'",
     "output_type": "error",
     "traceback": [
      "\u001b[0;31m---------------------------------------------------------------------------\u001b[0m",
      "\u001b[0;31mAttributeError\u001b[0m                            Traceback (most recent call last)",
      "Cell \u001b[0;32mIn[19], line 2\u001b[0m\n\u001b[1;32m      1\u001b[0m \u001b[38;5;66;03m# Exercise 5\u001b[39;00m\n\u001b[0;32m----> 2\u001b[0m \u001b[43mworkweek\u001b[49m\u001b[38;5;241;43m.\u001b[39;49m\u001b[43mremove\u001b[49m(\u001b[38;5;124m\"\u001b[39m\u001b[38;5;124mMonday\u001b[39m\u001b[38;5;124m\"\u001b[39m)\n\u001b[1;32m      3\u001b[0m \u001b[38;5;28mprint\u001b[39m(workweek)\n",
      "\u001b[0;31mAttributeError\u001b[0m: 'tuple' object has no attribute 'remove'"
     ]
    }
   ],
   "execution_count": 19
  },
  {
   "metadata": {},
   "cell_type": "markdown",
   "source": "Dictionaries",
   "id": "cef35a881897045c"
  },
  {
   "metadata": {
    "ExecuteTime": {
     "end_time": "2024-07-10T15:25:02.872029Z",
     "start_time": "2024-07-10T15:25:02.866853Z"
    }
   },
   "cell_type": "code",
   "source": [
    "# Exercise 1\n",
    "grades = {\"French\": 75, \"English\": 95, \"Math\": 100, \"Biology\": 80}\n",
    "print(grades)"
   ],
   "id": "33584cc71a5d92e",
   "outputs": [
    {
     "name": "stdout",
     "output_type": "stream",
     "text": [
      "{'French': 75, 'English': 95, 'Math': 100, 'Biology': 80}\n"
     ]
    }
   ],
   "execution_count": 2
  },
  {
   "metadata": {
    "ExecuteTime": {
     "end_time": "2024-07-09T16:22:12.105154Z",
     "start_time": "2024-07-09T16:22:12.093543Z"
    }
   },
   "cell_type": "code",
   "source": [
    "# Exercise 2\n",
    "grades.get(\"Biology\")"
   ],
   "id": "65b1cca020902ba3",
   "outputs": [
    {
     "data": {
      "text/plain": [
       "80"
      ]
     },
     "execution_count": 4,
     "metadata": {},
     "output_type": "execute_result"
    }
   ],
   "execution_count": 4
  },
  {
   "metadata": {
    "ExecuteTime": {
     "end_time": "2024-07-09T16:22:33.338977Z",
     "start_time": "2024-07-09T16:22:33.332692Z"
    }
   },
   "cell_type": "code",
   "source": [
    "# Exercise 3\n",
    "grades[\"Biology\"]"
   ],
   "id": "4a490e1453f65976",
   "outputs": [
    {
     "data": {
      "text/plain": [
       "80"
      ]
     },
     "execution_count": 5,
     "metadata": {},
     "output_type": "execute_result"
    }
   ],
   "execution_count": 5
  },
  {
   "metadata": {
    "ExecuteTime": {
     "end_time": "2024-07-09T16:24:17.837343Z",
     "start_time": "2024-07-09T16:24:17.830670Z"
    }
   },
   "cell_type": "code",
   "source": [
    "# Exercise 4\n",
    "grades.keys()"
   ],
   "id": "95a3ee640de74161",
   "outputs": [
    {
     "data": {
      "text/plain": [
       "dict_keys(['French', 'English', 'Math', 'Biology'])"
      ]
     },
     "execution_count": 10,
     "metadata": {},
     "output_type": "execute_result"
    }
   ],
   "execution_count": 10
  },
  {
   "metadata": {
    "ExecuteTime": {
     "end_time": "2024-07-09T16:23:04.839375Z",
     "start_time": "2024-07-09T16:23:04.833317Z"
    }
   },
   "cell_type": "code",
   "source": [
    "# Exercise 5\n",
    "grades.values()"
   ],
   "id": "daeb687779e58af7",
   "outputs": [
    {
     "data": {
      "text/plain": [
       "dict_values([75, 95, 100, 80])"
      ]
     },
     "execution_count": 7,
     "metadata": {},
     "output_type": "execute_result"
    }
   ],
   "execution_count": 7
  },
  {
   "metadata": {
    "ExecuteTime": {
     "end_time": "2024-07-09T16:24:24.403786Z",
     "start_time": "2024-07-09T16:24:24.396911Z"
    }
   },
   "cell_type": "code",
   "source": [
    "# Exercise 6\n",
    "list(grades.items())"
   ],
   "id": "5e2d94cdb9f04928",
   "outputs": [
    {
     "data": {
      "text/plain": [
       "[('French', 75), ('English', 95), ('Math', 100), ('Biology', 80)]"
      ]
     },
     "execution_count": 12,
     "metadata": {},
     "output_type": "execute_result"
    }
   ],
   "execution_count": 12
  },
  {
   "metadata": {
    "ExecuteTime": {
     "end_time": "2024-07-10T15:25:35.847161Z",
     "start_time": "2024-07-10T15:25:35.842548Z"
    }
   },
   "cell_type": "code",
   "source": [
    "# Extra challenge 1\n",
    "grades[\"Drama\"] = 85\n",
    "print(grades)"
   ],
   "id": "58d522a089c34aec",
   "outputs": [
    {
     "name": "stdout",
     "output_type": "stream",
     "text": [
      "{'French': 75, 'English': 95, 'Math': 100, 'Biology': 80, 'Drama': 85}\n"
     ]
    }
   ],
   "execution_count": 4
  },
  {
   "metadata": {
    "ExecuteTime": {
     "end_time": "2024-07-10T15:34:25.252015Z",
     "start_time": "2024-07-10T15:34:25.245223Z"
    }
   },
   "cell_type": "code",
   "source": [
    "# Extra challenge 2\n",
    "# prints the sum of the integers(value) in the dict\n",
    "total = sum(grades.values())\n",
    "print(total)\n",
    "# prints the number of str(keys) in the dict\n",
    "nr_subject = len(grades.values())\n",
    "print(nr_subject)\n",
    "\n",
    "average = total / nr_subject\n",
    "print(average)"
   ],
   "id": "5bad4ab70da738a4",
   "outputs": [
    {
     "name": "stdout",
     "output_type": "stream",
     "text": [
      "435\n",
      "5\n",
      "87.0\n"
     ]
    }
   ],
   "execution_count": 7
  },
  {
   "metadata": {},
   "cell_type": "markdown",
   "source": "Sets",
   "id": "faf6c708c359a41e"
  },
  {
   "metadata": {
    "ExecuteTime": {
     "end_time": "2024-07-11T16:32:20.230433Z",
     "start_time": "2024-07-11T16:32:20.226057Z"
    }
   },
   "cell_type": "code",
   "source": [
    "# Exercise 1\n",
    "names = [\n",
    "    \"Deborah\",\n",
    "    \"John\",\n",
    "    \"Tyler\",\n",
    "    \"Linda\",\n",
    "    \"Douglas\",\n",
    "    \"Jessica\",\n",
    "    \"Tyler\",\n",
    "    \"John\",\n",
    "    \"Danielle\",\n",
    "    \"Jessica\",\n",
    "]"
   ],
   "id": "1fe7198e6376b4ea",
   "outputs": [],
   "execution_count": 17
  },
  {
   "metadata": {
    "ExecuteTime": {
     "end_time": "2024-07-11T16:32:22.430391Z",
     "start_time": "2024-07-11T16:32:22.425690Z"
    }
   },
   "cell_type": "code",
   "source": [
    "# Exercise 2\n",
    "unique_names = set(names)\n",
    "print(unique_names)"
   ],
   "id": "3fd397ecc2464f6",
   "outputs": [
    {
     "name": "stdout",
     "output_type": "stream",
     "text": [
      "{'Danielle', 'Douglas', 'Tyler', 'Jessica', 'Linda', 'John', 'Deborah'}\n"
     ]
    }
   ],
   "execution_count": 18
  },
  {
   "metadata": {
    "ExecuteTime": {
     "end_time": "2024-07-11T16:32:24.219212Z",
     "start_time": "2024-07-11T16:32:24.213624Z"
    }
   },
   "cell_type": "code",
   "source": [
    "# Exercise 3\n",
    "print(len(names) - len(unique_names))"
   ],
   "id": "e8d6d294bb7b9b1d",
   "outputs": [
    {
     "name": "stdout",
     "output_type": "stream",
     "text": [
      "3\n"
     ]
    }
   ],
   "execution_count": 19
  },
  {
   "metadata": {
    "ExecuteTime": {
     "end_time": "2024-07-11T16:32:25.201939Z",
     "start_time": "2024-07-11T16:32:25.196190Z"
    }
   },
   "cell_type": "code",
   "source": [
    "# Exercise 4\n",
    "unique_names.add(\"Alena\")\n",
    "print(unique_names)"
   ],
   "id": "259d64e34490864f",
   "outputs": [
    {
     "name": "stdout",
     "output_type": "stream",
     "text": [
      "{'Danielle', 'Douglas', 'Tyler', 'Jessica', 'Linda', 'John', 'Alena', 'Deborah'}\n"
     ]
    }
   ],
   "execution_count": 20
  },
  {
   "metadata": {
    "ExecuteTime": {
     "end_time": "2024-07-11T16:32:27.255259Z",
     "start_time": "2024-07-11T16:32:27.250268Z"
    }
   },
   "cell_type": "code",
   "source": [
    "# Extra Challenge\n",
    "from collections import Counter"
   ],
   "id": "3510de1c34593883",
   "outputs": [],
   "execution_count": 21
  },
  {
   "metadata": {
    "ExecuteTime": {
     "end_time": "2024-07-11T16:41:12.564810Z",
     "start_time": "2024-07-11T16:41:12.559085Z"
    }
   },
   "cell_type": "code",
   "source": [
    "# counts how many elements there are in the lists and displays them in the form of a table\n",
    "# amd displays the 3 most common names in the list\n",
    "Counter(names).most_common(3)"
   ],
   "id": "4d71ee510f33d4ae",
   "outputs": [
    {
     "data": {
      "text/plain": [
       "[('John', 2), ('Tyler', 2), ('Jessica', 2)]"
      ]
     },
     "execution_count": 23,
     "metadata": {},
     "output_type": "execute_result"
    }
   ],
   "execution_count": 23
  }
 ],
 "metadata": {
  "kernelspec": {
   "display_name": "Python 3",
   "language": "python",
   "name": "python3"
  },
  "language_info": {
   "codemirror_mode": {
    "name": "ipython",
    "version": 2
   },
   "file_extension": ".py",
   "mimetype": "text/x-python",
   "name": "python",
   "nbconvert_exporter": "python",
   "pygments_lexer": "ipython2",
   "version": "2.7.6"
  }
 },
 "nbformat": 4,
 "nbformat_minor": 5
}
