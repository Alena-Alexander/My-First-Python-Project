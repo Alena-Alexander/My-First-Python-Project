{
 "cells": [
  {
   "metadata": {},
   "cell_type": "markdown",
   "source": "Built-in functions",
   "id": "aa8d61e3da449839"
  },
  {
   "metadata": {
    "ExecuteTime": {
     "end_time": "2024-07-19T16:48:51.180505Z",
     "start_time": "2024-07-19T16:48:51.176871Z"
    }
   },
   "cell_type": "code",
   "source": [
    "import requests\n",
    "\n",
    "# Exercise 1\n",
    "numbers = [26473.014, -13474, -3669.4, 178934, 94371]"
   ],
   "id": "3ddb4cb6fa34fadc",
   "outputs": [],
   "execution_count": 17
  },
  {
   "metadata": {
    "ExecuteTime": {
     "end_time": "2024-07-19T16:46:43.208357Z",
     "start_time": "2024-07-19T16:46:43.197221Z"
    }
   },
   "cell_type": "code",
   "source": [
    "# Exercise 2\n",
    "# lowest number in list\n",
    "min(numbers)"
   ],
   "id": "1d03156db27c2158",
   "outputs": [
    {
     "data": {
      "text/plain": [
       "-13474"
      ]
     },
     "execution_count": 4,
     "metadata": {},
     "output_type": "execute_result"
    }
   ],
   "execution_count": 4
  },
  {
   "metadata": {
    "ExecuteTime": {
     "end_time": "2024-07-19T16:46:43.499274Z",
     "start_time": "2024-07-19T16:46:43.491887Z"
    }
   },
   "cell_type": "code",
   "source": [
    "# Exercise 3\n",
    "# highest number in the list\n",
    "max(numbers)    "
   ],
   "id": "3fe3e30c0e6b9607",
   "outputs": [
    {
     "data": {
      "text/plain": [
       "178934"
      ]
     },
     "execution_count": 5,
     "metadata": {},
     "output_type": "execute_result"
    }
   ],
   "execution_count": 5
  },
  {
   "metadata": {
    "ExecuteTime": {
     "end_time": "2024-07-19T16:50:43.479954Z",
     "start_time": "2024-07-19T16:50:43.473581Z"
    }
   },
   "cell_type": "code",
   "source": [
    "# Extra challenge\n",
    "# the objects in 'numbers' are rounded and added to the list 'numbers_rounded'\n",
    "numbers_rounded = []\n",
    " \n",
    "for n in numbers:\n",
    "     numbers_rounded.append(round(n))\n",
    "print(numbers_rounded)"
   ],
   "id": "ad9d8bb0389f60c3",
   "outputs": [
    {
     "name": "stdout",
     "output_type": "stream",
     "text": [
      "[26473, -13474, -3669, 178934, 94371]\n"
     ]
    }
   ],
   "execution_count": 23
  },
  {
   "metadata": {
    "ExecuteTime": {
     "end_time": "2024-07-19T16:50:44.187455Z",
     "start_time": "2024-07-19T16:50:44.181444Z"
    }
   },
   "cell_type": "code",
   "source": [
    "# List comprehension\n",
    "numbers_rounded = [round(n) for n in numbers_rounded]\n",
    "print(numbers_rounded)"
   ],
   "id": "cecd25d118d77c5d",
   "outputs": [
    {
     "name": "stdout",
     "output_type": "stream",
     "text": [
      "[26473, -13474, -3669, 178934, 94371]\n"
     ]
    }
   ],
   "execution_count": 24
  },
  {
   "metadata": {},
   "cell_type": "markdown",
   "source": "User defined Functions 1",
   "id": "727ed0b037cf2660"
  },
  {
   "metadata": {
    "ExecuteTime": {
     "end_time": "2024-07-19T17:30:31.962027Z",
     "start_time": "2024-07-19T17:30:31.834163Z"
    }
   },
   "cell_type": "code",
   "source": [
    "# Exercise 1\n",
    "def convert_usd_to_euro(amount):\n",
    "     eur = amount / 1.18\n",
    "     return eur"
   ],
   "id": "9c50f5a826687850",
   "outputs": [],
   "execution_count": 36
  },
  {
   "metadata": {
    "ExecuteTime": {
     "end_time": "2024-07-19T17:30:33.569099Z",
     "start_time": "2024-07-19T17:30:33.470670Z"
    }
   },
   "cell_type": "code",
   "source": [
    "# Exercise 2\n",
    "print(convert_usd_to_euro(150))"
   ],
   "id": "35efc4d504160fb2",
   "outputs": [
    {
     "name": "stdout",
     "output_type": "stream",
     "text": [
      "127.11864406779662\n"
     ]
    }
   ],
   "execution_count": 37
  },
  {
   "metadata": {
    "ExecuteTime": {
     "end_time": "2024-07-19T17:30:35.542740Z",
     "start_time": "2024-07-19T17:30:35.436950Z"
    }
   },
   "cell_type": "code",
   "source": [
    "# Exercise 3\n",
    "def convert_usd_to_euro(amount):\n",
    "     eur = round(amount / 1.18, 2)\n",
    "     return eur"
   ],
   "id": "426a9ce1db72c790",
   "outputs": [],
   "execution_count": 38
  },
  {
   "metadata": {
    "ExecuteTime": {
     "end_time": "2024-07-19T17:30:37.714333Z",
     "start_time": "2024-07-19T17:30:37.646484Z"
    }
   },
   "cell_type": "code",
   "source": [
    "# Exercise 4\n",
    "print(convert_usd_to_euro(150))"
   ],
   "id": "4bed862a070f8159",
   "outputs": [
    {
     "name": "stdout",
     "output_type": "stream",
     "text": [
      "127.12\n"
     ]
    }
   ],
   "execution_count": 39
  },
  {
   "metadata": {},
   "cell_type": "markdown",
   "source": "User Defined Functions 2",
   "id": "f6ce7c609ebab8eb"
  },
  {
   "metadata": {
    "ExecuteTime": {
     "end_time": "2024-08-05T17:24:24.147968Z",
     "start_time": "2024-08-05T17:24:24.139527Z"
    }
   },
   "cell_type": "code",
   "source": [
    "# Exercise 1\n",
    "def multiply(x, y):\n",
    "     return x * y"
   ],
   "id": "3d882395b481758",
   "outputs": [],
   "execution_count": 1
  },
  {
   "metadata": {
    "ExecuteTime": {
     "end_time": "2024-08-05T17:24:24.156799Z",
     "start_time": "2024-08-05T17:24:24.150778Z"
    }
   },
   "cell_type": "code",
   "source": [
    "# Exercise 2\n",
    "print(multiply(4, 5))"
   ],
   "id": "94fe2f88829cc0a5",
   "outputs": [
    {
     "name": "stdout",
     "output_type": "stream",
     "text": [
      "20\n"
     ]
    }
   ],
   "execution_count": 2
  },
  {
   "metadata": {
    "ExecuteTime": {
     "end_time": "2024-08-05T17:24:24.162688Z",
     "start_time": "2024-08-05T17:24:24.158608Z"
    }
   },
   "cell_type": "code",
   "source": [
    "# Exercise 3\n",
    "def multiply(x, y=1):\n",
    "     return x * y"
   ],
   "id": "48a8119c91ce9fcc",
   "outputs": [],
   "execution_count": 3
  },
  {
   "metadata": {
    "ExecuteTime": {
     "end_time": "2024-08-05T17:24:24.170806Z",
     "start_time": "2024-08-05T17:24:24.164814Z"
    }
   },
   "cell_type": "code",
   "source": [
    "# Exercise 4\n",
    "print(multiply(4))"
   ],
   "id": "3d65e587d018000e",
   "outputs": [
    {
     "name": "stdout",
     "output_type": "stream",
     "text": [
      "4\n"
     ]
    }
   ],
   "execution_count": 4
  },
  {
   "metadata": {},
   "cell_type": "markdown",
   "source": "Modules",
   "id": "6fef88c4a6b38dab"
  },
  {
   "metadata": {
    "ExecuteTime": {
     "end_time": "2024-08-07T14:04:34.933704Z",
     "start_time": "2024-08-07T14:04:34.929637Z"
    }
   },
   "cell_type": "code",
   "source": [
    "# Exercise 1\n",
    "import math"
   ],
   "id": "efeee5b37068d08",
   "outputs": [],
   "execution_count": 3
  },
  {
   "metadata": {
    "ExecuteTime": {
     "end_time": "2024-08-07T14:04:35.172094Z",
     "start_time": "2024-08-07T14:04:35.162237Z"
    }
   },
   "cell_type": "code",
   "source": [
    "# Exercise 2\n",
    "num = 21000\n",
    "math.sqrt(num)"
   ],
   "id": "ee1b6ce0a088e193",
   "outputs": [
    {
     "data": {
      "text/plain": [
       "144.9137674618944"
      ]
     },
     "execution_count": 4,
     "metadata": {},
     "output_type": "execute_result"
    }
   ],
   "execution_count": 4
  },
  {
   "metadata": {
    "ExecuteTime": {
     "end_time": "2024-08-07T14:06:16.034262Z",
     "start_time": "2024-08-07T14:06:16.027801Z"
    }
   },
   "cell_type": "code",
   "source": [
    "# Exercise 3\n",
    "math.pi"
   ],
   "id": "c54519d73e274e00",
   "outputs": [
    {
     "data": {
      "text/plain": [
       "3.141592653589793"
      ]
     },
     "execution_count": 5,
     "metadata": {},
     "output_type": "execute_result"
    }
   ],
   "execution_count": 5
  },
  {
   "metadata": {},
   "cell_type": "markdown",
   "source": "API calls",
   "id": "68c92dc7b3ecde37"
  },
  {
   "metadata": {
    "ExecuteTime": {
     "end_time": "2024-09-16T18:32:53.841347Z",
     "start_time": "2024-09-16T18:32:53.837670Z"
    }
   },
   "cell_type": "code",
   "source": [
    "# API one\n",
    "# https://www.openbrewerydb.org/documentation\n",
    "import requests"
   ],
   "id": "b8ad2459142cc515",
   "outputs": [],
   "execution_count": 10
  },
  {
   "metadata": {
    "ExecuteTime": {
     "end_time": "2024-09-16T18:45:31.313795Z",
     "start_time": "2024-09-16T18:45:31.309948Z"
    }
   },
   "cell_type": "code",
   "source": [
    "\n",
    "url = \"http://api.openbrewerydb.org/v1/breweries\""
   ],
   "id": "52526e661ef800c4",
   "outputs": [],
   "execution_count": 26
  },
  {
   "metadata": {
    "ExecuteTime": {
     "end_time": "2024-09-16T18:45:31.728231Z",
     "start_time": "2024-09-16T18:45:31.492911Z"
    }
   },
   "cell_type": "code",
   "source": [
    "\n",
    "r = requests.get(url).json()\n",
    "#print(r)"
   ],
   "id": "24d1a60deb18db83",
   "outputs": [],
   "execution_count": 27
  },
  {
   "metadata": {
    "ExecuteTime": {
     "end_time": "2024-09-16T18:45:31.735526Z",
     "start_time": "2024-09-16T18:45:31.730719Z"
    }
   },
   "cell_type": "code",
   "source": [
    "\n",
    "breweries = r"
   ],
   "id": "ae5a8b38284102a9",
   "outputs": [],
   "execution_count": 28
  },
  {
   "metadata": {
    "ExecuteTime": {
     "end_time": "2024-09-16T18:45:34.017600Z",
     "start_time": "2024-09-16T18:45:34.013526Z"
    }
   },
   "cell_type": "code",
   "source": [
    "\n",
    "print(len(breweries))\n",
    "\n",
    "print(breweries[0])\n",
    "\n",
    "print(breweries[0].keys())\n",
    "\n",
    "print(breweries[0].values())"
   ],
   "id": "cfd4811dcb38ea11",
   "outputs": [
    {
     "name": "stdout",
     "output_type": "stream",
     "text": [
      "50\n",
      "{'id': '5128df48-79fc-4f0f-8b52-d06be54d0cec', 'name': '(405) Brewing Co', 'brewery_type': 'micro', 'address_1': '1716 Topeka St', 'address_2': None, 'address_3': None, 'city': 'Norman', 'state_province': 'Oklahoma', 'postal_code': '73069-8224', 'country': 'United States', 'longitude': '-97.46818222', 'latitude': '35.25738891', 'phone': '4058160490', 'website_url': 'http://www.405brewing.com', 'state': 'Oklahoma', 'street': '1716 Topeka St'}\n",
      "dict_keys(['id', 'name', 'brewery_type', 'address_1', 'address_2', 'address_3', 'city', 'state_province', 'postal_code', 'country', 'longitude', 'latitude', 'phone', 'website_url', 'state', 'street'])\n",
      "dict_values(['5128df48-79fc-4f0f-8b52-d06be54d0cec', '(405) Brewing Co', 'micro', '1716 Topeka St', None, None, 'Norman', 'Oklahoma', '73069-8224', 'United States', '-97.46818222', '35.25738891', '4058160490', 'http://www.405brewing.com', 'Oklahoma', '1716 Topeka St'])\n"
     ]
    }
   ],
   "execution_count": 29
  }
 ],
 "metadata": {
  "kernelspec": {
   "display_name": "Python 3",
   "language": "python",
   "name": "python3"
  },
  "language_info": {
   "codemirror_mode": {
    "name": "ipython",
    "version": 2
   },
   "file_extension": ".py",
   "mimetype": "text/x-python",
   "name": "python",
   "nbconvert_exporter": "python",
   "pygments_lexer": "ipython2",
   "version": "2.7.6"
  }
 },
 "nbformat": 4,
 "nbformat_minor": 5
}
