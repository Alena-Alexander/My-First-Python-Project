{
 "cells": [
  {
   "metadata": {
    "ExecuteTime": {
     "end_time": "2024-07-16T13:07:18.679267Z",
     "start_time": "2024-07-16T13:07:18.670094Z"
    }
   },
   "cell_type": "code",
   "source": [
    "# Exercise 1\n",
    "a = 20\n",
    "b = 30"
   ],
   "id": "68a5a3a1b9433a1a",
   "outputs": [],
   "execution_count": 1
  },
  {
   "metadata": {
    "ExecuteTime": {
     "end_time": "2024-07-16T13:07:18.693500Z",
     "start_time": "2024-07-16T13:07:18.681906Z"
    }
   },
   "cell_type": "code",
   "source": [
    "# Exercise 2\n",
    "a == b"
   ],
   "id": "991e5daa11f9b56a",
   "outputs": [
    {
     "data": {
      "text/plain": [
       "False"
      ]
     },
     "execution_count": 2,
     "metadata": {},
     "output_type": "execute_result"
    }
   ],
   "execution_count": 2
  },
  {
   "metadata": {
    "ExecuteTime": {
     "end_time": "2024-07-16T13:07:18.701864Z",
     "start_time": "2024-07-16T13:07:18.695630Z"
    }
   },
   "cell_type": "code",
   "source": [
    "# Exercise 3\n",
    "a != b"
   ],
   "id": "311ffa2708b2d980",
   "outputs": [
    {
     "data": {
      "text/plain": [
       "True"
      ]
     },
     "execution_count": 3,
     "metadata": {},
     "output_type": "execute_result"
    }
   ],
   "execution_count": 3
  },
  {
   "metadata": {
    "ExecuteTime": {
     "end_time": "2024-07-16T13:07:18.710577Z",
     "start_time": "2024-07-16T13:07:18.705192Z"
    }
   },
   "cell_type": "code",
   "source": [
    "# Exercise 4\n",
    "a > b"
   ],
   "id": "ecd5c80e5117a608",
   "outputs": [
    {
     "data": {
      "text/plain": [
       "False"
      ]
     },
     "execution_count": 4,
     "metadata": {},
     "output_type": "execute_result"
    }
   ],
   "execution_count": 4
  },
  {
   "metadata": {
    "ExecuteTime": {
     "end_time": "2024-07-16T13:07:18.719968Z",
     "start_time": "2024-07-16T13:07:18.713276Z"
    }
   },
   "cell_type": "code",
   "source": [
    "# Exercise 5\n",
    "a < b"
   ],
   "id": "bd2e75d7c933ef98",
   "outputs": [
    {
     "data": {
      "text/plain": [
       "True"
      ]
     },
     "execution_count": 5,
     "metadata": {},
     "output_type": "execute_result"
    }
   ],
   "execution_count": 5
  },
  {
   "metadata": {
    "ExecuteTime": {
     "end_time": "2024-07-16T13:07:18.771003Z",
     "start_time": "2024-07-16T13:07:18.765647Z"
    }
   },
   "cell_type": "code",
   "source": [
    "# Exercise 6\n",
    "a >= b"
   ],
   "id": "cb355172c3bbd6b9",
   "outputs": [
    {
     "data": {
      "text/plain": [
       "False"
      ]
     },
     "execution_count": 6,
     "metadata": {},
     "output_type": "execute_result"
    }
   ],
   "execution_count": 6
  },
  {
   "metadata": {
    "ExecuteTime": {
     "end_time": "2024-07-16T13:07:18.793010Z",
     "start_time": "2024-07-16T13:07:18.787956Z"
    }
   },
   "cell_type": "code",
   "source": [
    "# Exercise 7\n",
    "a <= b"
   ],
   "id": "c263d513c843e13d",
   "outputs": [
    {
     "data": {
      "text/plain": [
       "True"
      ]
     },
     "execution_count": 7,
     "metadata": {},
     "output_type": "execute_result"
    }
   ],
   "execution_count": 7
  },
  {
   "metadata": {},
   "cell_type": "markdown",
   "source": "If/Else Statements: is a conditional workflow that if true (the 'if' clause) performs some task/action and if not (the 'elif' or 'else' clause) performs an alternative task/action. Note: the 'else' clause is the default fallback when all other conditions are false.",
   "id": "c7dcaece6f6d8dbe"
  },
  {
   "metadata": {
    "ExecuteTime": {
     "end_time": "2024-07-16T13:07:30.012293Z",
     "start_time": "2024-07-16T13:07:18.834565Z"
    }
   },
   "cell_type": "code",
   "source": [
    "# Exercise 1\n",
    "score = int(input(\"What was your (percentage) score? \"))\n"
   ],
   "id": "ed0fec49f80cf3cc",
   "outputs": [],
   "execution_count": 8
  },
  {
   "metadata": {
    "ExecuteTime": {
     "end_time": "2024-07-16T13:07:30.021239Z",
     "start_time": "2024-07-16T13:07:30.015256Z"
    }
   },
   "cell_type": "code",
   "source": [
    "# Exercise 2\n",
    "if score >= 80:\n",
    "    grade = \"A\"\n",
    "elif score >= 70:\n",
    "    grade = \"B\"\n",
    "elif score >= 60:\n",
    "    grade = \"C\"\n",
    "else: # Default fallback\n",
    "    grade = \"F\"\n",
    "print(f\"Your score of {score} corresponds with the letter grade {grade}\")"
   ],
   "id": "2c150c81fe359dc6",
   "outputs": [
    {
     "name": "stdout",
     "output_type": "stream",
     "text": [
      "Your score of 60 corresponds with the letter grade C\n"
     ]
    }
   ],
   "execution_count": 9
  },
  {
   "metadata": {
    "ExecuteTime": {
     "end_time": "2024-07-16T13:07:30.096305Z",
     "start_time": "2024-07-16T13:07:30.092180Z"
    }
   },
   "cell_type": "code",
   "source": [
    "# Exercise 3\n",
    "if True:\n",
    "    pass"
   ],
   "id": "6782378b26588182",
   "outputs": [],
   "execution_count": 10
  },
  {
   "metadata": {},
   "cell_type": "markdown",
   "source": "Logical and membership operators",
   "id": "448dbb17e876cdc7"
  },
  {
   "metadata": {
    "ExecuteTime": {
     "end_time": "2024-07-16T13:08:07.484273Z",
     "start_time": "2024-07-16T13:07:57.755077Z"
    }
   },
   "cell_type": "code",
   "source": [
    "# Exercise 1\n",
    "age = int(input(\"What is your age? \"))\n",
    "season = (input(\"Do you have season pass? \"))"
   ],
   "id": "3e38dcd44c9a35c8",
   "outputs": [],
   "execution_count": 12
  },
  {
   "metadata": {
    "ExecuteTime": {
     "end_time": "2024-07-16T13:08:12.626338Z",
     "start_time": "2024-07-16T13:08:12.620980Z"
    }
   },
   "cell_type": "code",
   "source": [
    "# Exercise 2\n",
    "if age >= 65 or age < 13:\n",
    "    price = 0\n",
    "else:\n",
    "    price = 25\n",
    "    \n",
    "print(f\"The price of the ticket is ${price}\")"
   ],
   "id": "3d12643e9df7a9bd",
   "outputs": [
    {
     "name": "stdout",
     "output_type": "stream",
     "text": [
      "The price of the ticket is $25\n"
     ]
    }
   ],
   "execution_count": 13
  },
  {
   "metadata": {
    "ExecuteTime": {
     "end_time": "2024-07-16T13:08:15.940244Z",
     "start_time": "2024-07-16T13:08:15.934693Z"
    }
   },
   "cell_type": "code",
   "source": [
    "# Exercise 3\n",
    "if season == \"yes\":\n",
    "    price *= 0.6\n",
    "else: \n",
    "    pass\n",
    "    \n",
    "    \n",
    "print(f\"The price of the ticket is ${price}\")"
   ],
   "id": "2de7571dcb671311",
   "outputs": [
    {
     "name": "stdout",
     "output_type": "stream",
     "text": [
      "The price of the ticket is $15.0\n"
     ]
    }
   ],
   "execution_count": 14
  },
  {
   "metadata": {
    "ExecuteTime": {
     "end_time": "2024-07-16T13:41:42.914038Z",
     "start_time": "2024-07-16T13:41:20.839175Z"
    }
   },
   "cell_type": "code",
   "source": [
    "# Jayanth\n",
    "age = int(input(\"What is your age? \"))\n",
    "season_pass = input(\"Do you have season pass: True/False\")\n",
    "discount = 25 * 40/100\n",
    "\n",
    "if age > 65 or age < 13:\n",
    "    print(\"Ticket price: free\")\n",
    "elif (age <= 65 and age >= 13) and season_pass == True: # Doesn't function the way it's meant to because you can't compare a str to a bool(season_pass == True)\n",
    "    print(f\"Ticket price: {discount}\")\n",
    "else:\n",
    "    print(\"Ticket price: 25\")\n"
   ],
   "id": "8152d0bbb92200fb",
   "outputs": [
    {
     "name": "stdout",
     "output_type": "stream",
     "text": [
      "Ticket price: 25\n"
     ]
    }
   ],
   "execution_count": 18
  },
  {
   "metadata": {
    "ExecuteTime": {
     "end_time": "2024-07-16T13:36:09.188861Z",
     "start_time": "2024-07-16T13:36:09.182705Z"
    }
   },
   "cell_type": "code",
   "source": "type(True)",
   "id": "7aa4f82c54dcbdbf",
   "outputs": [
    {
     "data": {
      "text/plain": [
       "bool"
      ]
     },
     "execution_count": 15,
     "metadata": {},
     "output_type": "execute_result"
    }
   ],
   "execution_count": 15
  },
  {
   "metadata": {
    "ExecuteTime": {
     "end_time": "2024-07-16T13:36:22.399347Z",
     "start_time": "2024-07-16T13:36:22.392705Z"
    }
   },
   "cell_type": "code",
   "source": "type(\"True\")",
   "id": "837b7dbc92ae05ee",
   "outputs": [
    {
     "data": {
      "text/plain": [
       "str"
      ]
     },
     "execution_count": 16,
     "metadata": {},
     "output_type": "execute_result"
    }
   ],
   "execution_count": 16
  },
  {
   "metadata": {},
   "cell_type": "markdown",
   "source": "For Loops",
   "id": "9a907ecd85e17fec"
  },
  {
   "metadata": {
    "ExecuteTime": {
     "end_time": "2024-07-17T13:13:22.250578Z",
     "start_time": "2024-07-17T13:13:22.247299Z"
    }
   },
   "cell_type": "code",
   "source": [
    "# Exercise 1\n",
    "planets = [\"Mercury\", \"Venus\", \"Earth\", \"Mars\", \"Jupiter\", \"Saturn\", \"Uranus\", \"Neptune\"]"
   ],
   "id": "cbd9b336a025f961",
   "outputs": [],
   "execution_count": 2
  },
  {
   "metadata": {
    "ExecuteTime": {
     "end_time": "2024-07-17T13:13:24.669062Z",
     "start_time": "2024-07-17T13:13:24.664017Z"
    }
   },
   "cell_type": "code",
   "source": [
    "# Exercise 2\n",
    "for planet in planets:\n",
    "    print(planet)"
   ],
   "id": "6c57cabec19b802a",
   "outputs": [
    {
     "name": "stdout",
     "output_type": "stream",
     "text": [
      "Mercury\n",
      "Venus\n",
      "Earth\n",
      "Mars\n",
      "Jupiter\n",
      "Saturn\n",
      "Uranus\n",
      "Neptune\n"
     ]
    }
   ],
   "execution_count": 3
  },
  {
   "metadata": {
    "ExecuteTime": {
     "end_time": "2024-07-17T13:13:25.076658Z",
     "start_time": "2024-07-17T13:13:25.070395Z"
    }
   },
   "cell_type": "code",
   "source": [
    "# Exercise 3\n",
    "for planets in planets:\n",
    "    if planets == \"Earth\":\n",
    "        continue\n",
    "    print(planets)\n",
    "            "
   ],
   "id": "395f9ab1a3f615a8",
   "outputs": [
    {
     "name": "stdout",
     "output_type": "stream",
     "text": [
      "Mercury\n",
      "Venus\n",
      "Mars\n",
      "Jupiter\n",
      "Saturn\n",
      "Uranus\n",
      "Neptune\n"
     ]
    }
   ],
   "execution_count": 4
  },
  {
   "metadata": {
    "ExecuteTime": {
     "end_time": "2024-07-17T13:13:26.153264Z",
     "start_time": "2024-07-17T13:13:26.148828Z"
    }
   },
   "cell_type": "code",
   "source": [
    "# Extra challenge\n",
    "n = 1\n",
    "\n",
    "for planet in planets:\n",
    "    print(n, planet)\n",
    "    n += 1"
   ],
   "id": "5e688f80aa25f05b",
   "outputs": [
    {
     "name": "stdout",
     "output_type": "stream",
     "text": [
      "1 N\n",
      "2 e\n",
      "3 p\n",
      "4 t\n",
      "5 u\n",
      "6 n\n",
      "7 e\n"
     ]
    }
   ],
   "execution_count": 5
  },
  {
   "metadata": {},
   "cell_type": "markdown",
   "source": "While loops",
   "id": "e308ef0170fec00b"
  },
  {
   "metadata": {
    "ExecuteTime": {
     "end_time": "2024-07-17T14:19:31.680345Z",
     "start_time": "2024-07-17T14:19:31.675621Z"
    }
   },
   "cell_type": "code",
   "source": [
    "# Exercise 1\n",
    "x = 0\n",
    "while x <= 10:\n",
    "    print(x)\n",
    "    x = x + 2"
   ],
   "id": "caae793d0357cff",
   "outputs": [
    {
     "name": "stdout",
     "output_type": "stream",
     "text": [
      "0\n",
      "2\n",
      "4\n",
      "6\n",
      "8\n",
      "10\n"
     ]
    }
   ],
   "execution_count": 6
  },
  {
   "metadata": {
    "ExecuteTime": {
     "end_time": "2024-07-17T14:20:20.685997Z",
     "start_time": "2024-07-17T14:20:20.680384Z"
    }
   },
   "cell_type": "code",
   "source": [
    "# Exercise 2\n",
    "x = 0\n",
    "while x <= 10:\n",
    "    print(x)\n",
    "    x = x + 2\n",
    "    if x == 4:\n",
    "            break"
   ],
   "id": "56312f6e641fc6d8",
   "outputs": [
    {
     "name": "stdout",
     "output_type": "stream",
     "text": [
      "0\n",
      "2\n"
     ]
    }
   ],
   "execution_count": 7
  },
  {
   "metadata": {},
   "cell_type": "markdown",
   "source": "Range",
   "id": "92b5581371537a91"
  },
  {
   "metadata": {
    "ExecuteTime": {
     "end_time": "2024-07-18T14:24:31.316516Z",
     "start_time": "2024-07-18T14:24:31.311994Z"
    }
   },
   "cell_type": "code",
   "source": [
    "# Exercise 1\n",
    "for x in range(11):\n",
    "    print(x)"
   ],
   "id": "38c15117f57a1b50",
   "outputs": [
    {
     "name": "stdout",
     "output_type": "stream",
     "text": [
      "0\n",
      "1\n",
      "2\n",
      "3\n",
      "4\n",
      "5\n",
      "6\n",
      "7\n",
      "8\n",
      "9\n"
     ]
    }
   ],
   "execution_count": 4
  },
  {
   "metadata": {
    "ExecuteTime": {
     "end_time": "2024-07-18T14:26:43.050657Z",
     "start_time": "2024-07-18T14:26:43.045855Z"
    }
   },
   "cell_type": "code",
   "source": [
    "# Exercise 2\n",
    "for x in range(10, 21, 2):\n",
    "    print(x)"
   ],
   "id": "655388610fdf5e3d",
   "outputs": [
    {
     "name": "stdout",
     "output_type": "stream",
     "text": [
      "10\n",
      "12\n",
      "14\n",
      "16\n",
      "18\n",
      "20\n"
     ]
    }
   ],
   "execution_count": 7
  },
  {
   "metadata": {},
   "cell_type": "markdown",
   "source": "Enumerate",
   "id": "2b4358be5df015bb"
  },
  {
   "metadata": {
    "ExecuteTime": {
     "end_time": "2024-07-18T15:18:48.165063Z",
     "start_time": "2024-07-18T15:18:48.160576Z"
    }
   },
   "cell_type": "code",
   "source": [
    "# Exercise 1\n",
    "database = [\"MySQL\", \"PostgreSQL\", \"MongoDB\", \"Redis\"]"
   ],
   "id": "7a90fced39fe1fde",
   "outputs": [],
   "execution_count": 12
  },
  {
   "metadata": {
    "ExecuteTime": {
     "end_time": "2024-07-18T15:18:49.954556Z",
     "start_time": "2024-07-18T15:18:49.949308Z"
    }
   },
   "cell_type": "code",
   "source": [
    "# Exercise 2\n",
    "# i = index, db = database\n",
    "for i, db in enumerate(database):\n",
    "    print(i, db)"
   ],
   "id": "c9c74e9b1fe9a8f1",
   "outputs": [
    {
     "name": "stdout",
     "output_type": "stream",
     "text": [
      "0 MySQL\n",
      "1 PostgreSQL\n",
      "2 MongoDB\n",
      "3 Redis\n"
     ]
    }
   ],
   "execution_count": 13
  },
  {
   "metadata": {},
   "cell_type": "markdown",
   "source": "Loop over Dictionaries",
   "id": "ee46be3113a51229"
  },
  {
   "metadata": {
    "ExecuteTime": {
     "end_time": "2024-07-18T17:17:51.711532Z",
     "start_time": "2024-07-18T17:17:51.665455Z"
    }
   },
   "cell_type": "code",
   "source": [
    "# Exercise 1\n",
    "person = {\"name\": \"Alice\", \"age\": 42, \"email\": \"alice@wonderland.com\", \"country\": \"U.K.\"}"
   ],
   "id": "eddd003562e8fe48",
   "outputs": [],
   "execution_count": 14
  },
  {
   "metadata": {
    "ExecuteTime": {
     "end_time": "2024-07-18T17:17:53.216429Z",
     "start_time": "2024-07-18T17:17:53.118503Z"
    }
   },
   "cell_type": "code",
   "source": [
    "# Exercise 2\n",
    "for key, value in person.items():\n",
    "    print(key, value)"
   ],
   "id": "3a515989225bfafe",
   "outputs": [
    {
     "name": "stdout",
     "output_type": "stream",
     "text": [
      "name Alice\n",
      "age 42\n",
      "email alice@wonderland.com\n",
      "country U.K.\n"
     ]
    }
   ],
   "execution_count": 15
  },
  {
   "metadata": {
    "ExecuteTime": {
     "end_time": "2024-07-18T17:19:45.927043Z",
     "start_time": "2024-07-18T17:19:45.863677Z"
    }
   },
   "cell_type": "code",
   "source": [
    "# Extra challange\n",
    "for key, value in person.items():\n",
    "    print(key, \":\", value)"
   ],
   "id": "ae4fbd8177ff2e80",
   "outputs": [
    {
     "name": "stdout",
     "output_type": "stream",
     "text": [
      "name : Alice\n",
      "age : 42\n",
      "email : alice@wonderland.com\n",
      "country : U.K.\n"
     ]
    }
   ],
   "execution_count": 16
  }
 ],
 "metadata": {
  "kernelspec": {
   "display_name": "Python 3",
   "language": "python",
   "name": "python3"
  },
  "language_info": {
   "codemirror_mode": {
    "name": "ipython",
    "version": 2
   },
   "file_extension": ".py",
   "mimetype": "text/x-python",
   "name": "python",
   "nbconvert_exporter": "python",
   "pygments_lexer": "ipython2",
   "version": "2.7.6"
  }
 },
 "nbformat": 4,
 "nbformat_minor": 5
}
