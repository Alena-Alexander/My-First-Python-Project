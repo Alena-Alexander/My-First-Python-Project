{
 "cells": [
  {
   "metadata": {},
   "cell_type": "markdown",
   "source": [
    "# Mod Divmod\n",
    "One of the built-in functions of Python is divmod, which takes two arguments `a` and `b` and returns a tuple containing the quotient of `a//b` first and then the remainder `a`.\n",
    "\n",
    "For example:\n",
    "```\n",
    ">>> print divmod(177,10)\n",
    "(17, 7)\n",
    "```\n",
    "Here, the integer division is `177/10 => 17` and the modulo operator is `177%10 => 7`\n",
    "\n",
    "# Task \n",
    "Read in two integers, `a` and `b`, and print three lines. \n",
    "The first line is the integer division `a//b` (While using Python2 remember to import division from __future__). \n",
    "The second line is the result of the modulo operator: `a%b`. \n",
    "The third line prints the divmod of `a` and `b`.\n",
    "\n",
    "### Input Format\n",
    "The first line contains the first integer, `a`, and the second line contains the second integer, `b`.\n",
    "\n",
    "### Output Format \n",
    "Print the result as described above.\n",
    "\n",
    "### Sample Input\n",
    "```\n",
    "177\n",
    "10\n",
    "```\n",
    "\n",
    "### Sample Output\n",
    "```\n",
    "17\n",
    "7\n",
    "(17, 7)\n",
    "```"
   ],
   "id": "cd28f1a6e17eb0da"
  },
  {
   "metadata": {
    "ExecuteTime": {
     "end_time": "2024-09-10T16:33:03.495321Z",
     "start_time": "2024-09-10T16:33:03.486365Z"
    }
   },
   "cell_type": "code",
   "source": [
    "# import division from __future__)\n",
    "from __future__ import division\n",
    "\n",
    "# contains the first integer a\n",
    "a = 177\n",
    "\n",
    "# contains the second integer b\n",
    "b = 10\n",
    "\n",
    "# assigns 2 varaibles to the divmod of a and b\n",
    "division, modulus = divmod(a, b)\n",
    "\n",
    "# prints the  integer division a//b (a divided by b)\n",
    "print(division)\n",
    "\n",
    "# prints the result of the modulo operator: a%b.\n",
    "print(modulus)\n",
    "\n",
    "# prints the divimod of a and b\n",
    "print(divmod(a, b))"
   ],
   "id": "initial_id",
   "outputs": [
    {
     "name": "stdout",
     "output_type": "stream",
     "text": [
      "17\n",
      "7\n",
      "(17, 7)\n"
     ]
    }
   ],
   "execution_count": 3
  },
  {
   "metadata": {},
   "cell_type": "code",
   "outputs": [],
   "execution_count": null,
   "source": "",
   "id": "974e550d642b7dea"
  }
 ],
 "metadata": {
  "kernelspec": {
   "display_name": "Python 3",
   "language": "python",
   "name": "python3"
  },
  "language_info": {
   "codemirror_mode": {
    "name": "ipython",
    "version": 2
   },
   "file_extension": ".py",
   "mimetype": "text/x-python",
   "name": "python",
   "nbconvert_exporter": "python",
   "pygments_lexer": "ipython2",
   "version": "2.7.6"
  }
 },
 "nbformat": 4,
 "nbformat_minor": 5
}
