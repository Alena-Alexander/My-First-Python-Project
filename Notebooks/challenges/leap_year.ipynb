{
 "cells": [
  {
   "metadata": {},
   "cell_type": "markdown",
   "source": [
    "# Leap Year\n",
    "\n",
    "An extra day is added to the calendar almost every four years as February 29, \n",
    "and the day is called a leap day. It corrects the calendar for the fact that \n",
    "our planet takes approximately 365.25 days to orbit the sun. A leap year \n",
    "contains a leap day.\n",
    "\n",
    "In the Gregorian calendar, three conditions are used to identify leap years:\n",
    "\n",
    "- The year can be evenly divided by 4, is a leap year, unless (and):\n",
    "  - The year can be evenly divided by 100, it is NOT a leap year, unless:\n",
    "    - The year is also evenly divisible by 400. Then it is a leap year.\n",
    "        \n",
    "This means that in the Gregorian calendar, the years ``2000 and 2400`` are leap years, \n",
    "while ``1800, 1900, 2100, 2200, 2300 and 2500`` are NOT leap years. Source\n",
    "\n"
   ],
   "id": "43f17c2f7c6b3e99"
  },
  {
   "metadata": {},
   "cell_type": "markdown",
   "source": "",
   "id": "ec09940f251fcb9"
  },
  {
   "metadata": {},
   "cell_type": "code",
   "source": [
    "\"\"\"\n",
    "Task:\n",
    "\n",
    "Given a year, determine whether it is a leap year. If it is a leap year, return the Boolean ``True``, otherwise return ``False``.\n",
    "\n",
    "Note: that it is only necessary to complete the is_leap function.\n",
    "\"\"\"\n",
    "from typing import Any\n",
    "def some_function_name(with_some_parameter_of_type: Any) -> Any:... # with return type Any"
   ],
   "id": "c97e7d281c93f45f",
   "outputs": [],
   "execution_count": null
  },
  {
   "metadata": {
    "ExecuteTime": {
     "end_time": "2024-08-12T16:19:41.710244Z",
     "start_time": "2024-08-12T16:19:41.703209Z"
    }
   },
   "cell_type": "code",
   "source": [
    "def is_leap(year: int) -> bool:\n",
    "    \"\"\"\n",
    "Determines whether a given year is a leap year.\n",
    "\n",
    "REQUIREMENTS: \n",
    "============\n",
    "\n",
    "In the Gregorian calendar, three conditions are used to identify leap years, in this order:\n",
    "\n",
    "    - If the year can be evenly divided by 4, \n",
    "      Then it is a leap year, ``if True move to Else If``;\n",
    "    \n",
    "      - Else If the year can be evenly divided by 100, \n",
    "        Then it is ``NOT`` a leap year, ``if True move to Else If``;\n",
    "      \n",
    "        - Else If the year is also evenly divisible by 400, \n",
    "          Then it is a leap year, \n",
    "        \n",
    "    - Else it is ``NOT`` a leap year.\n",
    "    :param year: int: the input year\n",
    "    :return: bool: True if the year is a leap year, False otherwise\n",
    "    \"\"\"\n",
    "    # If the year can be evenly divided by 4, \n",
    "    # Else If the year can be evenly divided by 100, \n",
    "    # Else If the year is also evenly divisible by 400\n",
    "    if year % 4 == 0  and year % 100 == 0 and year % 400 == 0:\n",
    "        return True\n",
    "    # If the year can be evenly divided by 4, \n",
    "    # Else If the year can be evenly divided by 100,\n",
    "    elif year % 4 == 0  and year % 100 != 0:\n",
    "        return True\n",
    "    else:\n",
    "        return False"
   ],
   "id": "9501f4fb2dffe083",
   "outputs": [],
   "execution_count": 18
  },
  {
   "metadata": {
    "ExecuteTime": {
     "end_time": "2024-08-12T16:19:30.779430Z",
     "start_time": "2024-08-12T16:19:30.773219Z"
    }
   },
   "cell_type": "code",
   "source": [
    "__years__ = [2000, 2020, 2024, 2028, 2032, 2400, 1800, 1900, 2100, 2200, 2300, 2500]\n",
    "for y in __years__:\n",
    "    print(f\"Is {y} a leap year: {is_leap(y)}\")\n",
    "# print(f\"Is {2100} a leap year: {is_leap(2100)}\")"
   ],
   "id": "741c7a529f644cb6",
   "outputs": [
    {
     "name": "stdout",
     "output_type": "stream",
     "text": [
      "Is 2000 a leap year: True\n",
      "Is 2020 a leap year: True\n",
      "Is 2024 a leap year: True\n",
      "Is 2028 a leap year: True\n",
      "Is 2032 a leap year: True\n",
      "Is 2400 a leap year: True\n",
      "Is 1800 a leap year: False\n",
      "Is 1900 a leap year: False\n",
      "Is 2100 a leap year: False\n",
      "Is 2200 a leap year: False\n",
      "Is 2300 a leap year: False\n",
      "Is 2500 a leap year: False\n"
     ]
    }
   ],
   "execution_count": 17
  },
  {
   "metadata": {
    "ExecuteTime": {
     "end_time": "2024-08-12T15:59:34.064191Z",
     "start_time": "2024-08-12T15:59:34.052020Z"
    }
   },
   "cell_type": "code",
   "source": [
    "# TODO: In conditional grammar or context the keywords ``unless, dependent, depends, related, relates``, creates an bounded condition to the next or follow up condition(s).\n",
    "\"\"\"\n",
    "REQUIREMENTS: \n",
    "============\n",
    "\n",
    "In the Gregorian calendar, three conditions are used to identify leap years, in this order:\n",
    "\n",
    "    - If the year can be evenly divided by 4, \n",
    "      Then it is a leap year, ``if True move to Else If``;\n",
    "    \n",
    "      - Else If the year can be evenly divided by 100, \n",
    "        Then it is ``NOT`` a leap year, ``if True move to Else If``;\n",
    "      \n",
    "        - Else If the year is also evenly divisible by 400, \n",
    "          Then it is a leap year, \n",
    "        \n",
    "    - Else it is ``NOT`` a leap year.\n",
    "\"\"\"\n",
    "2100 % 4 == 0  and 2100 % 100 == 0 and 2100 % 400 == 0"
   ],
   "id": "274d24c36564dd09",
   "outputs": [
    {
     "data": {
      "text/plain": [
       "False"
      ]
     },
     "execution_count": 11,
     "metadata": {},
     "output_type": "execute_result"
    }
   ],
   "execution_count": 11
  },
  {
   "metadata": {
    "ExecuteTime": {
     "end_time": "2024-08-09T15:17:44.822761Z",
     "start_time": "2024-08-09T15:17:44.814463Z"
    }
   },
   "cell_type": "code",
   "source": [
    "n = 4\n",
    "\n",
    "# If n is even and in the inclusive range of 2 to 5, print Not Weird\n",
    "if n % 2 == 0 and 2 <= n <= 5:\n",
    "    print(\"Not Weird\")\n",
    "    \n",
    "# If n is even and in the inclusive range of 6 to 20, print Weird\n",
    "elif n % 2 == 0 and 6 <= n <= 20:\n",
    "    print(\"Weird\")\n",
    "\n",
    "# If n is even and greater than 20, print Not Weird\n",
    "elif n % 2 == 0 and n > 20:\n",
    "    print(\"Not Weird\")\n",
    "    \n",
    "# If n is odd, print Weird\n",
    "elif n % 2 != 0:\n",
    "    print(\"Weird\")"
   ],
   "id": "2e1541a73e69b689",
   "outputs": [
    {
     "name": "stdout",
     "output_type": "stream",
     "text": [
      "Not Weird\n"
     ]
    }
   ],
   "execution_count": 121
  },
  {
   "metadata": {},
   "cell_type": "code",
   "outputs": [],
   "execution_count": null,
   "source": [
    "\"\"\"\n",
    "\n",
    "\"\"\""
   ],
   "id": "9f2217297a4c4ac"
  },
  {
   "metadata": {},
   "cell_type": "markdown",
   "source": "",
   "id": "202603bf9bf4c3b4"
  },
  {
   "metadata": {
    "ExecuteTime": {
     "end_time": "2024-08-13T18:15:01.965067Z",
     "start_time": "2024-08-13T18:15:01.956104Z"
    }
   },
   "cell_type": "code",
   "source": [
    "class Blueprint: # TODO: CREATION of the Class\n",
    "    \"\"\"KeyValue Store: This class holds keys and values.\"\"\"\n",
    "    keys: any\n",
    "    values: any\n",
    "    # TODO: A CLASS: is a blueprint, skeleton, model, template, shadow of the actual thing the object represents, but not the actual object itself.\n",
    "    # TODO: Constructor (the ``__init__`` function): is the way we create or initialize an ``instance`` (the real solid object) of the class with or without default parameters.\n",
    "    # TODO: ``Arguments``: in programming allow you to customize the behavior of your code. They serve as the input data that a function needs to perform its tasks. Without arguments, programs would be generic and inflexible. Arguments give your code the ability to adapt and handle various situations.\n",
    "    def __init__(self, *args, **kwargs): # Constructor(Arguments, Keyword Arguments)\n",
    "        print(f\"Args: {args}\")\n",
    "        print(f\"Kwargs: {kwargs}\")\n",
    "        self.keys = kwargs.keys() or args[0].keys() or None\n",
    "        self.values = kwargs.values() or args[0].values() or  None\n",
    "    \n",
    "    def __str__(self):\n",
    "        return f\"Keys: {self.keys}, Values: {self.values}\"\n",
    "        \n",
    "blueprint = Blueprint(**{\"key\": \"value\"})  # TODO: Instantiation (or instantiate) of the class: is creating a real life solid object that the class represents.\n",
    "print(blueprint)"
   ],
   "id": "7aab292d3c538c69",
   "outputs": [
    {
     "name": "stdout",
     "output_type": "stream",
     "text": [
      "Args: ()\n",
      "Kwargs: {'key': 'value'}\n",
      "Keys: dict_keys(['key']), Values: dict_values(['value'])\n"
     ]
    }
   ],
   "execution_count": 40
  },
  {
   "metadata": {
    "ExecuteTime": {
     "end_time": "2024-08-13T18:15:53.379583Z",
     "start_time": "2024-08-13T18:15:53.361979Z"
    }
   },
   "cell_type": "code",
   "source": [
    "\n",
    "help(list)"
   ],
   "id": "db78b34a4d76c31",
   "outputs": [
    {
     "name": "stdout",
     "output_type": "stream",
     "text": [
      "Help on list object:\n",
      "\n",
      "class list(object)\n",
      " |  list(iterable=(), /)\n",
      " |  \n",
      " |  Built-in mutable sequence.\n",
      " |  \n",
      " |  If no argument is given, the constructor creates a new empty list.\n",
      " |  The argument must be an iterable if specified.\n",
      " |  \n",
      " |  Methods defined here:\n",
      " |  \n",
      " |  __add__(self, value, /)\n",
      " |      Return self+value.\n",
      " |  \n",
      " |  __contains__(self, key, /)\n",
      " |      Return key in self.\n",
      " |  \n",
      " |  __delitem__(self, key, /)\n",
      " |      Delete self[key].\n",
      " |  \n",
      " |  __eq__(self, value, /)\n",
      " |      Return self==value.\n",
      " |  \n",
      " |  __ge__(self, value, /)\n",
      " |      Return self>=value.\n",
      " |  \n",
      " |  __getattribute__(self, name, /)\n",
      " |      Return getattr(self, name).\n",
      " |  \n",
      " |  __getitem__(...)\n",
      " |      x.__getitem__(y) <==> x[y]\n",
      " |  \n",
      " |  __gt__(self, value, /)\n",
      " |      Return self>value.\n",
      " |  \n",
      " |  __iadd__(self, value, /)\n",
      " |      Implement self+=value.\n",
      " |  \n",
      " |  __imul__(self, value, /)\n",
      " |      Implement self*=value.\n",
      " |  \n",
      " |  __init__(self, /, *args, **kwargs)\n",
      " |      Initialize self.  See help(type(self)) for accurate signature.\n",
      " |  \n",
      " |  __iter__(self, /)\n",
      " |      Implement iter(self).\n",
      " |  \n",
      " |  __le__(self, value, /)\n",
      " |      Return self<=value.\n",
      " |  \n",
      " |  __len__(self, /)\n",
      " |      Return len(self).\n",
      " |  \n",
      " |  __lt__(self, value, /)\n",
      " |      Return self<value.\n",
      " |  \n",
      " |  __mul__(self, value, /)\n",
      " |      Return self*value.\n",
      " |  \n",
      " |  __ne__(self, value, /)\n",
      " |      Return self!=value.\n",
      " |  \n",
      " |  __repr__(self, /)\n",
      " |      Return repr(self).\n",
      " |  \n",
      " |  __reversed__(self, /)\n",
      " |      Return a reverse iterator over the list.\n",
      " |  \n",
      " |  __rmul__(self, value, /)\n",
      " |      Return value*self.\n",
      " |  \n",
      " |  __setitem__(self, key, value, /)\n",
      " |      Set self[key] to value.\n",
      " |  \n",
      " |  __sizeof__(self, /)\n",
      " |      Return the size of the list in memory, in bytes.\n",
      " |  \n",
      " |  append(self, object, /)\n",
      " |      Append object to the end of the list.\n",
      " |  \n",
      " |  clear(self, /)\n",
      " |      Remove all items from list.\n",
      " |  \n",
      " |  copy(self, /)\n",
      " |      Return a shallow copy of the list.\n",
      " |  \n",
      " |  count(self, value, /)\n",
      " |      Return number of occurrences of value.\n",
      " |  \n",
      " |  extend(self, iterable, /)\n",
      " |      Extend list by appending elements from the iterable.\n",
      " |  \n",
      " |  index(self, value, start=0, stop=9223372036854775807, /)\n",
      " |      Return first index of value.\n",
      " |      \n",
      " |      Raises ValueError if the value is not present.\n",
      " |  \n",
      " |  insert(self, index, object, /)\n",
      " |      Insert object before index.\n",
      " |  \n",
      " |  pop(self, index=-1, /)\n",
      " |      Remove and return item at index (default last).\n",
      " |      \n",
      " |      Raises IndexError if list is empty or index is out of range.\n",
      " |  \n",
      " |  remove(self, value, /)\n",
      " |      Remove first occurrence of value.\n",
      " |      \n",
      " |      Raises ValueError if the value is not present.\n",
      " |  \n",
      " |  reverse(self, /)\n",
      " |      Reverse *IN PLACE*.\n",
      " |  \n",
      " |  sort(self, /, *, key=None, reverse=False)\n",
      " |      Sort the list in ascending order and return None.\n",
      " |      \n",
      " |      The sort is in-place (i.e. the list itself is modified) and stable (i.e. the\n",
      " |      order of two equal elements is maintained).\n",
      " |      \n",
      " |      If a key function is given, apply it once to each list item and sort them,\n",
      " |      ascending or descending, according to their function values.\n",
      " |      \n",
      " |      The reverse flag can be set to sort in descending order.\n",
      " |  \n",
      " |  ----------------------------------------------------------------------\n",
      " |  Class methods defined here:\n",
      " |  \n",
      " |  __class_getitem__(...) from builtins.type\n",
      " |      See PEP 585\n",
      " |  \n",
      " |  ----------------------------------------------------------------------\n",
      " |  Static methods defined here:\n",
      " |  \n",
      " |  __new__(*args, **kwargs) from builtins.type\n",
      " |      Create and return a new object.  See help(type) for accurate signature.\n",
      " |  \n",
      " |  ----------------------------------------------------------------------\n",
      " |  Data and other attributes defined here:\n",
      " |  \n",
      " |  __hash__ = None\n",
      "\n"
     ]
    }
   ],
   "execution_count": 43
  },
  {
   "metadata": {
    "ExecuteTime": {
     "end_time": "2024-08-13T23:57:43.389538Z",
     "start_time": "2024-08-13T23:57:43.373045Z"
    }
   },
   "cell_type": "code",
   "source": [
    "# TODO: Input Commands\n",
    "command = \"\"\"12\n",
    "insert 0 5\n",
    "insert 1 10\n",
    "insert 0 6\n",
    "print\n",
    "remove 6\n",
    "append 9\n",
    "append 1\n",
    "sort\"\"\"\n",
    "\n",
    "command = [tuple(line.split(' ')) for line in command.split(\"\\n\")] # [\"insert\", \"0\", \"5\"]\n",
    "print(command)\n",
    "exit(0)"
   ],
   "id": "6e2ed089a904eccb",
   "outputs": [
    {
     "name": "stdout",
     "output_type": "stream",
     "text": [
      "[('12',), ('insert', '0', '5'), ('insert', '1', '10'), ('insert', '0', '6'), ('print',), ('remove', '6'), ('append', '9'), ('append', '1'), ('sort',)]\n"
     ]
    }
   ],
   "execution_count": 1
  },
  {
   "metadata": {},
   "cell_type": "code",
   "outputs": [],
   "execution_count": null,
   "source": "",
   "id": "d8edbe462acad4fe"
  }
 ],
 "metadata": {
  "kernelspec": {
   "display_name": "Python 3",
   "language": "python",
   "name": "python3"
  },
  "language_info": {
   "codemirror_mode": {
    "name": "ipython",
    "version": 2
   },
   "file_extension": ".py",
   "mimetype": "text/x-python",
   "name": "python",
   "nbconvert_exporter": "python",
   "pygments_lexer": "ipython2",
   "version": "2.7.6"
  }
 },
 "nbformat": 4,
 "nbformat_minor": 5
}
