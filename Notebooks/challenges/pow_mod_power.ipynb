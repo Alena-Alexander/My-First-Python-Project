{
 "cells": [
  {
   "metadata": {},
   "cell_type": "markdown",
   "source": [
    "# Power - Mod Power\n",
    "So far, we have only heard of Python's powers. Now, we will witness them!\n",
    "Powers or exponents in Python can be calculated using the built-in power function. Call the power function `a**b` as shown below:\n",
    "```\n",
    ">>> pow(a,b) \n",
    "```\n",
    "or\n",
    "```\n",
    ">>> a**b\n",
    "```\n",
    "It's also possible to calculate `a**b mod m`.\n",
    "```\n",
    ">>> pow(a,b,m) \n",
    "```\n",
    "\n",
    "This is very helpful in computations where you have to print the resultant % mod.\n",
    "Note: Here, `a` and `b` can be floats or negatives, but, if a third argument is present, `b` cannot be negative.\n",
    "Note: Python has a math module that has its own pow(). It takes two arguments and returns a float. It is uncommon to use math.pow().\n",
    "\n",
    "# Task \n",
    "You are given three integers: `a, b, and m`. Print two lines. \n",
    "On the first line, print the result of pow(a,b). On the second line, print the result of pow(a,b,m).\n",
    "\n",
    "### Input Format \n",
    "The first line contains a, the second line contains b, and the third line contains m.\n",
    "\n",
    "# Constraints\n",
    "```\n",
    "1<= a <= 10\n",
    "1<= b <= 10\n",
    "2<= a <= 1000\n",
    "```\n",
    "\n",
    "### Sample Input\n",
    "```\n",
    "3\n",
    "4\n",
    "5\n",
    "```\n",
    "\n",
    "### Sample Output\n",
    "```\n",
    "81\n",
    "1\n",
    "```"
   ],
   "id": "570d2c8410148c86"
  },
  {
   "metadata": {
    "ExecuteTime": {
     "end_time": "2024-09-11T15:51:21.989143Z",
     "start_time": "2024-09-11T15:51:21.823622Z"
    }
   },
   "cell_type": "code",
   "source": [
    "# The first line contains a\n",
    "a = 3\n",
    "\n",
    "# the second line contains b\n",
    "b = 4\n",
    "\n",
    "# the third line contains m\n",
    "m = 5\n",
    "\n",
    "# print the result of pow(a,b)\n",
    "print(pow(a,b))\n",
    "\n",
    "# print the result of pow(a,b,m)\n",
    "print(pow(a,b,m))"
   ],
   "id": "897b1f712814b802",
   "outputs": [
    {
     "name": "stdout",
     "output_type": "stream",
     "text": [
      "81\n",
      "1\n"
     ]
    }
   ],
   "execution_count": 1
  },
  {
   "metadata": {},
   "cell_type": "code",
   "outputs": [],
   "execution_count": null,
   "source": "",
   "id": "55eb927edf646cd1"
  }
 ],
 "metadata": {
  "kernelspec": {
   "display_name": "Python 3",
   "language": "python",
   "name": "python3"
  },
  "language_info": {
   "codemirror_mode": {
    "name": "ipython",
    "version": 2
   },
   "file_extension": ".py",
   "mimetype": "text/x-python",
   "name": "python",
   "nbconvert_exporter": "python",
   "pygments_lexer": "ipython2",
   "version": "2.7.6"
  }
 },
 "nbformat": 4,
 "nbformat_minor": 5
}
