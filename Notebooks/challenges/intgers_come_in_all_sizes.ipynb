{
 "cells": [
  {
   "metadata": {},
   "cell_type": "markdown",
   "source": [
    "# Integers Come In All Sizes\n",
    "Integers in Python can be as big as the bytes in your machine's memory. There is no limit in size as there is: `2**31 - 1` (c++ int) or `2**63 - 1` (C++ long long int).\n",
    "As we know, the result of `a**b` grows really fast with increasing `b`.\n",
    "Let's do some calculations on very large integers.\n",
    "\n",
    "# Task \n",
    "Read four numbers, `a, b, c, and d`, and print the result of `a**b + c**d`.\n",
    "\n",
    "### Constraints \n",
    "```\n",
    "1 <= a <= 1000\n",
    "1 <= b <= 1000\n",
    "1 <= c <= 1000\n",
    "1 <= d <= 1000\n",
    "```\n",
    "\n",
    "### Output Format \n",
    "Print the result of `a**b + c**d` on one line.\n",
    "\n",
    "### Sample Input\n",
    "```\n",
    "9\n",
    "29\n",
    "7\n",
    "27\n",
    "```\n",
    "\n",
    "### Sample Output\n",
    "```\n",
    "4710194409608608369201743232\n",
    "```\n",
    "\n",
    "`Note:` This result is bigger than `2**63 - 1`. Hence, it won't fit in the long long int of C++ or a 64-bit integer.\n"
   ],
   "id": "11d9164f478d24e9"
  },
  {
   "metadata": {
    "ExecuteTime": {
     "end_time": "2024-09-12T16:22:25.474519Z",
     "start_time": "2024-09-12T16:22:25.468699Z"
    }
   },
   "cell_type": "code",
   "source": [
    "# The first line contains a\n",
    "a = 9\n",
    "\n",
    "# The second line contains b\n",
    "b = 29\n",
    "\n",
    "# The third line contains c\n",
    "c = 7\n",
    "\n",
    "# The fourth line contains d\n",
    "d = 27\n",
    "\n",
    "# Print the result of the power of a**b + c**d on one line.\n",
    "print(pow(a, b) + pow(c, d))"
   ],
   "id": "89d254565e46b481",
   "outputs": [
    {
     "name": "stdout",
     "output_type": "stream",
     "text": [
      "4710194409608608369201743232\n"
     ]
    }
   ],
   "execution_count": 2
  },
  {
   "metadata": {},
   "cell_type": "code",
   "outputs": [],
   "execution_count": null,
   "source": "",
   "id": "998f9509f95005ba"
  }
 ],
 "metadata": {
  "kernelspec": {
   "display_name": "Python 3",
   "language": "python",
   "name": "python3"
  },
  "language_info": {
   "codemirror_mode": {
    "name": "ipython",
    "version": 2
   },
   "file_extension": ".py",
   "mimetype": "text/x-python",
   "name": "python",
   "nbconvert_exporter": "python",
   "pygments_lexer": "ipython2",
   "version": "2.7.6"
  }
 },
 "nbformat": 4,
 "nbformat_minor": 5
}
