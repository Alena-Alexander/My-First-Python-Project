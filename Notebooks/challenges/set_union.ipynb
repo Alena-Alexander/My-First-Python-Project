{
 "cells": [
  {
   "metadata": {},
   "cell_type": "markdown",
   "source": [
    "# Set .union() Operation\n",
    "### .union() \n",
    "The .union() operator returns the union of a set and the set of elements in an iterable. \n",
    "Sometimes, the | operator is used in place of .union() operator, but it operates only on the set of elements in set.\n",
    "Set is immutable to the .union() operation (or | operation).\n",
    "\n",
    "### Example\n",
    "```\n",
    ">>> s = set(\"Hacker\")\n",
    ">>> print s.union(\"Rank\")\n",
    "set(['a', 'R', 'c', 'r', 'e', 'H', 'k', 'n'])\n",
    "\n",
    ">>> print s.union(set(['R', 'a', 'n', 'k']))\n",
    "set(['a', 'R', 'c', 'r', 'e', 'H', 'k', 'n'])\n",
    "\n",
    ">>> print s.union(['R', 'a', 'n', 'k'])\n",
    "set(['a', 'R', 'c', 'r', 'e', 'H', 'k', 'n'])\n",
    "\n",
    ">>> print s.union(enumerate(['R', 'a', 'n', 'k']))\n",
    "set(['a', 'c', 'r', 'e', (1, 'a'), (2, 'n'), 'H', 'k', (3, 'k'), (0, 'R')])\n",
    "\n",
    ">>> print s.union({\"Rank\":1})\n",
    "set(['a', 'c', 'r', 'e', 'H', 'k', 'Rank'])\n",
    "\n",
    ">>> s | set(\"Rank\")\n",
    "set(['a', 'R', 'c', 'r', 'e', 'H', 'k', 'n'])\n",
    "```\n",
    "\n",
    "# Task\n",
    "The students of District College have subscriptions to English and French newspapers. Some students have subscribed only to English, some have subscribed to only French and some have subscribed to both newspapers.\n",
    "You are given two sets of student roll numbers. One set has subscribed to the English newspaper, and the other set is subscribed to the French newspaper. The same student could be in both sets. Your task is to find the total number of students who have subscribed to at least one newspaper.\n",
    "\n",
    "### Input Format\n",
    "The first line contains an integer, `n`, the number of students who have subscribed to the English newspaper. \n",
    "The second line contains`n` space separated roll numbers of those students. \n",
    "The third line contains `b`, the number of students who have subscribed to the French newspaper. \n",
    "The fourth line contains `b` space separated roll numbers of those students.\n",
    "\n",
    "### Constraints\n",
    "```\n",
    "0 < Total number of students in college < 1000\n",
    "```\n",
    "\n",
    "### Constraints\n",
    "```\n",
    "9\n",
    "1 2 3 4 5 6 7 8 9\n",
    "9\n",
    "10 1 2 3 11 21 55 6 8\n",
    "```\n",
    "\n",
    "### Sample Output\n",
    "```\n",
    "13\n",
    "``` \n",
    "\n",
    "### Explanation\n",
    "Roll numbers of students who have at least one subscription: `1,2,3,4,5,6,7,8,9,10,11,12`\n",
    " and `55`. Roll numbers: `1,2,3,6 and 8` are in both sets so they are only counted once.\n",
    "Hence, the total is 13 students."
   ],
   "id": "345163f4d4395a1b"
  },
  {
   "metadata": {},
   "cell_type": "markdown",
   "source": "",
   "id": "5488ce79879c7b9b"
  },
  {
   "metadata": {
    "ExecuteTime": {
     "end_time": "2024-08-20T18:13:50.924789Z",
     "start_time": "2024-08-20T18:13:50.841910Z"
    }
   },
   "cell_type": "code",
   "source": [
    "n = 9\n",
    "n_set = set(list(map(int, \"1 2 3 4 5 6 7 8 9\".split(' '))))\n",
    "\n",
    "b = 9\n",
    "b_set = set(list(map(int, \"10 1 2 3 11 21 55 6 8\".split(' '))))\n",
    "\n",
    "print(len(n_set.union(b_set)))"
   ],
   "id": "1b7e4c86c7c6a10",
   "outputs": [
    {
     "name": "stdout",
     "output_type": "stream",
     "text": [
      "13\n"
     ]
    }
   ],
   "execution_count": 33
  }
 ],
 "metadata": {
  "kernelspec": {
   "display_name": "Python 3",
   "language": "python",
   "name": "python3"
  },
  "language_info": {
   "codemirror_mode": {
    "name": "ipython",
    "version": 2
   },
   "file_extension": ".py",
   "mimetype": "text/x-python",
   "name": "python",
   "nbconvert_exporter": "python",
   "pygments_lexer": "ipython2",
   "version": "2.7.6"
  }
 },
 "nbformat": 4,
 "nbformat_minor": 5
}
