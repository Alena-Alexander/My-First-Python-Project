{
 "cells": [
  {
   "metadata": {},
   "cell_type": "markdown",
   "source": [
    "# The Captain's Room\n",
    "Mr. Anant Asankhya is the manager at the INFINITE hotel. The hotel has an infinite amount of rooms.\n",
    "One fine day, a finite number of tourists come to stay at the hotel. \n",
    "The tourists consist of:\n",
    "→ A Captain.\n",
    "→ An unknown group of families consisting of `K` members per group where `K ≠ 1`.\n",
    "The Captain was given a separate room, and the rest were given one room per group.\n",
    "Mr. Anant has an unordered list of randomly arranged room entries. The list consists of the room numbers for all of the tourists. The room numbers will appear `K` times per group except for the Captain's room.\n",
    "Mr. Anant needs you to help him find the Captain's room number. \n",
    "The total number of tourists or the total number of groups of families is not known to you. \n",
    "You only know the value of `K` and the room number list.\n",
    "\n",
    "### Input Format\n",
    "The first line consists of an integer, `K`, the size of each group.\n",
    "The second line contains the unordered elements of the room number list.\n",
    "\n",
    "### Constraints\n",
    "```\n",
    "1 < K < 1000\n",
    "```\n",
    "\n",
    "### Sample Input\n",
    "```\n",
    "5\n",
    "1 2 3 6 5 4 4 2 5 3 6 1 6 5 3 2 4 1 2 5 1 4 3 6 8 4 3 1 5 6 2 \n",
    "```\n",
    "\n",
    "### Sample Output\n",
    "```\n",
    "8\n",
    "```\n",
    "\n",
    "### Explanation\n",
    "The list of room numbers contains `31` elements. Since `K` is `5`, there must be `6` groups of families. In the given list, all of the numbers repeat `5` times except for room number `8`. \n",
    "Hence, `8` is the Captain's room number."
   ],
   "id": "93cae4f21c0410a7"
  },
  {
   "metadata": {
    "ExecuteTime": {
     "end_time": "2024-08-27T18:03:24.776953Z",
     "start_time": "2024-08-27T18:03:24.769903Z"
    }
   },
   "cell_type": "code",
   "source": [
    "from collections import Counter\n",
    "\n",
    "\n",
    "#  size of each group\n",
    "K = 5\n",
    "\n",
    "# the unordered elements of the room number list\n",
    "room = list(map(int,\"1 2 3 6 5 4 4 2 5 3 6 1 6 5 3 2 4 1 2 5 1 4 3 6 8 4 3 1 5 6 2\".split()))\n",
    "\n",
    "# Counts the elements in the list\n",
    "count_room = Counter(room)\n",
    "\n",
    "for cap in count_room:\n",
    "    if count_room[cap] == 1:\n",
    "        print(cap)\n",
    "\n",
    "    \n",
    "\n",
    "\n",
    "\n",
    "\n",
    "    "
   ],
   "id": "e715df0606dbbad7",
   "outputs": [
    {
     "name": "stdout",
     "output_type": "stream",
     "text": [
      "8\n"
     ]
    }
   ],
   "execution_count": 3
  },
  {
   "metadata": {},
   "cell_type": "code",
   "outputs": [],
   "execution_count": null,
   "source": "",
   "id": "8ea74dcc8a8fd0cb"
  }
 ],
 "metadata": {
  "kernelspec": {
   "display_name": "Python 3",
   "language": "python",
   "name": "python3"
  },
  "language_info": {
   "codemirror_mode": {
    "name": "ipython",
    "version": 2
   },
   "file_extension": ".py",
   "mimetype": "text/x-python",
   "name": "python",
   "nbconvert_exporter": "python",
   "pygments_lexer": "ipython2",
   "version": "2.7.6"
  }
 },
 "nbformat": 4,
 "nbformat_minor": 5
}
