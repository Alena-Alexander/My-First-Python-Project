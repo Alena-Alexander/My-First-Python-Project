{
 "cells": [
  {
   "metadata": {},
   "cell_type": "markdown",
   "source": [
    "# Set .intersection() Operation\n",
    "\n",
    "### .intersection()\n",
    "The .intersection() operator returns the intersection of a set and the set of elements in an iterable.\n",
    "Sometimes, the & operator is used in place of the .intersection() operator, but it only operates on the set of elements in set.\n",
    "The set is immutable to the .intersection() operation (or & operation).\n",
    "\n",
    "```\n",
    ">>> s = set(\"Hacker\")\n",
    ">>> print s.intersection(\"Rank\")\n",
    "set(['a', 'k'])\n",
    "\n",
    ">>> print s.intersection(set(['R', 'a', 'n', 'k']))\n",
    "set(['a', 'k'])\n",
    "\n",
    ">>> print s.intersection(['R', 'a', 'n', 'k'])\n",
    "set(['a', 'k'])\n",
    "\n",
    ">>> print s.intersection(enumerate(['R', 'a', 'n', 'k']))\n",
    "set([])\n",
    "\n",
    ">>> print s.intersection({\"Rank\":1})\n",
    "set([])\n",
    "\n",
    ">>> s & set(\"Rank\")\n",
    "set(['a', 'k'])\n",
    "```\n",
    "\n",
    "# Task\n",
    "The students of District College have subscriptions to English and French newspapers. Some students have subscribed only to English, some have subscribed only to French, and some have subscribed to both newspapers.\n",
    "You are given two sets of student roll numbers. One set has subscribed to the English newspaper, one set has subscribed to the French newspaper. Your task is to find the total number of students who have subscribed to both newspapers.\n",
    "\n",
    "### Input Format\n",
    "The first line contains `n`, the number of students who have subscribed to the English newspaper. \n",
    "The second line contains `n` space separated roll numbers of those students.\n",
    "The third line contains `b`, the number of students who have subscribed to the French newspaper. \n",
    "The fourth line contains `b` space separated roll numbers of those students.\n",
    "\n",
    "### Constraints\n",
    "\n",
    "```\n",
    "0 < Total number of students in college < 1000\n",
    "```\n",
    "\n",
    "### Output Format\n",
    "Output the total number of students who have subscriptions to both English and French newspapers.\n",
    "\n",
    "### Sample Input\n",
    "\n",
    "```\n",
    "9\n",
    "1 2 3 4 5 6 7 8 9\n",
    "9\n",
    "10 1 2 3 11 21 55 6 8\n",
    "```\n",
    "\n",
    "### Sample Output\n",
    "\n",
    "```\n",
    "5\n",
    "```\n",
    "### Explanation\n",
    "The roll numbers of students who have both subscriptions:\n",
    "`1,2,3,6 and 8`.\n",
    "Hence, the total is `5` students."
   ],
   "id": "3b68bb14125df263"
  },
  {
   "metadata": {
    "ExecuteTime": {
     "end_time": "2024-08-21T18:51:42.413340Z",
     "start_time": "2024-08-21T18:51:42.401376Z"
    }
   },
   "cell_type": "code",
   "source": [
    "n = 9\n",
    "n_set = set(list(map(int, \"1 2 3 4 5 6 7 8 9\".split(' '))))\n",
    "\n",
    "b = 9\n",
    "b_set = set(list(map(int, \"10 1 2 3 11 21 55 6 8\".split(' '))))\n",
    "\n",
    "print(len(n_set.intersection(b_set)))"
   ],
   "id": "2b7c4780809589a6",
   "outputs": [
    {
     "name": "stdout",
     "output_type": "stream",
     "text": [
      "5\n"
     ]
    }
   ],
   "execution_count": 1
  }
 ],
 "metadata": {
  "kernelspec": {
   "display_name": "Python 3",
   "language": "python",
   "name": "python3"
  },
  "language_info": {
   "codemirror_mode": {
    "name": "ipython",
    "version": 2
   },
   "file_extension": ".py",
   "mimetype": "text/x-python",
   "name": "python",
   "nbconvert_exporter": "python",
   "pygments_lexer": "ipython2",
   "version": "2.7.6"
  }
 },
 "nbformat": 4,
 "nbformat_minor": 5
}
