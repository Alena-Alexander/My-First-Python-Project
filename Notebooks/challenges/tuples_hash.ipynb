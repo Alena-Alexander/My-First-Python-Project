{
 "cells": [
  {
   "metadata": {},
   "cell_type": "markdown",
   "source": [
    "# Tuple Challenge\n",
    "\n",
    "### Task\n",
    " \n",
    "Given an integer, `n`, and `n` space-separated integers as input, create \n",
    "a tuple, `t`, of those `n` integers. Then compute and print the result of `hash(t)`.\n",
    "\n",
    "**Note:** hash() is one of the functions in the `__builtins__` module, so it need not be imported.\n",
    "\n",
    "### Input Format\n",
    "\n",
    "The first line contains an integer, `n`, denoting the number of elements in the tuple. \n",
    "The second line contains `n` space-separated integers describing the elements in tuple .\n",
    "\n",
    "## Output Format\n",
    "\n",
    "Print the result of `hash(t)`.\n",
    "\n",
    "### Sample Input 0\n",
    "\n",
    "```\n",
    "2\n",
    "5 9\n",
    "```\n",
    "\n",
    "### Sample Output 0\n",
    "\n",
    "```\n",
    "3713081631934410656\n",
    "```\n"
   ],
   "id": "46ddd3c5aefb7cbe"
  },
  {
   "metadata": {
    "ExecuteTime": {
     "end_time": "2024-08-14T17:25:33.980312Z",
     "start_time": "2024-08-14T17:25:27.205423Z"
    }
   },
   "cell_type": "code",
   "source": [
    "from typing_extensions import Callable, Iterable, List\n",
    "\n",
    "\n",
    "def mapping(func: Callable, iterable: Iterable) -> Iterable:\n",
    "    \"\"\"Transforms the iterable values by applying the \n",
    "    function to each value.\n",
    "    \n",
    "    usage:\n",
    "        >>> transformed_list = mapping(int, [\"5\", \"9\"])\n",
    "        >>> # Output\n",
    "        >>> # [5, 9]\n",
    "        \n",
    "    :param func: Callable: the function to apply to each element in the iterable.\n",
    "    :param iterable: Iterable: the collection of elements.\n",
    "    :return: List: a list of transformed elements.\n",
    "    \"\"\"\n",
    "\n",
    "# the number of objects in the tuple\n",
    "n = int(input())\n",
    "integer_list = map(int, input().split())\n",
    "print(hash(integer_list))\n",
    "\n",
    "\n",
    "\n",
    "\n",
    "\n",
    "\n"
   ],
   "id": "2d63cac921c5a51e",
   "outputs": [
    {
     "name": "stdout",
     "output_type": "stream",
     "text": [
      "278372898\n"
     ]
    }
   ],
   "execution_count": 33
  }
 ],
 "metadata": {
  "kernelspec": {
   "display_name": "Python 3",
   "language": "python",
   "name": "python3"
  },
  "language_info": {
   "codemirror_mode": {
    "name": "ipython",
    "version": 2
   },
   "file_extension": ".py",
   "mimetype": "text/x-python",
   "name": "python",
   "nbconvert_exporter": "python",
   "pygments_lexer": "ipython2",
   "version": "2.7.6"
  }
 },
 "nbformat": 4,
 "nbformat_minor": 5
}
