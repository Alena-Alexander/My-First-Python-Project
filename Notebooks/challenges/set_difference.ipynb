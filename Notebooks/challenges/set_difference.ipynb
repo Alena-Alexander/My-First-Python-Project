{
 "cells": [
  {
   "metadata": {},
   "cell_type": "markdown",
   "source": [
    "# Set .difference() Operation\n",
    "\n",
    "### .difference()\n",
    "\n",
    "The tool .difference() returns a set with all the elements from the set that are not in an iterable.\n",
    "Sometimes the - operator is used in place of the .difference() tool, but it only operates on the set of elements in set.\n",
    "Set is immutable to the .difference() operation (or the - operation).\n",
    "\n",
    "```\n",
    ">>> s = set(\"Hacker\")\n",
    ">>> print s.difference(\"Rank\")\n",
    "set(['c', 'r', 'e', 'H'])\n",
    "\n",
    ">>> print s.difference(set(['R', 'a', 'n', 'k']))\n",
    "set(['c', 'r', 'e', 'H'])\n",
    "\n",
    ">>> print s.difference(['R', 'a', 'n', 'k'])\n",
    "set(['c', 'r', 'e', 'H'])\n",
    "\n",
    ">>> print s.difference(enumerate(['R', 'a', 'n', 'k']))\n",
    "set(['a', 'c', 'r', 'e', 'H', 'k'])\n",
    "\n",
    ">>> print s.difference({\"Rank\":1})\n",
    "set(['a', 'c', 'e', 'H', 'k', 'r'])\n",
    "\n",
    ">>> s - set(\"Rank\")\n",
    "set(['H', 'c', 'r', 'e'])\n",
    "```\n",
    "\n",
    "# Task\n",
    "\n",
    "Students of District College have a subscription to English and French newspapers. Some students have subscribed to only the English newspaper, some have subscribed to only the French newspaper, and some have subscribed to both newspapers.\n",
    "You are given two sets of student roll numbers. One set has subscribed to the English newspaper, and one set has subscribed to the French newspaper. Your task is to find the total number of students who have subscribed to only English newspapers.\n",
    "\n",
    "### Input Format\n",
    "\n",
    "The first line contains the number of students who have subscribed to the English newspaper. \n",
    "The second line contains the space separated list of student roll numbers who have subscribed to the English newspaper.\n",
    "The third line contains the number of students who have subscribed to the French newspaper. \n",
    "The fourth line contains the space separated list of student roll numbers who have subscribed to the French newspaper.\n",
    "\n",
    "### Constraints\n",
    "\n",
    "0 < Total number of students in college < 1000\n",
    "\n",
    "### Output Format\n",
    "\n",
    "Output the total number of students who are subscribed to the English newspaper only.\n",
    "\n",
    "### Sample Input\n",
    "\n",
    "```\n",
    "9\n",
    "1 2 3 4 5 6 7 8 9\n",
    "9\n",
    "10 1 2 3 11 21 55 6 8\n",
    "```\n",
    "\n",
    "### Sample Output\n",
    "\n",
    "```\n",
    "4\n",
    "```\n",
    "\n",
    "### Explanation\n",
    "\n",
    "The roll numbers of students who only have English newspaper subscriptions are:\n",
    "`4,5,7 and 9`.\n",
    "Hence, the total is `4` students."
   ],
   "id": "6826113ee3056c14"
  },
  {
   "metadata": {
    "ExecuteTime": {
     "end_time": "2024-08-22T18:45:34.541288Z",
     "start_time": "2024-08-22T18:45:34.533119Z"
    }
   },
   "cell_type": "code",
   "source": [
    "e = 9\n",
    "e_set = set(list(map(int, \"1 2 3 4 5 6 7 8 9\".split(' '))))\n",
    "\n",
    "f = 9\n",
    "f_set = set(list(map(int, \"10 1 2 3 11 21 55 6 8\".split(' '))))\n",
    "\n",
    "print(len(e_set.difference(f_set)))"
   ],
   "id": "d09c620bc9de173b",
   "outputs": [
    {
     "name": "stdout",
     "output_type": "stream",
     "text": [
      "4\n"
     ]
    }
   ],
   "execution_count": 2
  },
  {
   "metadata": {},
   "cell_type": "code",
   "outputs": [],
   "execution_count": null,
   "source": "",
   "id": "a1de821ec7aa349e"
  }
 ],
 "metadata": {
  "kernelspec": {
   "display_name": "Python 3",
   "language": "python",
   "name": "python3"
  },
  "language_info": {
   "codemirror_mode": {
    "name": "ipython",
    "version": 2
   },
   "file_extension": ".py",
   "mimetype": "text/x-python",
   "name": "python",
   "nbconvert_exporter": "python",
   "pygments_lexer": "ipython2",
   "version": "2.7.6"
  }
 },
 "nbformat": 4,
 "nbformat_minor": 5
}
