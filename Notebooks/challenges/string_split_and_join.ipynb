{
 "cells": [
  {
   "metadata": {},
   "cell_type": "markdown",
   "source": [
    "# String Split and Join\n",
    "In Python, a string can be split on a delimiter.\n",
    "```\n",
    ">>> a = \"this is a string\"\n",
    ">>> a = a.split(\" \") # a is converted to a list of strings. \n",
    ">>> print a\n",
    "['this', 'is', 'a', 'string']\n",
    "```\n",
    "\n",
    "Joining a string is simple:\n",
    "```\n",
    ">>> a = \"-\".join(a)\n",
    ">>> print a\n",
    "this-is-a-string \n",
    "```\n",
    "\n",
    "# Task\n",
    "You are given a string. Split the string on a \" \" (space) delimiter and join using a - hyphen.\n",
    "\n",
    "### Function Description\n",
    "Complete the split_and_join function in the editor below.\n",
    "\n",
    "split_and_join has the following parameters:\n",
    "- string line: a string of space-separated words\n",
    "\n",
    "### Returns\n",
    "- string: the resulting string\n",
    "\n",
    "### Input Format \n",
    "The one line contains a string consisting of space separated words.\n",
    "\n",
    "### Sample Input\n",
    "```\n",
    "this is a string  \n",
    "```\n",
    "\n",
    "### Sample Output\n",
    "```\n",
    "this-is-a-string\n",
    "```"
   ],
   "id": "7512218ec1bee330"
  },
  {
   "metadata": {
    "ExecuteTime": {
     "end_time": "2024-08-30T17:33:48.478951Z",
     "start_time": "2024-08-30T17:33:48.470684Z"
    }
   },
   "cell_type": "code",
   "source": [
    "# A custom function that splits the string on a \" \" (space) delimiter and join using a - hyphen\n",
    "def split_and_join(line):\n",
    "\n",
    "    # line is converted to a list of strings\n",
    "    # Split the string on a \" \" (space) delimiter\n",
    "    line = line.split(\" \")\n",
    "\n",
    "    # join using a \"-\" hyphen\n",
    "    new_line = \"-\".join(line)\n",
    "    return new_line"
   ],
   "id": "653cf1b482a7a301",
   "outputs": [],
   "execution_count": 3
  },
  {
   "metadata": {
    "ExecuteTime": {
     "end_time": "2024-08-30T17:33:50.966301Z",
     "start_time": "2024-08-30T17:33:50.956355Z"
    }
   },
   "cell_type": "code",
   "source": [
    "test = \"this is a string\"\n",
    "print(split_and_join(test))"
   ],
   "id": "44812a535f518873",
   "outputs": [
    {
     "name": "stdout",
     "output_type": "stream",
     "text": [
      "this is a string\n",
      "['this', 'is', 'a', 'string']\n",
      "this-is-a-string\n",
      "this-is-a-string\n"
     ]
    }
   ],
   "execution_count": 4
  },
  {
   "metadata": {},
   "cell_type": "code",
   "outputs": [],
   "execution_count": null,
   "source": "",
   "id": "61cb0a4aea6293c0"
  }
 ],
 "metadata": {
  "kernelspec": {
   "display_name": "Python 3",
   "language": "python",
   "name": "python3"
  },
  "language_info": {
   "codemirror_mode": {
    "name": "ipython",
    "version": 2
   },
   "file_extension": ".py",
   "mimetype": "text/x-python",
   "name": "python",
   "nbconvert_exporter": "python",
   "pygments_lexer": "ipython2",
   "version": "2.7.6"
  }
 },
 "nbformat": 4,
 "nbformat_minor": 5
}
