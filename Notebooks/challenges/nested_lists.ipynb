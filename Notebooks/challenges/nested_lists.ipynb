{
 "cells": [
  {
   "metadata": {},
   "cell_type": "markdown",
   "source": [
    "# Nested Lists\n",
    "Given the names and grades for each student in a class of `N` students, store them in a nested list and print the name(s) of any student(s) having the second-lowest grade.\n",
    "\n",
    "**Note:** If there are multiple students with the second-lowest grade, order their names alphabetically and print each name on a new line.\n",
    "\n",
    "### Example \n",
    "\n",
    "`records = [[\"chi\", 20.0],[\"beta\", 50.0],[\"alpha\",50.0]]`\n",
    "\n",
    "The ordered list of scores is `[20.0, 50.0]`, so the second-lowest score is 50.0. There are two students with that score: `[\"beta\", \"alpha\"]`. Ordered alphabetically, the names are printed as:\n",
    "\n",
    "```\n",
    "alpha\n",
    "beta\n",
    "```\n",
    "\n",
    "### Input Format\n",
    "The first line contains an integer, `N`, the number of students. \n",
    "The `2N` subsequent lines describe each student over `2` lines. \n",
    "\n",
    "- The first line contains a student's name. \n",
    "- The second line contains their grade.\n",
    "\n",
    "### Constraints\n",
    "\n",
    "- 2 <= N <= 5\n",
    "- here will always be one or more students having the second-lowest grade.\n",
    "\n",
    "\n",
    "### Output Format\n",
    "Print the name(s) of any student(s) having the second-lowest grade in. If there are multiple students, order their names alphabetically and print each one on a new line.\n",
    "\n",
    "### Sample Input 0\n",
    "```\n",
    "5\n",
    "Harry\n",
    "37.21\n",
    "Berry\n",
    "37.21\n",
    "Tina\n",
    "37.2\n",
    "Akriti\n",
    "41\n",
    "Harsh\n",
    "39\n",
    "```\n",
    "\n",
    "### Sample Output 0\n",
    "```\n",
    "Berry\n",
    "Harry\n",
    "```\n",
    "\n",
    "### Explanation 0\n",
    "There are `5` students in this class whose names and grades are assembled to build the following list:\n",
    "python `students = [['Harry', 37.21], ['Berry', 37.21], ['Tina', 37.2], ['Akriti', 41], ['Harsh', 39]]`\n",
    "\n",
    "The lowest grade of `37.2` belongs to Tina. The second-lowest grade of `37.21` belongs to both Harry and Berry, so we order their names alphabetically and print each name on a new line."
   ],
   "id": "958e739242dd5620"
  },
  {
   "metadata": {},
   "cell_type": "code",
   "source": "# TODO: print the name(s) of any student(s) having the second lowest grade.",
   "id": "initial_id",
   "outputs": [],
   "execution_count": null
  },
  {
   "metadata": {},
   "cell_type": "code",
   "source": [
    "from src.utils.sort_algorithms import bubble_sort_by_order_of_2, create_nested_list\n",
    "\n",
    "sorted_list = bubble_sort_by_order_of_2(\n",
    "    [\"Harry\", \"37.21\", \"Berry\", \"37.21\", \"Tina\", \"37.2\", \"Akriti\", \"41\", \"Harsh\", \"39\"]\n",
    ")\n",
    "print(f\"Sorted Values: \\n{sorted_list}\")\n",
    "# Output: ['Tina', '37.2', 'Harry', '37.21', 'Berry', '37.21', 'Harsh', '39', 'Akriti', '41']\n",
    "nested_list = create_nested_list(sorted_list)\n",
    "print(f\"Nested List: \\n{nested_list}\")"
   ],
   "id": "367029288e1aa629",
   "outputs": [],
   "execution_count": null
  },
  {
   "metadata": {},
   "cell_type": "code",
   "source": [
    "import numpy as np\n",
    "\n",
    "# TODO: print the second lowest score\n",
    "for outer_index in np.arange(start=5, stop=0, step=-1):\n",
    "    print(f\"Outer Loop-Pass number: {outer_index}\")\n",
    "    for inner_index in np.arange(start=0, stop=outer_index, step=1):\n",
    "        print(f\"Pass: {outer_index}, Testing element at index: {inner_index}\")"
   ],
   "id": "6877fcc269ff9203",
   "outputs": [],
   "execution_count": null
  },
  {
   "metadata": {
    "ExecuteTime": {
     "end_time": "2024-09-20T19:44:04.813730Z",
     "start_time": "2024-09-20T19:44:04.738676Z"
    }
   },
   "cell_type": "code",
   "source": [
    "from src.utils.sort_algorithms import bubble_sort_by_order_of_2, num_of_identical_scores\n",
    "\n",
    "sorted_list = bubble_sort_by_order_of_2(\n",
    "    [\"Harry\", \"37.21\", \"Berry\", \"37.21\", \"Tina\", \"37.2\", \"Akriti\", \"41\", \"Harsh\", \"39\"]\n",
    ")\n",
    "print(f\"Sorted Values: \\n{sorted_list}\")\n",
    "# It holds the value of the number of persons that have the same score, we initialize it to 1, since at least one score will be the lowest.\n",
    "same_score_count = num_of_identical_scores(sorted_list)\n",
    "\n",
    "print(same_score_count)"
   ],
   "id": "77d22f4bdeb5a06f",
   "outputs": [
    {
     "name": "stdout",
     "output_type": "stream",
     "text": [
      "Duration: 3.790855407714844e-05\n",
      "Sorted Values: \n",
      "['Tina', '37.2', 'Harry', '37.21', 'Berry', '37.21', 'Harsh', '39', 'Akriti', '41']\n",
      "Duration: 5.2928924560546875e-05\n",
      "Index: 1 ==> comparing: 37.2 & 37.21\n",
      "Index: 3 ==> comparing: 37.21 & 37.21\n",
      "Index: 5 ==> comparing: 37.21 & 39\n",
      "Index: 7 ==> comparing: 39 & 41\n",
      "2\n"
     ]
    }
   ],
   "execution_count": 1
  },
  {
   "metadata": {},
   "cell_type": "code",
   "source": [
    "# Count how many of people have the same score\n",
    "nested_list = [\n",
    "    [\"Tina\", \"37.2\"],\n",
    "    [\"Harry\", \"37.21\"],\n",
    "    [\"Berry\", \"37.21\"],\n",
    "    [\"Harsh\", \"39\"],\n",
    "    [\"Akriti\", \"41\"],\n",
    "]\n",
    "same_score_count = 1\n",
    "for i, arr in enumerate(nested_list):\n",
    "    print(f\"First: {arr}, Second: {nested_list[i + 1]}\")\n",
    "    if i == len(nested_list) - 2:\n",
    "        break\n",
    "    if arr[1] == nested_list[i + 1][1]:\n",
    "        same_score_count += 1  # n = n + 1\n",
    "\n",
    "\n",
    "print(same_score_count)"
   ],
   "id": "1b4871a42e7297ed",
   "outputs": [],
   "execution_count": null
  },
  {
   "metadata": {
    "ExecuteTime": {
     "end_time": "2024-09-20T20:00:55.534340Z",
     "start_time": "2024-09-20T20:00:55.524258Z"
    }
   },
   "cell_type": "code",
   "source": [
    "raw_list = [\n",
    "    \"Harry\",\n",
    "    \"37.21\",\n",
    "    \"Berry\",\n",
    "    \"37.21\",\n",
    "    \"Tina\",\n",
    "    \"37.2\",\n",
    "    \"Akriti\",\n",
    "    \"41\",\n",
    "    \"Harsh\",\n",
    "    \"39\",\n",
    "]\n",
    "sentinel = num_of_identical_scores(raw_list)\n",
    "nested_list = [\n",
    "    [\"Tina\", \"37.2\"],\n",
    "    [\"Harry\", \"37.21\"],\n",
    "    [\"Berry\", \"37.21\"],\n",
    "    [\"Harsh\", \"39\"],\n",
    "    [\"Akriti\", \"41\"],\n",
    "]\n",
    "\n",
    "nested_list_count = len(nested_list)\n",
    "second_lowest_score_students = []\n",
    "for index in range(0, nested_list_count - 1):\n",
    "    # print(f\"Comparing: {nested_list[index][1]} < {nested_list[index + 1][1]}\")\n",
    "    if float(nested_list[index][1]) <= float(nested_list[index + 1][1]):\n",
    "        # print(f\"Found: {nested_list[index + 1][0]}\")\n",
    "        second_lowest_score_students.append(nested_list[index + 1][0])\n",
    "        sentinel -= 1  # sentinel = sentinel - 1\n",
    "        if sentinel == 0:\n",
    "            break\n",
    "\n",
    "\n",
    "print(f\"Second lowest score: {second_lowest_score_students}\")\n",
    "for name in second_lowest_score_students:\n",
    "    print(name)"
   ],
   "id": "288a1c4677aef64c",
   "outputs": [
    {
     "name": "stdout",
     "output_type": "stream",
     "text": [
      "Duration: 0.00013303756713867188\n",
      "Index: 1 ==> comparing: 37.2 & 37.21\n",
      "Index: 3 ==> comparing: 37.21 & 37.21\n",
      "Index: 5 ==> comparing: 37.21 & 39\n",
      "Index: 7 ==> comparing: 39 & 41\n",
      "Second lowest score: ['Harry', 'Berry']\n",
      "Harry\n",
      "Berry\n"
     ]
    }
   ],
   "execution_count": 5
  },
  {
   "metadata": {},
   "cell_type": "code",
   "source": "",
   "id": "56880237149c5f5",
   "outputs": [],
   "execution_count": null
  }
 ],
 "metadata": {
  "kernelspec": {
   "display_name": "Python 3",
   "language": "python",
   "name": "python3"
  },
  "language_info": {
   "codemirror_mode": {
    "name": "ipython",
    "version": 2
   },
   "file_extension": ".py",
   "mimetype": "text/x-python",
   "name": "python",
   "nbconvert_exporter": "python",
   "pygments_lexer": "ipython2",
   "version": "2.7.6"
  }
 },
 "nbformat": 4,
 "nbformat_minor": 5
}
