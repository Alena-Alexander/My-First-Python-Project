{
 "cells": [
  {
   "metadata": {},
   "cell_type": "markdown",
   "source": [
    "# Nested Lists\n",
    "Given the names and grades for each student in a class of `N` students, store them in a nested list and print the name(s) of any student(s) having the second-lowest grade.\n",
    "\n",
    "**Note:** If there are multiple students with the second-lowest grade, order their names alphabetically and print each name on a new line.\n",
    "\n",
    "### Example \n",
    "\n",
    "`records = [[\"chi\", 20.0],[\"beta\", 50.0],[\"alpha\",50.0]]`\n",
    "\n",
    "The ordered list of scores is `[20.0, 50.0]`, so the second-lowest score is 50.0. There are two students with that score: `[\"beta\", \"alpha\"]`. Ordered alphabetically, the names are printed as:\n",
    "\n",
    "```\n",
    "alpha\n",
    "beta\n",
    "```\n",
    "\n",
    "### Input Format\n",
    "The first line contains an integer, `N`, the number of students. \n",
    "The `2N` subsequent lines describe each student over `2` lines. \n",
    "\n",
    "- The first line contains a student's name. \n",
    "- The second line contains their grade.\n",
    "\n",
    "### Constraints\n",
    "\n",
    "- 2 <= N <= 5\n",
    "- here will always be one or more students having the second-lowest grade.\n",
    "\n",
    "\n",
    "### Output Format\n",
    "Print the name(s) of any student(s) having the second-lowest grade in. If there are multiple students, order their names alphabetically and print each one on a new line.\n",
    "\n",
    "### Sample Input 0\n",
    "```\n",
    "5\n",
    "Harry\n",
    "37.21\n",
    "Berry\n",
    "37.21\n",
    "Tina\n",
    "37.2\n",
    "Akriti\n",
    "41\n",
    "Harsh\n",
    "39\n",
    "```\n",
    "\n",
    "### Sample Output 0\n",
    "```\n",
    "Berry\n",
    "Harry\n",
    "```\n",
    "\n",
    "### Explanation 0\n",
    "There are `5` students in this class whose names and grades are assembled to build the following list:\n",
    "python `students = [['Harry', 37.21], ['Berry', 37.21], ['Tina', 37.2], ['Akriti', 41], ['Harsh', 39]]`\n",
    "\n",
    "The lowest grade of `37.2` belongs to Tina. The second-lowest grade of `37.21` belongs to both Harry and Berry, so we order their names alphabetically and print each name on a new line."
   ],
   "id": "958e739242dd5620"
  },
  {
   "metadata": {
    "jupyter": {
     "is_executing": true
    }
   },
   "cell_type": "code",
   "source": "# TODO: print the name(s) of any student(s) having the second lowest grade.",
   "id": "initial_id",
   "outputs": [],
   "execution_count": null
  },
  {
   "metadata": {
    "ExecuteTime": {
     "end_time": "2024-09-19T21:51:43.114754Z",
     "start_time": "2024-09-19T21:51:43.107992Z"
    }
   },
   "cell_type": "code",
   "source": [
    "from src.utils.sort_algorithms import bubble_sort_by_order_of_2, create_nested_list\n",
    "\n",
    "sorted_list = bubble_sort_by_order_of_2(['Harry', '37.21', 'Berry', '37.21', 'Tina', '37.2', 'Akriti', '41', 'Harsh', '39'])\n",
    "print(f\"Sorted Values: \\n{sorted_list}\")\n",
    "# Output: ['Tina', '37.2', 'Harry', '37.21', 'Berry', '37.21', 'Harsh', '39', 'Akriti', '41']\n",
    "nested_list = create_nested_list(sorted_list)\n",
    "print(f\"Nested List: \\n{nested_list}\")"
   ],
   "id": "367029288e1aa629",
   "outputs": [
    {
     "name": "stdout",
     "output_type": "stream",
     "text": [
      "Sorted Values: \n",
      "['Tina', '37.2', 'Harry', '37.21', 'Berry', '37.21', 'Harsh', '39', 'Akriti', '41']\n",
      "Nested List: \n",
      "[['Tina', '37.2'], ['Harry', '37.21'], ['Berry', '37.21'], ['Harsh', '39'], ['Akriti', '41']]\n"
     ]
    }
   ],
   "execution_count": 5
  },
  {
   "metadata": {},
   "cell_type": "code",
   "outputs": [],
   "execution_count": null,
   "source": [
    "# TODO: print the second lowest score\n",
    "\n"
   ],
   "id": "6877fcc269ff9203"
  }
 ],
 "metadata": {
  "kernelspec": {
   "display_name": "Python 3",
   "language": "python",
   "name": "python3"
  },
  "language_info": {
   "codemirror_mode": {
    "name": "ipython",
    "version": 2
   },
   "file_extension": ".py",
   "mimetype": "text/x-python",
   "name": "python",
   "nbconvert_exporter": "python",
   "pygments_lexer": "ipython2",
   "version": "2.7.6"
  }
 },
 "nbformat": 4,
 "nbformat_minor": 5
}
