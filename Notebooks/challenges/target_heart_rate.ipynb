{
 "cells": [
  {
   "metadata": {},
   "cell_type": "markdown",
   "source": [
    "<h1> Target Heart Rate Calculator</h1>\n",
    "<hr/>\n",
    "<h2> Target Heart Rate and Estimated Maximum Heart Rate</h2>\n",
    "<hr/>\n",
    "\n",
    "One way of checking physical activity intensity is to determine\n",
    "whether your pulse or heart rate is within the target zone\n",
    "during physical activity.\n",
    "\n",
    "For ``moderate-intensity`` physical activity, your target heart rate\n",
    "should be between ``64% and 76%`` of your ``maximum heart rate``. You\n",
    "can estimate your ``maximum heart rate`` based on your age. To estimate\n",
    "your maximum age-related heart rate, ``subtract your age from 220``.\n",
    "\n",
    "For example, for a 50-year-old person, the estimated maximum\n",
    "age-related heart rate would be calculated as:\n",
    "   - 220 – 50 years = 170 beats per minute (bpm); ``maximum heart rate``.\n",
    "\n",
    "The ``64% and 76%`` target heart rate levels of ``moderate-intensity`` physical activity would be:\n",
    "\n",
    "    - 64% level: 170 x 0.64 = 109 bpm\n",
    "    - 76% level: 170 x 0.76 = 129 bpm\n",
    "\n",
    "This shows that ``moderate-intensity`` physical activity for a 50-year-old\n",
    "person will require that the heart rate remains between 109 and 129 bpm\n",
    "during physical activity.\n",
    "\n",
    "For ``vigorous-intensity`` physical activity, your target heart rate should\n",
    "be between ``77% and 93%`` of your ``maximum heart rate``. To figure out this\n",
    "range, follow the same formula used above, except change ``64% and 76%``\n",
    "to ``77% and 93%``. \n",
    "\n",
    "For example, for a 35-year-old person, the estimated\n",
    "maximum age-related heart rate would be calculated as:\n",
    "   - 220 – 35 years = 185 beats per minute (bpm); ``maximum heart rate``.\n",
    "\n",
    "The ``77% and 93%`` target heart rate levels of ``vigorous-intensity`` physical activity would be:\n",
    "\n",
    "    - 77% level: 185 x 0.77 = 142 bpm\n",
    "    - 93% level: 185 x 0.93 = 172 bpm\n",
    "\n",
    "This shows that ``vigorous-intensity`` physical activity for a 35-year-old\n",
    "person will require that the heart rate remains between 142 and 172 bpm\n",
    "during physical activity.\n"
   ],
   "id": "248886b7990f3018"
  },
  {
   "metadata": {},
   "cell_type": "markdown",
   "source": [
    "Your Task in this exercise will be to create a function to calculate the maximum heart rate of a person, given their age.\n",
    "\n",
    "Below is the pseudocode for the function:\n",
    "- Define a function with the name ``calculate_max_heart_rate`` and parameter ``age``.\n",
    "- Calculate the maximum heart rate by subtracting the ``age`` from ``220`` (``220 - age``).\n",
    "- Return the maximum heart rate as a string with two decimal places (i.e., ``220 - 50 years = 170.00``). The function should return a string representing the maximum heart rate."
   ],
   "id": "952a905f9512bf10"
  },
  {
   "metadata": {
    "ExecuteTime": {
     "end_time": "2024-08-06T20:55:28.230736Z",
     "start_time": "2024-08-06T20:55:28.223053Z"
    }
   },
   "cell_type": "code",
   "source": [
    "\n",
    "def calculate_max_heart_rate(age:int) -> int:\n",
    "    \"\"\"\n",
    "        This function calculates the maximum heart rate of a person, given their age.\n",
    "        \n",
    "        Example:\n",
    "        \n",
    "        >>> calculate_max_heart_rate(50)\n",
    "        \n",
    "        :param age: (int): The age of the person.\n",
    "        :return : (int): The maximum heart rate as an integer with two decimal places.\n",
    "    \"\"\"\n",
    "    maximum_heart_rate= 220 - age\n",
    "    return maximum_heart_rate\n",
    "\n",
    "calculate_max_heart_rate(50)"
   ],
   "id": "282dd81b973202e8",
   "outputs": [
    {
     "data": {
      "text/plain": [
       "170"
      ]
     },
     "execution_count": 47,
     "metadata": {},
     "output_type": "execute_result"
    }
   ],
   "execution_count": 47
  },
  {
   "metadata": {},
   "cell_type": "markdown",
   "source": [
    "Your task in this exercise will be to create a function to calculate the intensity of physical activity, given a person's age and intensity type.\n",
    "\n",
    "Below is the pseudocode for the function:\n",
    "\n",
    "- Define a function with the name ``calculate_intensity`` and parameters ``max_heart_rate``, ``lower_bound``, and ``upper_bound``.\n",
    "- Calculate the lower bound of the target heart rate by multiplying the ``max_heart_rate`` by the ``lower_bound``.\n",
    "- Calculate the upper bound of the target heart rate by multiplying the ``max_heart_rate`` by the ``upper_bound``.\n",
    "- Return the lower bound and upper bound of the target heart rate as a tuple with two decimal places (i.e., ``\"109.00\", \"129.00\"``).  The function should return a tuple of strings representing the lower and upper bounds of the target heart rate.\n",
    "- The function should not print anything. It should just return a tuple.\n",
    "- The function should not perform input/output operations.\n",
    "- Hint: Remember that ``max_heart_rate`` is calculated as ``220 - age``.\n",
    "\n"
   ],
   "id": "d7c24b5cda69b491"
  },
  {
   "metadata": {
    "ExecuteTime": {
     "end_time": "2024-08-06T20:55:28.805819Z",
     "start_time": "2024-08-06T20:55:28.797377Z"
    }
   },
   "cell_type": "code",
   "source": [
    "\n",
    "def calculate_intensity( max_heart_rate: int, lower_bound: float, upper_bound: float):\n",
    "    \"\"\"\n",
    "        This function calculates the intensity of physical activity, given a person's age and intensity type.\n",
    "        \n",
    "        Example:\n",
    "        \n",
    "        >>> calculate_intensity(170, 0.64, 0.76)\n",
    "        \n",
    "        :param max_heart_rate: (int): The maximum heart rate of the person.\n",
    "        :param lower_bound: (float): The lower bound of the target heart rate.\n",
    "        :param upper_bound: (float): The upper bound of the target heart rate.\n",
    "        :return: (tuple): A tuple of strings representing the lower and upper bounds of the target heart rate, to two decimal places.\n",
    "            \n",
    "    \"\"\"\n",
    "    lower_bound = max_heart_rate * lower_bound\n",
    "    upper_bound = max_heart_rate * upper_bound\n",
    "    return f\"{lower_bound:.2f}\", f\"{upper_bound:.2f}\"\n",
    "    \n",
    "calculate_intensity(170, 0.64, 0.76)"
   ],
   "id": "e4bed89d6df2c268",
   "outputs": [
    {
     "data": {
      "text/plain": [
       "('108.80', '129.20')"
      ]
     },
     "execution_count": 48,
     "metadata": {},
     "output_type": "execute_result"
    }
   ],
   "execution_count": 48
  },
  {
   "metadata": {},
   "cell_type": "markdown",
   "source": "Your task in this exercise will be to provide an implementation of the process of calcuating the maximum heart rate of a person, given their age. For ``moderate`` and ``vigorous`` intensity levels, you will also calculate the target heart rate range and print the values on the console.",
   "id": "96746ef94e259a23"
  },
  {
   "metadata": {
    "ExecuteTime": {
     "end_time": "2024-08-06T21:03:12.927993Z",
     "start_time": "2024-08-06T21:03:12.922072Z"
    }
   },
   "cell_type": "code",
   "source": [
    "\"\"\"Provide your implementation below.\"\"\"\n",
    "results = calculate_intensity(\n",
    "    max_heart_rate=calculate_max_heart_rate(50), \n",
    "    lower_bound=0.64, \n",
    "    upper_bound=0.76\n",
    ")\n",
    "print(results)\n",
    "\n",
    "results = calculate_intensity(\n",
    "max_heart_rate = calculate_max_heart_rate(35),\n",
    "lower_bound=0.77,\n",
    "upper_bound=0.93\n",
    ")\n",
    "print(results)\n"
   ],
   "id": "12d98f0287fc849e",
   "outputs": [
    {
     "name": "stdout",
     "output_type": "stream",
     "text": [
      "('108.80', '129.20')\n",
      "('142.45', '172.05')\n"
     ]
    }
   ],
   "execution_count": 52
  }
 ],
 "metadata": {
  "kernelspec": {
   "display_name": "Python 3",
   "language": "python",
   "name": "python3"
  },
  "language_info": {
   "codemirror_mode": {
    "name": "ipython",
    "version": 2
   },
   "file_extension": ".py",
   "mimetype": "text/x-python",
   "name": "python",
   "nbconvert_exporter": "python",
   "pygments_lexer": "ipython2",
   "version": "2.7.6"
  }
 },
 "nbformat": 4,
 "nbformat_minor": 5
}
