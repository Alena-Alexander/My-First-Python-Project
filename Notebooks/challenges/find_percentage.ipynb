{
 "cells": [
  {
   "cell_type": "code",
   "id": "initial_id",
   "metadata": {
    "collapsed": true,
    "ExecuteTime": {
     "end_time": "2024-08-15T19:36:30.701774Z",
     "start_time": "2024-08-15T19:36:30.690704Z"
    }
   },
   "source": [
    "import statistics\n",
    "\n",
    "# n = int(input())\n",
    "n = 2\n",
    "raw_record = [\"Harsh 25 26.5 28\", \"Anurag 26 28 30\"]\n",
    "student_marks = {}\n",
    "for i in range(n):\n",
    "    name, *line = raw_record[i].split()\n",
    "    scores = list(map(float, line))\n",
    "    student_marks[name] = scores\n",
    "    print(f\"name: {name}, scores: {scores}\")\n",
    "query_name = \"Harsh\"\n",
    "\n",
    "average = statistics.mean(student_marks[query_name])\n",
    "print(format(\"%.2f\" % average))"
   ],
   "outputs": [
    {
     "name": "stdout",
     "output_type": "stream",
     "text": [
      "name: Harsh, scores: [25.0, 26.5, 28.0]\n",
      "name: Anurag, scores: [26.0, 28.0, 30.0]\n",
      "26.50\n"
     ]
    }
   ],
   "execution_count": 9
  },
  {
   "metadata": {},
   "cell_type": "code",
   "outputs": [],
   "execution_count": null,
   "source": "",
   "id": "430333170ceccde6"
  }
 ],
 "metadata": {
  "kernelspec": {
   "display_name": "Python 3",
   "language": "python",
   "name": "python3"
  },
  "language_info": {
   "codemirror_mode": {
    "name": "ipython",
    "version": 2
   },
   "file_extension": ".py",
   "mimetype": "text/x-python",
   "name": "python",
   "nbconvert_exporter": "python",
   "pygments_lexer": "ipython2",
   "version": "2.7.6"
  }
 },
 "nbformat": 4,
 "nbformat_minor": 5
}
