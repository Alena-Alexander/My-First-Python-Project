{
 "cells": [
  {
   "metadata": {},
   "cell_type": "markdown",
   "source": [
    "# Check Subset\n",
    "You are given two sets, `A` and `B`. \n",
    "Your job is to find whether set `A` is a subset of set `B`.\n",
    "\n",
    "If set `A` is subset of set `B`, print True.\n",
    "If set `A` is not a subset of set `B`, print False.\n",
    "\n",
    "### Input Format\n",
    "The first line will contain the number of test cases, T. \n",
    "The first line of each test case contains the number of elements in set A.\n",
    "The second line of each test case contains the space separated elements of set A.\n",
    "The third line of each test case contains the number of elements in set B.\n",
    "The fourth line of each test case contains the space separated elements of set B.\n",
    "\n",
    "### Constraints\n",
    "```\n",
    "- 0 < T < 21\n",
    "- 0 < Number of elements in each set < 1001\n",
    "```\n",
    "\n",
    "### Output Format\n",
    "Output `True` or `False` for each test case on separate lines.\n",
    "\n",
    "### Sample Input\n",
    "```\n",
    "3\n",
    "5\n",
    "1 2 3 5 6\n",
    "9\n",
    "9 8 5 6 3 2 1 4 7\n",
    "1\n",
    "2\n",
    "5\n",
    "3 6 5 4 1\n",
    "7\n",
    "1 2 3 5 6 8 9\n",
    "3\n",
    "9 8 2\n",
    "```\n",
    "\n",
    "### Sample Output\n",
    "```\n",
    "True \n",
    "False\n",
    "False\n",
    "```\n",
    "\n",
    "### Explanation\n",
    "`Test Case 01 Explanation`\n",
    "Set A = {1 2 3 5 6} \n",
    "Set B = {9 8 5 6 3 2 1 4 7} \n",
    "All the elements of set A are elements of set B. \n",
    "Hence, set A is a subset of set B."
   ],
   "id": "1be38f361c0c09be"
  },
  {
   "metadata": {
    "ExecuteTime": {
     "end_time": "2024-08-28T17:11:44.430411Z",
     "start_time": "2024-08-28T17:11:44.422455Z"
    }
   },
   "cell_type": "code",
   "source": [
    "# the number of test cases\n",
    "test_cases = 2\n",
    " \n",
    "\n",
    "for s in range(test_cases):\n",
    "    len_of_A = 5 # number of elements in set A\n",
    "    set_A = set(map(int, \"1 2 3 5 6\".split(' '))) # set A\n",
    "    \n",
    "    len_of_B = 9 # number of elements in set B\n",
    "    set_B = set(map(int, \"9 8 5 6 3 2 1 4 7\".split(' '))) # set B\n",
    "    \n",
    "    # prints true if set A is a subset of set B, prints False if it's not\n",
    "    if len(set_A.intersection(set_B))== len_of_A: \n",
    "        print(\"True\")\n",
    "    else: \n",
    "        print(\"False\")\n",
    "    "
   ],
   "id": "ac194426316323f4",
   "outputs": [
    {
     "name": "stdout",
     "output_type": "stream",
     "text": [
      "True\n",
      "True\n"
     ]
    }
   ],
   "execution_count": 9
  },
  {
   "metadata": {},
   "cell_type": "code",
   "outputs": [],
   "execution_count": null,
   "source": "",
   "id": "8c14a56bc79215b8"
  }
 ],
 "metadata": {
  "kernelspec": {
   "display_name": "Python 3",
   "language": "python",
   "name": "python3"
  },
  "language_info": {
   "codemirror_mode": {
    "name": "ipython",
    "version": 2
   },
   "file_extension": ".py",
   "mimetype": "text/x-python",
   "name": "python",
   "nbconvert_exporter": "python",
   "pygments_lexer": "ipython2",
   "version": "2.7.6"
  }
 },
 "nbformat": 4,
 "nbformat_minor": 5
}
