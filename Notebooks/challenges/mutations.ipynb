{
 "cells": [
  {
   "metadata": {},
   "cell_type": "markdown",
   "source": [
    "# Mutations\n",
    "We have seen that lists are mutable (they can be changed), and tuples are immutable (they cannot be changed).\n",
    "Let's try to understand this with an example.\n",
    "You are given an immutable string, and you want to make changes to it.\n",
    "### Example\n",
    "```\n",
    ">>> string = \"abracadabra\"\n",
    "```\n",
    "\n",
    "You can access an index by:\n",
    "```\n",
    ">>> print string[5]\n",
    "a\n",
    "```\n",
    "\n",
    "What if you would like to assign a value?\n",
    "```\n",
    ">>> string[5] = 'k' \n",
    "Traceback (most recent call last):\n",
    "  File \"<stdin>\", line 1, in <module>\n",
    "TypeError: 'str' object does not support item assignment\n",
    "```\n",
    "\n",
    "How would you approach this?\n",
    "- One solution is to convert the string to a list and then change the value.\n",
    "\n",
    "### Example\n",
    "```\n",
    ">>> string = \"abracadabra\"\n",
    ">>> l = list(string)\n",
    ">>> l[5] = 'k'\n",
    ">>> string = ''.join(l)\n",
    ">>> print string\n",
    "abrackdabra\n",
    "```\n",
    "- Another approach is to slice the string and join it back.\n",
    "Example\n",
    "```\n",
    ">>> string = string[:5] + \"k\" + string[6:]\n",
    ">>> print string\n",
    "abrackdabra\n",
    "```\n",
    "\n",
    "# Task\n",
    "Read a given string, change the character at a given index and then print the modified string. \n",
    "\n",
    "### Function Description\n",
    "Complete the mutate_string function in the editor below.\n",
    "mutate_string has the following parameters:\n",
    "\n",
    "- string string: the string to change\n",
    "- int position: the index to insert the character at\n",
    "- string character: the character to insert\n",
    "\n",
    "### Returns\n",
    "- string: the altered string\n",
    "\n",
    "### Input Format\n",
    "The first line contains a string, `string`. \n",
    "The next line contains an integer `position`, the index location and a string `character`, separated by a space.\n",
    "\n",
    "### Sample Input\n",
    "```\n",
    "STDIN           Function\n",
    "-----           --------\n",
    "abracadabra     s = 'abracadabra'\n",
    "5 k             position = 5, character = 'k'\n",
    "```\n",
    "\n",
    "### Sample Output\n",
    "```\n",
    "abrackdabra\n",
    "```"
   ],
   "id": "a5c36e4b58a4f41b"
  },
  {
   "metadata": {
    "ExecuteTime": {
     "end_time": "2024-09-03T22:56:00.278637Z",
     "start_time": "2024-09-03T22:56:00.272307Z"
    }
   },
   "cell_type": "code",
   "source": [
    "# A functions that reads a given string, change the character at a given index and then print the modified string.\n",
    "\n",
    "\n",
    "def mutate_string(string, position, character):\n",
    "    # change the string into a list\n",
    "    new_list = list(string)\n",
    "    # replace a string character with a new one\n",
    "    new_list[position] = character\n",
    "    # separate the string character by space\n",
    "    final_list = \"\".join(new_list)\n",
    "    return final_list"
   ],
   "id": "e6c62b321106e7e3",
   "outputs": [],
   "execution_count": 12
  },
  {
   "metadata": {
    "ExecuteTime": {
     "end_time": "2024-09-03T22:56:00.530536Z",
     "start_time": "2024-09-03T22:56:00.524426Z"
    }
   },
   "cell_type": "code",
   "source": [
    "string = \"abracadabra\"\n",
    "mutate_string(string, int(5), \"k\")"
   ],
   "id": "53299f7395215b4d",
   "outputs": [
    {
     "data": {
      "text/plain": [
       "'abrackdabra'"
      ]
     },
     "execution_count": 13,
     "metadata": {},
     "output_type": "execute_result"
    }
   ],
   "execution_count": 13
  },
  {
   "metadata": {},
   "cell_type": "code",
   "outputs": [],
   "execution_count": null,
   "source": "",
   "id": "8f232e6757c989c7"
  }
 ],
 "metadata": {
  "kernelspec": {
   "display_name": "Python 3",
   "language": "python",
   "name": "python3"
  },
  "language_info": {
   "codemirror_mode": {
    "name": "ipython",
    "version": 2
   },
   "file_extension": ".py",
   "mimetype": "text/x-python",
   "name": "python",
   "nbconvert_exporter": "python",
   "pygments_lexer": "ipython2",
   "version": "2.7.6"
  }
 },
 "nbformat": 4,
 "nbformat_minor": 5
}
