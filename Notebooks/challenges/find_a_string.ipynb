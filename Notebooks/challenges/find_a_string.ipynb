{
 "cells": [
  {
   "metadata": {},
   "cell_type": "markdown",
   "source": [
    "#  Find a string\n",
    "In this challenge, the user enters a string and a substring. You have to print the number of times that the substring occurs in the given string. String traversal will take place from left to right, not from right to left.\n",
    "`NOTE:` String letters are case-sensitive.\n",
    "\n",
    "### Input Format\n",
    "The first line of input contains the original string. The next line contains the substring.\n",
    "\n",
    "### Constraints\n",
    "```python\n",
    "1 <= len(string) <= 200\n",
    "# Each character in the string is an ascii character.\n",
    "```\n",
    "\n",
    "### Output Format\n",
    "Output the integer number indicating the total number of occurrences of the substring in the original string.\n",
    "\n",
    "### Sample Input\n",
    "```\n",
    "ABCDCDC\n",
    "CDC\n",
    "```\n",
    "\n",
    "### Sample Output\n",
    "```\n",
    "2\n",
    "```\n",
    "\n",
    "### Concept\n",
    "Some string processing examples, such as these, might be useful. \n",
    "There are a couple of new concepts: \n",
    "In Python, the length of a string is found by the function len(s), where  is the string. \n",
    "To traverse through the length of a string, use a for loop:Some string processing examples, such as these, might be useful. \n",
    "There are a couple of new concepts: \n",
    "In Python, the length of a string is found by the function len(s), where  is the string. \n",
    "\n",
    "To traverse through the length of a string, use a for loop:\n",
    "```python\n",
    "for i in range(0, len(s)):\n",
    "    print (s[i])\n",
    "```\n",
    "\n",
    "A range function is used to loop over some length:\n",
    "```python\n",
    "range (0, 5)\n",
    "```\n",
    "Here, the range loops over 0 to 4. 5 is excluded."
   ],
   "id": "d4ba9d54d99a0a3"
  },
  {
   "metadata": {
    "ExecuteTime": {
     "end_time": "2024-09-13T17:38:10.732256Z",
     "start_time": "2024-09-13T17:38:10.726917Z"
    }
   },
   "cell_type": "code",
   "source": [
    "\n",
    "# Outputs the integer number indicating the total number of occurrences of the substring in the original string\n",
    "def count_substring(__string, __sub_string):\n",
    "    if __sub_string in __string: # if the substring is in string\n",
    "        string_list = __string.split(__sub_string) # splits the string based on the amount of occurrences of the sub string in it\n",
    "        number_of_occurrence = len(string_list) - 1 # number_of_occurence = the length of the list string\n",
    "        print(string_list)\n",
    "    else:\n",
    "        number_of_occurrence = 0\n",
    "    return number_of_occurrence\n"
   ],
   "id": "5a9aa7a5d49cf7ac",
   "outputs": [],
   "execution_count": 13
  },
  {
   "metadata": {
    "ExecuteTime": {
     "end_time": "2024-09-13T17:38:11.485332Z",
     "start_time": "2024-09-13T17:38:11.476582Z"
    }
   },
   "cell_type": "code",
   "source": [
    "\n",
    "# contains the original string\n",
    "string = \"ABCDCDC\"\n",
    "\n",
    "# contains the substring\n",
    "sub_string = \"CDC\"\n",
    "count_substring(string, sub_string)"
   ],
   "id": "9e2fee06dcc1b2fd",
   "outputs": [
    {
     "name": "stdout",
     "output_type": "stream",
     "text": [
      "['AB', 'DC']\n"
     ]
    },
    {
     "data": {
      "text/plain": [
       "1"
      ]
     },
     "execution_count": 14,
     "metadata": {},
     "output_type": "execute_result"
    }
   ],
   "execution_count": 14
  },
  {
   "metadata": {
    "ExecuteTime": {
     "end_time": "2024-09-13T18:16:33.189248Z",
     "start_time": "2024-09-13T18:16:33.181185Z"
    }
   },
   "cell_type": "code",
   "source": [
    "def count_sub_string(__string__: str, __substring__: str):\n",
    "    try:\n",
    "        substring_start_pointer = 0\n",
    "        substring_len = len(__substring__)  # constant\n",
    "        counter = 0\n",
    "        while True:\n",
    "            # get the next substring from start point to substring length\n",
    "            # \"somestring\" we are clipping the substring from index ['i' : 'n + i'], would return [so]\n",
    "            next_substring = __string__[substring_start_pointer : (substring_len + substring_start_pointer)]  # i to(:) n\n",
    "            print(f\"Start: {substring_start_pointer}, End: {(substring_len + substring_start_pointer)} = {next_substring}\")\n",
    "            # we check the next substring and compare with our substring\n",
    "            if next_substring == __substring__:\n",
    "                counter += 1  # increment the counter\n",
    "                substring_start_pointer+=1  # increment the pointer\n",
    "            else:\n",
    "                substring_start_pointer+=1  # increment the pointer\n",
    "            \n",
    "            # check to make sure the pointer plus substring length does not exceed the length of the original sting\n",
    "            if (substring_start_pointer + substring_len) > len(__string__):  # if (n + i) > string length, break\n",
    "                print(f\"Pointer length: {(substring_start_pointer + substring_len)} is the same as string length: {len(__string__)}\")\n",
    "                print(\"End of the string is reached...\")\n",
    "                break\n",
    "            \n",
    "        return counter\n",
    "    except Exception:\n",
    "        return 0"
   ],
   "id": "c7893c8829b86d38",
   "outputs": [],
   "execution_count": 40
  },
  {
   "metadata": {
    "ExecuteTime": {
     "end_time": "2024-09-13T18:24:57.126241Z",
     "start_time": "2024-09-13T18:24:57.089654Z"
    }
   },
   "cell_type": "code",
   "source": [
    "# contains the original string\n",
    "string = \"WoW!ItSCoOWoWW\"\n",
    "\n",
    "# contains the substring\n",
    "sub_string = \"oW\"\n",
    "print(count_sub_string(string, sub_string))"
   ],
   "id": "593bea230734f124",
   "outputs": [
    {
     "name": "stdout",
     "output_type": "stream",
     "text": [
      "2\n"
     ]
    }
   ],
   "execution_count": 43
  },
  {
   "metadata": {},
   "cell_type": "code",
   "outputs": [],
   "execution_count": null,
   "source": "",
   "id": "2697c9c6c39f88d1"
  }
 ],
 "metadata": {
  "kernelspec": {
   "display_name": "Python 3",
   "language": "python",
   "name": "python3"
  },
  "language_info": {
   "codemirror_mode": {
    "name": "ipython",
    "version": 2
   },
   "file_extension": ".py",
   "mimetype": "text/x-python",
   "name": "python",
   "nbconvert_exporter": "python",
   "pygments_lexer": "ipython2",
   "version": "2.7.6"
  }
 },
 "nbformat": 4,
 "nbformat_minor": 5
}
