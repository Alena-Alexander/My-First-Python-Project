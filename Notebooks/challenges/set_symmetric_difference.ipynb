{
 "cells": [
  {
   "metadata": {},
   "cell_type": "markdown",
   "source": [
    "# Set .symmetric_difference() Operation\n",
    "\n",
    "### .symmetric_difference()\n",
    "\n",
    "The .symmetric_difference() operator returns a set with all the elements that are in the set and the iterable but not both.\n",
    "Sometimes, a ^ operator is used in place of the .symmetric_difference() tool, but it only operates on the set of elements in set.\n",
    "The set is immutable to the .symmetric_difference() operation (or ^ operation).\n",
    "\n",
    "```\n",
    ">>> s = set(\"Hacker\")\n",
    ">>> print s.symmetric_difference(\"Rank\")\n",
    "set(['c', 'e', 'H', 'n', 'R', 'r'])\n",
    "\n",
    ">>> print s.symmetric_difference(set(['R', 'a', 'n', 'k']))\n",
    "set(['c', 'e', 'H', 'n', 'R', 'r'])\n",
    "\n",
    ">>> print s.symmetric_difference(['R', 'a', 'n', 'k'])\n",
    "set(['c', 'e', 'H', 'n', 'R', 'r'])\n",
    "\n",
    ">>> print s.symmetric_difference(enumerate(['R', 'a', 'n', 'k']))\n",
    "set(['a', 'c', 'e', 'H', (0, 'R'), 'r', (2, 'n'), 'k', (1, 'a'), (3, 'k')])\n",
    "\n",
    ">>> print s.symmetric_difference({\"Rank\":1})\n",
    "set(['a', 'c', 'e', 'H', 'k', 'Rank', 'r'])\n",
    "\n",
    ">>> s ^ set(\"Rank\")\n",
    "set(['c', 'e', 'H', 'n', 'R', 'r'])\n",
    "```\n",
    "\n",
    "# Task\n",
    "\n",
    "Students of District College have subscriptions to English and French newspapers. Some students have subscribed to English only, some have subscribed to French only, and some have subscribed to both newspapers.\n",
    "You are given two sets of student roll numbers. One set has subscribed to the English newspaper, and one set has subscribed to the French newspaper. Your task is to find the total number of students who have subscribed to either the English or the French newspaper but not both.\n",
    "\n",
    "### Input Format\n",
    "\n",
    "The first line contains the number of students who have subscribed to the English newspaper. \n",
    "The second line contains the space separated list of student roll numbers who have subscribed to the English newspaper.\n",
    "The third line contains the number of students who have subscribed to the French newspaper. \n",
    "The fourth line contains the space separated list of student roll numbers who have subscribed to the French newspaper.\n",
    "\n",
    "### Constraints\n",
    "\n",
    "```\n",
    "0 < Total number of students in college < 0\n",
    "```\n",
    "\n",
    "### Output Format\n",
    "\n",
    "Output total number of students who have subscriptions to the English or the French newspaper but not both.\n",
    "\n",
    "### Sample Input\n",
    "\n",
    "```\n",
    "9\n",
    "1 2 3 4 5 6 7 8 9\n",
    "9\n",
    "10 1 2 3 11 21 55 6 8\n",
    "```\n",
    "\n",
    "### Sample Output\n",
    "\n",
    "```\n",
    "8\n",
    "```\n",
    "\n",
    "### Explanation\n",
    "\n",
    "The roll numbers of students who have subscriptions to English or French newspapers but `4,5,7,9,10,11,21 and 55` not both are:\n",
    " and .\n",
    "Hence, the total is `8` students."
   ],
   "id": "754bd4ca449a95b5"
  },
  {
   "metadata": {
    "ExecuteTime": {
     "end_time": "2024-08-23T20:18:29.185896Z",
     "start_time": "2024-08-23T20:18:29.172478Z"
    }
   },
   "cell_type": "code",
   "source": [
    "e = 9\n",
    "e_set = set(list(map(int, \"1 2 3 4 5 6 7 8 9\".split(\" \"))))\n",
    "f = 9\n",
    "f_set = set(list(map(int, \"10 1 2 3 11 21 55 6 8\".split(\" \"))))\n",
    "\n",
    "print(len(e_set.symmetric_difference(f_set)))"
   ],
   "id": "acec08d0f0fd7f0",
   "outputs": [
    {
     "name": "stdout",
     "output_type": "stream",
     "text": [
      "8\n"
     ]
    }
   ],
   "execution_count": 1
  },
  {
   "metadata": {},
   "cell_type": "code",
   "outputs": [],
   "execution_count": null,
   "source": "",
   "id": "4ae310760aea15fd"
  }
 ],
 "metadata": {
  "kernelspec": {
   "display_name": "Python 3",
   "language": "python",
   "name": "python3"
  },
  "language_info": {
   "codemirror_mode": {
    "name": "ipython",
    "version": 2
   },
   "file_extension": ".py",
   "mimetype": "text/x-python",
   "name": "python",
   "nbconvert_exporter": "python",
   "pygments_lexer": "ipython2",
   "version": "2.7.6"
  }
 },
 "nbformat": 4,
 "nbformat_minor": 5
}
