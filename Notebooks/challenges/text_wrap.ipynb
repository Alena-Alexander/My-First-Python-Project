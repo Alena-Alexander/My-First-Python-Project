{
 "cells": [
  {
   "metadata": {},
   "cell_type": "markdown",
   "source": [
    "# Text wrap\n",
    "You are given a string `S` and width `w`. \n",
    "Your task is to wrap the string into a paragraph of width `w`.\n",
    "\n",
    "### Function Description\n",
    "Complete the wrap function in the editor below.\n",
    "wrap has the following parameters:\n",
    "\n",
    "- string string: a long string\n",
    "- int max_width: the width to wrap to\n",
    "\n",
    "### Returns\n",
    "- string: a single string with newline characters ('\\n') where the breaks should be\n",
    "\n",
    "### Input Format\n",
    "The first line contains a string, `string`. \n",
    "The second line contains the width, `max width`.\n",
    "\n",
    "### Constraints\n",
    "```\n",
    "- 0 < len(string) < 1000\n",
    "- 0 < max width < len(string)\n",
    "```\n",
    "\n",
    "### Sample Input 0\n",
    "```\n",
    "ABCDEFGHIJKLIMNOQRSTUVWXYZ\n",
    "4\n",
    "```\n",
    "\n",
    "### Sample Output 0\n",
    "```\n",
    "ABCD\n",
    "EFGH\n",
    "IJKL\n",
    "IMNO\n",
    "QRST\n",
    "UVWX\n",
    "YZ\n",
    "```"
   ],
   "id": "763064d571f87b14"
  },
  {
   "metadata": {
    "ExecuteTime": {
     "end_time": "2024-09-16T16:17:22.666122Z",
     "start_time": "2024-09-16T16:17:22.656889Z"
    }
   },
   "cell_type": "code",
   "source": "import textwrap",
   "id": "f616c5e79c317099",
   "outputs": [],
   "execution_count": 1
  },
  {
   "metadata": {
    "ExecuteTime": {
     "end_time": "2024-09-16T16:41:16.841609Z",
     "start_time": "2024-09-16T16:41:16.837218Z"
    }
   },
   "cell_type": "code",
   "source": [
    "\n",
    "\n",
    "# Wraps a single paragraph(ABCDEFGHIJKLIMNOQRSTUVWXYZ) in a string, so that every line of the string is width(4) characters long\n",
    "# Returns a list of output lines\n",
    "def wrap(__string, __max_width):\n",
    "  return textwrap.fill(__string, __max_width)"
   ],
   "id": "6c5fac459b476afe",
   "outputs": [],
   "execution_count": 14
  },
  {
   "metadata": {
    "ExecuteTime": {
     "end_time": "2024-09-16T16:41:17.540135Z",
     "start_time": "2024-09-16T16:41:17.535027Z"
    }
   },
   "cell_type": "code",
   "source": [
    "# The single paragraph that will be wrapped into a string\n",
    "string = \"ABCDEFGHIJKLIMNOQRSTUVWXYZ\"\n",
    "\n",
    "# The maximum length of wrapped lines\n",
    "max_width = 4\n",
    "\n",
    "print(wrap(string, max_width))"
   ],
   "id": "ccafbb7dc75505e6",
   "outputs": [
    {
     "name": "stdout",
     "output_type": "stream",
     "text": [
      "ABCD\n",
      "EFGH\n",
      "IJKL\n",
      "IMNO\n",
      "QRST\n",
      "UVWX\n",
      "YZ\n"
     ]
    }
   ],
   "execution_count": 15
  },
  {
   "metadata": {},
   "cell_type": "code",
   "outputs": [],
   "execution_count": null,
   "source": "",
   "id": "5d14e2f66a103536"
  }
 ],
 "metadata": {
  "kernelspec": {
   "display_name": "Python 3",
   "language": "python",
   "name": "python3"
  },
  "language_info": {
   "codemirror_mode": {
    "name": "ipython",
    "version": 2
   },
   "file_extension": ".py",
   "mimetype": "text/x-python",
   "name": "python",
   "nbconvert_exporter": "python",
   "pygments_lexer": "ipython2",
   "version": "2.7.6"
  }
 },
 "nbformat": 4,
 "nbformat_minor": 5
}
