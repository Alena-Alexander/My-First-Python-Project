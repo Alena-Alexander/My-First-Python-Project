{
 "cells": [
  {
   "cell_type": "code",
   "id": "initial_id",
   "metadata": {
    "collapsed": true,
    "ExecuteTime": {
     "end_time": "2024-10-11T19:12:28.435522Z",
     "start_time": "2024-10-11T19:12:28.425440Z"
    }
   },
   "source": [
    "n = 24  # Given integer input\n",
    "\n",
    "if n % 2 != 0:  # If n is odd, print Weird\n",
    "    print(\"Weird\")\n",
    "elif (\n",
    "    n >= 2 and n <= 5\n",
    "):  # If n is even and in the inclusive range of 2 to 5, print Not Weird\n",
    "    print(\"Not Weird\")\n",
    "elif (\n",
    "    n >= 6 and n <= 20\n",
    "):  # If n is even and in the inclusive range of 6 to 20, print Weird\n",
    "    print(\"Weird\")\n",
    "elif n > 20:  # If n is even and greater than 20, print Not Weird\n",
    "    print(\"Not Weird\")"
   ],
   "outputs": [
    {
     "name": "stdout",
     "output_type": "stream",
     "text": [
      "Not Weird\n"
     ]
    }
   ],
   "execution_count": 1
  },
  {
   "metadata": {},
   "cell_type": "code",
   "outputs": [],
   "execution_count": null,
   "source": [
    "# [1 <= n <= 100 U 1000 <= n <= 5000]\n",
    "# 1 * 1 * 1 * 0 = 0\n",
    "\n",
    "# 5 <= n <= 6 we have a baby born\n",
    "# 1 * 0 = 0"
   ],
   "id": "84aae52e584f40e0"
  }
 ],
 "metadata": {
  "kernelspec": {
   "display_name": "Python 3",
   "language": "python",
   "name": "python3"
  },
  "language_info": {
   "codemirror_mode": {
    "name": "ipython",
    "version": 2
   },
   "file_extension": ".py",
   "mimetype": "text/x-python",
   "name": "python",
   "nbconvert_exporter": "python",
   "pygments_lexer": "ipython2",
   "version": "2.7.6"
  }
 },
 "nbformat": 4,
 "nbformat_minor": 5
}
