{
 "cells": [
  {
   "metadata": {},
   "cell_type": "markdown",
   "source": [
    "# Introduction to Sets\n",
    "\n",
    "### Example\n",
    "```\n",
    ">>> print set()\n",
    "set([])\n",
    "\n",
    ">>> print set('HackerRank')\n",
    "set(['a', 'c', 'e', 'H', 'k', 'n', 'r', 'R'])\n",
    "\n",
    ">>> print set([1,2,1,2,3,4,5,6,0,9,12,22,3])\n",
    "set([0, 1, 2, 3, 4, 5, 6, 9, 12, 22])\n",
    "\n",
    ">>> print set((1,2,3,4,5,5))\n",
    "set([1, 2, 3, 4, 5])\n",
    "\n",
    ">>> print set(set(['H','a','c','k','e','r','r','a','n','k']))\n",
    "set(['a', 'c', 'r', 'e', 'H', 'k', 'n'])\n",
    "\n",
    ">>> print set({'Hacker' : 'DOSHI', 'Rank' : 616 })\n",
    "set(['Hacker', 'Rank'])\n",
    "\n",
    ">>> print set(enumerate(['H','a','c','k','e','r','r','a','n','k']))\n",
    "set([(6, 'r'), (7, 'a'), (3, 'k'), (4, 'e'), (5, 'r'), (9, 'k'), (2, 'c'), (0, 'H'), (1, 'a'), (8, 'n')])\n",
    "```\n",
    "\n",
    "Basically, sets are used for membership testing and eliminating duplicate entries.\n",
    "\n",
    "## Task\n",
    "Now, let's use our knowledge of sets and help Mickey.\n",
    "Ms. Gabriel Williams is a botany professor at District College. \n",
    "One day, she asked her student Mickey to compute the average of \n",
    "all the plants with distinct heights in her greenhouse.\n",
    "\n",
    "Formula used:\n",
    "```\n",
    "Average = Sum of Distinct Heights/Total Number of Distinct Heights\n",
    "```\n",
    "### Function Description\n",
    "Complete the average function in the editor below.\n",
    "average has the following parameters:\n",
    "\n",
    "- int arr: an array of integers\n",
    "\n",
    "### Returns \n",
    "- float: the resulting float value rounded to 3 places after the decimal\n",
    "\n",
    "### Input Format\n",
    "The first line contains the integer, `N`, the size of `arr`.\n",
    "The second line contains the `N` space-separated integers, `arr[i]`.\n",
    "\n",
    "### Constraints\n",
    "```\n",
    "0 < N <= 100\n",
    "```\n"
   ],
   "id": "b8d0742bddfe72ab"
  },
  {
   "metadata": {
    "ExecuteTime": {
     "end_time": "2024-08-16T20:19:57.631546Z",
     "start_time": "2024-08-16T20:19:57.625924Z"
    }
   },
   "cell_type": "code",
   "source": [
    "# converts the string into a list\n",
    "arr = list(map(int, \"161 182 161 154 176 170 167 171 170 174\".split(\" \")))\n",
    "\n",
    "\n",
    "print(f\"{arr}\")\n",
    "\n",
    "\n",
    "# takes given parameter, converts it into a set, and returns its average with 3 places behind it as a float\n",
    "def average(array):\n",
    "    avg = sum(set(array)) / len(set(array))\n",
    "    return format(avg, \".3f\")\n",
    "\n",
    "\n",
    "print(average(arr))"
   ],
   "id": "dd6c4c99a9eb4ce9",
   "outputs": [
    {
     "name": "stdout",
     "output_type": "stream",
     "text": [
      "[161, 182, 161, 154, 176, 170, 167, 171, 170, 174]\n",
      "169.375\n"
     ]
    }
   ],
   "execution_count": 13
  }
 ],
 "metadata": {
  "kernelspec": {
   "display_name": "Python 3",
   "language": "python",
   "name": "python3"
  },
  "language_info": {
   "codemirror_mode": {
    "name": "ipython",
    "version": 2
   },
   "file_extension": ".py",
   "mimetype": "text/x-python",
   "name": "python",
   "nbconvert_exporter": "python",
   "pygments_lexer": "ipython2",
   "version": "2.7.6"
  }
 },
 "nbformat": 4,
 "nbformat_minor": 5
}
