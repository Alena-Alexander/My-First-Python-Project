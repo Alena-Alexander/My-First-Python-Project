{
 "cells": [
  {
   "metadata": {},
   "cell_type": "markdown",
   "source": [
    "# Capitalize!\n",
    "You are asked to ensure that the first and last names of people begin with a capital letter in their passports. For example, alison heck should be capitalised correctly as Alison Heck.\n",
    "```\n",
    "alison heck => Alison Heck\n",
    "```\n",
    "Given a full name, your task is to capitalize the name appropriately.\n",
    "\n",
    "### Input Format\n",
    "A single line of input containing the full name, `S`.\n",
    "\n",
    "### Constraints\n",
    "```\n",
    "- 0 < len(S) < 100\n",
    "- The string consists of alphanumeric characters and spaces.\n",
    "```\n",
    "\n",
    "**Note:** in a word only the first character is capitalized. Example `12abc` when capitalized remains `12abc`.\n",
    "\n",
    "### Output Format\n",
    "Print the capitalized string, `S`.\n",
    "\n",
    "### Sample Input\n",
    "```\n",
    "chris alan\n",
    "```\n",
    "\n",
    "### Sample Output\n",
    "```\n",
    "Chris Alan\n",
    "```"
   ],
   "id": "1d60ade1388efd6f"
  },
  {
   "metadata": {
    "ExecuteTime": {
     "end_time": "2024-09-17T17:04:37.346564Z",
     "start_time": "2024-09-17T17:04:37.341622Z"
    }
   },
   "cell_type": "code",
   "source": [
    "# A custom function that\n",
    "# splits the string on a \" \" (space) delimiter,\n",
    "# Capitalizes the split string,\n",
    "# and join using a \" \" space.\n",
    "def solve(string):\n",
    "    string = string.split(\" \")\n",
    "    cap_string = [s.capitalize() for s in string]\n",
    "    join_string = \" \".join(cap_string)\n",
    "    return join_string"
   ],
   "id": "c4f5eb6da2867f9c",
   "outputs": [],
   "execution_count": 41
  },
  {
   "metadata": {
    "ExecuteTime": {
     "end_time": "2024-09-17T17:04:37.581239Z",
     "start_time": "2024-09-17T17:04:37.576244Z"
    }
   },
   "cell_type": "code",
   "source": [
    "test = \"chris alan\"\n",
    "print(solve(test))"
   ],
   "id": "initial_id",
   "outputs": [
    {
     "name": "stdout",
     "output_type": "stream",
     "text": [
      "Chris Alan\n"
     ]
    }
   ],
   "execution_count": 42
  },
  {
   "metadata": {},
   "cell_type": "markdown",
   "source": "",
   "id": "a63f56b51deba3e1"
  }
 ],
 "metadata": {
  "kernelspec": {
   "display_name": "Python 3",
   "language": "python",
   "name": "python3"
  },
  "language_info": {
   "codemirror_mode": {
    "name": "ipython",
    "version": 2
   },
   "file_extension": ".py",
   "mimetype": "text/x-python",
   "name": "python",
   "nbconvert_exporter": "python",
   "pygments_lexer": "ipython2",
   "version": "2.7.6"
  }
 },
 "nbformat": 4,
 "nbformat_minor": 5
}
