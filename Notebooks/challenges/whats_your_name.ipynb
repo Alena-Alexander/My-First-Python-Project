{
 "cells": [
  {
   "metadata": {},
   "cell_type": "markdown",
   "source": [
    "# What's Your Name?\n",
    "You are given the firstname and lastname of a person on two different lines. Your task is to read them and print the following:\n",
    "\n",
    "```\n",
    "Hello `firstname` `lastname`! You just delved into python.\n",
    "```\n",
    "\n",
    "### Function Description\n",
    "Complete the print_full_name function in the editor below.\n",
    "print_full_name has the following parameters: \n",
    "\n",
    "- string first: the first name\n",
    "- string last: the last name\n",
    "\n",
    "### Prints\n",
    "string: 'Hello `firstname` `lastname`! You just delved into python' where `firstname` and `lastname` are replaced with `first` and `last`.\n",
    "\n",
    "### Input Format\n",
    "The first line contains the first name, and the second line contains the last name.\n",
    "\n",
    "### Constraints\n",
    "The length of the first and last names are each ≤ `10`.\n",
    "\n",
    "### Sample Input 0\n",
    "```\n",
    "Ross\n",
    "Taylor\n",
    "```\n",
    "\n",
    "### Sample Output 0\n",
    "```\n",
    "Hello Ross Taylor! You just delved into python.\n",
    "```\n",
    "\n",
    "### Explanation 0\n",
    "The input read by the program is stored as a string data type. A string is a collection of characters."
   ],
   "id": "26862001e557c0e4"
  },
  {
   "metadata": {
    "ExecuteTime": {
     "end_time": "2024-09-02T19:42:21.963362Z",
     "start_time": "2024-09-02T19:42:21.959110Z"
    }
   },
   "cell_type": "code",
   "source": [
    "firstname = \"Ross\"\n",
    "lastname = \"Taylor\"\n",
    "\n",
    "\n",
    "def print_full_name(first, last):\n",
    "    print(f\"Hello {first} {last}! You just delved into python.\")"
   ],
   "id": "7237b5b2a8d15147",
   "outputs": [],
   "execution_count": 9
  },
  {
   "metadata": {
    "ExecuteTime": {
     "end_time": "2024-09-02T19:42:22.418629Z",
     "start_time": "2024-09-02T19:42:22.413314Z"
    }
   },
   "cell_type": "code",
   "source": "print_full_name(firstname, lastname)",
   "id": "dae9f2b3bd317049",
   "outputs": [
    {
     "name": "stdout",
     "output_type": "stream",
     "text": [
      "Hello Ross Taylor! You just delved into python.\n"
     ]
    }
   ],
   "execution_count": 10
  },
  {
   "metadata": {},
   "cell_type": "code",
   "outputs": [],
   "execution_count": null,
   "source": "",
   "id": "58b8c12fa329c18"
  }
 ],
 "metadata": {
  "kernelspec": {
   "display_name": "Python 3",
   "language": "python",
   "name": "python3"
  },
  "language_info": {
   "codemirror_mode": {
    "name": "ipython",
    "version": 2
   },
   "file_extension": ".py",
   "mimetype": "text/x-python",
   "name": "python",
   "nbconvert_exporter": "python",
   "pygments_lexer": "ipython2",
   "version": "2.7.6"
  }
 },
 "nbformat": 4,
 "nbformat_minor": 5
}
