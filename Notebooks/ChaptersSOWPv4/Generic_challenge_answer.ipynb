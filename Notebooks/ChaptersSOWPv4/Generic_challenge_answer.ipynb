{
 "cells": [
  {
   "metadata": {},
   "cell_type": "code",
   "outputs": [],
   "execution_count": null,
   "source": [
    "from typing import TypeVar, Generic, Generic, Callable, List\n",
    "\n",
    "T = TypeVar['T']\n",
    "\n",
    "class repository(Generic[T]):\n",
    "    def __init__(self):\n",
    "        self.__items = List[T]=[]\n",
    "        \n",
    "    def add (self, item: T) -> None:\n",
    "        self.__items.add(item)\n",
    "        \n",
    "    def get_all(self)->List[T]:\n",
    "        return self.__items\n",
    "    \n",
    "    "
   ],
   "id": "43cd73f90564f85d"
  }
 ],
 "metadata": {
  "kernelspec": {
   "display_name": "Python 3",
   "language": "python",
   "name": "python3"
  },
  "language_info": {
   "codemirror_mode": {
    "name": "ipython",
    "version": 2
   },
   "file_extension": ".py",
   "mimetype": "text/x-python",
   "name": "python",
   "nbconvert_exporter": "python",
   "pygments_lexer": "ipython2",
   "version": "2.7.6"
  }
 },
 "nbformat": 4,
 "nbformat_minor": 5
}
