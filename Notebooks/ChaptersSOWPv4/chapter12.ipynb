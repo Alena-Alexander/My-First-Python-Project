{
 "cells": [
  {
   "metadata": {},
   "cell_type": "markdown",
   "source": [
    "# Recursion\n",
    "### Introduction to Recursion 12.1\n",
    "**Concept**: A recursive function is a function that calls itself.\n",
    "\n",
    "You have seen instances of functions calling other functions. It's also possible for a function to call itself. A function that calls itself is known as a recursive function. For example look at the following message function:"
   ],
   "id": "edcdd3582717bdc7"
  },
  {
   "metadata": {},
   "cell_type": "code",
   "outputs": [],
   "execution_count": null,
   "source": [
    "# This program has a recursive function\n",
    "\n",
    "def main():\n",
    "    message()\n",
    "    \n",
    "def message():\n",
    "    print('This is a recursive function')\n",
    "    message()\n",
    "    \n",
    "# Call the main function\n",
    "main()"
   ],
   "id": "d963cf869d49004"
  },
  {
   "metadata": {},
   "cell_type": "markdown",
   "source": [
    "The message function displays the string 'This is a recursive function' and then calls itself. Each time it calls itself, the cycle is repeated. The problem with the function is that there's no way to stop the recursive calls.\n",
    "\n",
    "Like a loop the recursive function must have some way to control the number of times it repeats. The program below shows a modified version of the message function. The message function receives an argument that specifies the number of times the function should display the message:"
   ],
   "id": "e7d5bacb909b81a8"
  },
  {
   "metadata": {},
   "cell_type": "code",
   "outputs": [],
   "execution_count": null,
   "source": [
    "# This program has a recursive function\n",
    "\n",
    "def main():\n",
    "    # By passing the argument 5 to the message\n",
    "    # function we are telling it to display\n",
    "    # the message five times.\n",
    "    message(5)\n",
    "    \n",
    "def message(times):\n",
    "    if times > 0:\n",
    "        print('This is a recursive function')\n",
    "        message(times - 1)\n",
    "    \n",
    "# Call the main function\n",
    "main()"
   ],
   "id": "fe69e706790c4948"
  },
  {
   "metadata": {},
   "cell_type": "markdown",
   "source": [
    "### Problem Solving with Recursion 12.2\n",
    "**Concept**: A problem can be solved with recursion if it can be broken down into smaller problems that are identical in structure to the overall problem.\n",
    "\n",
    "Recursive is commonly studied in upper-level computer science courses, it may not be clear of how to use recursion to solve a problem. \n",
    "\n",
    "First note, recursion is never required to solve a problem. Any problem that can be solved with recursion can also be solved with a loop. In fact, recursion algorithms are usually less efficient than iterative algorithms. This is because the process of calling a function requires several actions to be performed by the computer. These actions which are referred to as overhead, take place with each function call. Such overhead is not necessary with a loop.\n",
    "\n",
    "Some repetitive problems are more easily solved with recursion than with a loop. where a loop might result in faster execution time, the programmer might be able to design a recursive function faster. In general, a recursive function works as follows:\n",
    "- If the problem can be solved now, without recursion, then the function solves it and returns.\n",
    "- If the problem cannot be solved now, then the function reduces it to a smaller similar problem and calls itself to solve the smaller problems.\n",
    "\n",
    "In order to apply this approach, first we introduce at least one case in which the problem can be solved without recursion, known as the base case. Second, we determine a way to solve the problem in all other circumstances using recursion, this is called recursive case. By reducing a problem with each recursive call, the base case will eventually be reached and the recursion will stop.\n",
    "\n",
    "### Using Recursion to Calculate the Factorial of a Number 12.3"
   ],
   "id": "ebf866a218e2b3a5"
  }
 ],
 "metadata": {
  "kernelspec": {
   "display_name": "Python 3",
   "language": "python",
   "name": "python3"
  },
  "language_info": {
   "codemirror_mode": {
    "name": "ipython",
    "version": 2
   },
   "file_extension": ".py",
   "mimetype": "text/x-python",
   "name": "python",
   "nbconvert_exporter": "python",
   "pygments_lexer": "ipython2",
   "version": "2.7.6"
  }
 },
 "nbformat": 4,
 "nbformat_minor": 5
}
