{
 "cells": [
  {
   "metadata": {},
   "cell_type": "markdown",
   "source": [
    "# Inheritance\n",
    "### Introduction to Inheritance 11.1\n",
    "**Concept**: Inheritance allows a new class to an extent an existing class. The new class inherits the members of the class it extends.\n",
    "\n",
    "### Generalization and Specialization\n",
    "objects are specialized versions of other more general objects. For example, the term \"insect\" describes a general type of creature with various characteristics. Grasshoppers and bumblebees are insects, they have all the general characteristics of an insect. however, in addition they have special characteristics of their own. Grasshoppers and bumblebees are specialized versions of an insect.\n",
    "\n",
    "### Inheritance and the \"is a\" Relationship\n",
    "When one object is the specialized version of another, there is an \"is a\" relationship between them. Here are a few examples of the \"is a\" relationship:\n",
    "\n",
    "```markdown\n",
    "- A poodle is a dog\n",
    "- A car is a vehicle\n",
    "- A flower is a plant\n",
    "- A rectangle is a shape\n",
    "- A football player is an athlete\n",
    "```\n",
    "\n",
    "When an \"is a\" relationship exists between objects, it means that the specialized object has all the characteristics of the general objects, plus additional characteristics that make it special. Inheritance is used to create an \"is a\" relationship among classes. This allows you to extend the capabilities of a class by creating another class that is a specialized version of it.\n",
    "\n",
    "Suppose we are developing a program that a car dealership can use to manage its inventory of used cars. The dealership's inventory includes three types of automobiles: cars, pickup trucks, and sport-utility vehicles(SUV's), the dealership keeps the following data about each automobile:\n",
    "\n",
    "```markdown\n",
    "- Make\n",
    "- Year model\n",
    "- Mileage\n",
    "- Price\n",
    "```\n",
    "\n",
    "Each type of vehicle that is kept in inventory has these general characteristics, plus its own specialized characteristics. For cars, the dealership keeps the following additional data: \n",
    "\n",
    "- Number of doors(2-4)\n",
    "\n",
    "For pickup trucks, the dealership keeps the following additional data: \n",
    "\n",
    "- Drive type(two-wheel driver or four-wheel driver)\n",
    "\n",
    "And for SUV's, the dealership keeps the following additional data: \n",
    "\n",
    "-Passenger capacity\n",
    "\n",
    "In designing this program, one approach would be to write the three class, Car, Truck, SUV each with the data attributes make, year model, mileage, and price, and the additional special attributes. This would be an insufficient approach however. \n",
    "\n",
    "A better approach would be to write an Automobile attribute to hold all the general data about an automobile, then write subclasses for each specific type of automobile.\n"
   ],
   "id": "195a1086d4127008"
  },
  {
   "metadata": {},
   "cell_type": "code",
   "outputs": [],
   "execution_count": null,
   "source": [
    "# The automobile clas holds general data\n",
    "# about an automobile in inventory\n",
    "\n",
    "class Automobile:\n",
    "    \n",
    "    def __init__(self, make, model, mileage, price):\n",
    "        self.__make = make\n",
    "        self.__model = model\n",
    "        self.__mileage = mileage\n",
    "        self.__price = price\n",
    "        \n",
    "    "
   ],
   "id": "a9d0c38931fba339"
  }
 ],
 "metadata": {
  "kernelspec": {
   "display_name": "Python 3",
   "language": "python",
   "name": "python3"
  },
  "language_info": {
   "codemirror_mode": {
    "name": "ipython",
    "version": 2
   },
   "file_extension": ".py",
   "mimetype": "text/x-python",
   "name": "python",
   "nbconvert_exporter": "python",
   "pygments_lexer": "ipython2",
   "version": "2.7.6"
  }
 },
 "nbformat": 4,
 "nbformat_minor": 5
}
