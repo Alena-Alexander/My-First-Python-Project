{
 "cells": [
  {
   "metadata": {},
   "cell_type": "markdown",
   "source": [
    "# Inheritance\n",
    "### Introduction to Inheritance 11.1\n",
    "**Concept**: Inheritance allows a new class to an extent an existing class. The new class inherits the members of the class it extends.\n",
    "\n",
    "### Generalization and Specialization\n",
    "objects that are specialized versions of other more general objects. "
   ],
   "id": "49a44b68062bf219"
  }
 ],
 "metadata": {
  "kernelspec": {
   "display_name": "Python 3",
   "language": "python",
   "name": "python3"
  },
  "language_info": {
   "codemirror_mode": {
    "name": "ipython",
    "version": 2
   },
   "file_extension": ".py",
   "mimetype": "text/x-python",
   "name": "python",
   "nbconvert_exporter": "python",
   "pygments_lexer": "ipython2",
   "version": "2.7.6"
  }
 },
 "nbformat": 4,
 "nbformat_minor": 5
}
