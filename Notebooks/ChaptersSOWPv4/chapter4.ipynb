{
 "cells": [
  {
   "metadata": {},
   "cell_type": "markdown",
   "source": [
    "# Repetition structures\n",
    "### Introduction to Repetition Structures 4.1\n",
    "**Concept**: A repetition structure causes a statement or a set statement to execute repeatedly.\n",
    "\n",
    "Programmers commonly have to write code that perform the same task over and over. For example\\\n",
    "supposes you have been asked to write a program that calculates a 10 percent sales commission for several sales person.\n",
    "\n",
    "For example look ar the following:"
   ],
   "id": "4ac79aff7c2ef02b"
  },
  {
   "metadata": {},
   "cell_type": "code",
   "outputs": [],
   "execution_count": null,
   "source": [
    "# get the salesperson sales and commission rate\n",
    "sales = float(input(\"Enter the amount of sales: \"))\n",
    "comm_rate = float(input(\"Enter the commission rates: \"))\n",
    "\n",
    "# calculate the commission\n",
    "commission = sales * comm_rate\n",
    "\n",
    "# display the commission\n",
    "print(\"The commission is $\", format(commission, \",.2f\"), sep=\"\")\n",
    "\n",
    "# get the salesperson sales and commission rate\n",
    "sales = float(input(\"Enter the amount of sales: \"))\n",
    "comm_rate = float(input(\"Enter the commission rates: \"))\n",
    "\n",
    "# calculate the commission\n",
    "commission = sales * comm_rate\n",
    "\n",
    "# display the commission\n",
    "print(\"The commission is $\", format(commission, \",.2f\"), sep=\"\")\n",
    "\n",
    "# and the code goes on and on..."
   ],
   "id": "7a1acc7741157bb2"
  },
  {
   "metadata": {},
   "cell_type": "markdown",
   "source": [
    "This code is a long sequence structure containing an alot of duplicated code. There are several disadvantages\\\n",
    "to this appproach, including the following:\n",
    "- The duplicated code make the program large\n",
    "- It can be time-consuming\n",
    "- If part of the duplicated code has to be changed or corrected, than the change has to be done multiple times.\n",
    "\n",
    "Instead of writing the same sequence of statements over and over, a better way to repeatedly perform an operation\\\n",
    "is to write the for the operation once, the place it in a structure that makes the computer repeat it as many times as necessary.\n",
    "\n",
    "### Condition-controlled and count-controlled loops\n",
    "A condition controlled loop uses a true/false condition to control the number of times it repeats.\\\n",
    "A count controlled loop repeats a specific amount of times. You use a while statement to write a condition\\\n",
    "controlled loop, and you the for statement to write a count-controlled loop.\n",
    "\n",
    "### The while loop: A condition controlled loop 4.2\n",
    "**Concept**: A condition controlled loop causes a statement or set of statements to repeat as long as a condition is true.\\\n",
    "In python, you can use the while statement  to write a condition controlled loop.\n",
    "\n",
    "The while loop gets its name from the way it works: while a condition is true, do some task. The loop has two parts:\\\n",
    "(1) a condition is tested for a true or false value, and (2) a statement or a set of statements that is\\\n",
    "repeated as long as a condition is true.\n",
    "\n",
    "Here is the general format of the while loop:\n",
    "```\n",
    "While condition:\n",
    "    statement\n",
    "    statement\n",
    "    etc.\n",
    "```\n",
    "\n",
    "For simplicity, we will refer to the first line as the while clause. The while clause begins with the word while,\\\n",
    "followed by the boolean condition that will be evaluated as either true or false A colon appears after the condition.\\\n",
    "Beginning at the next line is a block of statements. When the while loop executes, the condition is tested.\\\n",
    "If the condition is true, the statements that appear in the block following the while clause are executed,\\\n",
    "and the loop starts over. If the condition is false, the program exits the loop\n"
   ],
   "id": "7acb1af9f1f05bb3"
  },
  {
   "metadata": {
    "ExecuteTime": {
     "end_time": "2024-11-15T00:35:55.141322Z",
     "start_time": "2024-11-15T00:35:45.320565Z"
    }
   },
   "cell_type": "code",
   "source": [
    "# This program calculates sales commission\n",
    "\n",
    "# Create a variable to control the loop\n",
    "keep_going = \"y\"\n",
    "\n",
    "# Calculates series of commissions\n",
    "while keep_going == \"y\":\n",
    "    # Get a salesperson's sales and commission rate\n",
    "    sales = float(input(\"Enter the amount of sales: \"))\n",
    "    comm_rate = float(input(\"Enter the commission rate: \"))\n",
    "\n",
    "    # Calculate the commission\n",
    "    commission = sales * comm_rate\n",
    "\n",
    "    # Display the commission\n",
    "    print(\"The commission is $\", format(commission, \",.2f\"), sep=\"\")\n",
    "\n",
    "    # See if the user wants to do another one.\n",
    "    keep_going = input(\n",
    "        \"Do you want to calculate another\" + \"Commission (Enter y for yes): \"\n",
    "    )"
   ],
   "id": "8ec044711817ed08",
   "outputs": [
    {
     "ename": "ValueError",
     "evalue": "could not convert string to float: ''",
     "output_type": "error",
     "traceback": [
      "\u001b[0;31m---------------------------------------------------------------------------\u001b[0m",
      "\u001b[0;31mValueError\u001b[0m                                Traceback (most recent call last)",
      "Cell \u001b[0;32mIn[1], line 9\u001b[0m\n\u001b[1;32m      6\u001b[0m \u001b[38;5;66;03m# Calculates series of commissions\u001b[39;00m\n\u001b[1;32m      7\u001b[0m \u001b[38;5;28;01mwhile\u001b[39;00m keep_going \u001b[38;5;241m==\u001b[39m \u001b[38;5;124m'\u001b[39m\u001b[38;5;124my\u001b[39m\u001b[38;5;124m'\u001b[39m:\n\u001b[1;32m      8\u001b[0m     \u001b[38;5;66;03m# Get a salesperson's sales and commission rate\u001b[39;00m\n\u001b[0;32m----> 9\u001b[0m     sales \u001b[38;5;241m=\u001b[39m \u001b[38;5;28;43mfloat\u001b[39;49m\u001b[43m(\u001b[49m\u001b[38;5;28;43minput\u001b[39;49m\u001b[43m(\u001b[49m\u001b[38;5;124;43m'\u001b[39;49m\u001b[38;5;124;43mEnter the amount of sales: \u001b[39;49m\u001b[38;5;124;43m'\u001b[39;49m\u001b[43m)\u001b[49m\u001b[43m)\u001b[49m\n\u001b[1;32m     10\u001b[0m     comm_rate \u001b[38;5;241m=\u001b[39m \u001b[38;5;28mfloat\u001b[39m(\u001b[38;5;28minput\u001b[39m(\u001b[38;5;124m'\u001b[39m\u001b[38;5;124mEnter the commission rate: \u001b[39m\u001b[38;5;124m'\u001b[39m))\n\u001b[1;32m     12\u001b[0m     \u001b[38;5;66;03m# Calculate the commission\u001b[39;00m\n",
      "\u001b[0;31mValueError\u001b[0m: could not convert string to float: ''"
     ]
    }
   ],
   "execution_count": 1
  },
  {
   "metadata": {},
   "cell_type": "markdown",
   "source": [
    "### The while loop is a pretest loop\n",
    "The while loop is known has a pretest loop, which means it tests its condition before performing an iteration.\\\n",
    "Because the test is done at the beggining of the loop, you usually have to perform some steps pto the loop to\\\n",
    "make sure that the loop executes at least once. \n",
    "\n",
    "For example, the loop in program above starts like this:\n",
    "```\n",
    "while keep_going == 'y':\n",
    "```                     \n",
    "\n",
    "The loop will perform an iteration only if the expression keep_going == 'y' is true. This means that (a)\\\n",
    "the keep_going variable has to exist, and (b) that it has to reference the value 'y'. To make sure the expression is\\\n",
    "true the first time that the loop executes, assigned te value 'y' to the keep_going variable in line 4 as well:\n",
    "```\n",
    "keep_going = 'y'\n",
    "```            \n",
    "\n",
    "### Infinite loops\n",
    "In all rare cases loops must contain within themselves a way to terminate. this means that something inside\\\n",
    "the loop must eventually make the test condition false. If a loop does not have a way of stopping, it's called an infinite loop.\n",
    "\n",
    "### The for loop: A count-controlled loop 4.3\n",
    "**Concept**: A count-controlled loops iterates a specific number of times. In python, you use a for statement to write\n",
    "a count-controlled loop.\n",
    "\n",
    "In Python the for statement is designed to work with a sequence of data items. When the statement executes it iterates\\\n",
    "once for each item in the sequence. Here is the general format:\n",
    "```\n",
    "for variable in [value1, value2, etc.]:\n",
    "    statement\n",
    "    statement\n",
    "    etc.\n",
    "```             \n",
    "\n",
    "We refer to the first line as the for clause. in the for clause variable is the name of the variable. Inside the brackets\\\n",
    "a sequence of values appear, with a comma separating each value. Beginning at the next line is a block of statements\\\n",
    "that is executed each time the loop iterates.\n",
    "\n",
    "The for statements executes in the following manner: The variable is assigned to the first value in the list,\\\n",
    "then the statements that appear in the block are executed. Then, variable is assigned to the next value in the list,\\\n",
    "and the statements in the block are executed again. This continues until the variable has been assigned the last value in the list.\n"
   ],
   "id": "26b1855b62eca536"
  },
  {
   "metadata": {},
   "cell_type": "code",
   "outputs": [],
   "execution_count": null,
   "source": [
    "# this program demonstrates a simple for loop\n",
    "# That uses a list of numbers\n",
    "\n",
    "print(\"I will display the numbers 1 through 5\")\n",
    "for num in [1, 2, 3, 4, 5]:\n",
    "    print(num)"
   ],
   "id": "b14c0dfd50cab494"
  },
  {
   "metadata": {},
   "cell_type": "markdown",
   "source": [
    "### Using the range function with the for loop\n",
    "Python provides a built-in function called range that simplifies the process of writing a count-controlled for loop.\\\n",
    "The range function creates a type of object known as an iterable. An iterable is an object similar to a list.\\\n",
    "It contains a sequence of values that can be iterated over with something like a loop. Here is an example of a for\\\n",
    "loop that uses the range function:\n",
    "```\n",
    "for num in range(5):\n",
    "    print(num)\n",
    "```\n",
    "\n",
    "The list contains five numbers so the loop will iterate five times:"
   ],
   "id": "83b6ae0b11acf9ad"
  },
  {
   "metadata": {},
   "cell_type": "code",
   "outputs": [],
   "execution_count": null,
   "source": [
    "# This program demonstrates how the range\n",
    "# can be used with a for loop\n",
    "\n",
    "# print a message five times\n",
    "for num in range(5):\n",
    "    print(\"Hello world\")"
   ],
   "id": "35a8fecb46c5fe48"
  },
  {
   "metadata": {},
   "cell_type": "markdown",
   "source": [
    "If you pass one argument to the range function that argument is used as an ending limit of the sequence of numbers.\\\n",
    "If you pass two arguments to the range function, the first arguments is the stating value of the sequence, and the\\\n",
    "second argument is used as the ending limit. Here's an example:\n",
    "```\n",
    "for num in range(1,5):\n",
    "    print(num)\n",
    "```\n",
    "This code will display the following:\n",
    "```\n",
    "1\n",
    "2\n",
    "3\n",
    "4\n",
    "```\n",
    "\n",
    "By default, the range function produces a sequence of numbers that increase by 1 for each successive number in the list.\\\n",
    "If you pass a third argument to the range function, that argument is used as a step value. Instead of increasing by 1,\\\n",
    "each successive value in the sequence will increase by step value. Here's an example:\n",
    "```\n",
    "for num in range(1, 10, 2):\n",
    "    print(num)\n",
    "```\n",
    "\n",
    "This code will display the following:\n",
    "```\n",
    "1\n",
    "3\n",
    "5\n",
    "7\n",
    "9\n",
    "```"
   ],
   "id": "68835817be443e78"
  },
  {
   "metadata": {},
   "cell_type": "markdown",
   "source": [
    "### Using the range Function with the for Loop\n",
    "Python provides a built-in function named range that simplifies the process of writing a count-controlled for loop.\\\n",
    "The range function created a type of object known as an iterable. an iterable is an object that is similar to a list.\\\n",
    "It contains a sequence of values that can be iterated over with somthing like a loop. Here's an example of a loop\\\n",
    "that uses a range function: \n",
    "```\n",
    "for num in range(5):\n",
    "    print(num)\n",
    "```\n",
    "\n",
    "In this statement, the range function will generate an iterable sequence of integers in the range of 0 up to 5.\\\n",
    "This code works the same as thee following: \n",
    "```\n",
    "for num in [1, 2, 3, 4, 5]:\n",
    "    print(num)\n",
    "```"
   ],
   "id": "ddf003e3ae1ee2ec"
  },
  {
   "metadata": {},
   "cell_type": "code",
   "execution_count": null,
   "source": [
    "# this program demonstrates how the range\n",
    "# function can be used with a for loop\n",
    "\n",
    "# print a message five times\n",
    "for x in range(5):\n",
    "    print(\"Hello World\")"
   ],
   "id": "4cfae2849aa96267",
   "outputs": []
  },
  {
   "metadata": {},
   "cell_type": "markdown",
   "source": [
    "\n",
    "### Using the target variable inside the loop\n",
    "In the for loop, the purpose of the target variable is to reference each item in a sequence of items as the loop iterates.\\\n",
    "In many situations it is helpful to use the target variable in a calculation or other task within the loop.\\\n",
    "For example, suppose you need to write a program that displays the numbers 1 through 10 and their respective square.\n",
    "\n",
    "This can be accomplished by writing a for loop that iterates over the values 1 through 10. During the first iteration,\\\n",
    "the target variable will be assigned  the value 1, during the second iteration it will be assigned the value 2, and so forth.\\\n",
    "Because the target variable will reference the values 1 through 10 during the loops execution,\\\n",
    "you can use it in the calculation inside the loop."
   ],
   "id": "18c8692837c1fb66"
  },
  {
   "metadata": {},
   "cell_type": "code",
   "outputs": [],
   "execution_count": null,
   "source": [
    "# This program uses a loop to display a\n",
    "# table showing the numbers 1 through 10\n",
    "# and their squares\n",
    "\n",
    "# Print the table headings\n",
    "print(\"Number/tSquare\")\n",
    "print(\"--------------\")\n",
    "\n",
    "# print the numbers 1 through 10\n",
    "# and their squares\n",
    "for number in range(1, 10):\n",
    "    square = num**2\n",
    "    print(number, \"/t\", square)"
   ],
   "id": "5f06fc5853c8c872"
  },
  {
   "metadata": {},
   "cell_type": "markdown",
   "source": [
    "### letting the user control the loop iterations\n",
    "Sometimes, the programmer needs to let the user control the number of times that a loop iterates.\\\n",
    "For example, what if you want a for loop to be a bit more versatile by allowing the user to specify the\\\n",
    "maximum value displayed by the loop? This shows how you could accomplish it:"
   ],
   "id": "748f5df5df7d7ca0"
  },
  {
   "metadata": {},
   "cell_type": "code",
   "outputs": [],
   "execution_count": null,
   "source": [
    "# This program uses a loop to display a\n",
    "# table of numbers and their squares.\n",
    "\n",
    "# Get the ending limit\n",
    "print(\"This program displays a list of numbers\")\n",
    "print(\"(starting at 1) and their squares\")\n",
    "end = int(input(\"How high should I go?\"))\n",
    "\n",
    "# Print the table headings.\n",
    "print()\n",
    "print(\"Numbers/tSquare\")\n",
    "print(\"---------------\")\n",
    "\n",
    "# print the numbers and their squares.\n",
    "for number in range(1, end + 1):\n",
    "    square = number**2\n",
    "    print(number, \"/t\", square)"
   ],
   "id": "7850eda1c2f91a52"
  },
  {
   "metadata": {},
   "cell_type": "markdown",
   "source": [
    "This program asks the user to enter a value that can be used as the ending limit  for the list.\\\n",
    "This value is assigned to the end variable in line 7.  Then, the expression end + 1 is used in line 15\\\n",
    "as the second argument for the range function.\n",
    "\n",
    "### Generating an iterable sequence that ranges from highest to lowest\n",
    "You can use the range function to generate sequences of number that go from highest to lowest. Here's an example: \n",
    "```\n",
    "range(10, 0, -1)\n",
    "```\n",
    "\n",
    "In this function call, that staring value is 10, the sequences ending limit is 0, and the step value is -1.\\\n",
    "This expression will produce the following sequence:\n",
    "```\n",
    "10, 9, 8, 7, 6, 5, 4, 3, 2, 1\n",
    "```\n",
    "\n",
    "Here is an example of a for loop that prints the number 5 down to 1:\n",
    "```\n",
    "for num in range(5, 0, -1):\n",
    "    print(num)\n",
    "```\n",
    "\n",
    "### Calculating a Running Total 4.4\n",
    "**Concept**:A running total is a sum of numbers that accumulates with each iteration of a loop.\\\n",
    "The variable used to keep the running total is called an accumulator.\n",
    "\n",
    "For example, suppose you are writing a program that calculates a business's total sales for a week.\\\n",
    "The program would read the sales for each day as input and calculate the total of those numbers.\n",
    "\n",
    "Programs that calculate the total of a series of numbers typically use two sentences:\n",
    "- A loop that reads each number in the series.\n",
    "- A variable that accumulates the total of the numbers as they are read.\n",
    "\n",
    "The variable that is used to accumulate the total of the numbers is called an accumulator. It is often\\\n",
    "said that the loop keeps a running total because it accumulates the total as it reads each number in the series.\n",
    "\n",
    "When the loop finishes, the accumulator will contain the total of the numbers that were read by the loop.\n",
    "\n",
    "The loop below allows the user to enter five numbers, and displays the total of the numbers entered."
   ],
   "id": "1978aa6f7b0b3933"
  },
  {
   "metadata": {},
   "cell_type": "code",
   "outputs": [],
   "execution_count": null,
   "source": [
    "# This program calculates the sum of a series\n",
    "# of numbers entered by the user.\n",
    "\n",
    "MAX = 5  # the maximum number\n",
    "\n",
    "# initialize an accumulator variable.\n",
    "total = 0.0\n",
    "\n",
    "# Explain what we are doing\n",
    "print(\"This program calculates the sum of\")\n",
    "print(MAX, \"numbers you will enter.\")\n",
    "\n",
    "# Get the numbers and accumulate them\n",
    "for counter in range(MAX):\n",
    "    number = int(input(\"Enter a number: \"))\n",
    "    total = total + number\n",
    "\n",
    "# Display the total of all the numbers\n",
    "print(\"the total is \", total)"
   ],
   "id": "49e479cc199f38"
  },
  {
   "metadata": {},
   "cell_type": "markdown",
   "source": [
    "### The Augmented Assignment Operators\n",
    "programs have assignment statements in which the variable that is on the left side of the = operator also\\\n",
    "appears on the right side of the = operator. here's an example:\n",
    "```\n",
    "x = x + 1\n",
    "```\n",
    "You see another example of this below:\n",
    "```\n",
    "total = total + number\n",
    "```\n",
    "\n",
    "Here's another example:\n",
    "```\n",
    "balance = balance - withdrawal\n",
    "```\n",
    "\n",
    "This table shows other examples of statements written this way.\n",
    "\n",
    "| Statement  |            What it does            | Value of x after statement |\n",
    "|:----------:|:----------------------------------:|:--------------------------:|\n",
    "| x = x + 4  |             Add 4 to x             |             10             |\n",
    "| x = x - 3  |         Subtract 3 from x          |             3              |\n",
    "| x = x * 10 |          Multiply x by 10          |             60             |\n",
    "| x = x / 2  |           Divide x by 2            |             3              |\n",
    "| x = x % 4  | Assign the remainder of x / 4 to x |             2              |\n",
    "\n",
    "\n",
    "These types of operators are common in programming. For convenience, Python offers a special set of operators\\\n",
    "designed specifically for these jobs. The table below shows the augmented assignment operators.\n",
    "\n",
    "| Operator | Example Usage | Equivalent to |\n",
    "|:--------:|:-------------:|:-------------:|\n",
    "|    +=    |    x += 5     |   x = x + 5   |\n",
    "|    -=    |    y -= 2     |   y = y - 2   |\n",
    "|    *=    |    z *= 10    |  z = z * 10   |\n",
    "|    /=    |    a /= b     |   a = a / b   |\n",
    "|    %=    |    c %= 3     |   c = c % 3   |\n",
    "\n",
    "The following statement:\n",
    "```\n",
    "total = total + number\n",
    "```\n",
    "\n",
    "could be rewritten as\n",
    "```\n",
    "total+=number\n",
    "```\n",
    "\n",
    "Similarly, the statement\n",
    "```\n",
    "balance = balance - withdrawal\n",
    "```\n",
    "\n",
    "could be written as\n",
    "```\n",
    "balance -= withdrawal\n",
    "```\n",
    "\n",
    "### Sentinels 4.5\n",
    "**Concept**:A sentinel is a special value that marks the end of a sequence of values.\n",
    "\n",
    "Consider the following the scenario: you are designing a program that will use a loop to process a long sequence of values.\\\n",
    "At the time you are designing the program, you do not know the number of value that will be in the sequence.\\\n",
    "In fact, the number of values in the sequence could be different each time the program is executed. What is the best\\\n",
    "way to design such a loop? Here are some techniques that you have seen already in this chapter, along with the disadvantages\\\n",
    "of using them when processing a long list of values:                      \n",
    "                                       \n",
    "- Simply ask the user, at the end of each loop iteration, if there is another value to process. If the sequence of values is long,\\\n",
    "however, asking this question at the end of each loop iteration might make the program cumbersome for the user.\n",
    "- Ask the user at the beginning of the program how many items are in the sequence. This might also inconvenience the user, however.\\\n",
    "If the sequence is very long, and the user does not know the number of items it contains, it will require the user to count them.\n",
    "\n",
    "When processing a long sequence of values with a loop, perhaps a better technique is to use a sentinel. A sentinel is a\\\n",
    "special value that marks the end of a sequence of items. When a program reads the sentinel value, it knows it has reached\\\n",
    "the end of the sequence, so the loop terminates.\n",
    "\n",
    "For example, suppose a doctor wants a program to calculate the average weight of all her patients. The program might work\\\n",
    "like this: A loop prompts the user to enter either a patients weight, or 0 if there are no more weights.\\\n",
    "When the program reads 0 as a weight, it interprets that as a signal that there are no more weights.\\\n",
    "The loop ends and the program displays the average weight.\n",
    "\n",
    "A sentinel value must be distinctive enough that it will not be mistaken as a regular value in the sequence.\n"
   ],
   "id": "9479067a55cdde53"
  },
  {
   "metadata": {},
   "cell_type": "code",
   "outputs": [],
   "execution_count": null,
   "source": [
    "# This program displays property taxes.\n",
    "\n",
    "TAX_FACTOR = 0.0065  # Represents the tax factor\n",
    "\n",
    "# Get the first lot number\n",
    "print(\"Enter the property of lot number\")\n",
    "print(\"or Enter 0 at the end\")\n",
    "lot = int(input(\"Lot number: \"))\n",
    "\n",
    "# Continue processing as long as the user\n",
    "# does not enter lot number 0\n",
    "while lot != 0:\n",
    "    value = float(input(\"Enter the property value: \"))  # Get the property value\n",
    "\n",
    "    tax = value * TAX_FACTOR  # Calculate the property's tax\n",
    "\n",
    "    # Display the tax\n",
    "    print(\"Property tax: \", format(tax, \",.2f)\"), sep=\"\")\n",
    "\n",
    "    # Get the next lot number\n",
    "    print(\"Enter the property of lot number\")\n",
    "    print(\"or Enter 0 at the end\")\n",
    "    lot = int(input(\"Lot number: \"))"
   ],
   "id": "50252c2f7d732cc6"
  },
  {
   "metadata": {},
   "cell_type": "markdown",
   "source": [
    "### Input Validation Loops 4.6\n",
    "**Concept**: Input validation is the process of inspecting data that has been input to a program, to make sure\\\n",
    "it is valid before it is used in a computation. Input validation is commonly done with a loop that iterates as\\\n",
    "long as an input variable references bad data.\n",
    "\n",
    "One of the most famous sayings among computer programmers is \"Garbage in, garbage out.\" This saying, sometimes\\\n",
    "abbreviated as GIGO, refers to the fact that computers cannot tell the difference between good data and bad data.\\\n",
    "If a user provides bad data as input to a program, the program will process that bad data and, as a result,\\\n",
    "will produce bad data as an output.\n",
    "\n",
    "Sometimes stories are reported in the news about computer errors that mistakenly cause people to be charged\\\n",
    "thousands of dollars for small purchases, or to receive large tax refunds to which they were not entitled.\\\n",
    "These \"computer errors\" are rarely caused by the computer however; they are more commonly caused by bad data\\\n",
    "that was read into a program as input.\n",
    "\n",
    "If the input is invalid, the program should discard it and prompt the user to enter the correct data.\\\n",
    "This process is known as input validation.\n",
    "\n",
    "If the input is bad, the loop executes its block of statements. The loop displays an error message so the user\\\n",
    "will know that the input was invalid, and then it reads the new input. The loop repeats as long as the input is bad. \n",
    "\n",
    "### Nested Loops 4.7\n",
    "**Concept**:A loop that is inside another loop is called a nested loop.\n",
    "\n",
    "A nested loop is a loop that is inside another loop. A clock is a good example of something that works like a nested loop.\\\n",
    "The second hand, minute hand, and the hour hand all spin around the face of the clock. \n",
    "\n",
    "Here is a loop that partially simulates a digital clock. it displays the seconds from 0 to 59:\n",
    "```\n",
    "for seconds in range(60):\n",
    "    print(seconds)\n",
    "```\n",
    "\n",
    "We can add a minutes variable and the nest loop above inside another loop that cycles through 60 minutes:\n",
    "```\n",
    "for minutes in range(60):\n",
    "    for seconds in range(60):\n",
    "        print(minutes, ':', seconds)\n",
    "```\n",
    "\n",
    "To make the simulated clock complete, another varible and loop can be added to count the hours.\n",
    "```\n",
    "for hours in range(24):\n",
    "    for minutes in range(60):\n",
    "        for seconds in range(60):\n",
    "            print(hours, ':', minutes, ':', seconds)\n",
    "```\n",
    "\n",
    "The innermost loop will iterate 60 times for each iteration of the middle loop. The middle loop will iterate 60\\\n",
    "for each iteration of the outermost loop. When the outermost loop has iterated 24 times, the middle loop have iterated\\\n",
    "1,440 times and the innermost loop will have iterated 86,400 times!\n",
    "\n",
    "The simulated clock example brings up a few points about nested loops:\n",
    "- An inner loop goes through all its iterations for every single iteration of an outerloop.\n",
    "- Inner loops complete their iteration faster than outer loops.\n",
    "- To get the total number of iterations of a nested loop, multiply the of iterations of all the loops.\n"
   ],
   "id": "8cc3be21626389ce"
  },
  {
   "metadata": {
    "ExecuteTime": {
     "end_time": "2024-11-30T00:07:42.303889Z",
     "start_time": "2024-11-30T00:07:39.318248Z"
    }
   },
   "cell_type": "code",
   "source": [
    "# This program averages test scores. It asks the user for the\n",
    "# number of students and the number of test scores per student\n",
    "\n",
    "# Get the number of student\n",
    "num_students = int(input(\"how many students do you have?\"))\n",
    "\n",
    "# Get the number of test score per student\n",
    "num_test_scores = int(input(\"How many test scores per student?\"))\n",
    "\n",
    "# Determine each students average test score\n",
    "for student in range(num_students):\n",
    "    # Initialize an accumulator for the test scores\n",
    "    total = 0.0\n",
    "\n",
    "    # Get a student's test scores\n",
    "    print(\"student number: \", student + 1)\n",
    "    print(\"-----------------------------\")\n",
    "    for tes_num in range(num_test_scores):\n",
    "        print(\"test number: \", num_test_scores + 1, sep=\"\")\n",
    "        score = float(input(\": \"))\n",
    "        # add score to the accumulator\n",
    "        total += score\n",
    "    # Calculate the average test score for this student\n",
    "    average = total / num_test_scores\n",
    "\n",
    "    # Display the average.\n",
    "    print(\"the average for each student\", student + 1, \"is:\", average)\n",
    "    print()"
   ],
   "id": "11ebff025d9a9489",
   "outputs": [
    {
     "ename": "ValueError",
     "evalue": "invalid literal for int() with base 10: ''",
     "output_type": "error",
     "traceback": [
      "\u001b[0;31m---------------------------------------------------------------------------\u001b[0m",
      "\u001b[0;31mValueError\u001b[0m                                Traceback (most recent call last)",
      "Cell \u001b[0;32mIn[1], line 5\u001b[0m\n\u001b[1;32m      1\u001b[0m \u001b[38;5;66;03m# This program averages test scores. It asks the user for the\u001b[39;00m\n\u001b[1;32m      2\u001b[0m \u001b[38;5;66;03m# number of students and the number of test scores per student\u001b[39;00m\n\u001b[1;32m      3\u001b[0m \n\u001b[1;32m      4\u001b[0m \u001b[38;5;66;03m# Get the number of student\u001b[39;00m\n\u001b[0;32m----> 5\u001b[0m num_students \u001b[38;5;241m=\u001b[39m \u001b[38;5;28;43mint\u001b[39;49m\u001b[43m(\u001b[49m\u001b[38;5;28;43minput\u001b[39;49m\u001b[43m(\u001b[49m\u001b[38;5;124;43m'\u001b[39;49m\u001b[38;5;124;43mhow many students do you have?\u001b[39;49m\u001b[38;5;124;43m'\u001b[39;49m\u001b[43m)\u001b[49m\u001b[43m)\u001b[49m\n\u001b[1;32m      7\u001b[0m \u001b[38;5;66;03m# Get the number of test score per student\u001b[39;00m\n\u001b[1;32m      8\u001b[0m num_test_scores \u001b[38;5;241m=\u001b[39m \u001b[38;5;28mint\u001b[39m(\u001b[38;5;28minput\u001b[39m(\u001b[38;5;124m'\u001b[39m\u001b[38;5;124mHow many test scores per student?\u001b[39m\u001b[38;5;124m'\u001b[39m))\n",
      "\u001b[0;31mValueError\u001b[0m: invalid literal for int() with base 10: ''"
     ]
    }
   ],
   "execution_count": 1
  },
  {
   "metadata": {},
   "cell_type": "markdown",
   "source": "### 1. Bug Collector",
   "id": "4a56ac6d4535a471"
  },
  {
   "metadata": {
    "ExecuteTime": {
     "end_time": "2024-12-07T06:55:49.950613Z",
     "start_time": "2024-12-07T06:55:40.432210Z"
    }
   },
   "cell_type": "code",
   "source": [
    "MAX = 5\n",
    "\n",
    "accumulator = 0\n",
    "\n",
    "for num in range(1, MAX + 1):\n",
    "    _number_of_bugs_collected = int(\n",
    "        input(\"Enter the number of bugs collected each day\")\n",
    "    )\n",
    "\n",
    "    accumulator += _number_of_bugs_collected\n",
    "print(\"This is the total amount of bugs collected: \", accumulator)"
   ],
   "id": "f440315fe8d42385",
   "outputs": [
    {
     "name": "stdout",
     "output_type": "stream",
     "text": [
      "This is the total amount of bugs collected:  8\n"
     ]
    }
   ],
   "execution_count": 5
  },
  {
   "metadata": {},
   "cell_type": "markdown",
   "source": "### 2. Calories Burned\n",
   "id": "94c3004835e44124"
  },
  {
   "metadata": {},
   "cell_type": "code",
   "outputs": [],
   "execution_count": null,
   "source": [
    "_number_of_calories_burnt_per_minute = 4.2\n",
    "\n",
    "for numberOfminutes in range(10, 31, 5):\n",
    "    calories_burnt = numberOfminutes * _number_of_calories_burnt_per_minute\n",
    "\n",
    "    print(\"Here is the number of calories burnt: \", calories_burnt)"
   ],
   "id": "80495fb3077eb9b5"
  },
  {
   "metadata": {},
   "cell_type": "markdown",
   "source": "### 3.Budget Analysis\n",
   "id": "557c0464fb45151c"
  },
  {
   "metadata": {
    "ExecuteTime": {
     "end_time": "2024-12-07T07:28:10.805908Z",
     "start_time": "2024-12-07T07:27:59.679818Z"
    }
   },
   "cell_type": "code",
   "source": [
    "amount_budgeted_for_month = float(\n",
    "    input(\"Enter the amount that you have budgeted for a month\")\n",
    ")\n",
    "\n",
    "keep_going = \"y\"\n",
    "running_total = 0\n",
    "while keep_going == \"y\":\n",
    "    expenses_for_month = float(input(\"Enter your expenses for the month\"))\n",
    "\n",
    "    running_total += expenses_for_month\n",
    "    keep_going = input(\n",
    "        \"Do you have anymore expenses?Type y for yes, and any key for no\"\n",
    "    )\n",
    "if running_total > amount_budgeted_for_month:\n",
    "    print(\"The amount is over budget\")\n",
    "elif running_total < amount_budgeted_for_month:\n",
    "    print(\"The amount is under budget\")\n",
    "else:\n",
    "    print(\"End...\")"
   ],
   "id": "7b89ef7324a8cab",
   "outputs": [
    {
     "name": "stdout",
     "output_type": "stream",
     "text": [
      "The amount is under budget\n"
     ]
    }
   ],
   "execution_count": 10
  },
  {
   "metadata": {},
   "cell_type": "markdown",
   "source": "### 4. Distance Traveled\n",
   "id": "8f2021c5c57b22fc"
  },
  {
   "metadata": {
    "ExecuteTime": {
     "end_time": "2024-12-07T08:34:30.905354Z",
     "start_time": "2024-12-07T08:34:22.435708Z"
    }
   },
   "cell_type": "code",
   "source": [
    "speed_of_vehicle = int(input(\"What is the speed of the vehicle in mph?\"))\n",
    "number_of_hours = int(input(\"How many hours has it traveled?\"))\n",
    "\n",
    "for hours in range(1, number_of_hours + 1):\n",
    "    Distance = speed_of_vehicle * hours\n",
    "\n",
    "    print(\"Hour:\", hours, \"Distance:\", Distance)"
   ],
   "id": "8736d86178d9d7b",
   "outputs": [
    {
     "name": "stdout",
     "output_type": "stream",
     "text": [
      "Hour: 1 Distance: 40\n",
      "Hour: 2 Distance: 80\n",
      "Hour: 3 Distance: 120\n"
     ]
    }
   ],
   "execution_count": 11
  },
  {
   "metadata": {},
   "cell_type": "markdown",
   "source": "### 5. Average Rainfall",
   "id": "fec8ba0e7bd550ba"
  },
  {
   "metadata": {
    "jupyter": {
     "is_executing": true
    }
   },
   "cell_type": "code",
   "source": [
    "number_of_years = int(input(\"Enter the number of years\"))\n",
    "\n",
    "total_of_rainfall_over_years = 0\n",
    "month_counter = 0\n",
    "for year in range(1, number_of_years + 1):\n",
    "    for month in range(1, 13):\n",
    "        inches_of_rainfall = int(input(\"Enter inches of rainfall the month\"))\n",
    "\n",
    "        total_of_rainfall_over_years += inches_of_rainfall\n",
    "        month_counter += 1\n",
    "        average_rainfall_per_month = total_of_rainfall_over_years / month_counter\n",
    "        print(\n",
    "            \"The number of months: \",\n",
    "            month_counter,\n",
    "            \"Total inches of rainfall: \",\n",
    "            format(total_of_rainfall_over_years, \".2f\"),\n",
    "            \"The average rainfall per month:\",\n",
    "            format(average_rainfall_per_month, \".2f\"),\n",
    "        )"
   ],
   "id": "89760db115e221c2",
   "outputs": [],
   "execution_count": null
  }
 ],
 "metadata": {
  "kernelspec": {
   "display_name": "Python 3",
   "language": "python",
   "name": "python3"
  },
  "language_info": {
   "codemirror_mode": {
    "name": "ipython",
    "version": 2
   },
   "file_extension": ".py",
   "mimetype": "text/x-python",
   "name": "python",
   "nbconvert_exporter": "python",
   "pygments_lexer": "ipython2",
   "version": "2.7.6"
  }
 },
 "nbformat": 4,
 "nbformat_minor": 5
}
