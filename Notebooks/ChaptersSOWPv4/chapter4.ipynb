{
 "cells": [
  {
   "metadata": {},
   "cell_type": "markdown",
   "source": [
    "# Repetition Structures\n",
    "\n",
    "### Introduction to repetition structures\n",
    "**Concept**: A repitition structure causes a statement or a set of statements to execute repeatedly.\n",
    "\n",
    "Programmers commonly have to write code that perform that same task over and over. hu"
   ],
   "id": "b291af18a85f42a7"
  }
 ],
 "metadata": {
  "kernelspec": {
   "display_name": "Python 3",
   "language": "python",
   "name": "python3"
  },
  "language_info": {
   "codemirror_mode": {
    "name": "ipython",
    "version": 2
   },
   "file_extension": ".py",
   "mimetype": "text/x-python",
   "name": "python",
   "nbconvert_exporter": "python",
   "pygments_lexer": "ipython2",
   "version": "2.7.6"
  }
 },
 "nbformat": 4,
 "nbformat_minor": 5
}
