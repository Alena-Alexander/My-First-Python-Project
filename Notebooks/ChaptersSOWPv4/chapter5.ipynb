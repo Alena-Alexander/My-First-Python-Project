{
 "cells": [
  {
   "metadata": {},
   "cell_type": "markdown",
   "source": [
    "# Functions\n",
    "### Introduction to function 5.1\n",
    "**Concept**:A function is a group of statements that exist within a program for the purpose of performing a specific task.\n",
    "\n",
    "In chapter 2 we described a simple algorithm for calculating an employees pay. In the algorithm\\\n",
    "the number of hours worked is multiplied by an hourly pay rate. A more realistic payroll algorithm,\\\n",
    "however, would do much more than this. In a real-world application, the overall task of calculating\\\n",
    "an employees pay would consist of several subtasks, such as the following:\n",
    "- Getting the employee's hourly pay rate\n",
    "- Getting the number of hours worked\n",
    "- Calculating the employee's gross pay\n",
    "- calculating overtime pay\n",
    "- Calculating withholding's for taxes and benefits\n",
    "- Calculating the net pay\n",
    "- Printing the pay check\n",
    "\n",
    "Most programs perform tasks that are large enough to be broken into several subtasks. For this reason,\\\n",
    "programmers usually break down their programs into small manageable pieces known as function.\\\n",
    "A function is a group of statements that exist within a program for the purpose of performing a\\\n",
    "specific task. Instead of writing a large program as one long sequence of statements, it can be\\\n",
    "written as small statements, each one is performing a specific part of the task. These small function\\\n",
    "can then be executed in the desired order to perform the overall task.\n",
    "\n",
    "This approach is sometimes called divide and conquer. You generally isolate each task within the\\\n",
    "program in its own function. For example, a realistic pay calculating program might have the following functions:\n",
    "- A function that gets the employee's hourly pay rate\n",
    "- A function that gets the number of hours worked\n",
    "- A function that calculates the employee's gross pay\n",
    "- A function that calculates the overtime pay\n",
    "- A function that calculates the withholding's for taxes and benefits\n",
    "- A function that calculates the net pay\n",
    "- A function that prints the pay check\n",
    "\n",
    "This is called a modularized program...\n",
    "\n",
    "### Benefits of modularizing a program with functions\n",
    "\n",
    "**Simpler Code**\n",
    "A program's code tends to be simpler and easier to understand when it is broken down into functions.\n",
    "\n",
    "**Code Reuse**\n",
    "Function also reduce the duplication of code within a program. If a specific operation is\\\n",
    "performed in several places in a program, a function can be written once to perform that operation,\\\n",
    "then be executed any tine it is needed.\n",
    "\n",
    "**Better Testing**\n",
    "When each task within a program is contained in its own function, testing and debugging becomes simpler.\\\n",
    "Programmers can test each function in program individually, to determine whether it correctly performs its operation.\n",
    "\n",
    "**Faster Development**\n",
    "Suppose a programmer or a team of programmers is developing multiple programs. They discover that\\\n",
    "each of the programs perform several common tasks, such as asking for a username and password,\\\n",
    "displaying the current time, and so on. It doesn't make sense to write code for these tasks multiple times.\n",
    "\n",
    "**Easier Facilitation of Teamwork**\n",
    "Functions also make it easier for programmers to work in teams. when a program is developed as\\\n",
    "a set of function that each performs an individual task, then different programmers can be assigned\\\n",
    "the job of writing different functions.\n",
    "\n",
    "### void functions and value-returning functions\n",
    "When you call a void function, it simply executes the statements it contains and then terminates.\\\n",
    "When you call a value-returning function, it executes the statement that it contains, then returns\\\n",
    "a value back to the statement that called it. The input function is an example of a value-returning\\\n",
    "function. The first type of function that we will learn is the void function.\n",
    "\n",
    "### Defining a Calling a Void Function 5.2\n",
    "**concept**: The code for a function is known as a function definition. To execute the function,\\\n",
    "you write a statement that calls it.\n",
    "\n",
    "### Function names\n",
    "A functions name should be descriptive enough so anyone reading your code can reasonably guess what the\\\n",
    "function does. Python requires that you follow the same rules that you follow when naming variables.\\\n",
    "Because functions perform action, most programmers prefer to use verbs in function names for example a\\\n",
    "function that calculates gross play might be named, calculate_gross_pay.\n",
    "\n",
    "### Defining and Calling a Function\n",
    "To create a function, you write its definition. here is the general format of a function definition in Python:\n",
    "```\n",
    "def function():\n",
    "    statement\n",
    "    statement\n",
    "    etc.\n",
    "```\n",
    "\n",
    "The first line is known as the function header. It marks the beginning of the function definition.\\\n",
    "The function header begins with the key word def, followed by the name of the function,\\\n",
    "followed by a set of parentheses, followed a colon.\n",
    "\n",
    "Begging at the next statement is a set of statements known as a block. A block is simply a set of\\\n",
    "statements that belong together as a group. These statements are performed any time the function is executed. \n",
    "\n",
    "Let's look at an example of a function. Keep in mind that this is not a complete program. We will show the entire program in a moment."
   ],
   "id": "2836f3dd6e68639e"
  },
  {
   "metadata": {},
   "cell_type": "code",
   "outputs": [],
   "execution_count": null,
   "source": [
    "def message():\n",
    "    print('I am Arthur')\n",
    "    print('King of the Britons')"
   ],
   "id": "a16c551ead8d3ca1"
  },
  {
   "metadata": {},
   "cell_type": "markdown",
   "source": [
    "### **Calling a Function**\n",
    "To execute a function you must call it. This is how we would call the message function:"
   ],
   "id": "5a671ac1447d2e5a"
  },
  {
   "metadata": {},
   "cell_type": "code",
   "outputs": [],
   "execution_count": null,
   "source": "message()",
   "id": "670994b35101ccd6"
  },
  {
   "metadata": {},
   "cell_type": "markdown",
   "source": [
    " When a function is called, the interpreter jumps to that function and executes the statements in its block.\\\n",
    " Then, when the end of the block is reached, the interpreter jumps back to the part of the program that called\\\n",
    " the function, and the program resumes execution at that point. When this happens, we say that the function returns."
   ],
   "id": "cbeeb5da128969b9"
  },
  {
   "metadata": {},
   "cell_type": "code",
   "outputs": [],
   "execution_count": null,
   "source": [
    "# This program demonstrated a function.\n",
    "# First, we define a function named message.\n",
    "def message():\n",
    "    print('I am Arthur')\n",
    "    print('King of the Britons')\n",
    "    \n",
    "# Call the message function.\n",
    "message()"
   ],
   "id": "ad86acd1312dbce0"
  },
  {
   "metadata": {},
   "cell_type": "markdown",
   "source": [
    "This causes a function named message to be created in memory, containing the block of statements in lines 4 and 5.\\\n",
    "It is possible to define many functions in a program. In fact, it is common for a program to have a main function\\\n",
    "that is called when the program starts. The main function then calls other functions in the program as they are needed.\\\n",
    "It is often said that the main function contains a program's mainline logic, which is the overall logic of the program."
   ],
   "id": "62cfa89c771bc91f"
  },
  {
   "metadata": {},
   "cell_type": "code",
   "outputs": [],
   "execution_count": null,
   "source": [
    "# This program has two function. first we\n",
    "# define the main function\n",
    "\n",
    "def main():\n",
    "    print('I have a message for you')\n",
    "    message()\n",
    "    print('Goodbye!')\n",
    "    \n",
    "# Next we define the message function.\n",
    "def message():\n",
    "    print('I am Arthur')\n",
    "    print('King of the Britons')\n",
    "    \n",
    "# Call the main function\n",
    "main()"
   ],
   "id": "78cbaadb60aeaa9"
  },
  {
   "metadata": {},
   "cell_type": "markdown",
   "source": [
    "After the statements in the message function have executed, interpreter returns to the main function and resumes\n",
    "with statement that immediately follows the function call.\n",
    "\n",
    "### Indentation in Python\n",
    "Each line in a block must be indented. The last indented line is after the function a function header is the last line\\\n",
    "in the function's block. When you indent the lines in a block, make sure each line begins with the same number of spaces.\\\n",
    "There are two ways to indent a line: (1) by pressing the Tab key at the beginning of the line, or (2) by using the space\\\n",
    "bar to insert spaces at the begginig of the line. You can use either tabs or spaces when indenting the lines in a block,\\\n",
    "but don't use both doing so could cause an error. \n",
    "\n",
    "### Designing a Program to Use Functions 5.3\n",
    "**Concept**:programmers commonly use a technique known as top-down design break down an algorithm into functions.\n",
    "\n",
    "### Flowing charting a Program with Functions\n",
    "In a flowchart a function call is shown with a rectangle that has vertical bars at each side. The name of the function\\\n",
    "that is being called is written on the symbol. Programmers typically draw a separate flowchart for each function in a program.\\\n",
    "When drawing a flowchart for a function, the starting terminal symbol usually shows the name of the function and the ending\\\n",
    "terminal symbol usually reads Return.\n",
    "\n",
    "### Top-Down Design\n",
    "You've seen how control of a program is transferred to a function when it is called, then returns to the part of the\\\n",
    "program that called the function when the function ends. It is important that you understand these mechanical aspects of functions.\n",
    "\n",
    "Programmers commonly use a technique known as top-down design to break down an algorithm into functions.\\\n",
    "The process of top-down design is performed the following manner:\n",
    "- The overall task that the program is to perform is broken down into a series of subtasks.\n",
    "- Each of the subtasks is examined to determine whether it can be further broken down into more subtasks. This step is repeated until no more subtasks can be identified.\n",
    "- Once all the subtasks have been identified, they are written in code.\n",
    "\n",
    "### Hierarchy Charts\n",
    "A Hierarchy chart which is also known as a structure chart, shows boxes that represent each function in a program.\\\n",
    "The boxes are connected in a way that illustrates the functions called by each function. The hierarchy chart doesn't\\\n",
    "show the steps that are taken inside a function. Because they don't reveal any detail about how function work,\\\n",
    "they do not replace flowchart or pseudocode.\n",
    "\n",
    "### Pausing Execution Until the User presses Enter\n",
    "When the user is ready for the program to continue execution, he or she preses the Enter key and the program resumes.\\\n",
    "In Python, you can use the input function to cause a program to pause until the user presses the Enter key.\\\n",
    "This statement displays the prompt 'Press Enter to see Step 1.' and pauses until the user presses the Enter the key.\n",
    "\n",
    "### Local Variable 5.4\n",
    "**Concept**: A local variable is a created inside a function and cannot be accessed by statements that are outside the function. Different function can have local variables with the same name because the functions cannot see each other's local variables.\n",
    "\n",
    "If you assign a value to a variable inside a function, you create a local variable. A local variable belongs to the function in which it is created, and only statements inside the function can access the variable. An error will occur if a statement in one function tries to access a local variable."
   ],
   "id": "b14a1fe00819bf5"
  },
  {
   "metadata": {
    "ExecuteTime": {
     "end_time": "2024-12-04T16:22:21.097843Z",
     "start_time": "2024-12-04T16:22:21.086942Z"
    }
   },
   "cell_type": "code",
   "source": [
    "# Definition of the main function.\n",
    "def main():\n",
    "    get_name()\n",
    "    print('Hello', name) # This causes an error!\n",
    "    \n",
    "# Definition of the get_name function\n",
    "def get_name():\n",
    "    name = input('Enter your name: ')\n",
    "    \n",
    "# Call the main function.\n",
    "main()"
   ],
   "id": "9571c76d7bb1ea8d",
   "outputs": [],
   "execution_count": 1
  },
  {
   "metadata": {},
   "cell_type": "markdown",
   "source": [
    "### Scope and Local Variables\n",
    "A Variables scope is part of a program in which the variable may be accessed. A variable is visible only to statements in the variable's scope. A local variable's scope is the function in which the variable is created.\n",
    "\n",
    "In addition, a local variable cannot be accessed by code that appears inside the function at a point before that variable has been created.\n",
    "\n",
    "For example look at the following:"
   ],
   "id": "79ffe06ed45f7959"
  },
  {
   "metadata": {},
   "cell_type": "code",
   "outputs": [],
   "execution_count": null,
   "source": [
    "def bad_function():\n",
    "    print('The value is', val) # This will cause an error!\n",
    "    val = 99"
   ],
   "id": "e8910e13a4ab3806"
  },
  {
   "metadata": {},
   "cell_type": "markdown",
   "source": "Because a function's local variables are hidden from other functions, the other functions may have their own local variables with the same name.",
   "id": "ee45e8fcd105424e"
  },
  {
   "metadata": {},
   "cell_type": "code",
   "outputs": [],
   "execution_count": null,
   "source": [
    "# This program demonstrates two functions that \n",
    "# have local variables with the same name.\n",
    "\n",
    "def main():\n",
    "    # Call the texas function\n",
    "    texas()\n",
    "    # Call the california function\n",
    "    california()\n",
    "    \n",
    "# Definition of texas function. It creates\n",
    "# a local variable with the same name.\n",
    "def texas():\n",
    "    birds = 5000\n",
    "    print('texas has', birds, 'birds.')\n",
    "\n",
    "# Definition of the california function. It also\n",
    "# creates a local variable named birds.\n",
    "def california():\n",
    "    birds = 8000\n",
    "    print('california has', birds, 'birds')\n",
    "    \n",
    "# Call the main function\n",
    "main()"
   ],
   "id": "5847b9d6181e4804"
  },
  {
   "metadata": {},
   "cell_type": "markdown",
   "source": [
    "### Passing Arguments to Functions 5.5\n",
    "**Concept**: An argument is a piece of data that is passed into a function when the function is called. A parameter is a variable that receives an argument that is passed into a function.\n",
    "\n",
    "Pieces of data that are sent into a function are known as arguments. If you want a function to receive arguments when it is called, you must equip the functions with one or more parameter variable. A parameter variable, often simply called a parameter, is a special variable that is assigned the value of an argument when a function is called. Here's an example of a function that has a parameter variable:"
   ],
   "id": "a0631e8bd6f03fb"
  },
  {
   "metadata": {},
   "cell_type": "code",
   "outputs": [],
   "execution_count": null,
   "source": [
    "def show_double(number):\n",
    "    result = number * 2\n",
    "    print(result)"
   ],
   "id": "cf2058fa0c0bd9a5"
  },
  {
   "metadata": {},
   "cell_type": "code",
   "outputs": [],
   "execution_count": null,
   "source": [
    "# This program demonstrates an arguments being\n",
    "# passed to a function.\n",
    "\n",
    "def main():\n",
    "    value = 5\n",
    "    show_double(value)\n",
    "    \n",
    "# The show_double function accepts an argument\n",
    "# and displays double its value\n",
    "def show_double(number):\n",
    "    result = number * 2\n",
    "    print(result)\n",
    "    \n",
    "# Call the main function\n",
    "main()"
   ],
   "id": "70cb1f546c652980"
  },
  {
   "metadata": {},
   "cell_type": "markdown",
   "source": [
    "### Parameter Variable Scope\n",
    "A variable is visible only to statements inside the variable scope. A parameter variable's scope is the function in which the parameter is used. All of the statements inside the function can access the parameter variable, but no statement outside the function can access it.\n",
    "\n",
    "### Passing Multiple Arguments\n",
    "Often it's useful to write functions that can accept multiple arguments."
   ],
   "id": "ff63db569a2010f3"
  },
  {
   "metadata": {},
   "cell_type": "code",
   "outputs": [],
   "execution_count": null,
   "source": [
    "# This program demonstrates a function that accepts\n",
    "# two arguments\n",
    "\n",
    "def main():\n",
    "    print('The sum of 12 and 45 is')\n",
    "    show_sum(12, 45)\n",
    "    \n",
    "# The show_sum function accepts two arguments\n",
    "# and displays their sum\n",
    "def show_sum(num1, num2):\n",
    "    result = num1 + num2\n",
    "    print(result)\n",
    "    \n",
    "# Call the main function.\n",
    "main()"
   ],
   "id": "9988e6065a03555e"
  },
  {
   "metadata": {},
   "cell_type": "markdown",
   "source": [
    "Notice how parameter variable names, num1 and num2, appear inside the parentheses in the show_sum function header. This is often referred to as a parameter list. The statement in line 6 calls the show_sum function and passes two arguments: 12 and 45. These arguments are passed by position to the corresponding parameter variables in the function.\n",
    "\n",
    "Suppose we were to reverse the order in which the arguments are listed in the function call as shown here:\n",
    "```\n",
    "show_sum(45, 12)\n",
    "```\n",
    "\n",
    "This would cause 45 to be passed to num1, and 12 to be passed to num2. The following code shows another example. This time, we are passing variables as arguments."
   ],
   "id": "8f585874fbc70940"
  },
  {
   "metadata": {},
   "cell_type": "code",
   "outputs": [],
   "execution_count": null,
   "source": [
    "# This program demonstrates passing two string\n",
    "# arguments to a function\n",
    "\n",
    "def main():\n",
    "    first_name = input('Enter your first name: ')\n",
    "    last_name = input('Enter your last name: ')\n",
    "    print('Your name reverses is')\n",
    "    reverse_name(first_name, last_name)\n",
    "    \n",
    "def reverse_name(first, last):\n",
    "    print(last, first)\n",
    "    \n",
    "# Call the main function \n",
    "main()"
   ],
   "id": "fe35b5adbb14e3d6"
  },
  {
   "metadata": {},
   "cell_type": "markdown",
   "source": [
    "### Making Changes to Parameters\n",
    "The function parameter variable will reference the argument's value. However, any changes that are made to the parameter variable will not affect the argument.\n"
   ],
   "id": "53bc3596fd28136c"
  },
  {
   "metadata": {},
   "cell_type": "code",
   "outputs": [],
   "execution_count": null,
   "source": [
    "# This program demonstrates what happens when you\n",
    "# change the value of a parameter.\n",
    "\n",
    "def main():\n",
    "    value = 99\n",
    "    print('The value is', value)\n",
    "    change_me(value)\n",
    "    print('Back in main the value is', value)\n",
    "    \n",
    "def change_me(arg):\n",
    "    print('I am changing the value')\n",
    "    arg = 0\n",
    "    print('Now the value is', arg)\n",
    "    \n",
    "# Call the main function.\n",
    "main()"
   ],
   "id": "17d72d246a49fd2f"
  },
  {
   "metadata": {},
   "cell_type": "markdown",
   "source": [
    "The form of arguments passing that is used in Python, where a function cannot change the value of an argument that was passed to it, is commonly call pass by value. This is a way that one function can communicate with another function. The communication channel happens in only one direction, however. The calling function can communicate with called function, but the called function cannot use the argument to communicate with the calling.\n",
    "\n",
    "### Keyword Arguments\n",
    "In addition to the conventional form of argument passing, the Python language allows you too write an argument in the following format, to specify which parameter variable the argument should be passed to:\n",
    "```\n",
    "parameter_name = value\n",
    "```\n",
    "An argument that is written in accordance with this syntax is known as a keyword argument.\n"
   ],
   "id": "b38521319b693ff3"
  },
  {
   "metadata": {},
   "cell_type": "code",
   "outputs": [],
   "execution_count": null,
   "source": [
    "# This program demonstrates keyword arguments.\n",
    "\n",
    "def main():\n",
    "    # Show the amount of simple interest, using 0.01 as\n",
    "    # interest rate per period, 10 as the number of periods,\n",
    "    # and 10,000 as the principal.\n",
    "    show_interest(rate=0.01, periods=10, principal=10000)\n",
    "    \n",
    "# The show_interest function displays the amount of\n",
    "# simple interest for a given principal, interest rate\n",
    "# per period, and number of periods.\n",
    "def show_interest(principal, rate, periods):\n",
    "    interest = principal * rate * periods\n",
    "    print('The simple interest will be $',\n",
    "          format(interest, ',.2f'),\n",
    "          sep='')\n",
    "    \n",
    "# Call the main function\n",
    "main()"
   ],
   "id": "777c5f4904751f2b"
  },
  {
   "metadata": {},
   "cell_type": "markdown",
   "source": [
    "### Mixing Keyword Arguments will Positional Arguments\n",
    "It is possible to mix positional arguments in a function call, but the positional arguments must appear first, followed by the keyword arguments. Otherwise, an error will occur. Here's an example of how we might call the show_interest function using both positional arguments and keyword arguments:\n",
    "```\n",
    "show_interest(10000.0, rate = 0.01, periods = 10)\n",
    "```\n",
    "\n",
    "### Global Variables and Global Constants 5.6\n",
    "**Concept**: A Global variable is accessible to all the functions in a program file.\n",
    "When a variable is created by an assignment statement outside all the function in a program file, the variable is global. Fore example:"
   ],
   "id": "43888ec31433db62"
  },
  {
   "metadata": {},
   "cell_type": "code",
   "outputs": [],
   "execution_count": null,
   "source": [
    "# Create a global variable\n",
    "my_value = 10\n",
    "\n",
    "# The show_value function prints\n",
    "# the value of the global value.\n",
    "def show_value():\n",
    "    print(my_value)\n",
    "    \n",
    "# Call the show value function\n",
    "show_value()"
   ],
   "id": "2ead2e6d98c8673e"
  },
  {
   "metadata": {},
   "cell_type": "markdown",
   "source": "An additional statement is required if you want a statement in a function to assign a value to a global variable. In function, you must declare the global variable.\n",
   "id": "c6eb89b05da77ae7"
  },
  {
   "metadata": {},
   "cell_type": "code",
   "outputs": [],
   "execution_count": null,
   "source": [
    "# Create a global variable\n",
    "number = 0\n",
    "\n",
    "def main():\n",
    "    global number\n",
    "    number = int(input('Enter a number: '))\n",
    "    show_number()\n",
    "    \n",
    "def show_number():\n",
    "    print('The number you entered is', number)\n",
    "    \n",
    "# Call the main function\n",
    "main()"
   ],
   "id": "1308053f99c97909"
  },
  {
   "metadata": {},
   "cell_type": "markdown",
   "source": [
    "Most programmers agree that you should restrict the use of global variables, or not use them at all. The reasons are as follows:\n",
    "- Global variables make debugging difficult. Any statement in a program file can change the value of a global variable. If you find that the wrong value is being stored in a global variable, you have to track down every statement that accesses it to determine where the bad value is coming from.\n",
    "\n",
    "- Functions that use global variables are usually dependent on those variables. If you want to use a function in a different program, most likely you will have to redesign it, so it does not rely on the global variable.\n",
    "\n",
    "- A Global variable can be modified by any statement in the program. If you are to understand any part of the program that uses a global variable, you have to be aware of all the other parts of the program that access the global variable.\n",
    "\n",
    "### Global Constants\n",
    "It is permissible to use global constants in a program. A Global constant is a global name that references a value that cannot be changed. Because global constant's value cannot be changed during the program's execution, you don't have to worry about many of the potential hazards that are associated with the use of global variables. Python doesn't allow you to create true global constants, you can simulate them with global variables. If you don't declare a global variable with the global keyword inside a function, then you can't change the variable's assignment inside that function.\n",
    "\n",
    "### Introduction to Value-Returning Functions: Generating Random Numbers 5.7\n",
    "**Concept**: A value returning function is a function that returns a value back to the program that called it. Python, as well as most other programming languages, provides a library of prewritten functions that perform commonly needed task. These libraries typically contain a function that generated random numbers.\n",
    "\n",
    "A value returning function is a special type of function. it is like a void function in the following ways.\n",
    "- It is a group of statements that perform a specific task\n",
    "- When you want to execute the function you call it.\n",
    "\n",
    "When a value-returning function finishes, however, it returns a value back to the part of the program that called it. The value that is returned from a function can be used by any other value.\n",
    "\n",
    "### Standard Library Function and the import Statements\n",
    "Python comes with a standard library of function that have already been written for you. These functions, known as library functions, make a programmer's job easier because they perform many of the task that programmer's commonly need to perform. We've already used several of python's library function, such as print, input, and range. Some of pyons library functions are built into the python interpreter. many of the function in the standard library are stored in file that are known as modules. These modules, which are copied to your computer when you install python, help organize the standard library. For example, functions for performing math operations are stored in a module.\n",
    "\n",
    "In order to call a function that is stored in a module, you have to write an import statement at the of your program. An import statement tells the interpreter the name of the module that contains the function. for example the math module contains various mathematical functions that work with floating numbers. If you want to use any of the math modules functions in a program, you should write the following import statement:\n",
    "```\n",
    "import math\n",
    "```\n",
    "\n",
    "Because you don't see the internal working's of a library function, many programmer's think of them as black boxes. The term black box is used to describe any mechanism that accepts input, performs some operation using the input, and produces the output.\n",
    "\n",
    "### Generating Random Numbers\n",
    "random numbers are useful for lots of different programming tasks.\n",
    "\n",
    "- Random numbers are commonly used in. For example, computer games that let the player roll dice use random numbers to represent the numbers of the dice.\n",
    "- Random numbers are useful in simulation programs. In some simulations, the computer must randomly decide how a person, animal, insect, or other living human being will behave.\n",
    "- Random numbers are useful in statistical programs that must randomly select data for analysis.\n",
    "- Ramdom numbers are commonly used in computer security to encrypt sensitive data.\n",
    "\n",
    "python provider several library functions for working with random numbers. These functions are stored in a module named random in the standard library.\n",
    "\n",
    "The first random number generating function that we will discuss in named randit. Because the random function is in the random module, We will need to use dot notation to refer to it in our program. In dot notation the functions name is random.randit. On the left side of the dot is the name of the module, and on the right side of the dot id the name of the function.\n",
    "\n",
    "The following is an example of how you might call the function:\n",
    "```\n",
    "number = random.randit(1, 100)\n",
    "```\n",
    "\n",
    "This tells the function togive an integer random number in range of 1 through 100."
   ],
   "id": "5b894c2923bacd26"
  },
  {
   "metadata": {},
   "cell_type": "code",
   "outputs": [],
   "execution_count": null,
   "source": [
    "# This program displays a random number\n",
    "# in the range of 1 through 10\n",
    "import random\n",
    "\n",
    "def main():\n",
    "    # Get a random number\n",
    "    number = random.randit(1, 100)\n",
    "    # Display the number\n",
    "    print('the number is', number)\n",
    "    \n",
    "# Call the main function\n",
    "main()"
   ],
   "id": "84f29c4bff58563a"
  },
  {
   "metadata": {},
   "cell_type": "markdown",
   "source": [
    "### Experimenting with Random Numbers in Interactive Mode\n",
    "To get a feel for the way the randit function works you might want to experiment in interactive mode.\n",
    "\n",
    "### The randrange, random, and uniform functions\n",
    "In addition to the randit function, you might find the randrange, random, and uniform functions useful.\n",
    "\n",
    "the randrange function takes the same argument as the range function. The difference is that the randrange function does not return a list of values, instead, it returns a randomly selected value from a sequence of value. For example:\n",
    "```\n",
    "number = random.randrange\n",
    "```\n",
    "The function return a randomly selected number from the sequence of values 0 up to, but not including, the ending limit.\n",
    "\n",
    "The random function, however, returns a random floating-point number. You don't pass any arguments to it. When you call it, it returns a random floating-point number between 0.0 up to 1.0. Here's an example:\n",
    "```\n",
    "number = random.random()\n",
    "```\n",
    "\n",
    "The uniform function also returns a random floating-point number, but allows you to specifyy the range of the values to select from. Here's an example:\n",
    "```\n",
    "number = random.uniform(1.0, 10.0)\n",
    "```\n",
    "\n",
    "### Random Number Seeds\n",
    "The numbers that are generated by the functions in the random module are not truly random. They're actually pseudorandom numbers that are calculated by a formula. The formula that generates random numbers has to be initialized with a value known as a seed value. The seed value is used in the calculation that returns the random number in the series. When the random module is imported, it retrieves the system time from the computers internal clock and uses that as the seed value. The system time is an integer the represents the current date and time, down to a hundredth of a second.\n",
    "\n",
    "You can call the random.seed function to specify a seed value, here's an example:\n",
    "```\n",
    "random.seed(10)\n",
    "```\n",
    "\n",
    "If a program calls the random seed function, passing the same value as aan argument each time it runs, it will always produce the same sequence of pseudorandom numbers.\n"
   ],
   "id": "dee9acbda5682e8"
  },
  {
   "metadata": {},
   "cell_type": "code",
   "outputs": [],
   "execution_count": null,
   "source": [
    "import random\n",
    "random.seed(10)\n",
    "print(random.randint(1, 100))"
   ],
   "id": "242800ab038989dc"
  },
  {
   "metadata": {},
   "cell_type": "markdown",
   "source": [
    "### Writing your own value returning functions\n",
    "**Concept**: A value returning function has a return statement that returns a value back to the part of the program that called it.\n",
    "\n",
    "The write a value-returning function the same way you write a void function, except you must have a return statement, Here's a format of one:\n",
    "```\n",
    "def functio_name():\n",
    "    statement\n",
    "    statement\n",
    "    etc.\n",
    "    return expression\n",
    "```\n",
    "The value of the expression that follows the key word return can be any value, variable, or expression. Here's a example of a value-returning function:"
   ],
   "id": "a4deaafcbf374386"
  },
  {
   "metadata": {},
   "cell_type": "code",
   "outputs": [],
   "execution_count": null,
   "source": [
    "def sum(num1, num2):\n",
    "    result = num1 + num2\n",
    "    return result"
   ],
   "id": "9e88f3b509f5c3fb"
  },
  {
   "metadata": {},
   "cell_type": "markdown",
   "source": [
    "### Making the Most of the Return Statement\n",
    "Look again at the sum function presented:"
   ],
   "id": "d98c77002e8231bc"
  },
  {
   "metadata": {},
   "cell_type": "code",
   "outputs": [],
   "execution_count": null,
   "source": [
    "def sum(num1, num2):\n",
    "    result = num1 + num2\n",
    "    return result"
   ],
   "id": "cab85ac34a3013b3"
  },
  {
   "metadata": {},
   "cell_type": "markdown",
   "source": "Because the return statement can return the value of an expression, you can eliminate the result variable and rewrite the function:",
   "id": "fa608266fdd54b96"
  },
  {
   "metadata": {},
   "cell_type": "code",
   "outputs": [],
   "execution_count": null,
   "source": [
    "def sum(num1, num2):\n",
    "    return num1 + num2"
   ],
   "id": "bdc43f5b5408cc42"
  },
  {
   "metadata": {},
   "cell_type": "markdown",
   "source": [
    "### How to use Value-Returning Function\n",
    "You can use a value-returning function to prompt the user fo input and then it can return the value entered by the user.\n",
    "\n",
    "Here's a function you could define for that purpose:"
   ],
   "id": "53380f6098d7ff0"
  },
  {
   "metadata": {},
   "cell_type": "code",
   "outputs": [],
   "execution_count": null,
   "source": [
    "def get_regular_price():\n",
    "    price = float(input('Enter the items regular price: '))\n",
    "    return price"
   ],
   "id": "9b01e9307e0684fd"
  },
  {
   "metadata": {},
   "cell_type": "markdown",
   "source": "Then else where in the program, you could call the function, as shown:",
   "id": "295a0c759d7a2221"
  },
  {
   "metadata": {},
   "cell_type": "code",
   "outputs": [],
   "execution_count": null,
   "source": [
    "# Get the items' regular price\n",
    "reg_price = get_regular_price()"
   ],
   "id": "a2fcd99c2ea0b298"
  },
  {
   "metadata": {},
   "cell_type": "markdown",
   "source": [
    "You can also use functions to simplify complex mathematical expressions. For example, you calculate the discount and subtract it from the regular price. In a program, however, a statement that performs this calculation is not that straightforward, as shown in the example.\n",
    "```\n",
    "sale_price = reg_price - (reg_price * DISCOUNT_PERCENTAGE)\n",
    "``` \n",
    "\n",
    "At first glance this statement isn't easy to understand because it performs so many steps. You could simplify this statement by breaking out part of the math expression and placing in a function. Here's a function named discount that accepts an item's price as an argument and returns the amount of discount. "
   ],
   "id": "8aed0f6104158848"
  },
  {
   "metadata": {},
   "cell_type": "code",
   "outputs": [],
   "execution_count": null,
   "source": [
    "def discount(price):\n",
    "    return price * DISCOUNT_PERCENTAGE"
   ],
   "id": "d929918db776f3cd"
  },
  {
   "metadata": {},
   "cell_type": "markdown",
   "source": "Then you can call the function in your calculation:",
   "id": "a2ca4817981ef6be"
  },
  {
   "metadata": {},
   "cell_type": "code",
   "outputs": [],
   "execution_count": null,
   "source": "sale_price = reg_price - discount(reg_price)",
   "id": "159f7323ddf83e61"
  },
  {
   "metadata": {},
   "cell_type": "markdown",
   "source": "Here's the complete sale price calculating program using the functions just described:",
   "id": "2b7d6d2ba63b3afc"
  },
  {
   "metadata": {},
   "cell_type": "code",
   "outputs": [],
   "execution_count": null,
   "source": [
    "# This program calculates a retail item's\n",
    "# sale price.\n",
    "\n",
    "# DISCOUNT_PERCENTAGE is used as a global\n",
    "# constant for the discount percentage.\n",
    "DISCOUNT_PERCENTAGE = 0.20\n",
    "\n",
    "# The main function.\n",
    "def main():\n",
    "    # Get the item's regular price\n",
    "    reg_price = get_regular_price()\n",
    "    \n",
    "    # Calculate the sales price\n",
    "    sale_price = reg_price - discount(reg_price)\n",
    "    \n",
    "    # Display the sales price.\n",
    "    print('The sale price is $', format(sale_price, ',.2f'), sep='')\n",
    "    \n",
    "# You get the regular price function prompts the\n",
    "# user to enter an item's regular price, and it\n",
    "# returns that value.\n",
    "def get_regular_price():\n",
    "    price = float(input('Enter the items regular price: '))\n",
    "    return price\n",
    "\n",
    "# The discount accepts an item's price\n",
    "# as an argument and returns the amount of the\n",
    "# discount, specified by DISCOUNT_PERCENTAGE.\n",
    "def discount(price):\n",
    "    return price * DISCOUNT_PERCENTAGE\n",
    "\n",
    "# Call the main function\n",
    "main()"
   ],
   "id": "187065b8ed827e39"
  },
  {
   "metadata": {},
   "cell_type": "markdown",
   "source": [
    "### Using IPO Charts\n",
    "IPO stands for input, processing, and output and an IPO chart describes the input, processing, and output of a function. These are usually laid out in columns: The input columns shows a decription of that data that is passed to the function as the arguments, the processing column shows a description of the process that the function performs, and the output data describes the data that is returned from the function. Notice IPO chart only provide brief descriptions of a functions input, processing, and output.\n",
    "\n",
    "### Returning Strings\n",
    "You can also write functions that return strings."
   ],
   "id": "c36ff029c34385bd"
  },
  {
   "metadata": {},
   "cell_type": "code",
   "outputs": [],
   "execution_count": null,
   "source": [
    "def get_name():\n",
    "    # Get the users name\n",
    "    name = input('Enter your name: ')\n",
    "    # Return the name\n",
    "    return name"
   ],
   "id": "1e2f0693284fae4"
  },
  {
   "metadata": {},
   "cell_type": "markdown",
   "source": [
    "### Returning Boolean values\n",
    "Python allows you write boolean functions, which returns either true or false. You can use a boolean function to test a condition, the return either true or false to indicate whether the condition exist. For example suppose you're designing a program tht will asks a user to enter a number, then determine whether that number is even or odd. The following shows you how you can make that determination:"
   ],
   "id": "572966b773a10520"
  },
  {
   "metadata": {},
   "cell_type": "code",
   "outputs": [],
   "execution_count": null,
   "source": [
    "number = int(input('Enter a number: '))\n",
    "if (number % 2) == 0:\n",
    "    print('The number is even.')\n",
    "else:\n",
    "    print('The number is odd.')"
   ],
   "id": "2e07ff1711e3cff6"
  },
  {
   "metadata": {},
   "cell_type": "markdown",
   "source": "In this other example you write a boolean function called is_even that accepts a number as an argument and returns true if the number is even, or False otherwise. The following code is for such a function:",
   "id": "5fd724a2620fd838"
  },
  {
   "metadata": {},
   "cell_type": "code",
   "outputs": [],
   "execution_count": null,
   "source": [
    "def is_even(number):\n",
    "    # Determine whether a number is even. If it is\n",
    "    # set status to true. Otherwise, set status \n",
    "    # to false\n",
    "    if (number % 2) == 0:\n",
    "        status = True\n",
    "    else:\n",
    "        status = False\n",
    "    # Return the value of the status variable\n",
    "    return status"
   ],
   "id": "c506fcb4640e5aab"
  },
  {
   "metadata": {},
   "cell_type": "markdown",
   "source": "Then, you can rewrite the if-else statement so it calls the is_even function to determine whether number is even:",
   "id": "9c7d27391f68b198"
  },
  {
   "metadata": {},
   "cell_type": "code",
   "outputs": [],
   "execution_count": null,
   "source": [
    "number = int(input('Enter a number: '))\n",
    "if is_even(number):\n",
    "    print('The number is even.')\n",
    "else:\n",
    "    print('The number is odd.')"
   ],
   "id": "d88f2e28562f3818"
  },
  {
   "metadata": {},
   "cell_type": "markdown",
   "source": [
    "### Using Boolean Functions to Validate Code\n",
    "you can also use boolean functions to simplify complex input validation code. For instance suppose your wdriting a program that prompts the user to enter a product model number and should only accept the values 100, 200, and 300.\n"
   ],
   "id": "519c1f2946caedb4"
  },
  {
   "metadata": {},
   "cell_type": "code",
   "outputs": [],
   "execution_count": null,
   "source": [
    "# Get the modul number\n",
    "model = int(input('Enter the model number: '))\n",
    "\n",
    "# Validate the model number\n",
    "while model != 100 and model != 200 and model != 300:\n",
    "    print('The valid model numbers are 100, 200, and 300.')\n",
    "    model = int(input('Enter a valid model number: '))"
   ],
   "id": "41c0f438d7058f0e"
  },
  {
   "metadata": {},
   "cell_type": "markdown",
   "source": "The next function returns true is model is invalid, or false otherwise. You could rewrite the validation loop as follows:",
   "id": "b01477ba57b3f088"
  },
  {
   "metadata": {},
   "cell_type": "code",
   "outputs": [],
   "execution_count": null,
   "source": [
    "def is_invalid(mod_num):\n",
    "    if mod_num != 100 and mod_num != 200 and mod_num != 300:\n",
    "        status = True\n",
    "    else:\n",
    "        status = False\n",
    "    return status\n",
    "\n",
    "# Validate the model number\n",
    "while is_invalid(model):\n",
    "    print('The valid model numbers are 100, 200, and 300.')\n",
    "    model = int(input('Enter a valid model number: '))"
   ],
   "id": "52b00dcb70361930"
  },
  {
   "metadata": {},
   "cell_type": "markdown",
   "source": [
    "### Returning Multiple Values\n",
    "In Python, you can return not just one but multiple values separated by commas after the return statement, as shown in this general format:\n",
    "```\n",
    "return expression1, expression2, etc.\n",
    "```\n",
    "\n",
    "As an example look at the following definition for a function named get_name."
   ],
   "id": "64c1c7cd8b965b06"
  },
  {
   "metadata": {},
   "cell_type": "code",
   "outputs": [],
   "execution_count": null,
   "source": [
    "def get_name():\n",
    "    # Get the user's first and last name\n",
    "    first = input('Enter your first name: ')\n",
    "    last = input('Enter your last name: ')\n",
    "    \n",
    "    # Return both names\n",
    "    return first, last"
   ],
   "id": "5175f950c815d710"
  },
  {
   "metadata": {},
   "cell_type": "markdown",
   "source": "When you call this function in an assignment statement, you need to use two variables on the left side of the = operator. Here's an example:",
   "id": "549ee07c419d36cf"
  },
  {
   "metadata": {},
   "cell_type": "code",
   "outputs": [],
   "execution_count": null,
   "source": "first_name, last_name = get_name()",
   "id": "5911ba0891f9cd65"
  },
  {
   "metadata": {},
   "cell_type": "markdown",
   "source": [
    "### The Math Module\n",
    "**Concept**: The Python standard library's math module contains functions that can be used in mathematical calculations.\n",
    "\n",
    "The math module contains several functions that are useful for performing mathematical operations. For example, one of the functions is called sqrt. The sqrt function accepts any argument and return the square root of the argument. Here's an example:\n",
    "```\n",
    "result = math.sqrt(16)\n",
    "```"
   ],
   "id": "6ecb255356b4ac4d"
  },
  {
   "metadata": {},
   "cell_type": "code",
   "outputs": [],
   "execution_count": null,
   "source": [
    "# This demonstrates the sqrt function\n",
    "import math\n",
    "\n",
    "def main():\n",
    "    # Get a number\n",
    "    number = float(input('Enter a number: '))\n",
    "\n",
    "    # Get the square root of the number\n",
    "    square_root = math.sqrt(number)\n",
    "    \n",
    "    # Display the square root\n",
    "    print('The square root of', number, '0  is', square_root)\n",
    "    \n",
    "# Call the main function\n",
    "main()"
   ],
   "id": "869868b9719993ef"
  },
  {
   "metadata": {},
   "cell_type": "markdown",
   "source": [
    "| Math Module function |                                       Description                                       |\n",
    "|:--------------------:|:---------------------------------------------------------------------------------------:|\n",
    "|       acos(x)        |                        returns the arc confine of x, in radians                         |\n",
    "|       asin(x)        |                          returns the arc sin of x, in radians                           |\n",
    "|       atan(x)        |                        returns the arc tangent of x, in radians                         |\n",
    "|       ceil(x)        |             returns the smallest integer that is greater than or equal to x             |\n",
    "|        cos(x)        |                           returns the confine of x in radians                           |\n",
    "|      degrees(x)      |  Assuming x is an angle in radian, the function returns the angle converted to degrees  |\n",
    "|        exp(x)        |                                       returns e*x                                       |\n",
    "|       floor(x)       |               returns the largest integer that is less than or equal to x               |\n",
    "|       hypot(x)       |               returns the hypotenuse that extends from (0, 0) to (x, y).                |\n",
    "|        log(x)        |                           returns the natural logarithm of x                            |\n",
    "|       log10(x)       |                           returns the base -10 logarithm of x                           |\n",
    "|      radians(x)      | Assuming x is an angle in degrees, the functions returns the angle converted to radians |\n",
    "|        sin(x)        |                            returns the sine of x in radians                             |\n",
    "|       sqrt(x)        |                              returns the square root of x                               |\n",
    "|        tan(x)        |                           returns the tangent of x in radians                           |\n",
    "\n",
    "### The Math.pi and math.e Values\n",
    "The math module also defines two variables, pi, and, e which are assigned mathematical values for pi, and e. You can use these variables in equations that require their values. For example, the following statement, which calculates the area of a circle, uses pi.\n",
    "```\n",
    "area = math.pi * radius * 2\n",
    "```\n",
    "\n",
    "### Storing Functions in Modules\n",
    "**Concept**: A module is a file that contains Python code. Large program sre easier to debug whe they are divided intoo modules.\n",
    "\n",
    "When you break a program into modules, each module should contain function that perform related tasks. The approach called modularization, makes the program easier to understand, test, and maintain. Modules often make it easy to use the same code in more than one program. If you have written a set of functions that are needed in several different programs, you can place those functions in a module.\n",
    "\n",
    "Let's look at a simple example. Suppose your instructor has asked you to write a program that calculates:\n",
    "- The area of a circle\n",
    "- The circumference of a circle\n",
    "- The area of a rectangle\n",
    "- The perimeter of a rectangle\n"
   ],
   "id": "d7f241d31195cf8a"
  },
  {
   "metadata": {},
   "cell_type": "code",
   "outputs": [],
   "execution_count": null,
   "source": [
    "# The circle module has functions that perform\n",
    "# Calculations related to circles\n",
    "import math\n",
    "\n",
    "# The area functions accept a circles radius as an\n",
    "#  argument and returns the area of a circle\n",
    "def area(radius):\n",
    "    return math.pi * radius**2\n",
    "\n",
    "# The circumference function accepts a circle's\n",
    "# radius and radius and returns the circle's circumference\n",
    "def circumference(radius):\n",
    "    return 2*math.pi * radius"
   ],
   "id": "377ff36211874032"
  },
  {
   "metadata": {},
   "cell_type": "code",
   "outputs": [],
   "execution_count": null,
   "source": [
    "# The rectangle module has functions that perform\n",
    "# calculations related to rectangles\n",
    "\n",
    "# The area function accepts a rectangles width\n",
    "# and length as arguments and returns the rectangle's area\n",
    "def area(width, length):\n",
    "    return width * length\n",
    "\n",
    "# The perimeter function accepts a rectangle's width\n",
    "# and length as argument's and returns the returns\n",
    "# perimeter\n",
    "def perimeter(width, length):\n",
    "    return 2 * (width + length)"
   ],
   "id": "7f868c7c531cf8ab"
  },
  {
   "metadata": {},
   "cell_type": "markdown",
   "source": [
    "Notice both of these files contain function definitions, but they do not contain the code that calls the  function. That will be done by the program or programs that import these modules.\n",
    "\n",
    "Before continuing, we should mention the following things about module names:\n",
    "- A module's file name should end in .py. If the module's file does not end in .py, you will not be able to import it into other programs.\n",
    "- A modules name cannot be the same as a Python key word. An error would occur, for example if you named a module for.\n",
    "\n",
    "To use these modules in a program, you import them with the import statement. Here's an example of how we would import the circle module:\n",
    "```\n",
    "import circle\n",
    "```\n",
    "\n",
    "When the Python interpreter reads this statement it reads this file circle.py in the same folder as the program that is trying to import it. If it finds the file, it will load it into memory.\n",
    "\n",
    "### Menu-Driven Programs\n",
    "A driven menu driven program displays a list of operations on the screen, and allows the user to select the operation they want the program to perform. The list of operations that are displayed on the screen is called a menu.\n"
   ],
   "id": "58ac0c86c4b1f49f"
  },
  {
   "metadata": {},
   "cell_type": "code",
   "outputs": [],
   "execution_count": null,
   "source": [
    "# This program allows the user to choose various\n",
    "# geometry calculations from a menu. This program\n",
    "# imports the circle and rectangle modules.\n",
    "import circle\n",
    "import rectangle\n",
    "\n",
    "# The constants for menu choices\n",
    "AREA_CIRCLE_CHOICE = 1\n",
    "CIRCUMFERENCE_CHOICE = 2\n",
    "AREA_RECTANGLE_CHOICE = 3\n",
    "PERIMETER_RECTANGLE_CHOICE = 4\n",
    "QUIT_CHOICE = 5\n",
    "\n",
    "# The main function.\n",
    "def main():\n",
    "    # The choice variable controls the loop\n",
    "    # and holds the users menu choice\n",
    "    choice = 0 \n",
    "    \n",
    "    while choice != QUIT_CHOICE:\n",
    "        # Display the menu\n",
    "        display_menu()\n",
    "        \n",
    "        # Get the users choice\n",
    "        choice = int(input('Enter your choice: '))\n",
    "        \n",
    "        # Perform the selected action\n",
    "        if choice == AREA_CIRCLE_CHOICE:\n",
    "            radius = float(input('Enter the circles radius: '))\n",
    "            print('the area is', circle.area(radius))\n",
    "        if choice == CIRCUMFERENCE_CHOICE:\n",
    "            radius = float(input('Enter the circles radius: '))\n",
    "            print('the circumference is', \n",
    "                  circle.circumference(radius))\n",
    "        if choice == AREA_RECTANGLE_CHOICE:\n",
    "            width = float(input('Enter the rectangles width: '))\n",
    "            length = float(input('Enter the rectangles length: '))\n",
    "            print('the area is', rectangle.area(width, length))\n",
    "        if choice == PERIMETER_RECTANGLE_CHOICE:\n",
    "            width = float(input('Enter the rectangles width: '))\n",
    "            length = float(input('Enter the rectangles length: '))\n",
    "            print('the perimeter is', \n",
    "                  rectangle.perimeter(width, length))\n",
    "        if choice == QUIT_CHOICE:\n",
    "            print('Exiting the program...')\n",
    "        else:\n",
    "            print('Error: invalid selection.')\n",
    "            \n",
    "# the display_menu function displays a menu      \n",
    "def display_menu():\n",
    "    print(' MENU')\n",
    "    print('1) Area of circle')\n",
    "    print('2) Circumference of a circle')\n",
    "    print('3) Area of a rectangle')\n",
    "    print('4) Perimeter of a rectangle')\n",
    "    print('5) Quit')\n",
    "    \n",
    "# Call the main function\n",
    "main()"
   ],
   "id": "c80a6e95dc2e061c"
  },
  {
   "metadata": {},
   "cell_type": "markdown",
   "source": "### 1. Kilometer Converter",
   "id": "f81c523614aeaa8e"
  },
  {
   "metadata": {},
   "cell_type": "code",
   "outputs": [],
   "execution_count": null,
   "source": [
    "distance_in_kilometer = int(input('Enter the distance in kilometer'))\n",
    "\n",
    "def miles(distance):\n",
    "    miles = distance * 0.6214\n",
    "    print(miles)"
   ],
   "id": "9ae49606656da9c6"
  },
  {
   "metadata": {},
   "cell_type": "markdown",
   "source": "### 2. How Mush Insurance?",
   "id": "a141683b8aeebbca"
  },
  {
   "metadata": {},
   "cell_type": "code",
   "outputs": [],
   "execution_count": null,
   "source": [
    "replacement_cost = float(input('Enter replacement cost of a building'))\n",
    "\n",
    "def insurance(cost):\n",
    "    minimum_amount_of_insurance = .80 * cost\n",
    "    print(minimum_amount_of_insurance)"
   ],
   "id": "e8cf968a5e071703"
  },
  {
   "metadata": {},
   "cell_type": "markdown",
   "source": "### 3. Automobile Costs",
   "id": "5608ff83075f3780"
  },
  {
   "metadata": {},
   "cell_type": "code",
   "outputs": [],
   "execution_count": null,
   "source": [
    "def askForexpenses():\n",
    "    loan_cost = float(input('Enter the monthly cost of loan'))\n",
    "    insurance_cost = float(input('Enter the monthly cost of insurance'))\n",
    "    gas_cost = float(input('Enter the monthly cost of gas'))\n",
    "    oil_cost = float(input('Enter the monthly cost of oil'))\n",
    "    tires_cost = float(input('Enter the monthly cost of tires'))\n",
    "    maintenance_cost = float(input('Enter the monthly cost of maintenance'))\n",
    "    return  loan_cost, insurance_cost, gas_cost, oil_cost, tires_cost, maintenance_cost\n",
    "\n",
    "def calc_total_monthly_cost(cost1, cost2, cost3, cost4, cost5, cost6):\n",
    "    total_monthly_cost = cost1 + cost2 + cost3 + cost4 + cost5 + cost6\n",
    "    return total_monthly_cost\n",
    "\n",
    "def calc_total_annual_cost(total_monthly_cost):\n",
    "    total_annual_cost = total_monthly_cost * 12\n",
    "    return total_annual_cost\n",
    "\n",
    "def main():\n",
    "    loan_cost, insurance_cost, gas_cost, oil_cost, tires_cost, maintenance_cost = askForexpenses()\n",
    "    \n",
    "    monthly_cost = calc_total_annual_cost(loan_cost, insurance_cost, gas_cost, oil_cost, tires_cost, maintenance_cost)\n",
    "    \n",
    "    annual_cost = calc_total_annual_cost(monthly_cost)\n",
    "    \n",
    "    print(monthly_cost, annual_cost)"
   ],
   "id": "4bdb8dcfc6d3b66"
  },
  {
   "metadata": {},
   "cell_type": "markdown",
   "source": "### 4. Property Tax",
   "id": "1b011273d443381f"
  },
  {
   "metadata": {},
   "cell_type": "code",
   "outputs": [],
   "execution_count": null,
   "source": [
    "def ask_for_value_property():\n",
    "    actual_value = float(input('Enter the actual value of a piece of property: '))\n",
    "    return actual_value\n",
    "\n",
    "def assessment_value(_value):\n",
    "    assessmentValue = .60 * _value\n",
    "    return assessmentValue\n",
    "    \n",
    "def property_tax(__value):\n",
    "    propertyTax = .72 * (__value/100)\n",
    "    return propertyTax\n",
    "\n",
    "def main():\n",
    "    value_property = ask_for_value_property()\n",
    "    assessment_value_property = assessment_value(value_property)\n",
    "    property_tax_property = property_tax(assessment_value_property)\n",
    "    \n",
    "    print('Assessment Value: ', assessment_value_property, 'Property Tax: ', property_tax_property)"
   ],
   "id": "d6275aa94e201fd7"
  },
  {
   "metadata": {},
   "cell_type": "markdown",
   "source": "### 5. Calories from Fat and Carbohydrates",
   "id": "d4cb02b1ea8ae58f"
  },
  {
   "metadata": {},
   "cell_type": "code",
   "outputs": [],
   "execution_count": null,
   "source": [
    "number_of_fat_grams = int(input('Enter the number of fat grams: '))\n",
    "number_of_carb_grams = int(input('Enter the number of car grams: '))\n",
    "\n",
    "def calculate_calories_fat(fat_grams):\n",
    "    calories_from_fat = fat_grams * 9\n",
    "    return calories_from_fat\n",
    "\n",
    "def calculate_calories_carbohydrates(carb_grams):\n",
    "    calories_from_carbs = carb_grams * 4\n",
    "    return calories_from_carbs\n",
    "\n",
    "def main():\n",
    "    result_fat = calculate_calories_fat(number_of_fat_grams)\n",
    "    result_carb = calculate_calories_carbohydrates(number_of_carb_grams)\n",
    "    print(result_fat, result_carb7)"
   ],
   "id": "449afc4ddcae3c03"
  }
 ],
 "metadata": {
  "kernelspec": {
   "display_name": "Python 3",
   "language": "python",
   "name": "python3"
  },
  "language_info": {
   "codemirror_mode": {
    "name": "ipython",
    "version": 2
   },
   "file_extension": ".py",
   "mimetype": "text/x-python",
   "name": "python",
   "nbconvert_exporter": "python",
   "pygments_lexer": "ipython2",
   "version": "2.7.6"
  }
 },
 "nbformat": 4,
 "nbformat_minor": 5
}
