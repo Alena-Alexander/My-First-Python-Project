{
 "cells": [
  {
   "metadata": {},
   "cell_type": "markdown",
   "source": [
    "### Decision Structures and Boolean Logic\n",
    "### The if Statement 3.1\n",
    "\n",
    "**concept**: The `if statement` is used to create a `decision structure`, which allows a `program` to have more than one path of execution.\\\n",
    "The `if statement` causes one or more statements to execute only when a `boolean` expression is `true`.\n",
    "\n",
    "A `control structure` is a logical design that controls the order in which a set of statements execute.\\\n",
    "We have used only the simplest type of `control structure`: the `sequence structure`.\\\n",
    "A `sequence structure` is a set of statements that execute in the order in which they appear.\\\n",
    "For example, the following code is a sequence: \n",
    "```python\n",
    "name = input('What is your name?')\n",
    "age = int(input('What is your age?'))\n",
    "print('Here is the data you entered:')\n",
    "print('Name:', name)\n",
    "print('Age:', age)\n",
    "```\n",
    "\n",
    "Some programs simply cannot be solved by performing as set of ordered steps,\\\n",
    "these programs require a different type of `control structure`: One that can execute a set of statements\\\n",
    "only under certain circumstances. This can be accomplished with a `decision structure`.\n",
    "\n",
    "Consider we are determining if Cold outside is true or false. If this condition is true, the action Wear a coat is performed.\\\n",
    "If the condition is false the action is skipped. The action is conditionally executed because it is performed only when a\\\n",
    "certain condition is true. Programmers call the type of decision structure with only one condition a single alternative decision structure.\n",
    "\n",
    "In Python, we use the if statement to write a single alternative decision structure.\\\n",
    "Here is the general format of the if statement:\n",
    "\n",
    "```python\n",
    "if condition:\n",
    "    statement\n",
    "    statement\n",
    "    # etc\n",
    "```\n",
    "\n",
    "For simplicity, we will refer to the first line as the if-clause. The if-clause begins with the word if, followed by a condition,\\\n",
    "which is an expression that will be evaluated as either true or false. A colon appears after the condition.\\\n",
    "Beginning at the next line is a block of statements. A block is simply a set statements that belong together as a group.\n",
    "\n",
    "### Boolean Expressions and Rational Operators\n",
    "The expressions that are tested by the if statement are called Boolean expressions, named in honor of the English mathematician George Boole.\\\n",
    "The Boolean expression that is tested by an if statement is formed with a relational operator.\\\n",
    "A rational operator determines whether a specific relationship exists between two value.\\\n",
    "For example, the greater than operator (>) determines whether one value is greater than another.\n",
    "\n",
    "| Operator |         Meaning          |\n",
    "|:--------:|:------------------------:|\n",
    "|    >     |       Greater than       |\n",
    "|    <     |        Less than         |\n",
    "|    >=    | Greater than or equal to |\n",
    "|    <=    |  Less than or equal to   |\n",
    "|    ==    |         Equal to         |\n",
    "|    !=    |       Not equal to       |\n",
    "\n",
    "The following is an example of an expression that uses the greater than (>) operator to compare two variables:\n",
    "```python\n",
    "length > width\n",
    "```\n",
    "\n",
    "| Expression |             Meaning              |\n",
    "|:----------:|:--------------------------------:|\n",
    "|   x > y    |       Is x Greater than y?       |\n",
    "|   x < y    |        Is x Less than y?         |\n",
    "|   x >= y   | Is x Greater than or equal to y? |\n",
    "|   x <= y   |  Is x Less than or equal to y?   |\n",
    "|   x == y   |         Is x Equal to y?         |\n",
    "|   x != y   |       Is x Not equal to y?       |\n",
    "\n",
    "### The >= and <= Operators\n",
    "Two of the operators, >= and <=, test for more than one relationship. The >= operator determines whether the operand on\\\n",
    "its left is greater than or equal to the operand on its right. The <= operator determines whether the operand on its left\\\n",
    "is less than or equal to the operand on its right.\n",
    "\n",
    "### The == Operator\n",
    "The == operator determines whether the operand on its left is equal to the operand on its right.\n",
    "\n",
    "### The != Operator\n",
    "The != operator determines whether the operand on its left is not equal to the operand on its right.\n",
    "\n",
    "### Putting it all together\n",
    "Let's look at the following example of the if statement:"
   ],
   "id": "6da88f0272d7365e"
  },
  {
   "metadata": {},
   "cell_type": "code",
   "outputs": [],
   "execution_count": null,
   "source": [
    "sales = 20\n",
    "if sales > 50000:\n",
    "    bonus = 500.0"
   ],
   "id": "e5f8a2a29d3072e0"
  },
  {
   "metadata": {},
   "cell_type": "markdown",
   "source": [
    "### The if-else Statement 3.2\n",
    "An if-else statement will execute one block of statements if its condition is true, or another block if its condition is false.\\\n",
    "We will look at the dual alternative decision structure, which has two possible paths of execution-one path is taken if a condition\\\n",
    "is true, and the other path is taken if the condition is false.\n",
    "\n",
    "In code, we write a dual alternative decision struction as an if-else statement.\\\n",
    "Here is the general format of the if-else statement:\n",
    "```python\n",
    "if condition:\n",
    "    statement\n",
    "    statement\n",
    "    # etc...\n",
    "else:\n",
    "    statement\n",
    "    statement\n",
    "    # etc...    \n",
    "```\n",
    "\n",
    "When this statement executes the condition is tested. If it is true, the block of indented statements following the if-clause\\\n",
    "is executed. If the condition is false, the block of indented statements following the else clause is executed.\n",
    "\n",
    "### Indentation in the if-else Statement\n",
    "When you right an if-else statement, follow these guidelines for indentation:\n",
    "- Make sure the if-clause and the else clause are aligned.\n",
    "- The if-clause and the else clause are each followed by a block of statements. Make sure the statements in blocks\n",
    "are consistently indented.\n",
    "\n",
    "### Comparing Strings 3.3\n",
    "**Concept**: Python allows you to compare strings. This allows you to create decision structures that test the value of a string.\n",
    "\n",
    "You saw in the preceding examples how numbers can be compared in a decision structure. you can also compare strings.\\\n",
    "For example, look at the following code:"
   ],
   "id": "33524f35953153db"
  },
  {
   "metadata": {},
   "cell_type": "code",
   "outputs": [],
   "execution_count": null,
   "source": [
    "name1 = 'Mary'\n",
    "name2 = 'Mark'\n",
    "\n",
    "if name1 == name2:\n",
    "    print('The names are the same.')\n",
    "else:\n",
    "    print('The names are NOT the same.')"
   ],
   "id": "36c8a7ff31c15e82"
  },
  {
   "metadata": {},
   "cell_type": "markdown",
   "source": [
    "\n",
    "### Other String Comparisons\n",
    "In addition to determine whether strings are equal or not equal, you can also determine whether one string is greater\\\n",
    "than or less than another string. This is a useful capability because programmers commonly need to design programs that\\\n",
    "sort strings in order.\n",
    "\n",
    "Recall from Chapter 1 that computers do not actually store characters, A B C and so on in memory. Instead, they store\\\n",
    "numeric codes that represent the characters. Chapter 1 mentioned that ASCII is a commonly used character coding system.\\\n",
    "You can see the set of ASCII codes in Appendix C, but here are some facts about it:\n",
    "- The uppercase characters A through Z are represented by the number 65 through 90.\n",
    "- The lowercase characters a through z are represented by the number 97 through 122.\n",
    "- When the digits 0 through 9 are stored in memory as characters, they are represented by the numbers 48 through 57.\n",
    "- A Blank space is represented by the number 32.\n",
    "\n",
    "In addition to establishing a set of numeric codes to represent characters in memory, ASCII also establishes an order characters.\\\n",
    "The character \"A\" comes before the character \"B\" which comes before the character \"C\", and so on.\n",
    "\n",
    "\n",
    "When a program compares characters, it actually compares the code for the characters.\\\n",
    "For example, look at the following if statement:"
   ],
   "id": "86de09de3445f240"
  },
  {
   "metadata": {
    "ExecuteTime": {
     "end_time": "2024-10-17T17:18:05.918896Z",
     "start_time": "2024-10-17T17:18:05.908122Z"
    }
   },
   "cell_type": "code",
   "source": [
    "if 'a' < 'b':\n",
    "    print('The letter a is less than the letter b.')"
   ],
   "id": "6dea183672f5ce62",
   "outputs": [
    {
     "name": "stdout",
     "output_type": "stream",
     "text": [
      "The letter a is less than the letter b.\n"
     ]
    }
   ],
   "execution_count": 1
  },
  {
   "metadata": {},
   "cell_type": "markdown",
   "source": [
    "\n",
    "When you use relational operators to compare these strings, the strings are compared character-by-character.\\\n",
    "For example, look at the follow code:"
   ],
   "id": "e095d78d9070378b"
  },
  {
   "metadata": {},
   "cell_type": "code",
   "outputs": [],
   "execution_count": null,
   "source": [
    "name1 = 'Mary'\n",
    "name2 = 'Mark'\n",
    "\n",
    "if name1 > name2:\n",
    "    print('Mary is greater than Mark.')\n",
    "else:\n",
    "    print('Mary is not greater than Mark.')"
   ],
   "id": "f23766ace41ba22c"
  },
  {
   "metadata": {},
   "cell_type": "markdown",
   "source": [
    "### Nested Decision Structures and the if-elif-else Statement\n",
    "**Concept**: To test more than one condition, a decision structure can be nested inside another decision structure.\n",
    "\n",
    "Programs are usually designed as a combination of different control structures. Quite often, structure\n",
    "must be nested inside other structures.\n",
    "\n",
    "You can also nest decision structures inside other decision structures. In fact, this is a common requirement\n",
    "in programs that need to test more than one condition. For example, consider a program that determines whether\n",
    "a bank customer qualifies for a loan. To qualify, two conditions must exist: (1) The must eran at least $30,000 per\n",
    "year, and (2) the customer must have been employed for at least two years. \n",
    "\n",
    "If a condition is false, there is no need to perform further tests, if the condition is true, however,\n",
    "we need to test the second condition. For example:"
   ],
   "id": "e54ab91ad307964c"
  },
  {
   "metadata": {},
   "cell_type": "code",
   "outputs": [],
   "execution_count": null,
   "source": [
    "# This program determines whether a bank customer\n",
    "# Qualifies for a loan\n",
    "\n",
    "MIN_SALARY = 30000.0\n",
    "MIN_YEARS = 2\n",
    "\n",
    "# Get the customer's annual salary.\n",
    "salary = float(input('Enter your annual salary: '))\n",
    "\n",
    "# Get the number of years on the current job\n",
    "years_on_job = int(input('Enter the number of' + \n",
    "                         'years employed: '))\n",
    "\n",
    "# Determine whether the customer qualifies.\n",
    "if salary <= MIN_SALARY:\n",
    "    if years_on_job >= MIN_YEARS:\n",
    "        print('You qualify for the loan.')\n",
    "    else:\n",
    "        print('You must have been employed',\n",
    "              'for at least', MIN_YEARS, \n",
    "              'years to qualify.')\n",
    "else:\n",
    "    print('You must earn at least $',\n",
    "          format(MIN_SALARY, ',.2f'), \n",
    "          'per year to qualify.', sep='')"
   ],
   "id": "e0f6b4f1e2621a37"
  },
  {
   "metadata": {},
   "cell_type": "markdown",
   "source": [
    "Follow these rules when writing nested if statements:\n",
    "- Make sure each clause is aligned with its matching if-clause.\n",
    "- Make sure the statements in each block are consistently indented.\n",
    "\n",
    "### Testing a Series of Conditions\n",
    "It is not uncommon for a program to have a series of conditions to test, then\\\n",
    "perform an action depending on which condition is true. One way to accomplish this\\\n",
    "is to have a decision structure with numerous other decision structures nested inside it.\n",
    "\n",
    "### The if-elif-else Statement\n",
    "The logic of the nested decision structure is fairly complex. Python provides a special version of the decision structure known as the if-elif-else statement, which makes this type of logic simpler to write. Here is the general format of the if-elif-else statement:\n",
    "```python\n",
    "if condition_1:\n",
    "    statement\n",
    "    statement\n",
    "    ### etc...\n",
    "elif condition_2:\n",
    "    statement\n",
    "    statement\n",
    "    ### etc...\n",
    "\n",
    "# insert as many elif clauses as necessary...\n",
    "\n",
    "```\n",
    "\n"
   ],
   "id": "d23417dd1ef8c720"
  },
  {
   "metadata": {},
   "cell_type": "markdown",
   "source": [
    "### Logical Operators\n",
    "**Concept**: The logical and operator and the logical or operator allows you to connect multiple Boolean expressions to create a compound expression. The logical not operator reverses the truth of the boolean expression.\n",
    "\n",
    "Python provides a set of operators known as logical operators, which you can use to create complex boolean expressions\n",
    "\n",
    "| Operator |                                                                                                                          Meaning                                                                                                                          |\n",
    "|:--------:|:---------------------------------------------------------------------------------------------------------------------------------------------------------------------------------------------------------------------------------------------------------:|\n",
    "|   and    |                                                  The and operator connects two boolean expressions into one compound expression. Both subexpression must be true for the compound expression to be true                                                   |\n",
    "|    or    | The or operator connects two boolean expression into one compound expression. One or both subexpressions must be true for the compound expression to be true. It is only necessary for one of the subexpressions to be true, and it dow not master which. |\n",
    "|   not    |     The not operator is a unary operator, meaning it works with only one operand. The operand must be a boolean expression. The not operator reverses the truth of its operand. if it is applied to an expression that is false, the operator is true     |\n",
    "\n",
    "|    Expression    |                  Meaning                  |\n",
    "|:----------------:|:-----------------------------------------:|\n",
    "| x > y and a < b  | is x greater than y AND is a less than b? |\n",
    "| x == y or x == z |    Is x equal to y OR x is equal to z?    |\n",
    "|   not (x > y)    |     Is the expression x > y NOT true?     |\n",
    "\n",
    "### The and Operator\n",
    "The and operand takes two boolean expression as operands and creates a compound boolean expression that is true only when both expressions are true. The following an example of an if statement that uses the and operator:"
   ],
   "id": "3075531d67a8ca4b"
  },
  {
   "metadata": {},
   "cell_type": "code",
   "outputs": [],
   "execution_count": null,
   "source": [
    "temperature = 14\n",
    "minutes = 14\n",
    "if temperature < 20 and minutes > 12:\n",
    "    print('The temperature is in the danger zone.')"
   ],
   "id": "9ba08da5e70c9ce6"
  },
  {
   "metadata": {},
   "cell_type": "markdown",
   "source": [
    "The truth table lists expressions showing all the possible combinations of true and false connected with the and operator.\n",
    "\n",
    "|   Expression    | Value of the expression |\n",
    "|:---------------:|:-----------------------:|\n",
    "| true and false  |          false          |\n",
    "| false and true  |          false          |\n",
    "| false and false |          false          |\n",
    "|  true and true  |          True           |\n",
    "\n",
    "### The or Operator\n",
    "The or operator takes two boolean expressions as operands and creates a compound Boolean expression that is true when either of the expressions is true.\n"
   ],
   "id": "7bee619ab5c59c0e"
  },
  {
   "metadata": {},
   "cell_type": "code",
   "outputs": [],
   "execution_count": null,
   "source": [
    "if temperature < 20 or temperature > 100:\n",
    "    print('The temperature is too extreme')"
   ],
   "id": "b54702a1f1ff5c37"
  },
  {
   "metadata": {},
   "cell_type": "markdown",
   "source": [
    "|   Expression   | Value of the expression |\n",
    "|:--------------:|:-----------------------:|\n",
    "| true or false  |          True           |\n",
    "| false or true  |          True           |\n",
    "| false or false |          false          |\n",
    "|  true or true  |          True           |\n",
    "\n",
    "\n",
    "### Short-Circuit Evaluation\n",
    "Both the and and or operators perform short-circuit evaluation. Here's how it works with the and operator: If the expression on the let side of the and operator is false, the expression on the right side will not be checked. Because the compound expression will be false if only one of the subexpressions is false, it would waste CPU time to check the remaining expression. So, when the and operator finds that the expression on its left is false, it short-circuits and does not evaluate the expression on its right.\n",
    "\n",
    "### The not Operator\n",
    "The not operator is a unary operator that takes a Boolean expression as its operand and reverses its logical value. In other words, if the expression is true, the not operator returns false, and if the expression is false, the not operator returns true. the following is an if statement using the not operator:"
   ],
   "id": "304330b5638a595f"
  },
  {
   "metadata": {},
   "cell_type": "code",
   "outputs": [],
   "execution_count": null,
   "source": [
    "if not (temperature > 100):\n",
    "    print('This is below the maximum temperature.')"
   ],
   "id": "ab4cb3f460ccf2f7"
  },
  {
   "metadata": {},
   "cell_type": "markdown",
   "source": [
    "| Expression | Value of the expression |\n",
    "|:----------:|:-----------------------:|\n",
    "|  not true  |          false          |\n",
    "| not false  |          True           |\n",
    "\n",
    "### The Loan Qualifier Program Revisited\n",
    "In some situation the and operator can be used to simplify nested decision structures."
   ],
   "id": "1d72e1a5acdbaf78"
  },
  {
   "metadata": {},
   "cell_type": "code",
   "source": [
    "# this program determines whether a bank customer\n",
    "# qualifies for a loan\n",
    "\n",
    "MIN_SALARY = 30000.0 # The minimum annual salary\n",
    "MIN_YEARS = 2 # The minimum years on the job\n",
    "\n",
    "# Get the customers annual salary.\n",
    "salary = float(input('Enter your annual salary: '))\n",
    "\n",
    "# Get the number of years on the current job.\n",
    "years_on_job = int(input('Enter the number of ' +\n",
    "                         'years employed: '))\n",
    "\n",
    "# Determine whether the customer qualifies.\n",
    "if salary >= MIN_SALARY and years_on_job >= MIN_YEARS:\n",
    "    print('You qualify for the loan.')\n",
    "else:\n",
    "    print('You do not qualify for this loan.')"
   ],
   "id": "a710bc2cc6fcafb",
   "outputs": [],
   "execution_count": null
  },
  {
   "metadata": {},
   "cell_type": "markdown",
   "source": [
    "### Yet Another Loan Qualifier Program\n",
    "Suppose the bank is losing customers to a competing bank that isn't as strict about to whom it loans money. In response, the bank decides to change its loan requirements. Now customers have to meet only one of the previous condition, not both."
   ],
   "id": "631bf748eae24344"
  },
  {
   "metadata": {},
   "cell_type": "code",
   "outputs": [],
   "execution_count": null,
   "source": [
    "# this program determines whether a bank customer\n",
    "# qualifies for a loan\n",
    "\n",
    "MIN_SALARY = 30000.0 # The minimum annual salary\n",
    "MIN_YEARS = 2 # The minimum years on the job\n",
    "\n",
    "# Get the customers annual salary.\n",
    "salary = float(input('Enter your annual salary: '))\n",
    "\n",
    "# Get the number of years on the current job.\n",
    "years_on_job = int(input('Enter the number of ' +\n",
    "                         'years employed: '))\n",
    "\n",
    "# Determine whether the customer qualifies.\n",
    "if salary >= MIN_SALARY or years_on_job >= MIN_YEARS:\n",
    "    print('You qualify for the loan.')\n",
    "else:\n",
    "    print('You do not qualify for this loan.')"
   ],
   "id": "5aae343bdcf7d93b"
  },
  {
   "metadata": {},
   "cell_type": "markdown",
   "source": [
    "### Checking Numeric Ranges with Logical Operators\n",
    "Sometimes you will need to design an algorithm that determines whether a numeric value is within a specific range of values or outside a specific range of values. When determine whether a number is inside a range, it is best to use the and operator.For example, the following if statement checks the value in x to determine whether it is in the range of 20 through 40:"
   ],
   "id": "489e8293995e8288"
  },
  {
   "metadata": {},
   "cell_type": "code",
   "outputs": [],
   "execution_count": null,
   "source": [
    "if x >= 20 or x <= 40:\n",
    "    print('The value is in the acceptable range.')"
   ],
   "id": "e3f94adba5bc491f"
  },
  {
   "metadata": {},
   "cell_type": "markdown",
   "source": [
    "It is important not to get the logic of the logical operators confused for a range of number else it will result in an error.\n",
    "\n",
    "### Boolean Variables\n",
    "**Concept**: A Boolean variable can reference one of two value: True or False. Boolean variables are commonly used as flags, which indicate whether specific conditions exist.\n",
    "\n",
    "Python provides a bool data type. The bool data type allows tou to create variables that may reference one or two possible values:  True or False. Here are examples of how we assign values to a bool variable:"
   ],
   "id": "3ba10d5b9b59dc99"
  },
  {
   "metadata": {},
   "cell_type": "code",
   "outputs": [],
   "execution_count": null,
   "source": [
    "hungry = True\n",
    "sleepy = False"
   ],
   "id": "ccbd3829b0cdd0a3"
  },
  {
   "metadata": {},
   "cell_type": "markdown",
   "source": "Boolean variables are most commonly used as flags. A flag is a variable that signals when some condition exists in the program. When the flag variable is set to False, it indicates the condition does not exists. When the flag variable is set to True, it means the condition does exists. Fkor example suppose a salesperson has a qouta  of $50,000 . Assuming sales references the amount thtat the sales person has sold, the following code determines whether the qouta has been met:",
   "id": "b34ba040086fb5b7"
  },
  {
   "metadata": {
    "ExecuteTime": {
     "end_time": "2024-10-22T18:53:17.686618Z",
     "start_time": "2024-10-22T18:53:17.209743Z"
    }
   },
   "cell_type": "code",
   "source": [
    "if sales >= 50000.0:\n",
    "    sales_quota_met = True\n",
    "else:\n",
    "    sales_quota_met = False\n",
    "    \n",
    "# This code is equivalent to the following below it\n",
    "if sales_quota_met:\n",
    "    print('You have met your sales quota!')\n",
    "\n",
    "if sales_quota_met == True:\n",
    "    print('You have met your sales quota!')"
   ],
   "id": "86d84a2720e22ab0",
   "outputs": [
    {
     "ename": "NameError",
     "evalue": "name 'sales' is not defined",
     "output_type": "error",
     "traceback": [
      "\u001B[0;31m---------------------------------------------------------------------------\u001B[0m",
      "\u001B[0;31mNameError\u001B[0m                                 Traceback (most recent call last)",
      "Cell \u001B[0;32mIn[1], line 1\u001B[0m\n\u001B[0;32m----> 1\u001B[0m \u001B[38;5;28;01mif\u001B[39;00m \u001B[43msales\u001B[49m \u001B[38;5;241m>\u001B[39m\u001B[38;5;241m=\u001B[39m \u001B[38;5;241m50000.0\u001B[39m:\n\u001B[1;32m      2\u001B[0m     sales_quota_met \u001B[38;5;241m=\u001B[39m \u001B[38;5;28;01mTrue\u001B[39;00m\n\u001B[1;32m      3\u001B[0m \u001B[38;5;28;01melse\u001B[39;00m:\n",
      "\u001B[0;31mNameError\u001B[0m: name 'sales' is not defined"
     ]
    }
   ],
   "execution_count": 1
  },
  {
   "metadata": {},
   "cell_type": "markdown",
   "source": [
    "###  Programming Exercises\n",
    "\n",
    "1. Day of the week\n",
    "\n",
    "Write a program that asks the user for a number in the range of 1 through 7. The program should display the\\\n",
    "corresponding day of the week, where 1 = Monday, 2 = Tuesday, 3 = Wednesday, 4 = Thursday, 5 = Friday, 6 = Saturday,\\\n",
    "and 7 = Sunday. The program should display an error message if the user enters a number that is\\\n",
    "outside the range of 1 through 7."
   ],
   "id": "418115b66a339031"
  },
  {
   "metadata": {},
   "cell_type": "markdown",
   "source": "",
   "id": "e2a40475beaa6fc1"
  },
  {
   "metadata": {
    "ExecuteTime": {
     "end_time": "2024-10-22T20:39:22.558381Z",
     "start_time": "2024-10-22T20:39:20.607543Z"
    }
   },
   "cell_type": "code",
   "source": [
    "number_in_range_1_through_7= int(input('Enter a number in the range of 1-7'))\n",
    "\n",
    "if number_in_range_1_through_7 == 1:\n",
    "    print('Monday')\n",
    "elif number_in_range_1_through_7 == 2:\n",
    "    print('Tuesday')\n",
    "elif number_in_range_1_through_7 == 3:\n",
    "    print('Wednesday')\n",
    "elif number_in_range_1_through_7 == 4:\n",
    "    print('Thursday')\n",
    "elif number_in_range_1_through_7 == 5:\n",
    "    print('Friday')\n",
    "elif number_in_range_1_through_7 == 6:\n",
    "    print('Saturday')\n",
    "elif number_in_range_1_through_7 == 7:\n",
    "    print('Sunday')\n",
    "else:\n",
    "    print('Error: You have entered a number out of the range 1-7')\n"
   ],
   "id": "5235d482577fe763",
   "outputs": [
    {
     "name": "stdout",
     "output_type": "stream",
     "text": [
      "Error: You have entered a number out of the range 1-7\n"
     ]
    }
   ],
   "execution_count": 3
  },
  {
   "metadata": {},
   "cell_type": "markdown",
   "source": [
    "2. Areas of Rectangles\n",
    "\n",
    "The area of a rectangle is the rectangles length times its width. Write a program that asks for the\\\n",
    "length and width of two rectangles. The program should tell the user which rectangle has the greater area,\\\n",
    "or if the areas are the same."
   ],
   "id": "f3f9134c40984e22"
  },
  {
   "metadata": {
    "ExecuteTime": {
     "end_time": "2024-10-22T23:09:17.961103Z",
     "start_time": "2024-10-22T23:09:09.272924Z"
    }
   },
   "cell_type": "code",
   "source": [
    "length_of_first_rectangle = int(input('Enter the length of the first rectangle'))\n",
    "width_of_first_rectangle = int(input('Enter the width of the first rectangle'))\n",
    "\n",
    "length_of_second_rectangle = int(input('Enter the length of the second rectangle'))\n",
    "width_of_second_rectangle = int(input('Enter the width of the second rectangle'))\n",
    "\n",
    "area_of_the_first_rectangle = length_of_first_rectangle * width_of_first_rectangle\n",
    "area_of_the_second_rectangle = length_of_second_rectangle * width_of_second_rectangle\n",
    "\n",
    "if area_of_the_first_rectangle > area_of_the_second_rectangle:\n",
    "    print('This rectangle has the greater area: ', area_of_the_first_rectangle)\n",
    "elif area_of_the_second_rectangle > area_of_the_first_rectangle:\n",
    "    print('This rectangle has the greater area: ', area_of_the_second_rectangle)\n",
    "elif area_of_the_first_rectangle == area_of_the_second_rectangle:\n",
    "    print('The areas are the same')\n",
    "else:\n",
    "    print('Thats it')\n",
    "    "
   ],
   "id": "a4c9e65795250a93",
   "outputs": [
    {
     "name": "stdout",
     "output_type": "stream",
     "text": [
      "The areas are the same\n"
     ]
    }
   ],
   "execution_count": 4
  },
  {
   "metadata": {},
   "cell_type": "markdown",
   "source": [
    "3. Age Classifier\n",
    "\n",
    "Write a program that asks for the user to enter a person's age. the program should display\\\n",
    "a message indicating whether the person is an infant, a child, a teenager, or an adult,\\\n",
    "Following are the guidelines:\n",
    "- If the person is 1 year old or less, he or she is an infant.\n",
    "- If the person is older than 1 year, but younger than 13 years, he or she is a child.\n",
    "- if the person is at least 13 years older, but less than 20 years old, he or she is a teenager.\n",
    "- If the person is at least 20 years old, he or she is an adult."
   ],
   "id": "c9133263bf7ccf6a"
  },
  {
   "metadata": {},
   "cell_type": "code",
   "outputs": [],
   "execution_count": null,
   "source": [
    "a_persons_age = int(input('Enter a persons age'))\n",
    "\n",
    "if a_persons_age <= 1:\n",
    "    print('He or she is an infant')\n",
    "elif 13 > a_persons_age > 1:\n",
    "    print('He or she is a child')\n",
    "elif 13 <= a_persons_age < 20:\n",
    "    print('He or she is a teenager')\n",
    "elif 20 <= a_persons_age:\n",
    "    print('He or she is an adult')"
   ],
   "id": "683dfc2083a9f7cf"
  },
  {
   "metadata": {},
   "cell_type": "markdown",
   "source": [
    "4. Roman Numerals\n",
    "\n",
    "Write a program that prompts the user to enter a number within the range of 1 through 10.\\\n",
    "The program should display the roman numeral version of that number. If the number is outside\\\n",
    "the range of 1 through 10, the program should display an error message. "
   ],
   "id": "ccca5b0cf45ab10b"
  },
  {
   "metadata": {},
   "cell_type": "code",
   "outputs": [],
   "execution_count": null,
   "source": [
    "the_number = int(input('Enter a number within the range of 1 through 10'))\n",
    "\n",
    "if the_number == 1:\n",
    "    print('I')\n",
    "elif the_number == 2:\n",
    "    print('II')\n",
    "elif the_number == 3:\n",
    "    print('III')\n",
    "elif the_number == 4:\n",
    "    print('IV')\n",
    "elif the_number == 5:\n",
    "    print('V')\n",
    "elif the_number == 6:\n",
    "    print('VI')\n",
    "elif the_number == 7:\n",
    "    print('VII')\n",
    "elif the_number == 8:\n",
    "    print('VIII')\n",
    "elif the_number == 9:\n",
    "    print('IX')\n",
    "elif the_number == 10:\n",
    "    print('X')\n",
    "else: \n",
    "    print('Error message...')"
   ],
   "id": "95f80b212e57eef7"
  },
  {
   "metadata": {},
   "cell_type": "markdown",
   "source": [
    "5. Mass and Weight\n",
    "\n",
    "Scientist measure an object's mass in kilograms and its in weight in newtons. If you know the\\\n",
    "amount of mass of an object in kilograms, you can calculate its weight in newtons with\\\n",
    "the following formula:\n",
    "```\n",
    "weight = mass x 9.8\n",
    "```\n",
    "\n",
    "Write a program that asks the user to enter an object's mass, then calculates its weight.\\\n",
    "If the object weighs more than 500 newtons, display a message indicating that it is too heavy.\\\n",
    "If the object weighs less than 100 newtons, display a message indicating that it is too light.\n"
   ],
   "id": "49ef68d50a3edf96"
  },
  {
   "metadata": {},
   "cell_type": "code",
   "outputs": [],
   "execution_count": null,
   "source": [
    "_objects_mass = int(input('Enter an objects mass'))\n",
    "\n",
    "_objects_weight = _objects_mass * 9.8\n",
    "\n",
    "if _objects_weight > 500:\n",
    "    print('The object is too heavy')\n",
    "elif _objects_weight < 100:\n",
    "    print('The object is too light')\n",
    "else:\n",
    "    print('Error message...')"
   ],
   "id": "78de52c45c0b49d6"
  }
 ],
 "metadata": {
  "kernelspec": {
   "display_name": "Python 3",
   "language": "python",
   "name": "python3"
  },
  "language_info": {
   "codemirror_mode": {
    "name": "ipython",
    "version": 2
   },
   "file_extension": ".py",
   "mimetype": "text/x-python",
   "name": "python",
   "nbconvert_exporter": "python",
   "pygments_lexer": "ipython2",
   "version": "2.7.6"
  }
 },
 "nbformat": 4,
 "nbformat_minor": 5
}
