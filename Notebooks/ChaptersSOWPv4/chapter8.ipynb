{
 "cells": [
  {
   "metadata": {},
   "cell_type": "markdown",
   "source": [
    "# More About Strings \n",
    "### Basic String Operations 8.1\n",
    "**Concept**: \n",
    "Python provides so many ways to access individual character in a string. Strings also have methods that allow you to perform operations on them.\n",
    "\n",
    "Wording processing programs, manipulate large amount of text, and thus work extensively with string. Email programs and search engines are other examples of the programs that perform operations on strings.\n",
    "\n",
    "Strings are a type of sequence so the concepts that you learn about sequences in chapter 7 apply to strings as well.\n",
    "\n",
    "### Access the individual character in a string\n",
    "Some programming task require that you access individual characters in a string. many sites require that your pswd have at least one lower case letter, at least one upper case letter, and at least one digit. When you set up your password, a program examines each character to ensure that the password meets these qualifications.\n",
    "\n",
    "### iterating over a string with a for loop \n",
    "One of the easiest ways to access individual characters in a list is to use the for loop. Each time the loop iterates, variable while reference a copy of a character in the string, beginning with the first character. Here's an example:\n",
    "``` \n",
    "name = 'Juliet'\n",
    " \n",
    "for ch in name:\n",
    "    print(ch)\n",
    "```\n"
   ],
   "id": "614bcd786025312c"
  },
  {
   "metadata": {},
   "cell_type": "code",
   "outputs": [],
   "execution_count": null,
   "source": [
    "# This program counts the number of times\n",
    "# The letter T(uppercase or lowercase)\n",
    "# appears in a string\n",
    "\n",
    "def main():\n",
    "    # Create a variable to hold the count.\n",
    "    # The variable must start at 0\n",
    "    count = 0\n",
    "    \n",
    "    # Get a string from the user\n",
    "    my_string = input('Enter a sentence: ')\n",
    "    \n",
    "    # Count the Ts\n",
    "    for ch in my_string:\n",
    "        if ch == 'T' or ch == 't':\n",
    "            count += 1\n",
    "    \n",
    "    # print the result\n",
    "    print('The letter T appears', count, 'times.')\n",
    "    \n",
    "main()"
   ],
   "id": "2b8bab47768f6267"
  },
  {
   "metadata": {},
   "cell_type": "markdown",
   "source": [
    "### indexing\n",
    "Another way you can access individual characters in a list is with an index. Each character in a string has an index that specifies its position. \n",
    "\n",
    "You can use an index to create a copy of an individual character in a string, as shown here:\n",
    "```\n",
    "my_string = 'Roses are red'\n",
    "\n",
    "ch = my_string[6]\n",
    "```\n",
    "\n",
    "### IndexError\n",
    "An index error occurs if you try to use an index that is out of range for a particular. The following is an example of code that cause an index error exception:\n",
    "```\n",
    "city = 'Boston'\n",
    "print(city[6])\n",
    "```\n",
    "\n",
    "### The len function \n",
    "you learned about the len function that returns the length of a sequence. The following code demonstrates:\n",
    "```\n",
    "city = 'Boston'\n",
    "sixe = len(city)\n",
    "```\n",
    "\n",
    "The len function is expecially is especially useful to prevent loops from iterating beyond the index, as shown here;\n",
    "```\n",
    "city = 'Boston'\n",
    "index = 0 \n",
    "\n",
    "while index < len(city):\n",
    "    print(city[index])\n",
    "    index += 1\n",
    "```"
   ],
   "id": "2e6fcebf7b201f45"
  }
 ],
 "metadata": {
  "kernelspec": {
   "display_name": "Python 3",
   "language": "python",
   "name": "python3"
  },
  "language_info": {
   "codemirror_mode": {
    "name": "ipython",
    "version": 2
   },
   "file_extension": ".py",
   "mimetype": "text/x-python",
   "name": "python",
   "nbconvert_exporter": "python",
   "pygments_lexer": "ipython2",
   "version": "2.7.6"
  }
 },
 "nbformat": 4,
 "nbformat_minor": 5
}
